{
 "cells": [
  {
   "cell_type": "markdown",
   "metadata": {},
   "source": [
    "## Plotly and Cufflinks"
   ]
  },
  {
   "cell_type": "code",
   "execution_count": 1,
   "metadata": {},
   "outputs": [],
   "source": [
    "import pandas as pd\n",
    "import numpy as np\n",
    "%matplotlib inline"
   ]
  },
  {
   "cell_type": "code",
   "execution_count": 2,
   "metadata": {},
   "outputs": [
    {
     "name": "stdout",
     "output_type": "stream",
     "text": [
      "4.14.3\n"
     ]
    }
   ],
   "source": [
    "from plotly import __version__\n",
    "from plotly.offline import download_plotlyjs, init_notebook_mode, plot, iplot\n",
    "\n",
    "print(__version__) # requires version >= 1.9.0"
   ]
  },
  {
   "cell_type": "code",
   "execution_count": 3,
   "metadata": {},
   "outputs": [],
   "source": [
    "import cufflinks as cf"
   ]
  },
  {
   "cell_type": "code",
   "execution_count": 4,
   "metadata": {},
   "outputs": [
    {
     "data": {
      "text/html": [
       "        <script type=\"text/javascript\">\n",
       "        window.PlotlyConfig = {MathJaxConfig: 'local'};\n",
       "        if (window.MathJax) {MathJax.Hub.Config({SVG: {font: \"STIX-Web\"}});}\n",
       "        if (typeof require !== 'undefined') {\n",
       "        require.undef(\"plotly\");\n",
       "        requirejs.config({\n",
       "            paths: {\n",
       "                'plotly': ['https://cdn.plot.ly/plotly-latest.min']\n",
       "            }\n",
       "        });\n",
       "        require(['plotly'], function(Plotly) {\n",
       "            window._Plotly = Plotly;\n",
       "        });\n",
       "        }\n",
       "        </script>\n",
       "        "
      ]
     },
     "metadata": {},
     "output_type": "display_data"
    }
   ],
   "source": [
    "# For Notebooks\n",
    "init_notebook_mode(connected=True)"
   ]
  },
  {
   "cell_type": "code",
   "execution_count": 5,
   "metadata": {},
   "outputs": [
    {
     "data": {
      "text/html": [
       "        <script type=\"text/javascript\">\n",
       "        window.PlotlyConfig = {MathJaxConfig: 'local'};\n",
       "        if (window.MathJax) {MathJax.Hub.Config({SVG: {font: \"STIX-Web\"}});}\n",
       "        if (typeof require !== 'undefined') {\n",
       "        require.undef(\"plotly\");\n",
       "        requirejs.config({\n",
       "            paths: {\n",
       "                'plotly': ['https://cdn.plot.ly/plotly-latest.min']\n",
       "            }\n",
       "        });\n",
       "        require(['plotly'], function(Plotly) {\n",
       "            window._Plotly = Plotly;\n",
       "        });\n",
       "        }\n",
       "        </script>\n",
       "        "
      ]
     },
     "metadata": {},
     "output_type": "display_data"
    }
   ],
   "source": [
    "# For offline use\n",
    "cf.go_offline()"
   ]
  },
  {
   "cell_type": "markdown",
   "metadata": {},
   "source": [
    "### Fake Data"
   ]
  },
  {
   "cell_type": "code",
   "execution_count": 6,
   "metadata": {},
   "outputs": [],
   "source": [
    "df = pd.DataFrame(np.random.randn(100,4),columns='A B C D'.split())"
   ]
  },
  {
   "cell_type": "code",
   "execution_count": 7,
   "metadata": {},
   "outputs": [
    {
     "data": {
      "text/html": [
       "<div>\n",
       "<style scoped>\n",
       "    .dataframe tbody tr th:only-of-type {\n",
       "        vertical-align: middle;\n",
       "    }\n",
       "\n",
       "    .dataframe tbody tr th {\n",
       "        vertical-align: top;\n",
       "    }\n",
       "\n",
       "    .dataframe thead th {\n",
       "        text-align: right;\n",
       "    }\n",
       "</style>\n",
       "<table border=\"1\" class=\"dataframe\">\n",
       "  <thead>\n",
       "    <tr style=\"text-align: right;\">\n",
       "      <th></th>\n",
       "      <th>A</th>\n",
       "      <th>B</th>\n",
       "      <th>C</th>\n",
       "      <th>D</th>\n",
       "    </tr>\n",
       "  </thead>\n",
       "  <tbody>\n",
       "    <tr>\n",
       "      <th>0</th>\n",
       "      <td>-1.129736</td>\n",
       "      <td>-0.163506</td>\n",
       "      <td>0.112830</td>\n",
       "      <td>0.711802</td>\n",
       "    </tr>\n",
       "    <tr>\n",
       "      <th>1</th>\n",
       "      <td>-0.737818</td>\n",
       "      <td>-0.975645</td>\n",
       "      <td>-1.361284</td>\n",
       "      <td>-1.287007</td>\n",
       "    </tr>\n",
       "    <tr>\n",
       "      <th>2</th>\n",
       "      <td>1.301836</td>\n",
       "      <td>0.435749</td>\n",
       "      <td>0.259941</td>\n",
       "      <td>-0.491658</td>\n",
       "    </tr>\n",
       "    <tr>\n",
       "      <th>3</th>\n",
       "      <td>-0.389752</td>\n",
       "      <td>0.051226</td>\n",
       "      <td>0.389593</td>\n",
       "      <td>-1.904431</td>\n",
       "    </tr>\n",
       "    <tr>\n",
       "      <th>4</th>\n",
       "      <td>-0.284696</td>\n",
       "      <td>1.619461</td>\n",
       "      <td>0.130674</td>\n",
       "      <td>0.443518</td>\n",
       "    </tr>\n",
       "  </tbody>\n",
       "</table>\n",
       "</div>"
      ],
      "text/plain": [
       "          A         B         C         D\n",
       "0 -1.129736 -0.163506  0.112830  0.711802\n",
       "1 -0.737818 -0.975645 -1.361284 -1.287007\n",
       "2  1.301836  0.435749  0.259941 -0.491658\n",
       "3 -0.389752  0.051226  0.389593 -1.904431\n",
       "4 -0.284696  1.619461  0.130674  0.443518"
      ]
     },
     "execution_count": 7,
     "metadata": {},
     "output_type": "execute_result"
    }
   ],
   "source": [
    "df.head()"
   ]
  },
  {
   "cell_type": "code",
   "execution_count": 8,
   "metadata": {},
   "outputs": [],
   "source": [
    "df2 = pd.DataFrame({'Category':['A','B','C'],'Values':[32,43,50]})"
   ]
  },
  {
   "cell_type": "code",
   "execution_count": 9,
   "metadata": {},
   "outputs": [
    {
     "data": {
      "text/html": [
       "<div>\n",
       "<style scoped>\n",
       "    .dataframe tbody tr th:only-of-type {\n",
       "        vertical-align: middle;\n",
       "    }\n",
       "\n",
       "    .dataframe tbody tr th {\n",
       "        vertical-align: top;\n",
       "    }\n",
       "\n",
       "    .dataframe thead th {\n",
       "        text-align: right;\n",
       "    }\n",
       "</style>\n",
       "<table border=\"1\" class=\"dataframe\">\n",
       "  <thead>\n",
       "    <tr style=\"text-align: right;\">\n",
       "      <th></th>\n",
       "      <th>Category</th>\n",
       "      <th>Values</th>\n",
       "    </tr>\n",
       "  </thead>\n",
       "  <tbody>\n",
       "    <tr>\n",
       "      <th>0</th>\n",
       "      <td>A</td>\n",
       "      <td>32</td>\n",
       "    </tr>\n",
       "    <tr>\n",
       "      <th>1</th>\n",
       "      <td>B</td>\n",
       "      <td>43</td>\n",
       "    </tr>\n",
       "    <tr>\n",
       "      <th>2</th>\n",
       "      <td>C</td>\n",
       "      <td>50</td>\n",
       "    </tr>\n",
       "  </tbody>\n",
       "</table>\n",
       "</div>"
      ],
      "text/plain": [
       "  Category  Values\n",
       "0        A      32\n",
       "1        B      43\n",
       "2        C      50"
      ]
     },
     "execution_count": 9,
     "metadata": {},
     "output_type": "execute_result"
    }
   ],
   "source": [
    "df2.head()"
   ]
  },
  {
   "cell_type": "markdown",
   "metadata": {},
   "source": [
    "## Using Cufflinks and iplot()\n",
    "\n",
    "#### scatter\n",
    "#### bar\n",
    "#### box\n",
    "#### spread\n",
    "#### ratio\n",
    "#### heatmap\n",
    "#### surface\n",
    "#### histogram\n",
    "#### bubble"
   ]
  },
  {
   "cell_type": "markdown",
   "metadata": {},
   "source": [
    "## Scatter"
   ]
  },
  {
   "cell_type": "code",
   "execution_count": 10,
   "metadata": {},
   "outputs": [
    {
     "data": {
      "application/vnd.plotly.v1+json": {
       "config": {
        "linkText": "Export to plot.ly",
        "plotlyServerURL": "https://plot.ly",
        "showLink": true
       },
       "data": [
        {
         "line": {
          "color": "rgba(255, 153, 51, 1.0)",
          "dash": "solid",
          "shape": "linear",
          "width": 1.3
         },
         "marker": {
          "size": 10,
          "symbol": "circle"
         },
         "mode": "markers",
         "name": "B",
         "text": "",
         "type": "scatter",
         "x": [
          -1.1297355996644,
          -0.7378182431367298,
          1.3018362014014464,
          -0.3897524354762462,
          -0.28469569627643276,
          0.26189570707558646,
          -0.9076631525537662,
          0.6203535138805666,
          -0.6186803199969817,
          1.1226080642068443,
          -0.041438635172887366,
          -0.0022362033056104436,
          -1.0499832175198893,
          0.08986937258436357,
          1.3375457246389604,
          1.9232171151998751,
          1.2514977061012698,
          -0.010263114481263881,
          1.4971556937885246,
          0.5715860883089958,
          0.19761772066921174,
          1.1502304384350708,
          -0.24098786918618537,
          -1.6010465710520883,
          0.9732937328192726,
          0.11160359753779947,
          0.32197195249841265,
          0.30358682957964434,
          0.40859502431711464,
          0.6193062029177665,
          -0.4755616450031329,
          -1.0241841009392374,
          -0.10086891983338513,
          0.754866747209579,
          0.06900528817558078,
          -0.24279306917070723,
          1.0348185228210516,
          -0.3958072182103754,
          -0.2877736157815689,
          1.8262614760763645,
          0.6560796576224647,
          0.6039936134209548,
          0.13811643849623192,
          0.6169996082287618,
          -0.4388003603691258,
          0.0857953494782665,
          0.06263204663463057,
          1.9136188883998924,
          -2.1038091801398306,
          -0.5031598748343795,
          -0.499738792228652,
          0.3442035464303753,
          -1.2225361345294794,
          -0.22793921626844366,
          0.5262130361354909,
          -0.010912344260437948,
          2.2298919035757816,
          -1.444058305089868,
          -1.1316461333814778,
          0.3933956396359092,
          -0.8704396282469317,
          -0.20553795675791134,
          -0.08867481958175209,
          -1.1172775865956317,
          -1.5260076855104778,
          -1.7467581009661328,
          -1.0664288474904873,
          1.9150131279839857,
          0.7683469110544034,
          2.00607805679846,
          1.8580914663696646,
          1.9062502131655201,
          0.03580593006324525,
          -0.6555706026085864,
          -1.1089797545764777,
          0.8329301907539098,
          0.8284039642458526,
          -1.1789468559824925,
          0.7518735549022194,
          1.0952234728205141,
          -0.3779764711785572,
          -0.9265655021956508,
          -0.9553992513910263,
          -0.38587972952013033,
          -0.6838345119123879,
          -0.43684706995405886,
          -0.4081057994560073,
          -1.5156425658958605,
          -0.575082296862586,
          -1.9415192419502305,
          0.6216142225912914,
          -0.17327214911462618,
          0.41144632474130993,
          0.15372200990299822,
          -0.6157231774320628,
          0.5240625234153609,
          -0.9920542569293624,
          -0.1510296013533493,
          -0.20056562222891014,
          -0.10335285122129649
         ],
         "y": [
          -0.1635062728202632,
          -0.9756447904649324,
          0.4357492211576944,
          0.051226001530410986,
          1.6194609778186286,
          -0.2614992416979577,
          -0.503056959460743,
          -0.13993298480476804,
          0.4728179839113631,
          0.53389506015398,
          0.04175052703734408,
          -0.07721058388948895,
          -1.225800753883539,
          0.8171131199268552,
          0.271335570828907,
          -0.6148593154348182,
          -2.5442148291754667,
          -1.7782906353324925,
          0.1356671690464854,
          0.5537287920898528,
          -1.9714030383810386,
          0.21204671141656967,
          -0.49986516306652934,
          1.1605986854994819,
          -0.15289830668798166,
          0.868679639924568,
          -0.5327690147279569,
          0.38676522371752736,
          -0.697783301263672,
          2.729615807039255,
          -0.44168975575870933,
          -0.8975405797564469,
          1.156250284244023,
          0.18372610275768578,
          0.22028435577067737,
          -2.0445273482561723,
          -1.2705850191721542,
          -1.4398853748138425,
          -0.5164216605007113,
          -0.8766005893127831,
          -0.20189795216579856,
          -0.63168004490542,
          -0.10625317572230386,
          0.06570462032791533,
          -0.3306030709977983,
          -1.1066179005719434,
          -1.8001592887010398,
          -1.2464956160103438,
          1.412558001616313,
          0.7263817448765412,
          -0.674821902689123,
          0.13863430885397565,
          0.8131652940034697,
          -1.8446556023227498,
          -0.3991970389101511,
          -1.6061316037339424,
          -0.3895083198515032,
          0.9956640976917002,
          -0.09581646337107551,
          0.5003441799337934,
          0.4412554563299149,
          -1.2186611487320202,
          -0.6603496496066004,
          -1.3840238128032634,
          -1.279561508367783,
          0.8242627049250715,
          0.6066034035416791,
          -0.3129127244834932,
          0.7439229469840886,
          -0.09075013988002041,
          -0.31059118918465206,
          -0.6998974552396815,
          -1.4718276518213624,
          0.9598030326043391,
          -0.08470576393901538,
          -1.6271765054338334,
          0.10367717536539334,
          1.2481090029334017,
          -1.3083436514057565,
          0.9001700007453994,
          0.3191804389519386,
          -1.216318060061043,
          0.6960767879130475,
          -0.10206427976470202,
          -1.0295841917882045,
          -0.3919692938644334,
          -0.004198236309692963,
          -2.7629842618099905,
          1.2332621129863932,
          0.3392732764281834,
          -0.6057250793486275,
          -0.049403623228994324,
          -1.1140335648259374,
          1.1227986792321807,
          0.7647722049015698,
          0.23076529128221307,
          0.025538967609587467,
          1.0284112692058112,
          -0.11467294290964382,
          -0.5103834221495227
         ]
        }
       ],
       "layout": {
        "legend": {
         "bgcolor": "#F5F6F9",
         "font": {
          "color": "#4D5663"
         }
        },
        "paper_bgcolor": "#F5F6F9",
        "plot_bgcolor": "#F5F6F9",
        "template": {
         "data": {
          "bar": [
           {
            "error_x": {
             "color": "#2a3f5f"
            },
            "error_y": {
             "color": "#2a3f5f"
            },
            "marker": {
             "line": {
              "color": "#E5ECF6",
              "width": 0.5
             }
            },
            "type": "bar"
           }
          ],
          "barpolar": [
           {
            "marker": {
             "line": {
              "color": "#E5ECF6",
              "width": 0.5
             }
            },
            "type": "barpolar"
           }
          ],
          "carpet": [
           {
            "aaxis": {
             "endlinecolor": "#2a3f5f",
             "gridcolor": "white",
             "linecolor": "white",
             "minorgridcolor": "white",
             "startlinecolor": "#2a3f5f"
            },
            "baxis": {
             "endlinecolor": "#2a3f5f",
             "gridcolor": "white",
             "linecolor": "white",
             "minorgridcolor": "white",
             "startlinecolor": "#2a3f5f"
            },
            "type": "carpet"
           }
          ],
          "choropleth": [
           {
            "colorbar": {
             "outlinewidth": 0,
             "ticks": ""
            },
            "type": "choropleth"
           }
          ],
          "contour": [
           {
            "colorbar": {
             "outlinewidth": 0,
             "ticks": ""
            },
            "colorscale": [
             [
              0,
              "#0d0887"
             ],
             [
              0.1111111111111111,
              "#46039f"
             ],
             [
              0.2222222222222222,
              "#7201a8"
             ],
             [
              0.3333333333333333,
              "#9c179e"
             ],
             [
              0.4444444444444444,
              "#bd3786"
             ],
             [
              0.5555555555555556,
              "#d8576b"
             ],
             [
              0.6666666666666666,
              "#ed7953"
             ],
             [
              0.7777777777777778,
              "#fb9f3a"
             ],
             [
              0.8888888888888888,
              "#fdca26"
             ],
             [
              1,
              "#f0f921"
             ]
            ],
            "type": "contour"
           }
          ],
          "contourcarpet": [
           {
            "colorbar": {
             "outlinewidth": 0,
             "ticks": ""
            },
            "type": "contourcarpet"
           }
          ],
          "heatmap": [
           {
            "colorbar": {
             "outlinewidth": 0,
             "ticks": ""
            },
            "colorscale": [
             [
              0,
              "#0d0887"
             ],
             [
              0.1111111111111111,
              "#46039f"
             ],
             [
              0.2222222222222222,
              "#7201a8"
             ],
             [
              0.3333333333333333,
              "#9c179e"
             ],
             [
              0.4444444444444444,
              "#bd3786"
             ],
             [
              0.5555555555555556,
              "#d8576b"
             ],
             [
              0.6666666666666666,
              "#ed7953"
             ],
             [
              0.7777777777777778,
              "#fb9f3a"
             ],
             [
              0.8888888888888888,
              "#fdca26"
             ],
             [
              1,
              "#f0f921"
             ]
            ],
            "type": "heatmap"
           }
          ],
          "heatmapgl": [
           {
            "colorbar": {
             "outlinewidth": 0,
             "ticks": ""
            },
            "colorscale": [
             [
              0,
              "#0d0887"
             ],
             [
              0.1111111111111111,
              "#46039f"
             ],
             [
              0.2222222222222222,
              "#7201a8"
             ],
             [
              0.3333333333333333,
              "#9c179e"
             ],
             [
              0.4444444444444444,
              "#bd3786"
             ],
             [
              0.5555555555555556,
              "#d8576b"
             ],
             [
              0.6666666666666666,
              "#ed7953"
             ],
             [
              0.7777777777777778,
              "#fb9f3a"
             ],
             [
              0.8888888888888888,
              "#fdca26"
             ],
             [
              1,
              "#f0f921"
             ]
            ],
            "type": "heatmapgl"
           }
          ],
          "histogram": [
           {
            "marker": {
             "colorbar": {
              "outlinewidth": 0,
              "ticks": ""
             }
            },
            "type": "histogram"
           }
          ],
          "histogram2d": [
           {
            "colorbar": {
             "outlinewidth": 0,
             "ticks": ""
            },
            "colorscale": [
             [
              0,
              "#0d0887"
             ],
             [
              0.1111111111111111,
              "#46039f"
             ],
             [
              0.2222222222222222,
              "#7201a8"
             ],
             [
              0.3333333333333333,
              "#9c179e"
             ],
             [
              0.4444444444444444,
              "#bd3786"
             ],
             [
              0.5555555555555556,
              "#d8576b"
             ],
             [
              0.6666666666666666,
              "#ed7953"
             ],
             [
              0.7777777777777778,
              "#fb9f3a"
             ],
             [
              0.8888888888888888,
              "#fdca26"
             ],
             [
              1,
              "#f0f921"
             ]
            ],
            "type": "histogram2d"
           }
          ],
          "histogram2dcontour": [
           {
            "colorbar": {
             "outlinewidth": 0,
             "ticks": ""
            },
            "colorscale": [
             [
              0,
              "#0d0887"
             ],
             [
              0.1111111111111111,
              "#46039f"
             ],
             [
              0.2222222222222222,
              "#7201a8"
             ],
             [
              0.3333333333333333,
              "#9c179e"
             ],
             [
              0.4444444444444444,
              "#bd3786"
             ],
             [
              0.5555555555555556,
              "#d8576b"
             ],
             [
              0.6666666666666666,
              "#ed7953"
             ],
             [
              0.7777777777777778,
              "#fb9f3a"
             ],
             [
              0.8888888888888888,
              "#fdca26"
             ],
             [
              1,
              "#f0f921"
             ]
            ],
            "type": "histogram2dcontour"
           }
          ],
          "mesh3d": [
           {
            "colorbar": {
             "outlinewidth": 0,
             "ticks": ""
            },
            "type": "mesh3d"
           }
          ],
          "parcoords": [
           {
            "line": {
             "colorbar": {
              "outlinewidth": 0,
              "ticks": ""
             }
            },
            "type": "parcoords"
           }
          ],
          "pie": [
           {
            "automargin": true,
            "type": "pie"
           }
          ],
          "scatter": [
           {
            "marker": {
             "colorbar": {
              "outlinewidth": 0,
              "ticks": ""
             }
            },
            "type": "scatter"
           }
          ],
          "scatter3d": [
           {
            "line": {
             "colorbar": {
              "outlinewidth": 0,
              "ticks": ""
             }
            },
            "marker": {
             "colorbar": {
              "outlinewidth": 0,
              "ticks": ""
             }
            },
            "type": "scatter3d"
           }
          ],
          "scattercarpet": [
           {
            "marker": {
             "colorbar": {
              "outlinewidth": 0,
              "ticks": ""
             }
            },
            "type": "scattercarpet"
           }
          ],
          "scattergeo": [
           {
            "marker": {
             "colorbar": {
              "outlinewidth": 0,
              "ticks": ""
             }
            },
            "type": "scattergeo"
           }
          ],
          "scattergl": [
           {
            "marker": {
             "colorbar": {
              "outlinewidth": 0,
              "ticks": ""
             }
            },
            "type": "scattergl"
           }
          ],
          "scattermapbox": [
           {
            "marker": {
             "colorbar": {
              "outlinewidth": 0,
              "ticks": ""
             }
            },
            "type": "scattermapbox"
           }
          ],
          "scatterpolar": [
           {
            "marker": {
             "colorbar": {
              "outlinewidth": 0,
              "ticks": ""
             }
            },
            "type": "scatterpolar"
           }
          ],
          "scatterpolargl": [
           {
            "marker": {
             "colorbar": {
              "outlinewidth": 0,
              "ticks": ""
             }
            },
            "type": "scatterpolargl"
           }
          ],
          "scatterternary": [
           {
            "marker": {
             "colorbar": {
              "outlinewidth": 0,
              "ticks": ""
             }
            },
            "type": "scatterternary"
           }
          ],
          "surface": [
           {
            "colorbar": {
             "outlinewidth": 0,
             "ticks": ""
            },
            "colorscale": [
             [
              0,
              "#0d0887"
             ],
             [
              0.1111111111111111,
              "#46039f"
             ],
             [
              0.2222222222222222,
              "#7201a8"
             ],
             [
              0.3333333333333333,
              "#9c179e"
             ],
             [
              0.4444444444444444,
              "#bd3786"
             ],
             [
              0.5555555555555556,
              "#d8576b"
             ],
             [
              0.6666666666666666,
              "#ed7953"
             ],
             [
              0.7777777777777778,
              "#fb9f3a"
             ],
             [
              0.8888888888888888,
              "#fdca26"
             ],
             [
              1,
              "#f0f921"
             ]
            ],
            "type": "surface"
           }
          ],
          "table": [
           {
            "cells": {
             "fill": {
              "color": "#EBF0F8"
             },
             "line": {
              "color": "white"
             }
            },
            "header": {
             "fill": {
              "color": "#C8D4E3"
             },
             "line": {
              "color": "white"
             }
            },
            "type": "table"
           }
          ]
         },
         "layout": {
          "annotationdefaults": {
           "arrowcolor": "#2a3f5f",
           "arrowhead": 0,
           "arrowwidth": 1
          },
          "autotypenumbers": "strict",
          "coloraxis": {
           "colorbar": {
            "outlinewidth": 0,
            "ticks": ""
           }
          },
          "colorscale": {
           "diverging": [
            [
             0,
             "#8e0152"
            ],
            [
             0.1,
             "#c51b7d"
            ],
            [
             0.2,
             "#de77ae"
            ],
            [
             0.3,
             "#f1b6da"
            ],
            [
             0.4,
             "#fde0ef"
            ],
            [
             0.5,
             "#f7f7f7"
            ],
            [
             0.6,
             "#e6f5d0"
            ],
            [
             0.7,
             "#b8e186"
            ],
            [
             0.8,
             "#7fbc41"
            ],
            [
             0.9,
             "#4d9221"
            ],
            [
             1,
             "#276419"
            ]
           ],
           "sequential": [
            [
             0,
             "#0d0887"
            ],
            [
             0.1111111111111111,
             "#46039f"
            ],
            [
             0.2222222222222222,
             "#7201a8"
            ],
            [
             0.3333333333333333,
             "#9c179e"
            ],
            [
             0.4444444444444444,
             "#bd3786"
            ],
            [
             0.5555555555555556,
             "#d8576b"
            ],
            [
             0.6666666666666666,
             "#ed7953"
            ],
            [
             0.7777777777777778,
             "#fb9f3a"
            ],
            [
             0.8888888888888888,
             "#fdca26"
            ],
            [
             1,
             "#f0f921"
            ]
           ],
           "sequentialminus": [
            [
             0,
             "#0d0887"
            ],
            [
             0.1111111111111111,
             "#46039f"
            ],
            [
             0.2222222222222222,
             "#7201a8"
            ],
            [
             0.3333333333333333,
             "#9c179e"
            ],
            [
             0.4444444444444444,
             "#bd3786"
            ],
            [
             0.5555555555555556,
             "#d8576b"
            ],
            [
             0.6666666666666666,
             "#ed7953"
            ],
            [
             0.7777777777777778,
             "#fb9f3a"
            ],
            [
             0.8888888888888888,
             "#fdca26"
            ],
            [
             1,
             "#f0f921"
            ]
           ]
          },
          "colorway": [
           "#636efa",
           "#EF553B",
           "#00cc96",
           "#ab63fa",
           "#FFA15A",
           "#19d3f3",
           "#FF6692",
           "#B6E880",
           "#FF97FF",
           "#FECB52"
          ],
          "font": {
           "color": "#2a3f5f"
          },
          "geo": {
           "bgcolor": "white",
           "lakecolor": "white",
           "landcolor": "#E5ECF6",
           "showlakes": true,
           "showland": true,
           "subunitcolor": "white"
          },
          "hoverlabel": {
           "align": "left"
          },
          "hovermode": "closest",
          "mapbox": {
           "style": "light"
          },
          "paper_bgcolor": "white",
          "plot_bgcolor": "#E5ECF6",
          "polar": {
           "angularaxis": {
            "gridcolor": "white",
            "linecolor": "white",
            "ticks": ""
           },
           "bgcolor": "#E5ECF6",
           "radialaxis": {
            "gridcolor": "white",
            "linecolor": "white",
            "ticks": ""
           }
          },
          "scene": {
           "xaxis": {
            "backgroundcolor": "#E5ECF6",
            "gridcolor": "white",
            "gridwidth": 2,
            "linecolor": "white",
            "showbackground": true,
            "ticks": "",
            "zerolinecolor": "white"
           },
           "yaxis": {
            "backgroundcolor": "#E5ECF6",
            "gridcolor": "white",
            "gridwidth": 2,
            "linecolor": "white",
            "showbackground": true,
            "ticks": "",
            "zerolinecolor": "white"
           },
           "zaxis": {
            "backgroundcolor": "#E5ECF6",
            "gridcolor": "white",
            "gridwidth": 2,
            "linecolor": "white",
            "showbackground": true,
            "ticks": "",
            "zerolinecolor": "white"
           }
          },
          "shapedefaults": {
           "line": {
            "color": "#2a3f5f"
           }
          },
          "ternary": {
           "aaxis": {
            "gridcolor": "white",
            "linecolor": "white",
            "ticks": ""
           },
           "baxis": {
            "gridcolor": "white",
            "linecolor": "white",
            "ticks": ""
           },
           "bgcolor": "#E5ECF6",
           "caxis": {
            "gridcolor": "white",
            "linecolor": "white",
            "ticks": ""
           }
          },
          "title": {
           "x": 0.05
          },
          "xaxis": {
           "automargin": true,
           "gridcolor": "white",
           "linecolor": "white",
           "ticks": "",
           "title": {
            "standoff": 15
           },
           "zerolinecolor": "white",
           "zerolinewidth": 2
          },
          "yaxis": {
           "automargin": true,
           "gridcolor": "white",
           "linecolor": "white",
           "ticks": "",
           "title": {
            "standoff": 15
           },
           "zerolinecolor": "white",
           "zerolinewidth": 2
          }
         }
        },
        "title": {
         "font": {
          "color": "#4D5663"
         }
        },
        "xaxis": {
         "gridcolor": "#E1E5ED",
         "showgrid": true,
         "tickfont": {
          "color": "#4D5663"
         },
         "title": {
          "font": {
           "color": "#4D5663"
          },
          "text": ""
         },
         "zerolinecolor": "#E1E5ED"
        },
        "yaxis": {
         "gridcolor": "#E1E5ED",
         "showgrid": true,
         "tickfont": {
          "color": "#4D5663"
         },
         "title": {
          "font": {
           "color": "#4D5663"
          },
          "text": ""
         },
         "zerolinecolor": "#E1E5ED"
        }
       }
      },
      "text/html": [
       "<div>                            <div id=\"6caf85c5-eabe-46d4-bc30-c8bf068b3448\" class=\"plotly-graph-div\" style=\"height:525px; width:100%;\"></div>            <script type=\"text/javascript\">                require([\"plotly\"], function(Plotly) {                    window.PLOTLYENV=window.PLOTLYENV || {};\n",
       "                    window.PLOTLYENV.BASE_URL='https://plot.ly';                                    if (document.getElementById(\"6caf85c5-eabe-46d4-bc30-c8bf068b3448\")) {                    Plotly.newPlot(                        \"6caf85c5-eabe-46d4-bc30-c8bf068b3448\",                        [{\"line\": {\"color\": \"rgba(255, 153, 51, 1.0)\", \"dash\": \"solid\", \"shape\": \"linear\", \"width\": 1.3}, \"marker\": {\"size\": 10, \"symbol\": \"circle\"}, \"mode\": \"markers\", \"name\": \"B\", \"text\": \"\", \"type\": \"scatter\", \"x\": [-1.1297355996644, -0.7378182431367298, 1.3018362014014464, -0.3897524354762462, -0.28469569627643276, 0.26189570707558646, -0.9076631525537662, 0.6203535138805666, -0.6186803199969817, 1.1226080642068443, -0.041438635172887366, -0.0022362033056104436, -1.0499832175198893, 0.08986937258436357, 1.3375457246389604, 1.9232171151998751, 1.2514977061012698, -0.010263114481263881, 1.4971556937885246, 0.5715860883089958, 0.19761772066921174, 1.1502304384350708, -0.24098786918618537, -1.6010465710520883, 0.9732937328192726, 0.11160359753779947, 0.32197195249841265, 0.30358682957964434, 0.40859502431711464, 0.6193062029177665, -0.4755616450031329, -1.0241841009392374, -0.10086891983338513, 0.754866747209579, 0.06900528817558078, -0.24279306917070723, 1.0348185228210516, -0.3958072182103754, -0.2877736157815689, 1.8262614760763645, 0.6560796576224647, 0.6039936134209548, 0.13811643849623192, 0.6169996082287618, -0.4388003603691258, 0.0857953494782665, 0.06263204663463057, 1.9136188883998924, -2.1038091801398306, -0.5031598748343795, -0.499738792228652, 0.3442035464303753, -1.2225361345294794, -0.22793921626844366, 0.5262130361354909, -0.010912344260437948, 2.2298919035757816, -1.444058305089868, -1.1316461333814778, 0.3933956396359092, -0.8704396282469317, -0.20553795675791134, -0.08867481958175209, -1.1172775865956317, -1.5260076855104778, -1.7467581009661328, -1.0664288474904873, 1.9150131279839857, 0.7683469110544034, 2.00607805679846, 1.8580914663696646, 1.9062502131655201, 0.03580593006324525, -0.6555706026085864, -1.1089797545764777, 0.8329301907539098, 0.8284039642458526, -1.1789468559824925, 0.7518735549022194, 1.0952234728205141, -0.3779764711785572, -0.9265655021956508, -0.9553992513910263, -0.38587972952013033, -0.6838345119123879, -0.43684706995405886, -0.4081057994560073, -1.5156425658958605, -0.575082296862586, -1.9415192419502305, 0.6216142225912914, -0.17327214911462618, 0.41144632474130993, 0.15372200990299822, -0.6157231774320628, 0.5240625234153609, -0.9920542569293624, -0.1510296013533493, -0.20056562222891014, -0.10335285122129649], \"y\": [-0.1635062728202632, -0.9756447904649324, 0.4357492211576944, 0.051226001530410986, 1.6194609778186286, -0.2614992416979577, -0.503056959460743, -0.13993298480476804, 0.4728179839113631, 0.53389506015398, 0.04175052703734408, -0.07721058388948895, -1.225800753883539, 0.8171131199268552, 0.271335570828907, -0.6148593154348182, -2.5442148291754667, -1.7782906353324925, 0.1356671690464854, 0.5537287920898528, -1.9714030383810386, 0.21204671141656967, -0.49986516306652934, 1.1605986854994819, -0.15289830668798166, 0.868679639924568, -0.5327690147279569, 0.38676522371752736, -0.697783301263672, 2.729615807039255, -0.44168975575870933, -0.8975405797564469, 1.156250284244023, 0.18372610275768578, 0.22028435577067737, -2.0445273482561723, -1.2705850191721542, -1.4398853748138425, -0.5164216605007113, -0.8766005893127831, -0.20189795216579856, -0.63168004490542, -0.10625317572230386, 0.06570462032791533, -0.3306030709977983, -1.1066179005719434, -1.8001592887010398, -1.2464956160103438, 1.412558001616313, 0.7263817448765412, -0.674821902689123, 0.13863430885397565, 0.8131652940034697, -1.8446556023227498, -0.3991970389101511, -1.6061316037339424, -0.3895083198515032, 0.9956640976917002, -0.09581646337107551, 0.5003441799337934, 0.4412554563299149, -1.2186611487320202, -0.6603496496066004, -1.3840238128032634, -1.279561508367783, 0.8242627049250715, 0.6066034035416791, -0.3129127244834932, 0.7439229469840886, -0.09075013988002041, -0.31059118918465206, -0.6998974552396815, -1.4718276518213624, 0.9598030326043391, -0.08470576393901538, -1.6271765054338334, 0.10367717536539334, 1.2481090029334017, -1.3083436514057565, 0.9001700007453994, 0.3191804389519386, -1.216318060061043, 0.6960767879130475, -0.10206427976470202, -1.0295841917882045, -0.3919692938644334, -0.004198236309692963, -2.7629842618099905, 1.2332621129863932, 0.3392732764281834, -0.6057250793486275, -0.049403623228994324, -1.1140335648259374, 1.1227986792321807, 0.7647722049015698, 0.23076529128221307, 0.025538967609587467, 1.0284112692058112, -0.11467294290964382, -0.5103834221495227]}],                        {\"legend\": {\"bgcolor\": \"#F5F6F9\", \"font\": {\"color\": \"#4D5663\"}}, \"paper_bgcolor\": \"#F5F6F9\", \"plot_bgcolor\": \"#F5F6F9\", \"template\": {\"data\": {\"bar\": [{\"error_x\": {\"color\": \"#2a3f5f\"}, \"error_y\": {\"color\": \"#2a3f5f\"}, \"marker\": {\"line\": {\"color\": \"#E5ECF6\", \"width\": 0.5}}, \"type\": \"bar\"}], \"barpolar\": [{\"marker\": {\"line\": {\"color\": \"#E5ECF6\", \"width\": 0.5}}, \"type\": \"barpolar\"}], \"carpet\": [{\"aaxis\": {\"endlinecolor\": \"#2a3f5f\", \"gridcolor\": \"white\", \"linecolor\": \"white\", \"minorgridcolor\": \"white\", \"startlinecolor\": \"#2a3f5f\"}, \"baxis\": {\"endlinecolor\": \"#2a3f5f\", \"gridcolor\": \"white\", \"linecolor\": \"white\", \"minorgridcolor\": \"white\", \"startlinecolor\": \"#2a3f5f\"}, \"type\": \"carpet\"}], \"choropleth\": [{\"colorbar\": {\"outlinewidth\": 0, \"ticks\": \"\"}, \"type\": \"choropleth\"}], \"contour\": [{\"colorbar\": {\"outlinewidth\": 0, \"ticks\": \"\"}, \"colorscale\": [[0.0, \"#0d0887\"], [0.1111111111111111, \"#46039f\"], [0.2222222222222222, \"#7201a8\"], [0.3333333333333333, \"#9c179e\"], [0.4444444444444444, \"#bd3786\"], [0.5555555555555556, \"#d8576b\"], [0.6666666666666666, \"#ed7953\"], [0.7777777777777778, \"#fb9f3a\"], [0.8888888888888888, \"#fdca26\"], [1.0, \"#f0f921\"]], \"type\": \"contour\"}], \"contourcarpet\": [{\"colorbar\": {\"outlinewidth\": 0, \"ticks\": \"\"}, \"type\": \"contourcarpet\"}], \"heatmap\": [{\"colorbar\": {\"outlinewidth\": 0, \"ticks\": \"\"}, \"colorscale\": [[0.0, \"#0d0887\"], [0.1111111111111111, \"#46039f\"], [0.2222222222222222, \"#7201a8\"], [0.3333333333333333, \"#9c179e\"], [0.4444444444444444, \"#bd3786\"], [0.5555555555555556, \"#d8576b\"], [0.6666666666666666, \"#ed7953\"], [0.7777777777777778, \"#fb9f3a\"], [0.8888888888888888, \"#fdca26\"], [1.0, \"#f0f921\"]], \"type\": \"heatmap\"}], \"heatmapgl\": [{\"colorbar\": {\"outlinewidth\": 0, \"ticks\": \"\"}, \"colorscale\": [[0.0, \"#0d0887\"], [0.1111111111111111, \"#46039f\"], [0.2222222222222222, \"#7201a8\"], [0.3333333333333333, \"#9c179e\"], [0.4444444444444444, \"#bd3786\"], [0.5555555555555556, \"#d8576b\"], [0.6666666666666666, \"#ed7953\"], [0.7777777777777778, \"#fb9f3a\"], [0.8888888888888888, \"#fdca26\"], [1.0, \"#f0f921\"]], \"type\": \"heatmapgl\"}], \"histogram\": [{\"marker\": {\"colorbar\": {\"outlinewidth\": 0, \"ticks\": \"\"}}, \"type\": \"histogram\"}], \"histogram2d\": [{\"colorbar\": {\"outlinewidth\": 0, \"ticks\": \"\"}, \"colorscale\": [[0.0, \"#0d0887\"], [0.1111111111111111, \"#46039f\"], [0.2222222222222222, \"#7201a8\"], [0.3333333333333333, \"#9c179e\"], [0.4444444444444444, \"#bd3786\"], [0.5555555555555556, \"#d8576b\"], [0.6666666666666666, \"#ed7953\"], [0.7777777777777778, \"#fb9f3a\"], [0.8888888888888888, \"#fdca26\"], [1.0, \"#f0f921\"]], \"type\": \"histogram2d\"}], \"histogram2dcontour\": [{\"colorbar\": {\"outlinewidth\": 0, \"ticks\": \"\"}, \"colorscale\": [[0.0, \"#0d0887\"], [0.1111111111111111, \"#46039f\"], [0.2222222222222222, \"#7201a8\"], [0.3333333333333333, \"#9c179e\"], [0.4444444444444444, \"#bd3786\"], [0.5555555555555556, \"#d8576b\"], [0.6666666666666666, \"#ed7953\"], [0.7777777777777778, \"#fb9f3a\"], [0.8888888888888888, \"#fdca26\"], [1.0, \"#f0f921\"]], \"type\": \"histogram2dcontour\"}], \"mesh3d\": [{\"colorbar\": {\"outlinewidth\": 0, \"ticks\": \"\"}, \"type\": \"mesh3d\"}], \"parcoords\": [{\"line\": {\"colorbar\": {\"outlinewidth\": 0, \"ticks\": \"\"}}, \"type\": \"parcoords\"}], \"pie\": [{\"automargin\": true, \"type\": \"pie\"}], \"scatter\": [{\"marker\": {\"colorbar\": {\"outlinewidth\": 0, \"ticks\": \"\"}}, \"type\": \"scatter\"}], \"scatter3d\": [{\"line\": {\"colorbar\": {\"outlinewidth\": 0, \"ticks\": \"\"}}, \"marker\": {\"colorbar\": {\"outlinewidth\": 0, \"ticks\": \"\"}}, \"type\": \"scatter3d\"}], \"scattercarpet\": [{\"marker\": {\"colorbar\": {\"outlinewidth\": 0, \"ticks\": \"\"}}, \"type\": \"scattercarpet\"}], \"scattergeo\": [{\"marker\": {\"colorbar\": {\"outlinewidth\": 0, \"ticks\": \"\"}}, \"type\": \"scattergeo\"}], \"scattergl\": [{\"marker\": {\"colorbar\": {\"outlinewidth\": 0, \"ticks\": \"\"}}, \"type\": \"scattergl\"}], \"scattermapbox\": [{\"marker\": {\"colorbar\": {\"outlinewidth\": 0, \"ticks\": \"\"}}, \"type\": \"scattermapbox\"}], \"scatterpolar\": [{\"marker\": {\"colorbar\": {\"outlinewidth\": 0, \"ticks\": \"\"}}, \"type\": \"scatterpolar\"}], \"scatterpolargl\": [{\"marker\": {\"colorbar\": {\"outlinewidth\": 0, \"ticks\": \"\"}}, \"type\": \"scatterpolargl\"}], \"scatterternary\": [{\"marker\": {\"colorbar\": {\"outlinewidth\": 0, \"ticks\": \"\"}}, \"type\": \"scatterternary\"}], \"surface\": [{\"colorbar\": {\"outlinewidth\": 0, \"ticks\": \"\"}, \"colorscale\": [[0.0, \"#0d0887\"], [0.1111111111111111, \"#46039f\"], [0.2222222222222222, \"#7201a8\"], [0.3333333333333333, \"#9c179e\"], [0.4444444444444444, \"#bd3786\"], [0.5555555555555556, \"#d8576b\"], [0.6666666666666666, \"#ed7953\"], [0.7777777777777778, \"#fb9f3a\"], [0.8888888888888888, \"#fdca26\"], [1.0, \"#f0f921\"]], \"type\": \"surface\"}], \"table\": [{\"cells\": {\"fill\": {\"color\": \"#EBF0F8\"}, \"line\": {\"color\": \"white\"}}, \"header\": {\"fill\": {\"color\": \"#C8D4E3\"}, \"line\": {\"color\": \"white\"}}, \"type\": \"table\"}]}, \"layout\": {\"annotationdefaults\": {\"arrowcolor\": \"#2a3f5f\", \"arrowhead\": 0, \"arrowwidth\": 1}, \"autotypenumbers\": \"strict\", \"coloraxis\": {\"colorbar\": {\"outlinewidth\": 0, \"ticks\": \"\"}}, \"colorscale\": {\"diverging\": [[0, \"#8e0152\"], [0.1, \"#c51b7d\"], [0.2, \"#de77ae\"], [0.3, \"#f1b6da\"], [0.4, \"#fde0ef\"], [0.5, \"#f7f7f7\"], [0.6, \"#e6f5d0\"], [0.7, \"#b8e186\"], [0.8, \"#7fbc41\"], [0.9, \"#4d9221\"], [1, \"#276419\"]], \"sequential\": [[0.0, \"#0d0887\"], [0.1111111111111111, \"#46039f\"], [0.2222222222222222, \"#7201a8\"], [0.3333333333333333, \"#9c179e\"], [0.4444444444444444, \"#bd3786\"], [0.5555555555555556, \"#d8576b\"], [0.6666666666666666, \"#ed7953\"], [0.7777777777777778, \"#fb9f3a\"], [0.8888888888888888, \"#fdca26\"], [1.0, \"#f0f921\"]], \"sequentialminus\": [[0.0, \"#0d0887\"], [0.1111111111111111, \"#46039f\"], [0.2222222222222222, \"#7201a8\"], [0.3333333333333333, \"#9c179e\"], [0.4444444444444444, \"#bd3786\"], [0.5555555555555556, \"#d8576b\"], [0.6666666666666666, \"#ed7953\"], [0.7777777777777778, \"#fb9f3a\"], [0.8888888888888888, \"#fdca26\"], [1.0, \"#f0f921\"]]}, \"colorway\": [\"#636efa\", \"#EF553B\", \"#00cc96\", \"#ab63fa\", \"#FFA15A\", \"#19d3f3\", \"#FF6692\", \"#B6E880\", \"#FF97FF\", \"#FECB52\"], \"font\": {\"color\": \"#2a3f5f\"}, \"geo\": {\"bgcolor\": \"white\", \"lakecolor\": \"white\", \"landcolor\": \"#E5ECF6\", \"showlakes\": true, \"showland\": true, \"subunitcolor\": \"white\"}, \"hoverlabel\": {\"align\": \"left\"}, \"hovermode\": \"closest\", \"mapbox\": {\"style\": \"light\"}, \"paper_bgcolor\": \"white\", \"plot_bgcolor\": \"#E5ECF6\", \"polar\": {\"angularaxis\": {\"gridcolor\": \"white\", \"linecolor\": \"white\", \"ticks\": \"\"}, \"bgcolor\": \"#E5ECF6\", \"radialaxis\": {\"gridcolor\": \"white\", \"linecolor\": \"white\", \"ticks\": \"\"}}, \"scene\": {\"xaxis\": {\"backgroundcolor\": \"#E5ECF6\", \"gridcolor\": \"white\", \"gridwidth\": 2, \"linecolor\": \"white\", \"showbackground\": true, \"ticks\": \"\", \"zerolinecolor\": \"white\"}, \"yaxis\": {\"backgroundcolor\": \"#E5ECF6\", \"gridcolor\": \"white\", \"gridwidth\": 2, \"linecolor\": \"white\", \"showbackground\": true, \"ticks\": \"\", \"zerolinecolor\": \"white\"}, \"zaxis\": {\"backgroundcolor\": \"#E5ECF6\", \"gridcolor\": \"white\", \"gridwidth\": 2, \"linecolor\": \"white\", \"showbackground\": true, \"ticks\": \"\", \"zerolinecolor\": \"white\"}}, \"shapedefaults\": {\"line\": {\"color\": \"#2a3f5f\"}}, \"ternary\": {\"aaxis\": {\"gridcolor\": \"white\", \"linecolor\": \"white\", \"ticks\": \"\"}, \"baxis\": {\"gridcolor\": \"white\", \"linecolor\": \"white\", \"ticks\": \"\"}, \"bgcolor\": \"#E5ECF6\", \"caxis\": {\"gridcolor\": \"white\", \"linecolor\": \"white\", \"ticks\": \"\"}}, \"title\": {\"x\": 0.05}, \"xaxis\": {\"automargin\": true, \"gridcolor\": \"white\", \"linecolor\": \"white\", \"ticks\": \"\", \"title\": {\"standoff\": 15}, \"zerolinecolor\": \"white\", \"zerolinewidth\": 2}, \"yaxis\": {\"automargin\": true, \"gridcolor\": \"white\", \"linecolor\": \"white\", \"ticks\": \"\", \"title\": {\"standoff\": 15}, \"zerolinecolor\": \"white\", \"zerolinewidth\": 2}}}, \"title\": {\"font\": {\"color\": \"#4D5663\"}}, \"xaxis\": {\"gridcolor\": \"#E1E5ED\", \"showgrid\": true, \"tickfont\": {\"color\": \"#4D5663\"}, \"title\": {\"font\": {\"color\": \"#4D5663\"}, \"text\": \"\"}, \"zerolinecolor\": \"#E1E5ED\"}, \"yaxis\": {\"gridcolor\": \"#E1E5ED\", \"showgrid\": true, \"tickfont\": {\"color\": \"#4D5663\"}, \"title\": {\"font\": {\"color\": \"#4D5663\"}, \"text\": \"\"}, \"zerolinecolor\": \"#E1E5ED\"}},                        {\"showLink\": true, \"linkText\": \"Export to plot.ly\", \"plotlyServerURL\": \"https://plot.ly\", \"responsive\": true}                    ).then(function(){\n",
       "                            \n",
       "var gd = document.getElementById('6caf85c5-eabe-46d4-bc30-c8bf068b3448');\n",
       "var x = new MutationObserver(function (mutations, observer) {{\n",
       "        var display = window.getComputedStyle(gd).display;\n",
       "        if (!display || display === 'none') {{\n",
       "            console.log([gd, 'removed!']);\n",
       "            Plotly.purge(gd);\n",
       "            observer.disconnect();\n",
       "        }}\n",
       "}});\n",
       "\n",
       "// Listen for the removal of the full notebook cells\n",
       "var notebookContainer = gd.closest('#notebook-container');\n",
       "if (notebookContainer) {{\n",
       "    x.observe(notebookContainer, {childList: true});\n",
       "}}\n",
       "\n",
       "// Listen for the clearing of the current output cell\n",
       "var outputEl = gd.closest('.output');\n",
       "if (outputEl) {{\n",
       "    x.observe(outputEl, {childList: true});\n",
       "}}\n",
       "\n",
       "                        })                };                });            </script>        </div>"
      ]
     },
     "metadata": {},
     "output_type": "display_data"
    }
   ],
   "source": [
    "df.iplot(kind='scatter',x='A',y='B',mode='markers',size=10)"
   ]
  },
  {
   "cell_type": "markdown",
   "metadata": {},
   "source": [
    "## Bar Plots"
   ]
  },
  {
   "cell_type": "code",
   "execution_count": 11,
   "metadata": {},
   "outputs": [
    {
     "data": {
      "application/vnd.plotly.v1+json": {
       "config": {
        "linkText": "Export to plot.ly",
        "plotlyServerURL": "https://plot.ly",
        "showLink": true
       },
       "data": [
        {
         "marker": {
          "color": "rgba(255, 153, 51, 0.6)",
          "line": {
           "color": "rgba(255, 153, 51, 1.0)",
           "width": 1
          }
         },
         "name": "Values",
         "orientation": "v",
         "text": "",
         "type": "bar",
         "x": [
          "A",
          "B",
          "C"
         ],
         "y": [
          32,
          43,
          50
         ]
        }
       ],
       "layout": {
        "legend": {
         "bgcolor": "#F5F6F9",
         "font": {
          "color": "#4D5663"
         }
        },
        "paper_bgcolor": "#F5F6F9",
        "plot_bgcolor": "#F5F6F9",
        "template": {
         "data": {
          "bar": [
           {
            "error_x": {
             "color": "#2a3f5f"
            },
            "error_y": {
             "color": "#2a3f5f"
            },
            "marker": {
             "line": {
              "color": "#E5ECF6",
              "width": 0.5
             }
            },
            "type": "bar"
           }
          ],
          "barpolar": [
           {
            "marker": {
             "line": {
              "color": "#E5ECF6",
              "width": 0.5
             }
            },
            "type": "barpolar"
           }
          ],
          "carpet": [
           {
            "aaxis": {
             "endlinecolor": "#2a3f5f",
             "gridcolor": "white",
             "linecolor": "white",
             "minorgridcolor": "white",
             "startlinecolor": "#2a3f5f"
            },
            "baxis": {
             "endlinecolor": "#2a3f5f",
             "gridcolor": "white",
             "linecolor": "white",
             "minorgridcolor": "white",
             "startlinecolor": "#2a3f5f"
            },
            "type": "carpet"
           }
          ],
          "choropleth": [
           {
            "colorbar": {
             "outlinewidth": 0,
             "ticks": ""
            },
            "type": "choropleth"
           }
          ],
          "contour": [
           {
            "colorbar": {
             "outlinewidth": 0,
             "ticks": ""
            },
            "colorscale": [
             [
              0,
              "#0d0887"
             ],
             [
              0.1111111111111111,
              "#46039f"
             ],
             [
              0.2222222222222222,
              "#7201a8"
             ],
             [
              0.3333333333333333,
              "#9c179e"
             ],
             [
              0.4444444444444444,
              "#bd3786"
             ],
             [
              0.5555555555555556,
              "#d8576b"
             ],
             [
              0.6666666666666666,
              "#ed7953"
             ],
             [
              0.7777777777777778,
              "#fb9f3a"
             ],
             [
              0.8888888888888888,
              "#fdca26"
             ],
             [
              1,
              "#f0f921"
             ]
            ],
            "type": "contour"
           }
          ],
          "contourcarpet": [
           {
            "colorbar": {
             "outlinewidth": 0,
             "ticks": ""
            },
            "type": "contourcarpet"
           }
          ],
          "heatmap": [
           {
            "colorbar": {
             "outlinewidth": 0,
             "ticks": ""
            },
            "colorscale": [
             [
              0,
              "#0d0887"
             ],
             [
              0.1111111111111111,
              "#46039f"
             ],
             [
              0.2222222222222222,
              "#7201a8"
             ],
             [
              0.3333333333333333,
              "#9c179e"
             ],
             [
              0.4444444444444444,
              "#bd3786"
             ],
             [
              0.5555555555555556,
              "#d8576b"
             ],
             [
              0.6666666666666666,
              "#ed7953"
             ],
             [
              0.7777777777777778,
              "#fb9f3a"
             ],
             [
              0.8888888888888888,
              "#fdca26"
             ],
             [
              1,
              "#f0f921"
             ]
            ],
            "type": "heatmap"
           }
          ],
          "heatmapgl": [
           {
            "colorbar": {
             "outlinewidth": 0,
             "ticks": ""
            },
            "colorscale": [
             [
              0,
              "#0d0887"
             ],
             [
              0.1111111111111111,
              "#46039f"
             ],
             [
              0.2222222222222222,
              "#7201a8"
             ],
             [
              0.3333333333333333,
              "#9c179e"
             ],
             [
              0.4444444444444444,
              "#bd3786"
             ],
             [
              0.5555555555555556,
              "#d8576b"
             ],
             [
              0.6666666666666666,
              "#ed7953"
             ],
             [
              0.7777777777777778,
              "#fb9f3a"
             ],
             [
              0.8888888888888888,
              "#fdca26"
             ],
             [
              1,
              "#f0f921"
             ]
            ],
            "type": "heatmapgl"
           }
          ],
          "histogram": [
           {
            "marker": {
             "colorbar": {
              "outlinewidth": 0,
              "ticks": ""
             }
            },
            "type": "histogram"
           }
          ],
          "histogram2d": [
           {
            "colorbar": {
             "outlinewidth": 0,
             "ticks": ""
            },
            "colorscale": [
             [
              0,
              "#0d0887"
             ],
             [
              0.1111111111111111,
              "#46039f"
             ],
             [
              0.2222222222222222,
              "#7201a8"
             ],
             [
              0.3333333333333333,
              "#9c179e"
             ],
             [
              0.4444444444444444,
              "#bd3786"
             ],
             [
              0.5555555555555556,
              "#d8576b"
             ],
             [
              0.6666666666666666,
              "#ed7953"
             ],
             [
              0.7777777777777778,
              "#fb9f3a"
             ],
             [
              0.8888888888888888,
              "#fdca26"
             ],
             [
              1,
              "#f0f921"
             ]
            ],
            "type": "histogram2d"
           }
          ],
          "histogram2dcontour": [
           {
            "colorbar": {
             "outlinewidth": 0,
             "ticks": ""
            },
            "colorscale": [
             [
              0,
              "#0d0887"
             ],
             [
              0.1111111111111111,
              "#46039f"
             ],
             [
              0.2222222222222222,
              "#7201a8"
             ],
             [
              0.3333333333333333,
              "#9c179e"
             ],
             [
              0.4444444444444444,
              "#bd3786"
             ],
             [
              0.5555555555555556,
              "#d8576b"
             ],
             [
              0.6666666666666666,
              "#ed7953"
             ],
             [
              0.7777777777777778,
              "#fb9f3a"
             ],
             [
              0.8888888888888888,
              "#fdca26"
             ],
             [
              1,
              "#f0f921"
             ]
            ],
            "type": "histogram2dcontour"
           }
          ],
          "mesh3d": [
           {
            "colorbar": {
             "outlinewidth": 0,
             "ticks": ""
            },
            "type": "mesh3d"
           }
          ],
          "parcoords": [
           {
            "line": {
             "colorbar": {
              "outlinewidth": 0,
              "ticks": ""
             }
            },
            "type": "parcoords"
           }
          ],
          "pie": [
           {
            "automargin": true,
            "type": "pie"
           }
          ],
          "scatter": [
           {
            "marker": {
             "colorbar": {
              "outlinewidth": 0,
              "ticks": ""
             }
            },
            "type": "scatter"
           }
          ],
          "scatter3d": [
           {
            "line": {
             "colorbar": {
              "outlinewidth": 0,
              "ticks": ""
             }
            },
            "marker": {
             "colorbar": {
              "outlinewidth": 0,
              "ticks": ""
             }
            },
            "type": "scatter3d"
           }
          ],
          "scattercarpet": [
           {
            "marker": {
             "colorbar": {
              "outlinewidth": 0,
              "ticks": ""
             }
            },
            "type": "scattercarpet"
           }
          ],
          "scattergeo": [
           {
            "marker": {
             "colorbar": {
              "outlinewidth": 0,
              "ticks": ""
             }
            },
            "type": "scattergeo"
           }
          ],
          "scattergl": [
           {
            "marker": {
             "colorbar": {
              "outlinewidth": 0,
              "ticks": ""
             }
            },
            "type": "scattergl"
           }
          ],
          "scattermapbox": [
           {
            "marker": {
             "colorbar": {
              "outlinewidth": 0,
              "ticks": ""
             }
            },
            "type": "scattermapbox"
           }
          ],
          "scatterpolar": [
           {
            "marker": {
             "colorbar": {
              "outlinewidth": 0,
              "ticks": ""
             }
            },
            "type": "scatterpolar"
           }
          ],
          "scatterpolargl": [
           {
            "marker": {
             "colorbar": {
              "outlinewidth": 0,
              "ticks": ""
             }
            },
            "type": "scatterpolargl"
           }
          ],
          "scatterternary": [
           {
            "marker": {
             "colorbar": {
              "outlinewidth": 0,
              "ticks": ""
             }
            },
            "type": "scatterternary"
           }
          ],
          "surface": [
           {
            "colorbar": {
             "outlinewidth": 0,
             "ticks": ""
            },
            "colorscale": [
             [
              0,
              "#0d0887"
             ],
             [
              0.1111111111111111,
              "#46039f"
             ],
             [
              0.2222222222222222,
              "#7201a8"
             ],
             [
              0.3333333333333333,
              "#9c179e"
             ],
             [
              0.4444444444444444,
              "#bd3786"
             ],
             [
              0.5555555555555556,
              "#d8576b"
             ],
             [
              0.6666666666666666,
              "#ed7953"
             ],
             [
              0.7777777777777778,
              "#fb9f3a"
             ],
             [
              0.8888888888888888,
              "#fdca26"
             ],
             [
              1,
              "#f0f921"
             ]
            ],
            "type": "surface"
           }
          ],
          "table": [
           {
            "cells": {
             "fill": {
              "color": "#EBF0F8"
             },
             "line": {
              "color": "white"
             }
            },
            "header": {
             "fill": {
              "color": "#C8D4E3"
             },
             "line": {
              "color": "white"
             }
            },
            "type": "table"
           }
          ]
         },
         "layout": {
          "annotationdefaults": {
           "arrowcolor": "#2a3f5f",
           "arrowhead": 0,
           "arrowwidth": 1
          },
          "autotypenumbers": "strict",
          "coloraxis": {
           "colorbar": {
            "outlinewidth": 0,
            "ticks": ""
           }
          },
          "colorscale": {
           "diverging": [
            [
             0,
             "#8e0152"
            ],
            [
             0.1,
             "#c51b7d"
            ],
            [
             0.2,
             "#de77ae"
            ],
            [
             0.3,
             "#f1b6da"
            ],
            [
             0.4,
             "#fde0ef"
            ],
            [
             0.5,
             "#f7f7f7"
            ],
            [
             0.6,
             "#e6f5d0"
            ],
            [
             0.7,
             "#b8e186"
            ],
            [
             0.8,
             "#7fbc41"
            ],
            [
             0.9,
             "#4d9221"
            ],
            [
             1,
             "#276419"
            ]
           ],
           "sequential": [
            [
             0,
             "#0d0887"
            ],
            [
             0.1111111111111111,
             "#46039f"
            ],
            [
             0.2222222222222222,
             "#7201a8"
            ],
            [
             0.3333333333333333,
             "#9c179e"
            ],
            [
             0.4444444444444444,
             "#bd3786"
            ],
            [
             0.5555555555555556,
             "#d8576b"
            ],
            [
             0.6666666666666666,
             "#ed7953"
            ],
            [
             0.7777777777777778,
             "#fb9f3a"
            ],
            [
             0.8888888888888888,
             "#fdca26"
            ],
            [
             1,
             "#f0f921"
            ]
           ],
           "sequentialminus": [
            [
             0,
             "#0d0887"
            ],
            [
             0.1111111111111111,
             "#46039f"
            ],
            [
             0.2222222222222222,
             "#7201a8"
            ],
            [
             0.3333333333333333,
             "#9c179e"
            ],
            [
             0.4444444444444444,
             "#bd3786"
            ],
            [
             0.5555555555555556,
             "#d8576b"
            ],
            [
             0.6666666666666666,
             "#ed7953"
            ],
            [
             0.7777777777777778,
             "#fb9f3a"
            ],
            [
             0.8888888888888888,
             "#fdca26"
            ],
            [
             1,
             "#f0f921"
            ]
           ]
          },
          "colorway": [
           "#636efa",
           "#EF553B",
           "#00cc96",
           "#ab63fa",
           "#FFA15A",
           "#19d3f3",
           "#FF6692",
           "#B6E880",
           "#FF97FF",
           "#FECB52"
          ],
          "font": {
           "color": "#2a3f5f"
          },
          "geo": {
           "bgcolor": "white",
           "lakecolor": "white",
           "landcolor": "#E5ECF6",
           "showlakes": true,
           "showland": true,
           "subunitcolor": "white"
          },
          "hoverlabel": {
           "align": "left"
          },
          "hovermode": "closest",
          "mapbox": {
           "style": "light"
          },
          "paper_bgcolor": "white",
          "plot_bgcolor": "#E5ECF6",
          "polar": {
           "angularaxis": {
            "gridcolor": "white",
            "linecolor": "white",
            "ticks": ""
           },
           "bgcolor": "#E5ECF6",
           "radialaxis": {
            "gridcolor": "white",
            "linecolor": "white",
            "ticks": ""
           }
          },
          "scene": {
           "xaxis": {
            "backgroundcolor": "#E5ECF6",
            "gridcolor": "white",
            "gridwidth": 2,
            "linecolor": "white",
            "showbackground": true,
            "ticks": "",
            "zerolinecolor": "white"
           },
           "yaxis": {
            "backgroundcolor": "#E5ECF6",
            "gridcolor": "white",
            "gridwidth": 2,
            "linecolor": "white",
            "showbackground": true,
            "ticks": "",
            "zerolinecolor": "white"
           },
           "zaxis": {
            "backgroundcolor": "#E5ECF6",
            "gridcolor": "white",
            "gridwidth": 2,
            "linecolor": "white",
            "showbackground": true,
            "ticks": "",
            "zerolinecolor": "white"
           }
          },
          "shapedefaults": {
           "line": {
            "color": "#2a3f5f"
           }
          },
          "ternary": {
           "aaxis": {
            "gridcolor": "white",
            "linecolor": "white",
            "ticks": ""
           },
           "baxis": {
            "gridcolor": "white",
            "linecolor": "white",
            "ticks": ""
           },
           "bgcolor": "#E5ECF6",
           "caxis": {
            "gridcolor": "white",
            "linecolor": "white",
            "ticks": ""
           }
          },
          "title": {
           "x": 0.05
          },
          "xaxis": {
           "automargin": true,
           "gridcolor": "white",
           "linecolor": "white",
           "ticks": "",
           "title": {
            "standoff": 15
           },
           "zerolinecolor": "white",
           "zerolinewidth": 2
          },
          "yaxis": {
           "automargin": true,
           "gridcolor": "white",
           "linecolor": "white",
           "ticks": "",
           "title": {
            "standoff": 15
           },
           "zerolinecolor": "white",
           "zerolinewidth": 2
          }
         }
        },
        "title": {
         "font": {
          "color": "#4D5663"
         }
        },
        "xaxis": {
         "gridcolor": "#E1E5ED",
         "showgrid": true,
         "tickfont": {
          "color": "#4D5663"
         },
         "title": {
          "font": {
           "color": "#4D5663"
          },
          "text": ""
         },
         "zerolinecolor": "#E1E5ED"
        },
        "yaxis": {
         "gridcolor": "#E1E5ED",
         "showgrid": true,
         "tickfont": {
          "color": "#4D5663"
         },
         "title": {
          "font": {
           "color": "#4D5663"
          },
          "text": ""
         },
         "zerolinecolor": "#E1E5ED"
        }
       }
      },
      "text/html": [
       "<div>                            <div id=\"2afea784-8ffa-4e9f-b699-c7b959834542\" class=\"plotly-graph-div\" style=\"height:525px; width:100%;\"></div>            <script type=\"text/javascript\">                require([\"plotly\"], function(Plotly) {                    window.PLOTLYENV=window.PLOTLYENV || {};\n",
       "                    window.PLOTLYENV.BASE_URL='https://plot.ly';                                    if (document.getElementById(\"2afea784-8ffa-4e9f-b699-c7b959834542\")) {                    Plotly.newPlot(                        \"2afea784-8ffa-4e9f-b699-c7b959834542\",                        [{\"marker\": {\"color\": \"rgba(255, 153, 51, 0.6)\", \"line\": {\"color\": \"rgba(255, 153, 51, 1.0)\", \"width\": 1}}, \"name\": \"Values\", \"orientation\": \"v\", \"text\": \"\", \"type\": \"bar\", \"x\": [\"A\", \"B\", \"C\"], \"y\": [32, 43, 50]}],                        {\"legend\": {\"bgcolor\": \"#F5F6F9\", \"font\": {\"color\": \"#4D5663\"}}, \"paper_bgcolor\": \"#F5F6F9\", \"plot_bgcolor\": \"#F5F6F9\", \"template\": {\"data\": {\"bar\": [{\"error_x\": {\"color\": \"#2a3f5f\"}, \"error_y\": {\"color\": \"#2a3f5f\"}, \"marker\": {\"line\": {\"color\": \"#E5ECF6\", \"width\": 0.5}}, \"type\": \"bar\"}], \"barpolar\": [{\"marker\": {\"line\": {\"color\": \"#E5ECF6\", \"width\": 0.5}}, \"type\": \"barpolar\"}], \"carpet\": [{\"aaxis\": {\"endlinecolor\": \"#2a3f5f\", \"gridcolor\": \"white\", \"linecolor\": \"white\", \"minorgridcolor\": \"white\", \"startlinecolor\": \"#2a3f5f\"}, \"baxis\": {\"endlinecolor\": \"#2a3f5f\", \"gridcolor\": \"white\", \"linecolor\": \"white\", \"minorgridcolor\": \"white\", \"startlinecolor\": \"#2a3f5f\"}, \"type\": \"carpet\"}], \"choropleth\": [{\"colorbar\": {\"outlinewidth\": 0, \"ticks\": \"\"}, \"type\": \"choropleth\"}], \"contour\": [{\"colorbar\": {\"outlinewidth\": 0, \"ticks\": \"\"}, \"colorscale\": [[0.0, \"#0d0887\"], [0.1111111111111111, \"#46039f\"], [0.2222222222222222, \"#7201a8\"], [0.3333333333333333, \"#9c179e\"], [0.4444444444444444, \"#bd3786\"], [0.5555555555555556, \"#d8576b\"], [0.6666666666666666, \"#ed7953\"], [0.7777777777777778, \"#fb9f3a\"], [0.8888888888888888, \"#fdca26\"], [1.0, \"#f0f921\"]], \"type\": \"contour\"}], \"contourcarpet\": [{\"colorbar\": {\"outlinewidth\": 0, \"ticks\": \"\"}, \"type\": \"contourcarpet\"}], \"heatmap\": [{\"colorbar\": {\"outlinewidth\": 0, \"ticks\": \"\"}, \"colorscale\": [[0.0, \"#0d0887\"], [0.1111111111111111, \"#46039f\"], [0.2222222222222222, \"#7201a8\"], [0.3333333333333333, \"#9c179e\"], [0.4444444444444444, \"#bd3786\"], [0.5555555555555556, \"#d8576b\"], [0.6666666666666666, \"#ed7953\"], [0.7777777777777778, \"#fb9f3a\"], [0.8888888888888888, \"#fdca26\"], [1.0, \"#f0f921\"]], \"type\": \"heatmap\"}], \"heatmapgl\": [{\"colorbar\": {\"outlinewidth\": 0, \"ticks\": \"\"}, \"colorscale\": [[0.0, \"#0d0887\"], [0.1111111111111111, \"#46039f\"], [0.2222222222222222, \"#7201a8\"], [0.3333333333333333, \"#9c179e\"], [0.4444444444444444, \"#bd3786\"], [0.5555555555555556, \"#d8576b\"], [0.6666666666666666, \"#ed7953\"], [0.7777777777777778, \"#fb9f3a\"], [0.8888888888888888, \"#fdca26\"], [1.0, \"#f0f921\"]], \"type\": \"heatmapgl\"}], \"histogram\": [{\"marker\": {\"colorbar\": {\"outlinewidth\": 0, \"ticks\": \"\"}}, \"type\": \"histogram\"}], \"histogram2d\": [{\"colorbar\": {\"outlinewidth\": 0, \"ticks\": \"\"}, \"colorscale\": [[0.0, \"#0d0887\"], [0.1111111111111111, \"#46039f\"], [0.2222222222222222, \"#7201a8\"], [0.3333333333333333, \"#9c179e\"], [0.4444444444444444, \"#bd3786\"], [0.5555555555555556, \"#d8576b\"], [0.6666666666666666, \"#ed7953\"], [0.7777777777777778, \"#fb9f3a\"], [0.8888888888888888, \"#fdca26\"], [1.0, \"#f0f921\"]], \"type\": \"histogram2d\"}], \"histogram2dcontour\": [{\"colorbar\": {\"outlinewidth\": 0, \"ticks\": \"\"}, \"colorscale\": [[0.0, \"#0d0887\"], [0.1111111111111111, \"#46039f\"], [0.2222222222222222, \"#7201a8\"], [0.3333333333333333, \"#9c179e\"], [0.4444444444444444, \"#bd3786\"], [0.5555555555555556, \"#d8576b\"], [0.6666666666666666, \"#ed7953\"], [0.7777777777777778, \"#fb9f3a\"], [0.8888888888888888, \"#fdca26\"], [1.0, \"#f0f921\"]], \"type\": \"histogram2dcontour\"}], \"mesh3d\": [{\"colorbar\": {\"outlinewidth\": 0, \"ticks\": \"\"}, \"type\": \"mesh3d\"}], \"parcoords\": [{\"line\": {\"colorbar\": {\"outlinewidth\": 0, \"ticks\": \"\"}}, \"type\": \"parcoords\"}], \"pie\": [{\"automargin\": true, \"type\": \"pie\"}], \"scatter\": [{\"marker\": {\"colorbar\": {\"outlinewidth\": 0, \"ticks\": \"\"}}, \"type\": \"scatter\"}], \"scatter3d\": [{\"line\": {\"colorbar\": {\"outlinewidth\": 0, \"ticks\": \"\"}}, \"marker\": {\"colorbar\": {\"outlinewidth\": 0, \"ticks\": \"\"}}, \"type\": \"scatter3d\"}], \"scattercarpet\": [{\"marker\": {\"colorbar\": {\"outlinewidth\": 0, \"ticks\": \"\"}}, \"type\": \"scattercarpet\"}], \"scattergeo\": [{\"marker\": {\"colorbar\": {\"outlinewidth\": 0, \"ticks\": \"\"}}, \"type\": \"scattergeo\"}], \"scattergl\": [{\"marker\": {\"colorbar\": {\"outlinewidth\": 0, \"ticks\": \"\"}}, \"type\": \"scattergl\"}], \"scattermapbox\": [{\"marker\": {\"colorbar\": {\"outlinewidth\": 0, \"ticks\": \"\"}}, \"type\": \"scattermapbox\"}], \"scatterpolar\": [{\"marker\": {\"colorbar\": {\"outlinewidth\": 0, \"ticks\": \"\"}}, \"type\": \"scatterpolar\"}], \"scatterpolargl\": [{\"marker\": {\"colorbar\": {\"outlinewidth\": 0, \"ticks\": \"\"}}, \"type\": \"scatterpolargl\"}], \"scatterternary\": [{\"marker\": {\"colorbar\": {\"outlinewidth\": 0, \"ticks\": \"\"}}, \"type\": \"scatterternary\"}], \"surface\": [{\"colorbar\": {\"outlinewidth\": 0, \"ticks\": \"\"}, \"colorscale\": [[0.0, \"#0d0887\"], [0.1111111111111111, \"#46039f\"], [0.2222222222222222, \"#7201a8\"], [0.3333333333333333, \"#9c179e\"], [0.4444444444444444, \"#bd3786\"], [0.5555555555555556, \"#d8576b\"], [0.6666666666666666, \"#ed7953\"], [0.7777777777777778, \"#fb9f3a\"], [0.8888888888888888, \"#fdca26\"], [1.0, \"#f0f921\"]], \"type\": \"surface\"}], \"table\": [{\"cells\": {\"fill\": {\"color\": \"#EBF0F8\"}, \"line\": {\"color\": \"white\"}}, \"header\": {\"fill\": {\"color\": \"#C8D4E3\"}, \"line\": {\"color\": \"white\"}}, \"type\": \"table\"}]}, \"layout\": {\"annotationdefaults\": {\"arrowcolor\": \"#2a3f5f\", \"arrowhead\": 0, \"arrowwidth\": 1}, \"autotypenumbers\": \"strict\", \"coloraxis\": {\"colorbar\": {\"outlinewidth\": 0, \"ticks\": \"\"}}, \"colorscale\": {\"diverging\": [[0, \"#8e0152\"], [0.1, \"#c51b7d\"], [0.2, \"#de77ae\"], [0.3, \"#f1b6da\"], [0.4, \"#fde0ef\"], [0.5, \"#f7f7f7\"], [0.6, \"#e6f5d0\"], [0.7, \"#b8e186\"], [0.8, \"#7fbc41\"], [0.9, \"#4d9221\"], [1, \"#276419\"]], \"sequential\": [[0.0, \"#0d0887\"], [0.1111111111111111, \"#46039f\"], [0.2222222222222222, \"#7201a8\"], [0.3333333333333333, \"#9c179e\"], [0.4444444444444444, \"#bd3786\"], [0.5555555555555556, \"#d8576b\"], [0.6666666666666666, \"#ed7953\"], [0.7777777777777778, \"#fb9f3a\"], [0.8888888888888888, \"#fdca26\"], [1.0, \"#f0f921\"]], \"sequentialminus\": [[0.0, \"#0d0887\"], [0.1111111111111111, \"#46039f\"], [0.2222222222222222, \"#7201a8\"], [0.3333333333333333, \"#9c179e\"], [0.4444444444444444, \"#bd3786\"], [0.5555555555555556, \"#d8576b\"], [0.6666666666666666, \"#ed7953\"], [0.7777777777777778, \"#fb9f3a\"], [0.8888888888888888, \"#fdca26\"], [1.0, \"#f0f921\"]]}, \"colorway\": [\"#636efa\", \"#EF553B\", \"#00cc96\", \"#ab63fa\", \"#FFA15A\", \"#19d3f3\", \"#FF6692\", \"#B6E880\", \"#FF97FF\", \"#FECB52\"], \"font\": {\"color\": \"#2a3f5f\"}, \"geo\": {\"bgcolor\": \"white\", \"lakecolor\": \"white\", \"landcolor\": \"#E5ECF6\", \"showlakes\": true, \"showland\": true, \"subunitcolor\": \"white\"}, \"hoverlabel\": {\"align\": \"left\"}, \"hovermode\": \"closest\", \"mapbox\": {\"style\": \"light\"}, \"paper_bgcolor\": \"white\", \"plot_bgcolor\": \"#E5ECF6\", \"polar\": {\"angularaxis\": {\"gridcolor\": \"white\", \"linecolor\": \"white\", \"ticks\": \"\"}, \"bgcolor\": \"#E5ECF6\", \"radialaxis\": {\"gridcolor\": \"white\", \"linecolor\": \"white\", \"ticks\": \"\"}}, \"scene\": {\"xaxis\": {\"backgroundcolor\": \"#E5ECF6\", \"gridcolor\": \"white\", \"gridwidth\": 2, \"linecolor\": \"white\", \"showbackground\": true, \"ticks\": \"\", \"zerolinecolor\": \"white\"}, \"yaxis\": {\"backgroundcolor\": \"#E5ECF6\", \"gridcolor\": \"white\", \"gridwidth\": 2, \"linecolor\": \"white\", \"showbackground\": true, \"ticks\": \"\", \"zerolinecolor\": \"white\"}, \"zaxis\": {\"backgroundcolor\": \"#E5ECF6\", \"gridcolor\": \"white\", \"gridwidth\": 2, \"linecolor\": \"white\", \"showbackground\": true, \"ticks\": \"\", \"zerolinecolor\": \"white\"}}, \"shapedefaults\": {\"line\": {\"color\": \"#2a3f5f\"}}, \"ternary\": {\"aaxis\": {\"gridcolor\": \"white\", \"linecolor\": \"white\", \"ticks\": \"\"}, \"baxis\": {\"gridcolor\": \"white\", \"linecolor\": \"white\", \"ticks\": \"\"}, \"bgcolor\": \"#E5ECF6\", \"caxis\": {\"gridcolor\": \"white\", \"linecolor\": \"white\", \"ticks\": \"\"}}, \"title\": {\"x\": 0.05}, \"xaxis\": {\"automargin\": true, \"gridcolor\": \"white\", \"linecolor\": \"white\", \"ticks\": \"\", \"title\": {\"standoff\": 15}, \"zerolinecolor\": \"white\", \"zerolinewidth\": 2}, \"yaxis\": {\"automargin\": true, \"gridcolor\": \"white\", \"linecolor\": \"white\", \"ticks\": \"\", \"title\": {\"standoff\": 15}, \"zerolinecolor\": \"white\", \"zerolinewidth\": 2}}}, \"title\": {\"font\": {\"color\": \"#4D5663\"}}, \"xaxis\": {\"gridcolor\": \"#E1E5ED\", \"showgrid\": true, \"tickfont\": {\"color\": \"#4D5663\"}, \"title\": {\"font\": {\"color\": \"#4D5663\"}, \"text\": \"\"}, \"zerolinecolor\": \"#E1E5ED\"}, \"yaxis\": {\"gridcolor\": \"#E1E5ED\", \"showgrid\": true, \"tickfont\": {\"color\": \"#4D5663\"}, \"title\": {\"font\": {\"color\": \"#4D5663\"}, \"text\": \"\"}, \"zerolinecolor\": \"#E1E5ED\"}},                        {\"showLink\": true, \"linkText\": \"Export to plot.ly\", \"plotlyServerURL\": \"https://plot.ly\", \"responsive\": true}                    ).then(function(){\n",
       "                            \n",
       "var gd = document.getElementById('2afea784-8ffa-4e9f-b699-c7b959834542');\n",
       "var x = new MutationObserver(function (mutations, observer) {{\n",
       "        var display = window.getComputedStyle(gd).display;\n",
       "        if (!display || display === 'none') {{\n",
       "            console.log([gd, 'removed!']);\n",
       "            Plotly.purge(gd);\n",
       "            observer.disconnect();\n",
       "        }}\n",
       "}});\n",
       "\n",
       "// Listen for the removal of the full notebook cells\n",
       "var notebookContainer = gd.closest('#notebook-container');\n",
       "if (notebookContainer) {{\n",
       "    x.observe(notebookContainer, {childList: true});\n",
       "}}\n",
       "\n",
       "// Listen for the clearing of the current output cell\n",
       "var outputEl = gd.closest('.output');\n",
       "if (outputEl) {{\n",
       "    x.observe(outputEl, {childList: true});\n",
       "}}\n",
       "\n",
       "                        })                };                });            </script>        </div>"
      ]
     },
     "metadata": {},
     "output_type": "display_data"
    }
   ],
   "source": [
    "df2.iplot(kind='bar',x='Category',y='Values')"
   ]
  },
  {
   "cell_type": "code",
   "execution_count": 12,
   "metadata": {},
   "outputs": [
    {
     "data": {
      "application/vnd.plotly.v1+json": {
       "config": {
        "linkText": "Export to plot.ly",
        "plotlyServerURL": "https://plot.ly",
        "showLink": true
       },
       "data": [
        {
         "marker": {
          "color": "rgba(255, 153, 51, 0.6)",
          "line": {
           "color": "rgba(255, 153, 51, 1.0)",
           "width": 1
          }
         },
         "name": "None",
         "orientation": "v",
         "text": "",
         "type": "bar",
         "x": [
          "A",
          "B",
          "C",
          "D"
         ],
         "y": [
          100,
          100,
          100,
          100
         ]
        }
       ],
       "layout": {
        "legend": {
         "bgcolor": "#F5F6F9",
         "font": {
          "color": "#4D5663"
         }
        },
        "paper_bgcolor": "#F5F6F9",
        "plot_bgcolor": "#F5F6F9",
        "template": {
         "data": {
          "bar": [
           {
            "error_x": {
             "color": "#2a3f5f"
            },
            "error_y": {
             "color": "#2a3f5f"
            },
            "marker": {
             "line": {
              "color": "#E5ECF6",
              "width": 0.5
             }
            },
            "type": "bar"
           }
          ],
          "barpolar": [
           {
            "marker": {
             "line": {
              "color": "#E5ECF6",
              "width": 0.5
             }
            },
            "type": "barpolar"
           }
          ],
          "carpet": [
           {
            "aaxis": {
             "endlinecolor": "#2a3f5f",
             "gridcolor": "white",
             "linecolor": "white",
             "minorgridcolor": "white",
             "startlinecolor": "#2a3f5f"
            },
            "baxis": {
             "endlinecolor": "#2a3f5f",
             "gridcolor": "white",
             "linecolor": "white",
             "minorgridcolor": "white",
             "startlinecolor": "#2a3f5f"
            },
            "type": "carpet"
           }
          ],
          "choropleth": [
           {
            "colorbar": {
             "outlinewidth": 0,
             "ticks": ""
            },
            "type": "choropleth"
           }
          ],
          "contour": [
           {
            "colorbar": {
             "outlinewidth": 0,
             "ticks": ""
            },
            "colorscale": [
             [
              0,
              "#0d0887"
             ],
             [
              0.1111111111111111,
              "#46039f"
             ],
             [
              0.2222222222222222,
              "#7201a8"
             ],
             [
              0.3333333333333333,
              "#9c179e"
             ],
             [
              0.4444444444444444,
              "#bd3786"
             ],
             [
              0.5555555555555556,
              "#d8576b"
             ],
             [
              0.6666666666666666,
              "#ed7953"
             ],
             [
              0.7777777777777778,
              "#fb9f3a"
             ],
             [
              0.8888888888888888,
              "#fdca26"
             ],
             [
              1,
              "#f0f921"
             ]
            ],
            "type": "contour"
           }
          ],
          "contourcarpet": [
           {
            "colorbar": {
             "outlinewidth": 0,
             "ticks": ""
            },
            "type": "contourcarpet"
           }
          ],
          "heatmap": [
           {
            "colorbar": {
             "outlinewidth": 0,
             "ticks": ""
            },
            "colorscale": [
             [
              0,
              "#0d0887"
             ],
             [
              0.1111111111111111,
              "#46039f"
             ],
             [
              0.2222222222222222,
              "#7201a8"
             ],
             [
              0.3333333333333333,
              "#9c179e"
             ],
             [
              0.4444444444444444,
              "#bd3786"
             ],
             [
              0.5555555555555556,
              "#d8576b"
             ],
             [
              0.6666666666666666,
              "#ed7953"
             ],
             [
              0.7777777777777778,
              "#fb9f3a"
             ],
             [
              0.8888888888888888,
              "#fdca26"
             ],
             [
              1,
              "#f0f921"
             ]
            ],
            "type": "heatmap"
           }
          ],
          "heatmapgl": [
           {
            "colorbar": {
             "outlinewidth": 0,
             "ticks": ""
            },
            "colorscale": [
             [
              0,
              "#0d0887"
             ],
             [
              0.1111111111111111,
              "#46039f"
             ],
             [
              0.2222222222222222,
              "#7201a8"
             ],
             [
              0.3333333333333333,
              "#9c179e"
             ],
             [
              0.4444444444444444,
              "#bd3786"
             ],
             [
              0.5555555555555556,
              "#d8576b"
             ],
             [
              0.6666666666666666,
              "#ed7953"
             ],
             [
              0.7777777777777778,
              "#fb9f3a"
             ],
             [
              0.8888888888888888,
              "#fdca26"
             ],
             [
              1,
              "#f0f921"
             ]
            ],
            "type": "heatmapgl"
           }
          ],
          "histogram": [
           {
            "marker": {
             "colorbar": {
              "outlinewidth": 0,
              "ticks": ""
             }
            },
            "type": "histogram"
           }
          ],
          "histogram2d": [
           {
            "colorbar": {
             "outlinewidth": 0,
             "ticks": ""
            },
            "colorscale": [
             [
              0,
              "#0d0887"
             ],
             [
              0.1111111111111111,
              "#46039f"
             ],
             [
              0.2222222222222222,
              "#7201a8"
             ],
             [
              0.3333333333333333,
              "#9c179e"
             ],
             [
              0.4444444444444444,
              "#bd3786"
             ],
             [
              0.5555555555555556,
              "#d8576b"
             ],
             [
              0.6666666666666666,
              "#ed7953"
             ],
             [
              0.7777777777777778,
              "#fb9f3a"
             ],
             [
              0.8888888888888888,
              "#fdca26"
             ],
             [
              1,
              "#f0f921"
             ]
            ],
            "type": "histogram2d"
           }
          ],
          "histogram2dcontour": [
           {
            "colorbar": {
             "outlinewidth": 0,
             "ticks": ""
            },
            "colorscale": [
             [
              0,
              "#0d0887"
             ],
             [
              0.1111111111111111,
              "#46039f"
             ],
             [
              0.2222222222222222,
              "#7201a8"
             ],
             [
              0.3333333333333333,
              "#9c179e"
             ],
             [
              0.4444444444444444,
              "#bd3786"
             ],
             [
              0.5555555555555556,
              "#d8576b"
             ],
             [
              0.6666666666666666,
              "#ed7953"
             ],
             [
              0.7777777777777778,
              "#fb9f3a"
             ],
             [
              0.8888888888888888,
              "#fdca26"
             ],
             [
              1,
              "#f0f921"
             ]
            ],
            "type": "histogram2dcontour"
           }
          ],
          "mesh3d": [
           {
            "colorbar": {
             "outlinewidth": 0,
             "ticks": ""
            },
            "type": "mesh3d"
           }
          ],
          "parcoords": [
           {
            "line": {
             "colorbar": {
              "outlinewidth": 0,
              "ticks": ""
             }
            },
            "type": "parcoords"
           }
          ],
          "pie": [
           {
            "automargin": true,
            "type": "pie"
           }
          ],
          "scatter": [
           {
            "marker": {
             "colorbar": {
              "outlinewidth": 0,
              "ticks": ""
             }
            },
            "type": "scatter"
           }
          ],
          "scatter3d": [
           {
            "line": {
             "colorbar": {
              "outlinewidth": 0,
              "ticks": ""
             }
            },
            "marker": {
             "colorbar": {
              "outlinewidth": 0,
              "ticks": ""
             }
            },
            "type": "scatter3d"
           }
          ],
          "scattercarpet": [
           {
            "marker": {
             "colorbar": {
              "outlinewidth": 0,
              "ticks": ""
             }
            },
            "type": "scattercarpet"
           }
          ],
          "scattergeo": [
           {
            "marker": {
             "colorbar": {
              "outlinewidth": 0,
              "ticks": ""
             }
            },
            "type": "scattergeo"
           }
          ],
          "scattergl": [
           {
            "marker": {
             "colorbar": {
              "outlinewidth": 0,
              "ticks": ""
             }
            },
            "type": "scattergl"
           }
          ],
          "scattermapbox": [
           {
            "marker": {
             "colorbar": {
              "outlinewidth": 0,
              "ticks": ""
             }
            },
            "type": "scattermapbox"
           }
          ],
          "scatterpolar": [
           {
            "marker": {
             "colorbar": {
              "outlinewidth": 0,
              "ticks": ""
             }
            },
            "type": "scatterpolar"
           }
          ],
          "scatterpolargl": [
           {
            "marker": {
             "colorbar": {
              "outlinewidth": 0,
              "ticks": ""
             }
            },
            "type": "scatterpolargl"
           }
          ],
          "scatterternary": [
           {
            "marker": {
             "colorbar": {
              "outlinewidth": 0,
              "ticks": ""
             }
            },
            "type": "scatterternary"
           }
          ],
          "surface": [
           {
            "colorbar": {
             "outlinewidth": 0,
             "ticks": ""
            },
            "colorscale": [
             [
              0,
              "#0d0887"
             ],
             [
              0.1111111111111111,
              "#46039f"
             ],
             [
              0.2222222222222222,
              "#7201a8"
             ],
             [
              0.3333333333333333,
              "#9c179e"
             ],
             [
              0.4444444444444444,
              "#bd3786"
             ],
             [
              0.5555555555555556,
              "#d8576b"
             ],
             [
              0.6666666666666666,
              "#ed7953"
             ],
             [
              0.7777777777777778,
              "#fb9f3a"
             ],
             [
              0.8888888888888888,
              "#fdca26"
             ],
             [
              1,
              "#f0f921"
             ]
            ],
            "type": "surface"
           }
          ],
          "table": [
           {
            "cells": {
             "fill": {
              "color": "#EBF0F8"
             },
             "line": {
              "color": "white"
             }
            },
            "header": {
             "fill": {
              "color": "#C8D4E3"
             },
             "line": {
              "color": "white"
             }
            },
            "type": "table"
           }
          ]
         },
         "layout": {
          "annotationdefaults": {
           "arrowcolor": "#2a3f5f",
           "arrowhead": 0,
           "arrowwidth": 1
          },
          "autotypenumbers": "strict",
          "coloraxis": {
           "colorbar": {
            "outlinewidth": 0,
            "ticks": ""
           }
          },
          "colorscale": {
           "diverging": [
            [
             0,
             "#8e0152"
            ],
            [
             0.1,
             "#c51b7d"
            ],
            [
             0.2,
             "#de77ae"
            ],
            [
             0.3,
             "#f1b6da"
            ],
            [
             0.4,
             "#fde0ef"
            ],
            [
             0.5,
             "#f7f7f7"
            ],
            [
             0.6,
             "#e6f5d0"
            ],
            [
             0.7,
             "#b8e186"
            ],
            [
             0.8,
             "#7fbc41"
            ],
            [
             0.9,
             "#4d9221"
            ],
            [
             1,
             "#276419"
            ]
           ],
           "sequential": [
            [
             0,
             "#0d0887"
            ],
            [
             0.1111111111111111,
             "#46039f"
            ],
            [
             0.2222222222222222,
             "#7201a8"
            ],
            [
             0.3333333333333333,
             "#9c179e"
            ],
            [
             0.4444444444444444,
             "#bd3786"
            ],
            [
             0.5555555555555556,
             "#d8576b"
            ],
            [
             0.6666666666666666,
             "#ed7953"
            ],
            [
             0.7777777777777778,
             "#fb9f3a"
            ],
            [
             0.8888888888888888,
             "#fdca26"
            ],
            [
             1,
             "#f0f921"
            ]
           ],
           "sequentialminus": [
            [
             0,
             "#0d0887"
            ],
            [
             0.1111111111111111,
             "#46039f"
            ],
            [
             0.2222222222222222,
             "#7201a8"
            ],
            [
             0.3333333333333333,
             "#9c179e"
            ],
            [
             0.4444444444444444,
             "#bd3786"
            ],
            [
             0.5555555555555556,
             "#d8576b"
            ],
            [
             0.6666666666666666,
             "#ed7953"
            ],
            [
             0.7777777777777778,
             "#fb9f3a"
            ],
            [
             0.8888888888888888,
             "#fdca26"
            ],
            [
             1,
             "#f0f921"
            ]
           ]
          },
          "colorway": [
           "#636efa",
           "#EF553B",
           "#00cc96",
           "#ab63fa",
           "#FFA15A",
           "#19d3f3",
           "#FF6692",
           "#B6E880",
           "#FF97FF",
           "#FECB52"
          ],
          "font": {
           "color": "#2a3f5f"
          },
          "geo": {
           "bgcolor": "white",
           "lakecolor": "white",
           "landcolor": "#E5ECF6",
           "showlakes": true,
           "showland": true,
           "subunitcolor": "white"
          },
          "hoverlabel": {
           "align": "left"
          },
          "hovermode": "closest",
          "mapbox": {
           "style": "light"
          },
          "paper_bgcolor": "white",
          "plot_bgcolor": "#E5ECF6",
          "polar": {
           "angularaxis": {
            "gridcolor": "white",
            "linecolor": "white",
            "ticks": ""
           },
           "bgcolor": "#E5ECF6",
           "radialaxis": {
            "gridcolor": "white",
            "linecolor": "white",
            "ticks": ""
           }
          },
          "scene": {
           "xaxis": {
            "backgroundcolor": "#E5ECF6",
            "gridcolor": "white",
            "gridwidth": 2,
            "linecolor": "white",
            "showbackground": true,
            "ticks": "",
            "zerolinecolor": "white"
           },
           "yaxis": {
            "backgroundcolor": "#E5ECF6",
            "gridcolor": "white",
            "gridwidth": 2,
            "linecolor": "white",
            "showbackground": true,
            "ticks": "",
            "zerolinecolor": "white"
           },
           "zaxis": {
            "backgroundcolor": "#E5ECF6",
            "gridcolor": "white",
            "gridwidth": 2,
            "linecolor": "white",
            "showbackground": true,
            "ticks": "",
            "zerolinecolor": "white"
           }
          },
          "shapedefaults": {
           "line": {
            "color": "#2a3f5f"
           }
          },
          "ternary": {
           "aaxis": {
            "gridcolor": "white",
            "linecolor": "white",
            "ticks": ""
           },
           "baxis": {
            "gridcolor": "white",
            "linecolor": "white",
            "ticks": ""
           },
           "bgcolor": "#E5ECF6",
           "caxis": {
            "gridcolor": "white",
            "linecolor": "white",
            "ticks": ""
           }
          },
          "title": {
           "x": 0.05
          },
          "xaxis": {
           "automargin": true,
           "gridcolor": "white",
           "linecolor": "white",
           "ticks": "",
           "title": {
            "standoff": 15
           },
           "zerolinecolor": "white",
           "zerolinewidth": 2
          },
          "yaxis": {
           "automargin": true,
           "gridcolor": "white",
           "linecolor": "white",
           "ticks": "",
           "title": {
            "standoff": 15
           },
           "zerolinecolor": "white",
           "zerolinewidth": 2
          }
         }
        },
        "title": {
         "font": {
          "color": "#4D5663"
         }
        },
        "xaxis": {
         "gridcolor": "#E1E5ED",
         "showgrid": true,
         "tickfont": {
          "color": "#4D5663"
         },
         "title": {
          "font": {
           "color": "#4D5663"
          },
          "text": ""
         },
         "zerolinecolor": "#E1E5ED"
        },
        "yaxis": {
         "gridcolor": "#E1E5ED",
         "showgrid": true,
         "tickfont": {
          "color": "#4D5663"
         },
         "title": {
          "font": {
           "color": "#4D5663"
          },
          "text": ""
         },
         "zerolinecolor": "#E1E5ED"
        }
       }
      },
      "text/html": [
       "<div>                            <div id=\"54587d6e-5b72-42f3-acf9-31a31271e149\" class=\"plotly-graph-div\" style=\"height:525px; width:100%;\"></div>            <script type=\"text/javascript\">                require([\"plotly\"], function(Plotly) {                    window.PLOTLYENV=window.PLOTLYENV || {};\n",
       "                    window.PLOTLYENV.BASE_URL='https://plot.ly';                                    if (document.getElementById(\"54587d6e-5b72-42f3-acf9-31a31271e149\")) {                    Plotly.newPlot(                        \"54587d6e-5b72-42f3-acf9-31a31271e149\",                        [{\"marker\": {\"color\": \"rgba(255, 153, 51, 0.6)\", \"line\": {\"color\": \"rgba(255, 153, 51, 1.0)\", \"width\": 1}}, \"name\": \"None\", \"orientation\": \"v\", \"text\": \"\", \"type\": \"bar\", \"x\": [\"A\", \"B\", \"C\", \"D\"], \"y\": [100, 100, 100, 100]}],                        {\"legend\": {\"bgcolor\": \"#F5F6F9\", \"font\": {\"color\": \"#4D5663\"}}, \"paper_bgcolor\": \"#F5F6F9\", \"plot_bgcolor\": \"#F5F6F9\", \"template\": {\"data\": {\"bar\": [{\"error_x\": {\"color\": \"#2a3f5f\"}, \"error_y\": {\"color\": \"#2a3f5f\"}, \"marker\": {\"line\": {\"color\": \"#E5ECF6\", \"width\": 0.5}}, \"type\": \"bar\"}], \"barpolar\": [{\"marker\": {\"line\": {\"color\": \"#E5ECF6\", \"width\": 0.5}}, \"type\": \"barpolar\"}], \"carpet\": [{\"aaxis\": {\"endlinecolor\": \"#2a3f5f\", \"gridcolor\": \"white\", \"linecolor\": \"white\", \"minorgridcolor\": \"white\", \"startlinecolor\": \"#2a3f5f\"}, \"baxis\": {\"endlinecolor\": \"#2a3f5f\", \"gridcolor\": \"white\", \"linecolor\": \"white\", \"minorgridcolor\": \"white\", \"startlinecolor\": \"#2a3f5f\"}, \"type\": \"carpet\"}], \"choropleth\": [{\"colorbar\": {\"outlinewidth\": 0, \"ticks\": \"\"}, \"type\": \"choropleth\"}], \"contour\": [{\"colorbar\": {\"outlinewidth\": 0, \"ticks\": \"\"}, \"colorscale\": [[0.0, \"#0d0887\"], [0.1111111111111111, \"#46039f\"], [0.2222222222222222, \"#7201a8\"], [0.3333333333333333, \"#9c179e\"], [0.4444444444444444, \"#bd3786\"], [0.5555555555555556, \"#d8576b\"], [0.6666666666666666, \"#ed7953\"], [0.7777777777777778, \"#fb9f3a\"], [0.8888888888888888, \"#fdca26\"], [1.0, \"#f0f921\"]], \"type\": \"contour\"}], \"contourcarpet\": [{\"colorbar\": {\"outlinewidth\": 0, \"ticks\": \"\"}, \"type\": \"contourcarpet\"}], \"heatmap\": [{\"colorbar\": {\"outlinewidth\": 0, \"ticks\": \"\"}, \"colorscale\": [[0.0, \"#0d0887\"], [0.1111111111111111, \"#46039f\"], [0.2222222222222222, \"#7201a8\"], [0.3333333333333333, \"#9c179e\"], [0.4444444444444444, \"#bd3786\"], [0.5555555555555556, \"#d8576b\"], [0.6666666666666666, \"#ed7953\"], [0.7777777777777778, \"#fb9f3a\"], [0.8888888888888888, \"#fdca26\"], [1.0, \"#f0f921\"]], \"type\": \"heatmap\"}], \"heatmapgl\": [{\"colorbar\": {\"outlinewidth\": 0, \"ticks\": \"\"}, \"colorscale\": [[0.0, \"#0d0887\"], [0.1111111111111111, \"#46039f\"], [0.2222222222222222, \"#7201a8\"], [0.3333333333333333, \"#9c179e\"], [0.4444444444444444, \"#bd3786\"], [0.5555555555555556, \"#d8576b\"], [0.6666666666666666, \"#ed7953\"], [0.7777777777777778, \"#fb9f3a\"], [0.8888888888888888, \"#fdca26\"], [1.0, \"#f0f921\"]], \"type\": \"heatmapgl\"}], \"histogram\": [{\"marker\": {\"colorbar\": {\"outlinewidth\": 0, \"ticks\": \"\"}}, \"type\": \"histogram\"}], \"histogram2d\": [{\"colorbar\": {\"outlinewidth\": 0, \"ticks\": \"\"}, \"colorscale\": [[0.0, \"#0d0887\"], [0.1111111111111111, \"#46039f\"], [0.2222222222222222, \"#7201a8\"], [0.3333333333333333, \"#9c179e\"], [0.4444444444444444, \"#bd3786\"], [0.5555555555555556, \"#d8576b\"], [0.6666666666666666, \"#ed7953\"], [0.7777777777777778, \"#fb9f3a\"], [0.8888888888888888, \"#fdca26\"], [1.0, \"#f0f921\"]], \"type\": \"histogram2d\"}], \"histogram2dcontour\": [{\"colorbar\": {\"outlinewidth\": 0, \"ticks\": \"\"}, \"colorscale\": [[0.0, \"#0d0887\"], [0.1111111111111111, \"#46039f\"], [0.2222222222222222, \"#7201a8\"], [0.3333333333333333, \"#9c179e\"], [0.4444444444444444, \"#bd3786\"], [0.5555555555555556, \"#d8576b\"], [0.6666666666666666, \"#ed7953\"], [0.7777777777777778, \"#fb9f3a\"], [0.8888888888888888, \"#fdca26\"], [1.0, \"#f0f921\"]], \"type\": \"histogram2dcontour\"}], \"mesh3d\": [{\"colorbar\": {\"outlinewidth\": 0, \"ticks\": \"\"}, \"type\": \"mesh3d\"}], \"parcoords\": [{\"line\": {\"colorbar\": {\"outlinewidth\": 0, \"ticks\": \"\"}}, \"type\": \"parcoords\"}], \"pie\": [{\"automargin\": true, \"type\": \"pie\"}], \"scatter\": [{\"marker\": {\"colorbar\": {\"outlinewidth\": 0, \"ticks\": \"\"}}, \"type\": \"scatter\"}], \"scatter3d\": [{\"line\": {\"colorbar\": {\"outlinewidth\": 0, \"ticks\": \"\"}}, \"marker\": {\"colorbar\": {\"outlinewidth\": 0, \"ticks\": \"\"}}, \"type\": \"scatter3d\"}], \"scattercarpet\": [{\"marker\": {\"colorbar\": {\"outlinewidth\": 0, \"ticks\": \"\"}}, \"type\": \"scattercarpet\"}], \"scattergeo\": [{\"marker\": {\"colorbar\": {\"outlinewidth\": 0, \"ticks\": \"\"}}, \"type\": \"scattergeo\"}], \"scattergl\": [{\"marker\": {\"colorbar\": {\"outlinewidth\": 0, \"ticks\": \"\"}}, \"type\": \"scattergl\"}], \"scattermapbox\": [{\"marker\": {\"colorbar\": {\"outlinewidth\": 0, \"ticks\": \"\"}}, \"type\": \"scattermapbox\"}], \"scatterpolar\": [{\"marker\": {\"colorbar\": {\"outlinewidth\": 0, \"ticks\": \"\"}}, \"type\": \"scatterpolar\"}], \"scatterpolargl\": [{\"marker\": {\"colorbar\": {\"outlinewidth\": 0, \"ticks\": \"\"}}, \"type\": \"scatterpolargl\"}], \"scatterternary\": [{\"marker\": {\"colorbar\": {\"outlinewidth\": 0, \"ticks\": \"\"}}, \"type\": \"scatterternary\"}], \"surface\": [{\"colorbar\": {\"outlinewidth\": 0, \"ticks\": \"\"}, \"colorscale\": [[0.0, \"#0d0887\"], [0.1111111111111111, \"#46039f\"], [0.2222222222222222, \"#7201a8\"], [0.3333333333333333, \"#9c179e\"], [0.4444444444444444, \"#bd3786\"], [0.5555555555555556, \"#d8576b\"], [0.6666666666666666, \"#ed7953\"], [0.7777777777777778, \"#fb9f3a\"], [0.8888888888888888, \"#fdca26\"], [1.0, \"#f0f921\"]], \"type\": \"surface\"}], \"table\": [{\"cells\": {\"fill\": {\"color\": \"#EBF0F8\"}, \"line\": {\"color\": \"white\"}}, \"header\": {\"fill\": {\"color\": \"#C8D4E3\"}, \"line\": {\"color\": \"white\"}}, \"type\": \"table\"}]}, \"layout\": {\"annotationdefaults\": {\"arrowcolor\": \"#2a3f5f\", \"arrowhead\": 0, \"arrowwidth\": 1}, \"autotypenumbers\": \"strict\", \"coloraxis\": {\"colorbar\": {\"outlinewidth\": 0, \"ticks\": \"\"}}, \"colorscale\": {\"diverging\": [[0, \"#8e0152\"], [0.1, \"#c51b7d\"], [0.2, \"#de77ae\"], [0.3, \"#f1b6da\"], [0.4, \"#fde0ef\"], [0.5, \"#f7f7f7\"], [0.6, \"#e6f5d0\"], [0.7, \"#b8e186\"], [0.8, \"#7fbc41\"], [0.9, \"#4d9221\"], [1, \"#276419\"]], \"sequential\": [[0.0, \"#0d0887\"], [0.1111111111111111, \"#46039f\"], [0.2222222222222222, \"#7201a8\"], [0.3333333333333333, \"#9c179e\"], [0.4444444444444444, \"#bd3786\"], [0.5555555555555556, \"#d8576b\"], [0.6666666666666666, \"#ed7953\"], [0.7777777777777778, \"#fb9f3a\"], [0.8888888888888888, \"#fdca26\"], [1.0, \"#f0f921\"]], \"sequentialminus\": [[0.0, \"#0d0887\"], [0.1111111111111111, \"#46039f\"], [0.2222222222222222, \"#7201a8\"], [0.3333333333333333, \"#9c179e\"], [0.4444444444444444, \"#bd3786\"], [0.5555555555555556, \"#d8576b\"], [0.6666666666666666, \"#ed7953\"], [0.7777777777777778, \"#fb9f3a\"], [0.8888888888888888, \"#fdca26\"], [1.0, \"#f0f921\"]]}, \"colorway\": [\"#636efa\", \"#EF553B\", \"#00cc96\", \"#ab63fa\", \"#FFA15A\", \"#19d3f3\", \"#FF6692\", \"#B6E880\", \"#FF97FF\", \"#FECB52\"], \"font\": {\"color\": \"#2a3f5f\"}, \"geo\": {\"bgcolor\": \"white\", \"lakecolor\": \"white\", \"landcolor\": \"#E5ECF6\", \"showlakes\": true, \"showland\": true, \"subunitcolor\": \"white\"}, \"hoverlabel\": {\"align\": \"left\"}, \"hovermode\": \"closest\", \"mapbox\": {\"style\": \"light\"}, \"paper_bgcolor\": \"white\", \"plot_bgcolor\": \"#E5ECF6\", \"polar\": {\"angularaxis\": {\"gridcolor\": \"white\", \"linecolor\": \"white\", \"ticks\": \"\"}, \"bgcolor\": \"#E5ECF6\", \"radialaxis\": {\"gridcolor\": \"white\", \"linecolor\": \"white\", \"ticks\": \"\"}}, \"scene\": {\"xaxis\": {\"backgroundcolor\": \"#E5ECF6\", \"gridcolor\": \"white\", \"gridwidth\": 2, \"linecolor\": \"white\", \"showbackground\": true, \"ticks\": \"\", \"zerolinecolor\": \"white\"}, \"yaxis\": {\"backgroundcolor\": \"#E5ECF6\", \"gridcolor\": \"white\", \"gridwidth\": 2, \"linecolor\": \"white\", \"showbackground\": true, \"ticks\": \"\", \"zerolinecolor\": \"white\"}, \"zaxis\": {\"backgroundcolor\": \"#E5ECF6\", \"gridcolor\": \"white\", \"gridwidth\": 2, \"linecolor\": \"white\", \"showbackground\": true, \"ticks\": \"\", \"zerolinecolor\": \"white\"}}, \"shapedefaults\": {\"line\": {\"color\": \"#2a3f5f\"}}, \"ternary\": {\"aaxis\": {\"gridcolor\": \"white\", \"linecolor\": \"white\", \"ticks\": \"\"}, \"baxis\": {\"gridcolor\": \"white\", \"linecolor\": \"white\", \"ticks\": \"\"}, \"bgcolor\": \"#E5ECF6\", \"caxis\": {\"gridcolor\": \"white\", \"linecolor\": \"white\", \"ticks\": \"\"}}, \"title\": {\"x\": 0.05}, \"xaxis\": {\"automargin\": true, \"gridcolor\": \"white\", \"linecolor\": \"white\", \"ticks\": \"\", \"title\": {\"standoff\": 15}, \"zerolinecolor\": \"white\", \"zerolinewidth\": 2}, \"yaxis\": {\"automargin\": true, \"gridcolor\": \"white\", \"linecolor\": \"white\", \"ticks\": \"\", \"title\": {\"standoff\": 15}, \"zerolinecolor\": \"white\", \"zerolinewidth\": 2}}}, \"title\": {\"font\": {\"color\": \"#4D5663\"}}, \"xaxis\": {\"gridcolor\": \"#E1E5ED\", \"showgrid\": true, \"tickfont\": {\"color\": \"#4D5663\"}, \"title\": {\"font\": {\"color\": \"#4D5663\"}, \"text\": \"\"}, \"zerolinecolor\": \"#E1E5ED\"}, \"yaxis\": {\"gridcolor\": \"#E1E5ED\", \"showgrid\": true, \"tickfont\": {\"color\": \"#4D5663\"}, \"title\": {\"font\": {\"color\": \"#4D5663\"}, \"text\": \"\"}, \"zerolinecolor\": \"#E1E5ED\"}},                        {\"showLink\": true, \"linkText\": \"Export to plot.ly\", \"plotlyServerURL\": \"https://plot.ly\", \"responsive\": true}                    ).then(function(){\n",
       "                            \n",
       "var gd = document.getElementById('54587d6e-5b72-42f3-acf9-31a31271e149');\n",
       "var x = new MutationObserver(function (mutations, observer) {{\n",
       "        var display = window.getComputedStyle(gd).display;\n",
       "        if (!display || display === 'none') {{\n",
       "            console.log([gd, 'removed!']);\n",
       "            Plotly.purge(gd);\n",
       "            observer.disconnect();\n",
       "        }}\n",
       "}});\n",
       "\n",
       "// Listen for the removal of the full notebook cells\n",
       "var notebookContainer = gd.closest('#notebook-container');\n",
       "if (notebookContainer) {{\n",
       "    x.observe(notebookContainer, {childList: true});\n",
       "}}\n",
       "\n",
       "// Listen for the clearing of the current output cell\n",
       "var outputEl = gd.closest('.output');\n",
       "if (outputEl) {{\n",
       "    x.observe(outputEl, {childList: true});\n",
       "}}\n",
       "\n",
       "                        })                };                });            </script>        </div>"
      ]
     },
     "metadata": {},
     "output_type": "display_data"
    }
   ],
   "source": [
    "df.count().iplot(kind='bar')"
   ]
  },
  {
   "cell_type": "markdown",
   "metadata": {},
   "source": [
    "## Boxplots"
   ]
  },
  {
   "cell_type": "code",
   "execution_count": 13,
   "metadata": {},
   "outputs": [
    {
     "data": {
      "application/vnd.plotly.v1+json": {
       "config": {
        "linkText": "Export to plot.ly",
        "plotlyServerURL": "https://plot.ly",
        "showLink": true
       },
       "data": [
        {
         "boxpoints": false,
         "line": {
          "width": 1.3
         },
         "marker": {
          "color": "rgba(255, 153, 51, 1.0)"
         },
         "name": "A",
         "orientation": "v",
         "type": "box",
         "y": [
          -1.1297355996644,
          -0.7378182431367298,
          1.3018362014014464,
          -0.3897524354762462,
          -0.28469569627643276,
          0.26189570707558646,
          -0.9076631525537662,
          0.6203535138805666,
          -0.6186803199969817,
          1.1226080642068443,
          -0.041438635172887366,
          -0.0022362033056104436,
          -1.0499832175198893,
          0.08986937258436357,
          1.3375457246389604,
          1.9232171151998751,
          1.2514977061012698,
          -0.010263114481263881,
          1.4971556937885246,
          0.5715860883089958,
          0.19761772066921174,
          1.1502304384350708,
          -0.24098786918618537,
          -1.6010465710520883,
          0.9732937328192726,
          0.11160359753779947,
          0.32197195249841265,
          0.30358682957964434,
          0.40859502431711464,
          0.6193062029177665,
          -0.4755616450031329,
          -1.0241841009392374,
          -0.10086891983338513,
          0.754866747209579,
          0.06900528817558078,
          -0.24279306917070723,
          1.0348185228210516,
          -0.3958072182103754,
          -0.2877736157815689,
          1.8262614760763645,
          0.6560796576224647,
          0.6039936134209548,
          0.13811643849623192,
          0.6169996082287618,
          -0.4388003603691258,
          0.0857953494782665,
          0.06263204663463057,
          1.9136188883998924,
          -2.1038091801398306,
          -0.5031598748343795,
          -0.499738792228652,
          0.3442035464303753,
          -1.2225361345294794,
          -0.22793921626844366,
          0.5262130361354909,
          -0.010912344260437948,
          2.2298919035757816,
          -1.444058305089868,
          -1.1316461333814778,
          0.3933956396359092,
          -0.8704396282469317,
          -0.20553795675791134,
          -0.08867481958175209,
          -1.1172775865956317,
          -1.5260076855104778,
          -1.7467581009661328,
          -1.0664288474904873,
          1.9150131279839857,
          0.7683469110544034,
          2.00607805679846,
          1.8580914663696646,
          1.9062502131655201,
          0.03580593006324525,
          -0.6555706026085864,
          -1.1089797545764777,
          0.8329301907539098,
          0.8284039642458526,
          -1.1789468559824925,
          0.7518735549022194,
          1.0952234728205141,
          -0.3779764711785572,
          -0.9265655021956508,
          -0.9553992513910263,
          -0.38587972952013033,
          -0.6838345119123879,
          -0.43684706995405886,
          -0.4081057994560073,
          -1.5156425658958605,
          -0.575082296862586,
          -1.9415192419502305,
          0.6216142225912914,
          -0.17327214911462618,
          0.41144632474130993,
          0.15372200990299822,
          -0.6157231774320628,
          0.5240625234153609,
          -0.9920542569293624,
          -0.1510296013533493,
          -0.20056562222891014,
          -0.10335285122129649
         ]
        },
        {
         "boxpoints": false,
         "line": {
          "width": 1.3
         },
         "marker": {
          "color": "rgba(55, 128, 191, 1.0)"
         },
         "name": "B",
         "orientation": "v",
         "type": "box",
         "y": [
          -0.1635062728202632,
          -0.9756447904649324,
          0.4357492211576944,
          0.051226001530410986,
          1.6194609778186286,
          -0.2614992416979577,
          -0.503056959460743,
          -0.13993298480476804,
          0.4728179839113631,
          0.53389506015398,
          0.04175052703734408,
          -0.07721058388948895,
          -1.225800753883539,
          0.8171131199268552,
          0.271335570828907,
          -0.6148593154348182,
          -2.5442148291754667,
          -1.7782906353324925,
          0.1356671690464854,
          0.5537287920898528,
          -1.9714030383810386,
          0.21204671141656967,
          -0.49986516306652934,
          1.1605986854994819,
          -0.15289830668798166,
          0.868679639924568,
          -0.5327690147279569,
          0.38676522371752736,
          -0.697783301263672,
          2.729615807039255,
          -0.44168975575870933,
          -0.8975405797564469,
          1.156250284244023,
          0.18372610275768578,
          0.22028435577067737,
          -2.0445273482561723,
          -1.2705850191721542,
          -1.4398853748138425,
          -0.5164216605007113,
          -0.8766005893127831,
          -0.20189795216579856,
          -0.63168004490542,
          -0.10625317572230386,
          0.06570462032791533,
          -0.3306030709977983,
          -1.1066179005719434,
          -1.8001592887010398,
          -1.2464956160103438,
          1.412558001616313,
          0.7263817448765412,
          -0.674821902689123,
          0.13863430885397565,
          0.8131652940034697,
          -1.8446556023227498,
          -0.3991970389101511,
          -1.6061316037339424,
          -0.3895083198515032,
          0.9956640976917002,
          -0.09581646337107551,
          0.5003441799337934,
          0.4412554563299149,
          -1.2186611487320202,
          -0.6603496496066004,
          -1.3840238128032634,
          -1.279561508367783,
          0.8242627049250715,
          0.6066034035416791,
          -0.3129127244834932,
          0.7439229469840886,
          -0.09075013988002041,
          -0.31059118918465206,
          -0.6998974552396815,
          -1.4718276518213624,
          0.9598030326043391,
          -0.08470576393901538,
          -1.6271765054338334,
          0.10367717536539334,
          1.2481090029334017,
          -1.3083436514057565,
          0.9001700007453994,
          0.3191804389519386,
          -1.216318060061043,
          0.6960767879130475,
          -0.10206427976470202,
          -1.0295841917882045,
          -0.3919692938644334,
          -0.004198236309692963,
          -2.7629842618099905,
          1.2332621129863932,
          0.3392732764281834,
          -0.6057250793486275,
          -0.049403623228994324,
          -1.1140335648259374,
          1.1227986792321807,
          0.7647722049015698,
          0.23076529128221307,
          0.025538967609587467,
          1.0284112692058112,
          -0.11467294290964382,
          -0.5103834221495227
         ]
        },
        {
         "boxpoints": false,
         "line": {
          "width": 1.3
         },
         "marker": {
          "color": "rgba(50, 171, 96, 1.0)"
         },
         "name": "C",
         "orientation": "v",
         "type": "box",
         "y": [
          0.11283031733277957,
          -1.361284331583743,
          0.25994077605414034,
          0.38959313337602264,
          0.13067355807753492,
          0.3227772997051113,
          -0.3046470317405729,
          0.21262946711523859,
          -0.18545062372845666,
          1.408158740699216,
          0.832127306043445,
          0.7233007298027437,
          2.592076750966838,
          0.4372835915750651,
          1.0456009503869577,
          -0.10896717671709816,
          0.5122037431260221,
          -0.11337424244070682,
          -0.7816781259696549,
          -0.4100948706532913,
          0.6964057941366105,
          0.36746904732545255,
          -0.7502410991693306,
          -1.0213807432442694,
          -0.7823211617714393,
          -0.18050238898936574,
          1.3475391164944077,
          -2.017613664525537,
          -0.914340212487567,
          1.0542539063755882,
          -0.09706941869315856,
          -1.456721538503752,
          -0.11545419654006604,
          -2.1554219970003645,
          -0.6276875313672381,
          1.124724482266114,
          1.5456975734686016,
          1.8764227506584508,
          -0.20510093769002238,
          -1.7060295671555399,
          0.04431171538660458,
          0.39403894117897614,
          -0.6869783121433457,
          1.455839617849644,
          0.06230447079335637,
          -0.30023939732847216,
          0.14011200080170352,
          -0.3645626613083884,
          -1.1516877616101877,
          1.541246158404446,
          1.0331106872251201,
          0.7921891009532842,
          1.6783110772135967,
          -0.8766331742460747,
          1.0235203320321027,
          0.701960141685297,
          0.7651104002675053,
          0.5194243998661789,
          0.30918233746190904,
          -0.546190774839706,
          -0.5142471808977173,
          -0.42462565450019113,
          1.2952996037607194,
          -0.8970588287044531,
          -0.5464663004065007,
          0.6413825063548994,
          0.9477350178116315,
          -0.37901231911871874,
          -0.045400287048320546,
          0.7943838281320083,
          1.073353768930085,
          0.16043169392409934,
          -0.4782821328775109,
          0.2736732512409374,
          1.1342637312186539,
          1.1826436526758746,
          -0.280696984045084,
          0.48787177121146336,
          -0.09653893055785567,
          -0.056911694205144005,
          0.24506678305677007,
          -0.6880268658655267,
          0.24297960194793905,
          0.6896351516203121,
          -0.539824561709622,
          -2.3216199349649096,
          -0.39180850198850914,
          0.3185777920876068,
          1.5758023687870821,
          0.3083559696896942,
          0.9189071123950201,
          -0.17972585672602343,
          -0.39014446888607557,
          0.5334723758838263,
          0.5790713350650735,
          -0.035620542072960774,
          -0.3301452792602241,
          -1.2618270450203632,
          -0.27439773322073563,
          -0.9688992149707151
         ]
        },
        {
         "boxpoints": false,
         "line": {
          "width": 1.3
         },
         "marker": {
          "color": "rgba(128, 0, 128, 1.0)"
         },
         "name": "D",
         "orientation": "v",
         "type": "box",
         "y": [
          0.7118018274434779,
          -1.2870065882504182,
          -0.4916580493491787,
          -1.9044308590692947,
          0.44351772033203785,
          -0.8273690155867319,
          -0.26055125217240704,
          0.018141216394656854,
          0.11008597289630066,
          -0.1295995451203634,
          -2.5910847329063196,
          -1.0429374286137294,
          -0.933194717655079,
          1.1730632159410679,
          -1.5634474725013752,
          0.06124450115994435,
          -2.462283503795632,
          -1.086247491879777,
          0.5115129683238252,
          1.4778568005223898,
          1.5159370360629094,
          0.38734606585622705,
          -0.6482415702654734,
          0.4706369698418316,
          -0.8506092686698958,
          -0.5657587648336501,
          0.6424211253349936,
          -0.6301938372710957,
          0.779597094268482,
          -0.11736811855957255,
          -1.1240759278650072,
          -0.4249470969787539,
          1.2564408229880317,
          0.7504260227702606,
          1.0437309096416023,
          0.7993057618778631,
          -0.9549154584512836,
          1.5346625194776453,
          1.3141321896443987,
          -1.7241038422728823,
          -2.3547881946364266,
          0.1938604385221901,
          0.20773629690488585,
          0.167229442949951,
          0.31955325724674877,
          -0.7544148858212423,
          1.1332089519520134,
          0.07994626035589668,
          -0.49874884575035905,
          0.18123275411143955,
          -0.395156698520691,
          -0.7627582584708325,
          1.8655137740278986,
          1.9835988187756877,
          0.21617851924165346,
          1.9078703451033887,
          -1.2088955789444449,
          0.24520916592393158,
          -0.6695956520006487,
          -0.5289167647520208,
          -0.9663802562480689,
          1.6507113606508885,
          0.6877752606098776,
          -0.4295743594399312,
          0.3336637707572907,
          -0.034684490378471634,
          -1.8849000567154173,
          -0.3888386615121982,
          -0.438519674648204,
          -1.5140712445326898,
          0.29645004668549324,
          -0.020518771653509488,
          0.24340253185014743,
          0.5272517935508056,
          0.20093651389213774,
          -0.681284626436085,
          1.991433431106185,
          -0.23803286285355918,
          -0.9082058481785367,
          -0.9479342716163699,
          0.09453027478112576,
          -0.14206289950205084,
          1.8876158338669904,
          0.14435770629035993,
          -0.10557615886304807,
          -0.7722511756395839,
          0.5595579954963263,
          0.03796416430661692,
          -2.305640382010492,
          0.40141186801845913,
          1.9559216264785575,
          0.3282349006818968,
          1.2497863794369466,
          -1.4249720497809808,
          -0.6708144248867455,
          -0.7315669636364406,
          -1.162681731855504,
          0.8598682003782712,
          1.612239177726746,
          0.378354468322111
         ]
        }
       ],
       "layout": {
        "legend": {
         "bgcolor": "#F5F6F9",
         "font": {
          "color": "#4D5663"
         }
        },
        "paper_bgcolor": "#F5F6F9",
        "plot_bgcolor": "#F5F6F9",
        "template": {
         "data": {
          "bar": [
           {
            "error_x": {
             "color": "#2a3f5f"
            },
            "error_y": {
             "color": "#2a3f5f"
            },
            "marker": {
             "line": {
              "color": "#E5ECF6",
              "width": 0.5
             }
            },
            "type": "bar"
           }
          ],
          "barpolar": [
           {
            "marker": {
             "line": {
              "color": "#E5ECF6",
              "width": 0.5
             }
            },
            "type": "barpolar"
           }
          ],
          "carpet": [
           {
            "aaxis": {
             "endlinecolor": "#2a3f5f",
             "gridcolor": "white",
             "linecolor": "white",
             "minorgridcolor": "white",
             "startlinecolor": "#2a3f5f"
            },
            "baxis": {
             "endlinecolor": "#2a3f5f",
             "gridcolor": "white",
             "linecolor": "white",
             "minorgridcolor": "white",
             "startlinecolor": "#2a3f5f"
            },
            "type": "carpet"
           }
          ],
          "choropleth": [
           {
            "colorbar": {
             "outlinewidth": 0,
             "ticks": ""
            },
            "type": "choropleth"
           }
          ],
          "contour": [
           {
            "colorbar": {
             "outlinewidth": 0,
             "ticks": ""
            },
            "colorscale": [
             [
              0,
              "#0d0887"
             ],
             [
              0.1111111111111111,
              "#46039f"
             ],
             [
              0.2222222222222222,
              "#7201a8"
             ],
             [
              0.3333333333333333,
              "#9c179e"
             ],
             [
              0.4444444444444444,
              "#bd3786"
             ],
             [
              0.5555555555555556,
              "#d8576b"
             ],
             [
              0.6666666666666666,
              "#ed7953"
             ],
             [
              0.7777777777777778,
              "#fb9f3a"
             ],
             [
              0.8888888888888888,
              "#fdca26"
             ],
             [
              1,
              "#f0f921"
             ]
            ],
            "type": "contour"
           }
          ],
          "contourcarpet": [
           {
            "colorbar": {
             "outlinewidth": 0,
             "ticks": ""
            },
            "type": "contourcarpet"
           }
          ],
          "heatmap": [
           {
            "colorbar": {
             "outlinewidth": 0,
             "ticks": ""
            },
            "colorscale": [
             [
              0,
              "#0d0887"
             ],
             [
              0.1111111111111111,
              "#46039f"
             ],
             [
              0.2222222222222222,
              "#7201a8"
             ],
             [
              0.3333333333333333,
              "#9c179e"
             ],
             [
              0.4444444444444444,
              "#bd3786"
             ],
             [
              0.5555555555555556,
              "#d8576b"
             ],
             [
              0.6666666666666666,
              "#ed7953"
             ],
             [
              0.7777777777777778,
              "#fb9f3a"
             ],
             [
              0.8888888888888888,
              "#fdca26"
             ],
             [
              1,
              "#f0f921"
             ]
            ],
            "type": "heatmap"
           }
          ],
          "heatmapgl": [
           {
            "colorbar": {
             "outlinewidth": 0,
             "ticks": ""
            },
            "colorscale": [
             [
              0,
              "#0d0887"
             ],
             [
              0.1111111111111111,
              "#46039f"
             ],
             [
              0.2222222222222222,
              "#7201a8"
             ],
             [
              0.3333333333333333,
              "#9c179e"
             ],
             [
              0.4444444444444444,
              "#bd3786"
             ],
             [
              0.5555555555555556,
              "#d8576b"
             ],
             [
              0.6666666666666666,
              "#ed7953"
             ],
             [
              0.7777777777777778,
              "#fb9f3a"
             ],
             [
              0.8888888888888888,
              "#fdca26"
             ],
             [
              1,
              "#f0f921"
             ]
            ],
            "type": "heatmapgl"
           }
          ],
          "histogram": [
           {
            "marker": {
             "colorbar": {
              "outlinewidth": 0,
              "ticks": ""
             }
            },
            "type": "histogram"
           }
          ],
          "histogram2d": [
           {
            "colorbar": {
             "outlinewidth": 0,
             "ticks": ""
            },
            "colorscale": [
             [
              0,
              "#0d0887"
             ],
             [
              0.1111111111111111,
              "#46039f"
             ],
             [
              0.2222222222222222,
              "#7201a8"
             ],
             [
              0.3333333333333333,
              "#9c179e"
             ],
             [
              0.4444444444444444,
              "#bd3786"
             ],
             [
              0.5555555555555556,
              "#d8576b"
             ],
             [
              0.6666666666666666,
              "#ed7953"
             ],
             [
              0.7777777777777778,
              "#fb9f3a"
             ],
             [
              0.8888888888888888,
              "#fdca26"
             ],
             [
              1,
              "#f0f921"
             ]
            ],
            "type": "histogram2d"
           }
          ],
          "histogram2dcontour": [
           {
            "colorbar": {
             "outlinewidth": 0,
             "ticks": ""
            },
            "colorscale": [
             [
              0,
              "#0d0887"
             ],
             [
              0.1111111111111111,
              "#46039f"
             ],
             [
              0.2222222222222222,
              "#7201a8"
             ],
             [
              0.3333333333333333,
              "#9c179e"
             ],
             [
              0.4444444444444444,
              "#bd3786"
             ],
             [
              0.5555555555555556,
              "#d8576b"
             ],
             [
              0.6666666666666666,
              "#ed7953"
             ],
             [
              0.7777777777777778,
              "#fb9f3a"
             ],
             [
              0.8888888888888888,
              "#fdca26"
             ],
             [
              1,
              "#f0f921"
             ]
            ],
            "type": "histogram2dcontour"
           }
          ],
          "mesh3d": [
           {
            "colorbar": {
             "outlinewidth": 0,
             "ticks": ""
            },
            "type": "mesh3d"
           }
          ],
          "parcoords": [
           {
            "line": {
             "colorbar": {
              "outlinewidth": 0,
              "ticks": ""
             }
            },
            "type": "parcoords"
           }
          ],
          "pie": [
           {
            "automargin": true,
            "type": "pie"
           }
          ],
          "scatter": [
           {
            "marker": {
             "colorbar": {
              "outlinewidth": 0,
              "ticks": ""
             }
            },
            "type": "scatter"
           }
          ],
          "scatter3d": [
           {
            "line": {
             "colorbar": {
              "outlinewidth": 0,
              "ticks": ""
             }
            },
            "marker": {
             "colorbar": {
              "outlinewidth": 0,
              "ticks": ""
             }
            },
            "type": "scatter3d"
           }
          ],
          "scattercarpet": [
           {
            "marker": {
             "colorbar": {
              "outlinewidth": 0,
              "ticks": ""
             }
            },
            "type": "scattercarpet"
           }
          ],
          "scattergeo": [
           {
            "marker": {
             "colorbar": {
              "outlinewidth": 0,
              "ticks": ""
             }
            },
            "type": "scattergeo"
           }
          ],
          "scattergl": [
           {
            "marker": {
             "colorbar": {
              "outlinewidth": 0,
              "ticks": ""
             }
            },
            "type": "scattergl"
           }
          ],
          "scattermapbox": [
           {
            "marker": {
             "colorbar": {
              "outlinewidth": 0,
              "ticks": ""
             }
            },
            "type": "scattermapbox"
           }
          ],
          "scatterpolar": [
           {
            "marker": {
             "colorbar": {
              "outlinewidth": 0,
              "ticks": ""
             }
            },
            "type": "scatterpolar"
           }
          ],
          "scatterpolargl": [
           {
            "marker": {
             "colorbar": {
              "outlinewidth": 0,
              "ticks": ""
             }
            },
            "type": "scatterpolargl"
           }
          ],
          "scatterternary": [
           {
            "marker": {
             "colorbar": {
              "outlinewidth": 0,
              "ticks": ""
             }
            },
            "type": "scatterternary"
           }
          ],
          "surface": [
           {
            "colorbar": {
             "outlinewidth": 0,
             "ticks": ""
            },
            "colorscale": [
             [
              0,
              "#0d0887"
             ],
             [
              0.1111111111111111,
              "#46039f"
             ],
             [
              0.2222222222222222,
              "#7201a8"
             ],
             [
              0.3333333333333333,
              "#9c179e"
             ],
             [
              0.4444444444444444,
              "#bd3786"
             ],
             [
              0.5555555555555556,
              "#d8576b"
             ],
             [
              0.6666666666666666,
              "#ed7953"
             ],
             [
              0.7777777777777778,
              "#fb9f3a"
             ],
             [
              0.8888888888888888,
              "#fdca26"
             ],
             [
              1,
              "#f0f921"
             ]
            ],
            "type": "surface"
           }
          ],
          "table": [
           {
            "cells": {
             "fill": {
              "color": "#EBF0F8"
             },
             "line": {
              "color": "white"
             }
            },
            "header": {
             "fill": {
              "color": "#C8D4E3"
             },
             "line": {
              "color": "white"
             }
            },
            "type": "table"
           }
          ]
         },
         "layout": {
          "annotationdefaults": {
           "arrowcolor": "#2a3f5f",
           "arrowhead": 0,
           "arrowwidth": 1
          },
          "autotypenumbers": "strict",
          "coloraxis": {
           "colorbar": {
            "outlinewidth": 0,
            "ticks": ""
           }
          },
          "colorscale": {
           "diverging": [
            [
             0,
             "#8e0152"
            ],
            [
             0.1,
             "#c51b7d"
            ],
            [
             0.2,
             "#de77ae"
            ],
            [
             0.3,
             "#f1b6da"
            ],
            [
             0.4,
             "#fde0ef"
            ],
            [
             0.5,
             "#f7f7f7"
            ],
            [
             0.6,
             "#e6f5d0"
            ],
            [
             0.7,
             "#b8e186"
            ],
            [
             0.8,
             "#7fbc41"
            ],
            [
             0.9,
             "#4d9221"
            ],
            [
             1,
             "#276419"
            ]
           ],
           "sequential": [
            [
             0,
             "#0d0887"
            ],
            [
             0.1111111111111111,
             "#46039f"
            ],
            [
             0.2222222222222222,
             "#7201a8"
            ],
            [
             0.3333333333333333,
             "#9c179e"
            ],
            [
             0.4444444444444444,
             "#bd3786"
            ],
            [
             0.5555555555555556,
             "#d8576b"
            ],
            [
             0.6666666666666666,
             "#ed7953"
            ],
            [
             0.7777777777777778,
             "#fb9f3a"
            ],
            [
             0.8888888888888888,
             "#fdca26"
            ],
            [
             1,
             "#f0f921"
            ]
           ],
           "sequentialminus": [
            [
             0,
             "#0d0887"
            ],
            [
             0.1111111111111111,
             "#46039f"
            ],
            [
             0.2222222222222222,
             "#7201a8"
            ],
            [
             0.3333333333333333,
             "#9c179e"
            ],
            [
             0.4444444444444444,
             "#bd3786"
            ],
            [
             0.5555555555555556,
             "#d8576b"
            ],
            [
             0.6666666666666666,
             "#ed7953"
            ],
            [
             0.7777777777777778,
             "#fb9f3a"
            ],
            [
             0.8888888888888888,
             "#fdca26"
            ],
            [
             1,
             "#f0f921"
            ]
           ]
          },
          "colorway": [
           "#636efa",
           "#EF553B",
           "#00cc96",
           "#ab63fa",
           "#FFA15A",
           "#19d3f3",
           "#FF6692",
           "#B6E880",
           "#FF97FF",
           "#FECB52"
          ],
          "font": {
           "color": "#2a3f5f"
          },
          "geo": {
           "bgcolor": "white",
           "lakecolor": "white",
           "landcolor": "#E5ECF6",
           "showlakes": true,
           "showland": true,
           "subunitcolor": "white"
          },
          "hoverlabel": {
           "align": "left"
          },
          "hovermode": "closest",
          "mapbox": {
           "style": "light"
          },
          "paper_bgcolor": "white",
          "plot_bgcolor": "#E5ECF6",
          "polar": {
           "angularaxis": {
            "gridcolor": "white",
            "linecolor": "white",
            "ticks": ""
           },
           "bgcolor": "#E5ECF6",
           "radialaxis": {
            "gridcolor": "white",
            "linecolor": "white",
            "ticks": ""
           }
          },
          "scene": {
           "xaxis": {
            "backgroundcolor": "#E5ECF6",
            "gridcolor": "white",
            "gridwidth": 2,
            "linecolor": "white",
            "showbackground": true,
            "ticks": "",
            "zerolinecolor": "white"
           },
           "yaxis": {
            "backgroundcolor": "#E5ECF6",
            "gridcolor": "white",
            "gridwidth": 2,
            "linecolor": "white",
            "showbackground": true,
            "ticks": "",
            "zerolinecolor": "white"
           },
           "zaxis": {
            "backgroundcolor": "#E5ECF6",
            "gridcolor": "white",
            "gridwidth": 2,
            "linecolor": "white",
            "showbackground": true,
            "ticks": "",
            "zerolinecolor": "white"
           }
          },
          "shapedefaults": {
           "line": {
            "color": "#2a3f5f"
           }
          },
          "ternary": {
           "aaxis": {
            "gridcolor": "white",
            "linecolor": "white",
            "ticks": ""
           },
           "baxis": {
            "gridcolor": "white",
            "linecolor": "white",
            "ticks": ""
           },
           "bgcolor": "#E5ECF6",
           "caxis": {
            "gridcolor": "white",
            "linecolor": "white",
            "ticks": ""
           }
          },
          "title": {
           "x": 0.05
          },
          "xaxis": {
           "automargin": true,
           "gridcolor": "white",
           "linecolor": "white",
           "ticks": "",
           "title": {
            "standoff": 15
           },
           "zerolinecolor": "white",
           "zerolinewidth": 2
          },
          "yaxis": {
           "automargin": true,
           "gridcolor": "white",
           "linecolor": "white",
           "ticks": "",
           "title": {
            "standoff": 15
           },
           "zerolinecolor": "white",
           "zerolinewidth": 2
          }
         }
        },
        "title": {
         "font": {
          "color": "#4D5663"
         }
        },
        "xaxis": {
         "gridcolor": "#E1E5ED",
         "showgrid": true,
         "tickfont": {
          "color": "#4D5663"
         },
         "title": {
          "font": {
           "color": "#4D5663"
          },
          "text": ""
         },
         "zerolinecolor": "#E1E5ED"
        },
        "yaxis": {
         "gridcolor": "#E1E5ED",
         "showgrid": true,
         "tickfont": {
          "color": "#4D5663"
         },
         "title": {
          "font": {
           "color": "#4D5663"
          },
          "text": ""
         },
         "zerolinecolor": "#E1E5ED"
        }
       }
      },
      "text/html": [
       "<div>                            <div id=\"638758c6-1a97-4513-8ccb-654c594561ec\" class=\"plotly-graph-div\" style=\"height:525px; width:100%;\"></div>            <script type=\"text/javascript\">                require([\"plotly\"], function(Plotly) {                    window.PLOTLYENV=window.PLOTLYENV || {};\n",
       "                    window.PLOTLYENV.BASE_URL='https://plot.ly';                                    if (document.getElementById(\"638758c6-1a97-4513-8ccb-654c594561ec\")) {                    Plotly.newPlot(                        \"638758c6-1a97-4513-8ccb-654c594561ec\",                        [{\"boxpoints\": false, \"line\": {\"width\": 1.3}, \"marker\": {\"color\": \"rgba(255, 153, 51, 1.0)\"}, \"name\": \"A\", \"orientation\": \"v\", \"type\": \"box\", \"y\": [-1.1297355996644, -0.7378182431367298, 1.3018362014014464, -0.3897524354762462, -0.28469569627643276, 0.26189570707558646, -0.9076631525537662, 0.6203535138805666, -0.6186803199969817, 1.1226080642068443, -0.041438635172887366, -0.0022362033056104436, -1.0499832175198893, 0.08986937258436357, 1.3375457246389604, 1.9232171151998751, 1.2514977061012698, -0.010263114481263881, 1.4971556937885246, 0.5715860883089958, 0.19761772066921174, 1.1502304384350708, -0.24098786918618537, -1.6010465710520883, 0.9732937328192726, 0.11160359753779947, 0.32197195249841265, 0.30358682957964434, 0.40859502431711464, 0.6193062029177665, -0.4755616450031329, -1.0241841009392374, -0.10086891983338513, 0.754866747209579, 0.06900528817558078, -0.24279306917070723, 1.0348185228210516, -0.3958072182103754, -0.2877736157815689, 1.8262614760763645, 0.6560796576224647, 0.6039936134209548, 0.13811643849623192, 0.6169996082287618, -0.4388003603691258, 0.0857953494782665, 0.06263204663463057, 1.9136188883998924, -2.1038091801398306, -0.5031598748343795, -0.499738792228652, 0.3442035464303753, -1.2225361345294794, -0.22793921626844366, 0.5262130361354909, -0.010912344260437948, 2.2298919035757816, -1.444058305089868, -1.1316461333814778, 0.3933956396359092, -0.8704396282469317, -0.20553795675791134, -0.08867481958175209, -1.1172775865956317, -1.5260076855104778, -1.7467581009661328, -1.0664288474904873, 1.9150131279839857, 0.7683469110544034, 2.00607805679846, 1.8580914663696646, 1.9062502131655201, 0.03580593006324525, -0.6555706026085864, -1.1089797545764777, 0.8329301907539098, 0.8284039642458526, -1.1789468559824925, 0.7518735549022194, 1.0952234728205141, -0.3779764711785572, -0.9265655021956508, -0.9553992513910263, -0.38587972952013033, -0.6838345119123879, -0.43684706995405886, -0.4081057994560073, -1.5156425658958605, -0.575082296862586, -1.9415192419502305, 0.6216142225912914, -0.17327214911462618, 0.41144632474130993, 0.15372200990299822, -0.6157231774320628, 0.5240625234153609, -0.9920542569293624, -0.1510296013533493, -0.20056562222891014, -0.10335285122129649]}, {\"boxpoints\": false, \"line\": {\"width\": 1.3}, \"marker\": {\"color\": \"rgba(55, 128, 191, 1.0)\"}, \"name\": \"B\", \"orientation\": \"v\", \"type\": \"box\", \"y\": [-0.1635062728202632, -0.9756447904649324, 0.4357492211576944, 0.051226001530410986, 1.6194609778186286, -0.2614992416979577, -0.503056959460743, -0.13993298480476804, 0.4728179839113631, 0.53389506015398, 0.04175052703734408, -0.07721058388948895, -1.225800753883539, 0.8171131199268552, 0.271335570828907, -0.6148593154348182, -2.5442148291754667, -1.7782906353324925, 0.1356671690464854, 0.5537287920898528, -1.9714030383810386, 0.21204671141656967, -0.49986516306652934, 1.1605986854994819, -0.15289830668798166, 0.868679639924568, -0.5327690147279569, 0.38676522371752736, -0.697783301263672, 2.729615807039255, -0.44168975575870933, -0.8975405797564469, 1.156250284244023, 0.18372610275768578, 0.22028435577067737, -2.0445273482561723, -1.2705850191721542, -1.4398853748138425, -0.5164216605007113, -0.8766005893127831, -0.20189795216579856, -0.63168004490542, -0.10625317572230386, 0.06570462032791533, -0.3306030709977983, -1.1066179005719434, -1.8001592887010398, -1.2464956160103438, 1.412558001616313, 0.7263817448765412, -0.674821902689123, 0.13863430885397565, 0.8131652940034697, -1.8446556023227498, -0.3991970389101511, -1.6061316037339424, -0.3895083198515032, 0.9956640976917002, -0.09581646337107551, 0.5003441799337934, 0.4412554563299149, -1.2186611487320202, -0.6603496496066004, -1.3840238128032634, -1.279561508367783, 0.8242627049250715, 0.6066034035416791, -0.3129127244834932, 0.7439229469840886, -0.09075013988002041, -0.31059118918465206, -0.6998974552396815, -1.4718276518213624, 0.9598030326043391, -0.08470576393901538, -1.6271765054338334, 0.10367717536539334, 1.2481090029334017, -1.3083436514057565, 0.9001700007453994, 0.3191804389519386, -1.216318060061043, 0.6960767879130475, -0.10206427976470202, -1.0295841917882045, -0.3919692938644334, -0.004198236309692963, -2.7629842618099905, 1.2332621129863932, 0.3392732764281834, -0.6057250793486275, -0.049403623228994324, -1.1140335648259374, 1.1227986792321807, 0.7647722049015698, 0.23076529128221307, 0.025538967609587467, 1.0284112692058112, -0.11467294290964382, -0.5103834221495227]}, {\"boxpoints\": false, \"line\": {\"width\": 1.3}, \"marker\": {\"color\": \"rgba(50, 171, 96, 1.0)\"}, \"name\": \"C\", \"orientation\": \"v\", \"type\": \"box\", \"y\": [0.11283031733277957, -1.361284331583743, 0.25994077605414034, 0.38959313337602264, 0.13067355807753492, 0.3227772997051113, -0.3046470317405729, 0.21262946711523859, -0.18545062372845666, 1.408158740699216, 0.832127306043445, 0.7233007298027437, 2.592076750966838, 0.4372835915750651, 1.0456009503869577, -0.10896717671709816, 0.5122037431260221, -0.11337424244070682, -0.7816781259696549, -0.4100948706532913, 0.6964057941366105, 0.36746904732545255, -0.7502410991693306, -1.0213807432442694, -0.7823211617714393, -0.18050238898936574, 1.3475391164944077, -2.017613664525537, -0.914340212487567, 1.0542539063755882, -0.09706941869315856, -1.456721538503752, -0.11545419654006604, -2.1554219970003645, -0.6276875313672381, 1.124724482266114, 1.5456975734686016, 1.8764227506584508, -0.20510093769002238, -1.7060295671555399, 0.04431171538660458, 0.39403894117897614, -0.6869783121433457, 1.455839617849644, 0.06230447079335637, -0.30023939732847216, 0.14011200080170352, -0.3645626613083884, -1.1516877616101877, 1.541246158404446, 1.0331106872251201, 0.7921891009532842, 1.6783110772135967, -0.8766331742460747, 1.0235203320321027, 0.701960141685297, 0.7651104002675053, 0.5194243998661789, 0.30918233746190904, -0.546190774839706, -0.5142471808977173, -0.42462565450019113, 1.2952996037607194, -0.8970588287044531, -0.5464663004065007, 0.6413825063548994, 0.9477350178116315, -0.37901231911871874, -0.045400287048320546, 0.7943838281320083, 1.073353768930085, 0.16043169392409934, -0.4782821328775109, 0.2736732512409374, 1.1342637312186539, 1.1826436526758746, -0.280696984045084, 0.48787177121146336, -0.09653893055785567, -0.056911694205144005, 0.24506678305677007, -0.6880268658655267, 0.24297960194793905, 0.6896351516203121, -0.539824561709622, -2.3216199349649096, -0.39180850198850914, 0.3185777920876068, 1.5758023687870821, 0.3083559696896942, 0.9189071123950201, -0.17972585672602343, -0.39014446888607557, 0.5334723758838263, 0.5790713350650735, -0.035620542072960774, -0.3301452792602241, -1.2618270450203632, -0.27439773322073563, -0.9688992149707151]}, {\"boxpoints\": false, \"line\": {\"width\": 1.3}, \"marker\": {\"color\": \"rgba(128, 0, 128, 1.0)\"}, \"name\": \"D\", \"orientation\": \"v\", \"type\": \"box\", \"y\": [0.7118018274434779, -1.2870065882504182, -0.4916580493491787, -1.9044308590692947, 0.44351772033203785, -0.8273690155867319, -0.26055125217240704, 0.018141216394656854, 0.11008597289630066, -0.1295995451203634, -2.5910847329063196, -1.0429374286137294, -0.933194717655079, 1.1730632159410679, -1.5634474725013752, 0.06124450115994435, -2.462283503795632, -1.086247491879777, 0.5115129683238252, 1.4778568005223898, 1.5159370360629094, 0.38734606585622705, -0.6482415702654734, 0.4706369698418316, -0.8506092686698958, -0.5657587648336501, 0.6424211253349936, -0.6301938372710957, 0.779597094268482, -0.11736811855957255, -1.1240759278650072, -0.4249470969787539, 1.2564408229880317, 0.7504260227702606, 1.0437309096416023, 0.7993057618778631, -0.9549154584512836, 1.5346625194776453, 1.3141321896443987, -1.7241038422728823, -2.3547881946364266, 0.1938604385221901, 0.20773629690488585, 0.167229442949951, 0.31955325724674877, -0.7544148858212423, 1.1332089519520134, 0.07994626035589668, -0.49874884575035905, 0.18123275411143955, -0.395156698520691, -0.7627582584708325, 1.8655137740278986, 1.9835988187756877, 0.21617851924165346, 1.9078703451033887, -1.2088955789444449, 0.24520916592393158, -0.6695956520006487, -0.5289167647520208, -0.9663802562480689, 1.6507113606508885, 0.6877752606098776, -0.4295743594399312, 0.3336637707572907, -0.034684490378471634, -1.8849000567154173, -0.3888386615121982, -0.438519674648204, -1.5140712445326898, 0.29645004668549324, -0.020518771653509488, 0.24340253185014743, 0.5272517935508056, 0.20093651389213774, -0.681284626436085, 1.991433431106185, -0.23803286285355918, -0.9082058481785367, -0.9479342716163699, 0.09453027478112576, -0.14206289950205084, 1.8876158338669904, 0.14435770629035993, -0.10557615886304807, -0.7722511756395839, 0.5595579954963263, 0.03796416430661692, -2.305640382010492, 0.40141186801845913, 1.9559216264785575, 0.3282349006818968, 1.2497863794369466, -1.4249720497809808, -0.6708144248867455, -0.7315669636364406, -1.162681731855504, 0.8598682003782712, 1.612239177726746, 0.378354468322111]}],                        {\"legend\": {\"bgcolor\": \"#F5F6F9\", \"font\": {\"color\": \"#4D5663\"}}, \"paper_bgcolor\": \"#F5F6F9\", \"plot_bgcolor\": \"#F5F6F9\", \"template\": {\"data\": {\"bar\": [{\"error_x\": {\"color\": \"#2a3f5f\"}, \"error_y\": {\"color\": \"#2a3f5f\"}, \"marker\": {\"line\": {\"color\": \"#E5ECF6\", \"width\": 0.5}}, \"type\": \"bar\"}], \"barpolar\": [{\"marker\": {\"line\": {\"color\": \"#E5ECF6\", \"width\": 0.5}}, \"type\": \"barpolar\"}], \"carpet\": [{\"aaxis\": {\"endlinecolor\": \"#2a3f5f\", \"gridcolor\": \"white\", \"linecolor\": \"white\", \"minorgridcolor\": \"white\", \"startlinecolor\": \"#2a3f5f\"}, \"baxis\": {\"endlinecolor\": \"#2a3f5f\", \"gridcolor\": \"white\", \"linecolor\": \"white\", \"minorgridcolor\": \"white\", \"startlinecolor\": \"#2a3f5f\"}, \"type\": \"carpet\"}], \"choropleth\": [{\"colorbar\": {\"outlinewidth\": 0, \"ticks\": \"\"}, \"type\": \"choropleth\"}], \"contour\": [{\"colorbar\": {\"outlinewidth\": 0, \"ticks\": \"\"}, \"colorscale\": [[0.0, \"#0d0887\"], [0.1111111111111111, \"#46039f\"], [0.2222222222222222, \"#7201a8\"], [0.3333333333333333, \"#9c179e\"], [0.4444444444444444, \"#bd3786\"], [0.5555555555555556, \"#d8576b\"], [0.6666666666666666, \"#ed7953\"], [0.7777777777777778, \"#fb9f3a\"], [0.8888888888888888, \"#fdca26\"], [1.0, \"#f0f921\"]], \"type\": \"contour\"}], \"contourcarpet\": [{\"colorbar\": {\"outlinewidth\": 0, \"ticks\": \"\"}, \"type\": \"contourcarpet\"}], \"heatmap\": [{\"colorbar\": {\"outlinewidth\": 0, \"ticks\": \"\"}, \"colorscale\": [[0.0, \"#0d0887\"], [0.1111111111111111, \"#46039f\"], [0.2222222222222222, \"#7201a8\"], [0.3333333333333333, \"#9c179e\"], [0.4444444444444444, \"#bd3786\"], [0.5555555555555556, \"#d8576b\"], [0.6666666666666666, \"#ed7953\"], [0.7777777777777778, \"#fb9f3a\"], [0.8888888888888888, \"#fdca26\"], [1.0, \"#f0f921\"]], \"type\": \"heatmap\"}], \"heatmapgl\": [{\"colorbar\": {\"outlinewidth\": 0, \"ticks\": \"\"}, \"colorscale\": [[0.0, \"#0d0887\"], [0.1111111111111111, \"#46039f\"], [0.2222222222222222, \"#7201a8\"], [0.3333333333333333, \"#9c179e\"], [0.4444444444444444, \"#bd3786\"], [0.5555555555555556, \"#d8576b\"], [0.6666666666666666, \"#ed7953\"], [0.7777777777777778, \"#fb9f3a\"], [0.8888888888888888, \"#fdca26\"], [1.0, \"#f0f921\"]], \"type\": \"heatmapgl\"}], \"histogram\": [{\"marker\": {\"colorbar\": {\"outlinewidth\": 0, \"ticks\": \"\"}}, \"type\": \"histogram\"}], \"histogram2d\": [{\"colorbar\": {\"outlinewidth\": 0, \"ticks\": \"\"}, \"colorscale\": [[0.0, \"#0d0887\"], [0.1111111111111111, \"#46039f\"], [0.2222222222222222, \"#7201a8\"], [0.3333333333333333, \"#9c179e\"], [0.4444444444444444, \"#bd3786\"], [0.5555555555555556, \"#d8576b\"], [0.6666666666666666, \"#ed7953\"], [0.7777777777777778, \"#fb9f3a\"], [0.8888888888888888, \"#fdca26\"], [1.0, \"#f0f921\"]], \"type\": \"histogram2d\"}], \"histogram2dcontour\": [{\"colorbar\": {\"outlinewidth\": 0, \"ticks\": \"\"}, \"colorscale\": [[0.0, \"#0d0887\"], [0.1111111111111111, \"#46039f\"], [0.2222222222222222, \"#7201a8\"], [0.3333333333333333, \"#9c179e\"], [0.4444444444444444, \"#bd3786\"], [0.5555555555555556, \"#d8576b\"], [0.6666666666666666, \"#ed7953\"], [0.7777777777777778, \"#fb9f3a\"], [0.8888888888888888, \"#fdca26\"], [1.0, \"#f0f921\"]], \"type\": \"histogram2dcontour\"}], \"mesh3d\": [{\"colorbar\": {\"outlinewidth\": 0, \"ticks\": \"\"}, \"type\": \"mesh3d\"}], \"parcoords\": [{\"line\": {\"colorbar\": {\"outlinewidth\": 0, \"ticks\": \"\"}}, \"type\": \"parcoords\"}], \"pie\": [{\"automargin\": true, \"type\": \"pie\"}], \"scatter\": [{\"marker\": {\"colorbar\": {\"outlinewidth\": 0, \"ticks\": \"\"}}, \"type\": \"scatter\"}], \"scatter3d\": [{\"line\": {\"colorbar\": {\"outlinewidth\": 0, \"ticks\": \"\"}}, \"marker\": {\"colorbar\": {\"outlinewidth\": 0, \"ticks\": \"\"}}, \"type\": \"scatter3d\"}], \"scattercarpet\": [{\"marker\": {\"colorbar\": {\"outlinewidth\": 0, \"ticks\": \"\"}}, \"type\": \"scattercarpet\"}], \"scattergeo\": [{\"marker\": {\"colorbar\": {\"outlinewidth\": 0, \"ticks\": \"\"}}, \"type\": \"scattergeo\"}], \"scattergl\": [{\"marker\": {\"colorbar\": {\"outlinewidth\": 0, \"ticks\": \"\"}}, \"type\": \"scattergl\"}], \"scattermapbox\": [{\"marker\": {\"colorbar\": {\"outlinewidth\": 0, \"ticks\": \"\"}}, \"type\": \"scattermapbox\"}], \"scatterpolar\": [{\"marker\": {\"colorbar\": {\"outlinewidth\": 0, \"ticks\": \"\"}}, \"type\": \"scatterpolar\"}], \"scatterpolargl\": [{\"marker\": {\"colorbar\": {\"outlinewidth\": 0, \"ticks\": \"\"}}, \"type\": \"scatterpolargl\"}], \"scatterternary\": [{\"marker\": {\"colorbar\": {\"outlinewidth\": 0, \"ticks\": \"\"}}, \"type\": \"scatterternary\"}], \"surface\": [{\"colorbar\": {\"outlinewidth\": 0, \"ticks\": \"\"}, \"colorscale\": [[0.0, \"#0d0887\"], [0.1111111111111111, \"#46039f\"], [0.2222222222222222, \"#7201a8\"], [0.3333333333333333, \"#9c179e\"], [0.4444444444444444, \"#bd3786\"], [0.5555555555555556, \"#d8576b\"], [0.6666666666666666, \"#ed7953\"], [0.7777777777777778, \"#fb9f3a\"], [0.8888888888888888, \"#fdca26\"], [1.0, \"#f0f921\"]], \"type\": \"surface\"}], \"table\": [{\"cells\": {\"fill\": {\"color\": \"#EBF0F8\"}, \"line\": {\"color\": \"white\"}}, \"header\": {\"fill\": {\"color\": \"#C8D4E3\"}, \"line\": {\"color\": \"white\"}}, \"type\": \"table\"}]}, \"layout\": {\"annotationdefaults\": {\"arrowcolor\": \"#2a3f5f\", \"arrowhead\": 0, \"arrowwidth\": 1}, \"autotypenumbers\": \"strict\", \"coloraxis\": {\"colorbar\": {\"outlinewidth\": 0, \"ticks\": \"\"}}, \"colorscale\": {\"diverging\": [[0, \"#8e0152\"], [0.1, \"#c51b7d\"], [0.2, \"#de77ae\"], [0.3, \"#f1b6da\"], [0.4, \"#fde0ef\"], [0.5, \"#f7f7f7\"], [0.6, \"#e6f5d0\"], [0.7, \"#b8e186\"], [0.8, \"#7fbc41\"], [0.9, \"#4d9221\"], [1, \"#276419\"]], \"sequential\": [[0.0, \"#0d0887\"], [0.1111111111111111, \"#46039f\"], [0.2222222222222222, \"#7201a8\"], [0.3333333333333333, \"#9c179e\"], [0.4444444444444444, \"#bd3786\"], [0.5555555555555556, \"#d8576b\"], [0.6666666666666666, \"#ed7953\"], [0.7777777777777778, \"#fb9f3a\"], [0.8888888888888888, \"#fdca26\"], [1.0, \"#f0f921\"]], \"sequentialminus\": [[0.0, \"#0d0887\"], [0.1111111111111111, \"#46039f\"], [0.2222222222222222, \"#7201a8\"], [0.3333333333333333, \"#9c179e\"], [0.4444444444444444, \"#bd3786\"], [0.5555555555555556, \"#d8576b\"], [0.6666666666666666, \"#ed7953\"], [0.7777777777777778, \"#fb9f3a\"], [0.8888888888888888, \"#fdca26\"], [1.0, \"#f0f921\"]]}, \"colorway\": [\"#636efa\", \"#EF553B\", \"#00cc96\", \"#ab63fa\", \"#FFA15A\", \"#19d3f3\", \"#FF6692\", \"#B6E880\", \"#FF97FF\", \"#FECB52\"], \"font\": {\"color\": \"#2a3f5f\"}, \"geo\": {\"bgcolor\": \"white\", \"lakecolor\": \"white\", \"landcolor\": \"#E5ECF6\", \"showlakes\": true, \"showland\": true, \"subunitcolor\": \"white\"}, \"hoverlabel\": {\"align\": \"left\"}, \"hovermode\": \"closest\", \"mapbox\": {\"style\": \"light\"}, \"paper_bgcolor\": \"white\", \"plot_bgcolor\": \"#E5ECF6\", \"polar\": {\"angularaxis\": {\"gridcolor\": \"white\", \"linecolor\": \"white\", \"ticks\": \"\"}, \"bgcolor\": \"#E5ECF6\", \"radialaxis\": {\"gridcolor\": \"white\", \"linecolor\": \"white\", \"ticks\": \"\"}}, \"scene\": {\"xaxis\": {\"backgroundcolor\": \"#E5ECF6\", \"gridcolor\": \"white\", \"gridwidth\": 2, \"linecolor\": \"white\", \"showbackground\": true, \"ticks\": \"\", \"zerolinecolor\": \"white\"}, \"yaxis\": {\"backgroundcolor\": \"#E5ECF6\", \"gridcolor\": \"white\", \"gridwidth\": 2, \"linecolor\": \"white\", \"showbackground\": true, \"ticks\": \"\", \"zerolinecolor\": \"white\"}, \"zaxis\": {\"backgroundcolor\": \"#E5ECF6\", \"gridcolor\": \"white\", \"gridwidth\": 2, \"linecolor\": \"white\", \"showbackground\": true, \"ticks\": \"\", \"zerolinecolor\": \"white\"}}, \"shapedefaults\": {\"line\": {\"color\": \"#2a3f5f\"}}, \"ternary\": {\"aaxis\": {\"gridcolor\": \"white\", \"linecolor\": \"white\", \"ticks\": \"\"}, \"baxis\": {\"gridcolor\": \"white\", \"linecolor\": \"white\", \"ticks\": \"\"}, \"bgcolor\": \"#E5ECF6\", \"caxis\": {\"gridcolor\": \"white\", \"linecolor\": \"white\", \"ticks\": \"\"}}, \"title\": {\"x\": 0.05}, \"xaxis\": {\"automargin\": true, \"gridcolor\": \"white\", \"linecolor\": \"white\", \"ticks\": \"\", \"title\": {\"standoff\": 15}, \"zerolinecolor\": \"white\", \"zerolinewidth\": 2}, \"yaxis\": {\"automargin\": true, \"gridcolor\": \"white\", \"linecolor\": \"white\", \"ticks\": \"\", \"title\": {\"standoff\": 15}, \"zerolinecolor\": \"white\", \"zerolinewidth\": 2}}}, \"title\": {\"font\": {\"color\": \"#4D5663\"}}, \"xaxis\": {\"gridcolor\": \"#E1E5ED\", \"showgrid\": true, \"tickfont\": {\"color\": \"#4D5663\"}, \"title\": {\"font\": {\"color\": \"#4D5663\"}, \"text\": \"\"}, \"zerolinecolor\": \"#E1E5ED\"}, \"yaxis\": {\"gridcolor\": \"#E1E5ED\", \"showgrid\": true, \"tickfont\": {\"color\": \"#4D5663\"}, \"title\": {\"font\": {\"color\": \"#4D5663\"}, \"text\": \"\"}, \"zerolinecolor\": \"#E1E5ED\"}},                        {\"showLink\": true, \"linkText\": \"Export to plot.ly\", \"plotlyServerURL\": \"https://plot.ly\", \"responsive\": true}                    ).then(function(){\n",
       "                            \n",
       "var gd = document.getElementById('638758c6-1a97-4513-8ccb-654c594561ec');\n",
       "var x = new MutationObserver(function (mutations, observer) {{\n",
       "        var display = window.getComputedStyle(gd).display;\n",
       "        if (!display || display === 'none') {{\n",
       "            console.log([gd, 'removed!']);\n",
       "            Plotly.purge(gd);\n",
       "            observer.disconnect();\n",
       "        }}\n",
       "}});\n",
       "\n",
       "// Listen for the removal of the full notebook cells\n",
       "var notebookContainer = gd.closest('#notebook-container');\n",
       "if (notebookContainer) {{\n",
       "    x.observe(notebookContainer, {childList: true});\n",
       "}}\n",
       "\n",
       "// Listen for the clearing of the current output cell\n",
       "var outputEl = gd.closest('.output');\n",
       "if (outputEl) {{\n",
       "    x.observe(outputEl, {childList: true});\n",
       "}}\n",
       "\n",
       "                        })                };                });            </script>        </div>"
      ]
     },
     "metadata": {},
     "output_type": "display_data"
    }
   ],
   "source": [
    "df.iplot(kind='box')"
   ]
  },
  {
   "cell_type": "markdown",
   "metadata": {},
   "source": [
    "## 3d Surface"
   ]
  },
  {
   "cell_type": "code",
   "execution_count": 14,
   "metadata": {},
   "outputs": [
    {
     "data": {
      "application/vnd.plotly.v1+json": {
       "config": {
        "linkText": "Export to plot.ly",
        "plotlyServerURL": "https://plot.ly",
        "showLink": true
       },
       "data": [
        {
         "colorscale": [
          [
           0,
           "rgb(165,0,38)"
          ],
          [
           0.1,
           "rgb(215,48,39)"
          ],
          [
           0.2,
           "rgb(244,109,67)"
          ],
          [
           0.3,
           "rgb(253,174,97)"
          ],
          [
           0.4,
           "rgb(254,224,144)"
          ],
          [
           0.5,
           "rgb(255,255,191)"
          ],
          [
           0.6,
           "rgb(224,243,248)"
          ],
          [
           0.7,
           "rgb(171,217,233)"
          ],
          [
           0.8,
           "rgb(116,173,209)"
          ],
          [
           0.9,
           "rgb(69,117,180)"
          ],
          [
           1,
           "rgb(49,54,149)"
          ]
         ],
         "type": "surface",
         "x": [
          0,
          1,
          2,
          3,
          4
         ],
         "y": [
          "x",
          "y",
          "z"
         ],
         "z": [
          [
           1,
           2,
           3,
           4,
           5
          ],
          [
           10,
           20,
           30,
           20,
           10
          ],
          [
           5,
           4,
           3,
           2,
           1
          ]
         ]
        }
       ],
       "layout": {
        "legend": {
         "bgcolor": "#F5F6F9",
         "font": {
          "color": "#4D5663"
         }
        },
        "paper_bgcolor": "#F5F6F9",
        "plot_bgcolor": "#F5F6F9",
        "template": {
         "data": {
          "bar": [
           {
            "error_x": {
             "color": "#2a3f5f"
            },
            "error_y": {
             "color": "#2a3f5f"
            },
            "marker": {
             "line": {
              "color": "#E5ECF6",
              "width": 0.5
             }
            },
            "type": "bar"
           }
          ],
          "barpolar": [
           {
            "marker": {
             "line": {
              "color": "#E5ECF6",
              "width": 0.5
             }
            },
            "type": "barpolar"
           }
          ],
          "carpet": [
           {
            "aaxis": {
             "endlinecolor": "#2a3f5f",
             "gridcolor": "white",
             "linecolor": "white",
             "minorgridcolor": "white",
             "startlinecolor": "#2a3f5f"
            },
            "baxis": {
             "endlinecolor": "#2a3f5f",
             "gridcolor": "white",
             "linecolor": "white",
             "minorgridcolor": "white",
             "startlinecolor": "#2a3f5f"
            },
            "type": "carpet"
           }
          ],
          "choropleth": [
           {
            "colorbar": {
             "outlinewidth": 0,
             "ticks": ""
            },
            "type": "choropleth"
           }
          ],
          "contour": [
           {
            "colorbar": {
             "outlinewidth": 0,
             "ticks": ""
            },
            "colorscale": [
             [
              0,
              "#0d0887"
             ],
             [
              0.1111111111111111,
              "#46039f"
             ],
             [
              0.2222222222222222,
              "#7201a8"
             ],
             [
              0.3333333333333333,
              "#9c179e"
             ],
             [
              0.4444444444444444,
              "#bd3786"
             ],
             [
              0.5555555555555556,
              "#d8576b"
             ],
             [
              0.6666666666666666,
              "#ed7953"
             ],
             [
              0.7777777777777778,
              "#fb9f3a"
             ],
             [
              0.8888888888888888,
              "#fdca26"
             ],
             [
              1,
              "#f0f921"
             ]
            ],
            "type": "contour"
           }
          ],
          "contourcarpet": [
           {
            "colorbar": {
             "outlinewidth": 0,
             "ticks": ""
            },
            "type": "contourcarpet"
           }
          ],
          "heatmap": [
           {
            "colorbar": {
             "outlinewidth": 0,
             "ticks": ""
            },
            "colorscale": [
             [
              0,
              "#0d0887"
             ],
             [
              0.1111111111111111,
              "#46039f"
             ],
             [
              0.2222222222222222,
              "#7201a8"
             ],
             [
              0.3333333333333333,
              "#9c179e"
             ],
             [
              0.4444444444444444,
              "#bd3786"
             ],
             [
              0.5555555555555556,
              "#d8576b"
             ],
             [
              0.6666666666666666,
              "#ed7953"
             ],
             [
              0.7777777777777778,
              "#fb9f3a"
             ],
             [
              0.8888888888888888,
              "#fdca26"
             ],
             [
              1,
              "#f0f921"
             ]
            ],
            "type": "heatmap"
           }
          ],
          "heatmapgl": [
           {
            "colorbar": {
             "outlinewidth": 0,
             "ticks": ""
            },
            "colorscale": [
             [
              0,
              "#0d0887"
             ],
             [
              0.1111111111111111,
              "#46039f"
             ],
             [
              0.2222222222222222,
              "#7201a8"
             ],
             [
              0.3333333333333333,
              "#9c179e"
             ],
             [
              0.4444444444444444,
              "#bd3786"
             ],
             [
              0.5555555555555556,
              "#d8576b"
             ],
             [
              0.6666666666666666,
              "#ed7953"
             ],
             [
              0.7777777777777778,
              "#fb9f3a"
             ],
             [
              0.8888888888888888,
              "#fdca26"
             ],
             [
              1,
              "#f0f921"
             ]
            ],
            "type": "heatmapgl"
           }
          ],
          "histogram": [
           {
            "marker": {
             "colorbar": {
              "outlinewidth": 0,
              "ticks": ""
             }
            },
            "type": "histogram"
           }
          ],
          "histogram2d": [
           {
            "colorbar": {
             "outlinewidth": 0,
             "ticks": ""
            },
            "colorscale": [
             [
              0,
              "#0d0887"
             ],
             [
              0.1111111111111111,
              "#46039f"
             ],
             [
              0.2222222222222222,
              "#7201a8"
             ],
             [
              0.3333333333333333,
              "#9c179e"
             ],
             [
              0.4444444444444444,
              "#bd3786"
             ],
             [
              0.5555555555555556,
              "#d8576b"
             ],
             [
              0.6666666666666666,
              "#ed7953"
             ],
             [
              0.7777777777777778,
              "#fb9f3a"
             ],
             [
              0.8888888888888888,
              "#fdca26"
             ],
             [
              1,
              "#f0f921"
             ]
            ],
            "type": "histogram2d"
           }
          ],
          "histogram2dcontour": [
           {
            "colorbar": {
             "outlinewidth": 0,
             "ticks": ""
            },
            "colorscale": [
             [
              0,
              "#0d0887"
             ],
             [
              0.1111111111111111,
              "#46039f"
             ],
             [
              0.2222222222222222,
              "#7201a8"
             ],
             [
              0.3333333333333333,
              "#9c179e"
             ],
             [
              0.4444444444444444,
              "#bd3786"
             ],
             [
              0.5555555555555556,
              "#d8576b"
             ],
             [
              0.6666666666666666,
              "#ed7953"
             ],
             [
              0.7777777777777778,
              "#fb9f3a"
             ],
             [
              0.8888888888888888,
              "#fdca26"
             ],
             [
              1,
              "#f0f921"
             ]
            ],
            "type": "histogram2dcontour"
           }
          ],
          "mesh3d": [
           {
            "colorbar": {
             "outlinewidth": 0,
             "ticks": ""
            },
            "type": "mesh3d"
           }
          ],
          "parcoords": [
           {
            "line": {
             "colorbar": {
              "outlinewidth": 0,
              "ticks": ""
             }
            },
            "type": "parcoords"
           }
          ],
          "pie": [
           {
            "automargin": true,
            "type": "pie"
           }
          ],
          "scatter": [
           {
            "marker": {
             "colorbar": {
              "outlinewidth": 0,
              "ticks": ""
             }
            },
            "type": "scatter"
           }
          ],
          "scatter3d": [
           {
            "line": {
             "colorbar": {
              "outlinewidth": 0,
              "ticks": ""
             }
            },
            "marker": {
             "colorbar": {
              "outlinewidth": 0,
              "ticks": ""
             }
            },
            "type": "scatter3d"
           }
          ],
          "scattercarpet": [
           {
            "marker": {
             "colorbar": {
              "outlinewidth": 0,
              "ticks": ""
             }
            },
            "type": "scattercarpet"
           }
          ],
          "scattergeo": [
           {
            "marker": {
             "colorbar": {
              "outlinewidth": 0,
              "ticks": ""
             }
            },
            "type": "scattergeo"
           }
          ],
          "scattergl": [
           {
            "marker": {
             "colorbar": {
              "outlinewidth": 0,
              "ticks": ""
             }
            },
            "type": "scattergl"
           }
          ],
          "scattermapbox": [
           {
            "marker": {
             "colorbar": {
              "outlinewidth": 0,
              "ticks": ""
             }
            },
            "type": "scattermapbox"
           }
          ],
          "scatterpolar": [
           {
            "marker": {
             "colorbar": {
              "outlinewidth": 0,
              "ticks": ""
             }
            },
            "type": "scatterpolar"
           }
          ],
          "scatterpolargl": [
           {
            "marker": {
             "colorbar": {
              "outlinewidth": 0,
              "ticks": ""
             }
            },
            "type": "scatterpolargl"
           }
          ],
          "scatterternary": [
           {
            "marker": {
             "colorbar": {
              "outlinewidth": 0,
              "ticks": ""
             }
            },
            "type": "scatterternary"
           }
          ],
          "surface": [
           {
            "colorbar": {
             "outlinewidth": 0,
             "ticks": ""
            },
            "colorscale": [
             [
              0,
              "#0d0887"
             ],
             [
              0.1111111111111111,
              "#46039f"
             ],
             [
              0.2222222222222222,
              "#7201a8"
             ],
             [
              0.3333333333333333,
              "#9c179e"
             ],
             [
              0.4444444444444444,
              "#bd3786"
             ],
             [
              0.5555555555555556,
              "#d8576b"
             ],
             [
              0.6666666666666666,
              "#ed7953"
             ],
             [
              0.7777777777777778,
              "#fb9f3a"
             ],
             [
              0.8888888888888888,
              "#fdca26"
             ],
             [
              1,
              "#f0f921"
             ]
            ],
            "type": "surface"
           }
          ],
          "table": [
           {
            "cells": {
             "fill": {
              "color": "#EBF0F8"
             },
             "line": {
              "color": "white"
             }
            },
            "header": {
             "fill": {
              "color": "#C8D4E3"
             },
             "line": {
              "color": "white"
             }
            },
            "type": "table"
           }
          ]
         },
         "layout": {
          "annotationdefaults": {
           "arrowcolor": "#2a3f5f",
           "arrowhead": 0,
           "arrowwidth": 1
          },
          "autotypenumbers": "strict",
          "coloraxis": {
           "colorbar": {
            "outlinewidth": 0,
            "ticks": ""
           }
          },
          "colorscale": {
           "diverging": [
            [
             0,
             "#8e0152"
            ],
            [
             0.1,
             "#c51b7d"
            ],
            [
             0.2,
             "#de77ae"
            ],
            [
             0.3,
             "#f1b6da"
            ],
            [
             0.4,
             "#fde0ef"
            ],
            [
             0.5,
             "#f7f7f7"
            ],
            [
             0.6,
             "#e6f5d0"
            ],
            [
             0.7,
             "#b8e186"
            ],
            [
             0.8,
             "#7fbc41"
            ],
            [
             0.9,
             "#4d9221"
            ],
            [
             1,
             "#276419"
            ]
           ],
           "sequential": [
            [
             0,
             "#0d0887"
            ],
            [
             0.1111111111111111,
             "#46039f"
            ],
            [
             0.2222222222222222,
             "#7201a8"
            ],
            [
             0.3333333333333333,
             "#9c179e"
            ],
            [
             0.4444444444444444,
             "#bd3786"
            ],
            [
             0.5555555555555556,
             "#d8576b"
            ],
            [
             0.6666666666666666,
             "#ed7953"
            ],
            [
             0.7777777777777778,
             "#fb9f3a"
            ],
            [
             0.8888888888888888,
             "#fdca26"
            ],
            [
             1,
             "#f0f921"
            ]
           ],
           "sequentialminus": [
            [
             0,
             "#0d0887"
            ],
            [
             0.1111111111111111,
             "#46039f"
            ],
            [
             0.2222222222222222,
             "#7201a8"
            ],
            [
             0.3333333333333333,
             "#9c179e"
            ],
            [
             0.4444444444444444,
             "#bd3786"
            ],
            [
             0.5555555555555556,
             "#d8576b"
            ],
            [
             0.6666666666666666,
             "#ed7953"
            ],
            [
             0.7777777777777778,
             "#fb9f3a"
            ],
            [
             0.8888888888888888,
             "#fdca26"
            ],
            [
             1,
             "#f0f921"
            ]
           ]
          },
          "colorway": [
           "#636efa",
           "#EF553B",
           "#00cc96",
           "#ab63fa",
           "#FFA15A",
           "#19d3f3",
           "#FF6692",
           "#B6E880",
           "#FF97FF",
           "#FECB52"
          ],
          "font": {
           "color": "#2a3f5f"
          },
          "geo": {
           "bgcolor": "white",
           "lakecolor": "white",
           "landcolor": "#E5ECF6",
           "showlakes": true,
           "showland": true,
           "subunitcolor": "white"
          },
          "hoverlabel": {
           "align": "left"
          },
          "hovermode": "closest",
          "mapbox": {
           "style": "light"
          },
          "paper_bgcolor": "white",
          "plot_bgcolor": "#E5ECF6",
          "polar": {
           "angularaxis": {
            "gridcolor": "white",
            "linecolor": "white",
            "ticks": ""
           },
           "bgcolor": "#E5ECF6",
           "radialaxis": {
            "gridcolor": "white",
            "linecolor": "white",
            "ticks": ""
           }
          },
          "scene": {
           "xaxis": {
            "backgroundcolor": "#E5ECF6",
            "gridcolor": "white",
            "gridwidth": 2,
            "linecolor": "white",
            "showbackground": true,
            "ticks": "",
            "zerolinecolor": "white"
           },
           "yaxis": {
            "backgroundcolor": "#E5ECF6",
            "gridcolor": "white",
            "gridwidth": 2,
            "linecolor": "white",
            "showbackground": true,
            "ticks": "",
            "zerolinecolor": "white"
           },
           "zaxis": {
            "backgroundcolor": "#E5ECF6",
            "gridcolor": "white",
            "gridwidth": 2,
            "linecolor": "white",
            "showbackground": true,
            "ticks": "",
            "zerolinecolor": "white"
           }
          },
          "shapedefaults": {
           "line": {
            "color": "#2a3f5f"
           }
          },
          "ternary": {
           "aaxis": {
            "gridcolor": "white",
            "linecolor": "white",
            "ticks": ""
           },
           "baxis": {
            "gridcolor": "white",
            "linecolor": "white",
            "ticks": ""
           },
           "bgcolor": "#E5ECF6",
           "caxis": {
            "gridcolor": "white",
            "linecolor": "white",
            "ticks": ""
           }
          },
          "title": {
           "x": 0.05
          },
          "xaxis": {
           "automargin": true,
           "gridcolor": "white",
           "linecolor": "white",
           "ticks": "",
           "title": {
            "standoff": 15
           },
           "zerolinecolor": "white",
           "zerolinewidth": 2
          },
          "yaxis": {
           "automargin": true,
           "gridcolor": "white",
           "linecolor": "white",
           "ticks": "",
           "title": {
            "standoff": 15
           },
           "zerolinecolor": "white",
           "zerolinewidth": 2
          }
         }
        },
        "title": {
         "font": {
          "color": "#4D5663"
         }
        },
        "xaxis": {
         "gridcolor": "#E1E5ED",
         "showgrid": true,
         "tickfont": {
          "color": "#4D5663"
         },
         "title": {
          "font": {
           "color": "#4D5663"
          },
          "text": ""
         },
         "zerolinecolor": "#E1E5ED"
        },
        "yaxis": {
         "gridcolor": "#E1E5ED",
         "showgrid": true,
         "tickfont": {
          "color": "#4D5663"
         },
         "title": {
          "font": {
           "color": "#4D5663"
          },
          "text": ""
         },
         "zerolinecolor": "#E1E5ED"
        }
       }
      },
      "text/html": [
       "<div>                            <div id=\"a31c5246-5ffc-42a2-9326-5740ec0aecdc\" class=\"plotly-graph-div\" style=\"height:525px; width:100%;\"></div>            <script type=\"text/javascript\">                require([\"plotly\"], function(Plotly) {                    window.PLOTLYENV=window.PLOTLYENV || {};\n",
       "                    window.PLOTLYENV.BASE_URL='https://plot.ly';                                    if (document.getElementById(\"a31c5246-5ffc-42a2-9326-5740ec0aecdc\")) {                    Plotly.newPlot(                        \"a31c5246-5ffc-42a2-9326-5740ec0aecdc\",                        [{\"colorscale\": [[0.0, \"rgb(165,0,38)\"], [0.1, \"rgb(215,48,39)\"], [0.2, \"rgb(244,109,67)\"], [0.3, \"rgb(253,174,97)\"], [0.4, \"rgb(254,224,144)\"], [0.5, \"rgb(255,255,191)\"], [0.6, \"rgb(224,243,248)\"], [0.7, \"rgb(171,217,233)\"], [0.8, \"rgb(116,173,209)\"], [0.9, \"rgb(69,117,180)\"], [1.0, \"rgb(49,54,149)\"]], \"type\": \"surface\", \"x\": [0, 1, 2, 3, 4], \"y\": [\"x\", \"y\", \"z\"], \"z\": [[1, 2, 3, 4, 5], [10, 20, 30, 20, 10], [5, 4, 3, 2, 1]]}],                        {\"legend\": {\"bgcolor\": \"#F5F6F9\", \"font\": {\"color\": \"#4D5663\"}}, \"paper_bgcolor\": \"#F5F6F9\", \"plot_bgcolor\": \"#F5F6F9\", \"template\": {\"data\": {\"bar\": [{\"error_x\": {\"color\": \"#2a3f5f\"}, \"error_y\": {\"color\": \"#2a3f5f\"}, \"marker\": {\"line\": {\"color\": \"#E5ECF6\", \"width\": 0.5}}, \"type\": \"bar\"}], \"barpolar\": [{\"marker\": {\"line\": {\"color\": \"#E5ECF6\", \"width\": 0.5}}, \"type\": \"barpolar\"}], \"carpet\": [{\"aaxis\": {\"endlinecolor\": \"#2a3f5f\", \"gridcolor\": \"white\", \"linecolor\": \"white\", \"minorgridcolor\": \"white\", \"startlinecolor\": \"#2a3f5f\"}, \"baxis\": {\"endlinecolor\": \"#2a3f5f\", \"gridcolor\": \"white\", \"linecolor\": \"white\", \"minorgridcolor\": \"white\", \"startlinecolor\": \"#2a3f5f\"}, \"type\": \"carpet\"}], \"choropleth\": [{\"colorbar\": {\"outlinewidth\": 0, \"ticks\": \"\"}, \"type\": \"choropleth\"}], \"contour\": [{\"colorbar\": {\"outlinewidth\": 0, \"ticks\": \"\"}, \"colorscale\": [[0.0, \"#0d0887\"], [0.1111111111111111, \"#46039f\"], [0.2222222222222222, \"#7201a8\"], [0.3333333333333333, \"#9c179e\"], [0.4444444444444444, \"#bd3786\"], [0.5555555555555556, \"#d8576b\"], [0.6666666666666666, \"#ed7953\"], [0.7777777777777778, \"#fb9f3a\"], [0.8888888888888888, \"#fdca26\"], [1.0, \"#f0f921\"]], \"type\": \"contour\"}], \"contourcarpet\": [{\"colorbar\": {\"outlinewidth\": 0, \"ticks\": \"\"}, \"type\": \"contourcarpet\"}], \"heatmap\": [{\"colorbar\": {\"outlinewidth\": 0, \"ticks\": \"\"}, \"colorscale\": [[0.0, \"#0d0887\"], [0.1111111111111111, \"#46039f\"], [0.2222222222222222, \"#7201a8\"], [0.3333333333333333, \"#9c179e\"], [0.4444444444444444, \"#bd3786\"], [0.5555555555555556, \"#d8576b\"], [0.6666666666666666, \"#ed7953\"], [0.7777777777777778, \"#fb9f3a\"], [0.8888888888888888, \"#fdca26\"], [1.0, \"#f0f921\"]], \"type\": \"heatmap\"}], \"heatmapgl\": [{\"colorbar\": {\"outlinewidth\": 0, \"ticks\": \"\"}, \"colorscale\": [[0.0, \"#0d0887\"], [0.1111111111111111, \"#46039f\"], [0.2222222222222222, \"#7201a8\"], [0.3333333333333333, \"#9c179e\"], [0.4444444444444444, \"#bd3786\"], [0.5555555555555556, \"#d8576b\"], [0.6666666666666666, \"#ed7953\"], [0.7777777777777778, \"#fb9f3a\"], [0.8888888888888888, \"#fdca26\"], [1.0, \"#f0f921\"]], \"type\": \"heatmapgl\"}], \"histogram\": [{\"marker\": {\"colorbar\": {\"outlinewidth\": 0, \"ticks\": \"\"}}, \"type\": \"histogram\"}], \"histogram2d\": [{\"colorbar\": {\"outlinewidth\": 0, \"ticks\": \"\"}, \"colorscale\": [[0.0, \"#0d0887\"], [0.1111111111111111, \"#46039f\"], [0.2222222222222222, \"#7201a8\"], [0.3333333333333333, \"#9c179e\"], [0.4444444444444444, \"#bd3786\"], [0.5555555555555556, \"#d8576b\"], [0.6666666666666666, \"#ed7953\"], [0.7777777777777778, \"#fb9f3a\"], [0.8888888888888888, \"#fdca26\"], [1.0, \"#f0f921\"]], \"type\": \"histogram2d\"}], \"histogram2dcontour\": [{\"colorbar\": {\"outlinewidth\": 0, \"ticks\": \"\"}, \"colorscale\": [[0.0, \"#0d0887\"], [0.1111111111111111, \"#46039f\"], [0.2222222222222222, \"#7201a8\"], [0.3333333333333333, \"#9c179e\"], [0.4444444444444444, \"#bd3786\"], [0.5555555555555556, \"#d8576b\"], [0.6666666666666666, \"#ed7953\"], [0.7777777777777778, \"#fb9f3a\"], [0.8888888888888888, \"#fdca26\"], [1.0, \"#f0f921\"]], \"type\": \"histogram2dcontour\"}], \"mesh3d\": [{\"colorbar\": {\"outlinewidth\": 0, \"ticks\": \"\"}, \"type\": \"mesh3d\"}], \"parcoords\": [{\"line\": {\"colorbar\": {\"outlinewidth\": 0, \"ticks\": \"\"}}, \"type\": \"parcoords\"}], \"pie\": [{\"automargin\": true, \"type\": \"pie\"}], \"scatter\": [{\"marker\": {\"colorbar\": {\"outlinewidth\": 0, \"ticks\": \"\"}}, \"type\": \"scatter\"}], \"scatter3d\": [{\"line\": {\"colorbar\": {\"outlinewidth\": 0, \"ticks\": \"\"}}, \"marker\": {\"colorbar\": {\"outlinewidth\": 0, \"ticks\": \"\"}}, \"type\": \"scatter3d\"}], \"scattercarpet\": [{\"marker\": {\"colorbar\": {\"outlinewidth\": 0, \"ticks\": \"\"}}, \"type\": \"scattercarpet\"}], \"scattergeo\": [{\"marker\": {\"colorbar\": {\"outlinewidth\": 0, \"ticks\": \"\"}}, \"type\": \"scattergeo\"}], \"scattergl\": [{\"marker\": {\"colorbar\": {\"outlinewidth\": 0, \"ticks\": \"\"}}, \"type\": \"scattergl\"}], \"scattermapbox\": [{\"marker\": {\"colorbar\": {\"outlinewidth\": 0, \"ticks\": \"\"}}, \"type\": \"scattermapbox\"}], \"scatterpolar\": [{\"marker\": {\"colorbar\": {\"outlinewidth\": 0, \"ticks\": \"\"}}, \"type\": \"scatterpolar\"}], \"scatterpolargl\": [{\"marker\": {\"colorbar\": {\"outlinewidth\": 0, \"ticks\": \"\"}}, \"type\": \"scatterpolargl\"}], \"scatterternary\": [{\"marker\": {\"colorbar\": {\"outlinewidth\": 0, \"ticks\": \"\"}}, \"type\": \"scatterternary\"}], \"surface\": [{\"colorbar\": {\"outlinewidth\": 0, \"ticks\": \"\"}, \"colorscale\": [[0.0, \"#0d0887\"], [0.1111111111111111, \"#46039f\"], [0.2222222222222222, \"#7201a8\"], [0.3333333333333333, \"#9c179e\"], [0.4444444444444444, \"#bd3786\"], [0.5555555555555556, \"#d8576b\"], [0.6666666666666666, \"#ed7953\"], [0.7777777777777778, \"#fb9f3a\"], [0.8888888888888888, \"#fdca26\"], [1.0, \"#f0f921\"]], \"type\": \"surface\"}], \"table\": [{\"cells\": {\"fill\": {\"color\": \"#EBF0F8\"}, \"line\": {\"color\": \"white\"}}, \"header\": {\"fill\": {\"color\": \"#C8D4E3\"}, \"line\": {\"color\": \"white\"}}, \"type\": \"table\"}]}, \"layout\": {\"annotationdefaults\": {\"arrowcolor\": \"#2a3f5f\", \"arrowhead\": 0, \"arrowwidth\": 1}, \"autotypenumbers\": \"strict\", \"coloraxis\": {\"colorbar\": {\"outlinewidth\": 0, \"ticks\": \"\"}}, \"colorscale\": {\"diverging\": [[0, \"#8e0152\"], [0.1, \"#c51b7d\"], [0.2, \"#de77ae\"], [0.3, \"#f1b6da\"], [0.4, \"#fde0ef\"], [0.5, \"#f7f7f7\"], [0.6, \"#e6f5d0\"], [0.7, \"#b8e186\"], [0.8, \"#7fbc41\"], [0.9, \"#4d9221\"], [1, \"#276419\"]], \"sequential\": [[0.0, \"#0d0887\"], [0.1111111111111111, \"#46039f\"], [0.2222222222222222, \"#7201a8\"], [0.3333333333333333, \"#9c179e\"], [0.4444444444444444, \"#bd3786\"], [0.5555555555555556, \"#d8576b\"], [0.6666666666666666, \"#ed7953\"], [0.7777777777777778, \"#fb9f3a\"], [0.8888888888888888, \"#fdca26\"], [1.0, \"#f0f921\"]], \"sequentialminus\": [[0.0, \"#0d0887\"], [0.1111111111111111, \"#46039f\"], [0.2222222222222222, \"#7201a8\"], [0.3333333333333333, \"#9c179e\"], [0.4444444444444444, \"#bd3786\"], [0.5555555555555556, \"#d8576b\"], [0.6666666666666666, \"#ed7953\"], [0.7777777777777778, \"#fb9f3a\"], [0.8888888888888888, \"#fdca26\"], [1.0, \"#f0f921\"]]}, \"colorway\": [\"#636efa\", \"#EF553B\", \"#00cc96\", \"#ab63fa\", \"#FFA15A\", \"#19d3f3\", \"#FF6692\", \"#B6E880\", \"#FF97FF\", \"#FECB52\"], \"font\": {\"color\": \"#2a3f5f\"}, \"geo\": {\"bgcolor\": \"white\", \"lakecolor\": \"white\", \"landcolor\": \"#E5ECF6\", \"showlakes\": true, \"showland\": true, \"subunitcolor\": \"white\"}, \"hoverlabel\": {\"align\": \"left\"}, \"hovermode\": \"closest\", \"mapbox\": {\"style\": \"light\"}, \"paper_bgcolor\": \"white\", \"plot_bgcolor\": \"#E5ECF6\", \"polar\": {\"angularaxis\": {\"gridcolor\": \"white\", \"linecolor\": \"white\", \"ticks\": \"\"}, \"bgcolor\": \"#E5ECF6\", \"radialaxis\": {\"gridcolor\": \"white\", \"linecolor\": \"white\", \"ticks\": \"\"}}, \"scene\": {\"xaxis\": {\"backgroundcolor\": \"#E5ECF6\", \"gridcolor\": \"white\", \"gridwidth\": 2, \"linecolor\": \"white\", \"showbackground\": true, \"ticks\": \"\", \"zerolinecolor\": \"white\"}, \"yaxis\": {\"backgroundcolor\": \"#E5ECF6\", \"gridcolor\": \"white\", \"gridwidth\": 2, \"linecolor\": \"white\", \"showbackground\": true, \"ticks\": \"\", \"zerolinecolor\": \"white\"}, \"zaxis\": {\"backgroundcolor\": \"#E5ECF6\", \"gridcolor\": \"white\", \"gridwidth\": 2, \"linecolor\": \"white\", \"showbackground\": true, \"ticks\": \"\", \"zerolinecolor\": \"white\"}}, \"shapedefaults\": {\"line\": {\"color\": \"#2a3f5f\"}}, \"ternary\": {\"aaxis\": {\"gridcolor\": \"white\", \"linecolor\": \"white\", \"ticks\": \"\"}, \"baxis\": {\"gridcolor\": \"white\", \"linecolor\": \"white\", \"ticks\": \"\"}, \"bgcolor\": \"#E5ECF6\", \"caxis\": {\"gridcolor\": \"white\", \"linecolor\": \"white\", \"ticks\": \"\"}}, \"title\": {\"x\": 0.05}, \"xaxis\": {\"automargin\": true, \"gridcolor\": \"white\", \"linecolor\": \"white\", \"ticks\": \"\", \"title\": {\"standoff\": 15}, \"zerolinecolor\": \"white\", \"zerolinewidth\": 2}, \"yaxis\": {\"automargin\": true, \"gridcolor\": \"white\", \"linecolor\": \"white\", \"ticks\": \"\", \"title\": {\"standoff\": 15}, \"zerolinecolor\": \"white\", \"zerolinewidth\": 2}}}, \"title\": {\"font\": {\"color\": \"#4D5663\"}}, \"xaxis\": {\"gridcolor\": \"#E1E5ED\", \"showgrid\": true, \"tickfont\": {\"color\": \"#4D5663\"}, \"title\": {\"font\": {\"color\": \"#4D5663\"}, \"text\": \"\"}, \"zerolinecolor\": \"#E1E5ED\"}, \"yaxis\": {\"gridcolor\": \"#E1E5ED\", \"showgrid\": true, \"tickfont\": {\"color\": \"#4D5663\"}, \"title\": {\"font\": {\"color\": \"#4D5663\"}, \"text\": \"\"}, \"zerolinecolor\": \"#E1E5ED\"}},                        {\"showLink\": true, \"linkText\": \"Export to plot.ly\", \"plotlyServerURL\": \"https://plot.ly\", \"responsive\": true}                    ).then(function(){\n",
       "                            \n",
       "var gd = document.getElementById('a31c5246-5ffc-42a2-9326-5740ec0aecdc');\n",
       "var x = new MutationObserver(function (mutations, observer) {{\n",
       "        var display = window.getComputedStyle(gd).display;\n",
       "        if (!display || display === 'none') {{\n",
       "            console.log([gd, 'removed!']);\n",
       "            Plotly.purge(gd);\n",
       "            observer.disconnect();\n",
       "        }}\n",
       "}});\n",
       "\n",
       "// Listen for the removal of the full notebook cells\n",
       "var notebookContainer = gd.closest('#notebook-container');\n",
       "if (notebookContainer) {{\n",
       "    x.observe(notebookContainer, {childList: true});\n",
       "}}\n",
       "\n",
       "// Listen for the clearing of the current output cell\n",
       "var outputEl = gd.closest('.output');\n",
       "if (outputEl) {{\n",
       "    x.observe(outputEl, {childList: true});\n",
       "}}\n",
       "\n",
       "                        })                };                });            </script>        </div>"
      ]
     },
     "metadata": {},
     "output_type": "display_data"
    }
   ],
   "source": [
    "df3 = pd.DataFrame({'x':[1,2,3,4,5],'y':[10,20,30,20,10],'z':[5,4,3,2,1]})\n",
    "df3.iplot(kind='surface',colorscale='rdylbu')"
   ]
  },
  {
   "cell_type": "markdown",
   "metadata": {},
   "source": [
    "## Spread"
   ]
  },
  {
   "cell_type": "code",
   "execution_count": 15,
   "metadata": {},
   "outputs": [
    {
     "name": "stderr",
     "output_type": "stream",
     "text": [
      "C:\\ProgramData\\Anaconda3\\lib\\site-packages\\cufflinks\\plotlytools.py:849: FutureWarning:\n",
      "\n",
      "The pandas.np module is deprecated and will be removed from pandas in a future version. Import numpy directly instead\n",
      "\n",
      "C:\\ProgramData\\Anaconda3\\lib\\site-packages\\cufflinks\\plotlytools.py:850: FutureWarning:\n",
      "\n",
      "The pandas.np module is deprecated and will be removed from pandas in a future version. Import numpy directly instead\n",
      "\n"
     ]
    },
    {
     "data": {
      "application/vnd.plotly.v1+json": {
       "config": {
        "linkText": "Export to plot.ly",
        "plotlyServerURL": "https://plot.ly",
        "showLink": true
       },
       "data": [
        {
         "line": {
          "color": "rgba(255, 153, 51, 1.0)",
          "dash": "solid",
          "shape": "linear",
          "width": 1.3
         },
         "mode": "lines",
         "name": "A",
         "text": "",
         "type": "scatter",
         "x": [
          0,
          1,
          2,
          3,
          4,
          5,
          6,
          7,
          8,
          9,
          10,
          11,
          12,
          13,
          14,
          15,
          16,
          17,
          18,
          19,
          20,
          21,
          22,
          23,
          24,
          25,
          26,
          27,
          28,
          29,
          30,
          31,
          32,
          33,
          34,
          35,
          36,
          37,
          38,
          39,
          40,
          41,
          42,
          43,
          44,
          45,
          46,
          47,
          48,
          49,
          50,
          51,
          52,
          53,
          54,
          55,
          56,
          57,
          58,
          59,
          60,
          61,
          62,
          63,
          64,
          65,
          66,
          67,
          68,
          69,
          70,
          71,
          72,
          73,
          74,
          75,
          76,
          77,
          78,
          79,
          80,
          81,
          82,
          83,
          84,
          85,
          86,
          87,
          88,
          89,
          90,
          91,
          92,
          93,
          94,
          95,
          96,
          97,
          98,
          99
         ],
         "y": [
          -1.1297355996644,
          -0.7378182431367298,
          1.3018362014014464,
          -0.3897524354762462,
          -0.28469569627643276,
          0.26189570707558646,
          -0.9076631525537662,
          0.6203535138805666,
          -0.6186803199969817,
          1.1226080642068443,
          -0.041438635172887366,
          -0.0022362033056104436,
          -1.0499832175198893,
          0.08986937258436357,
          1.3375457246389604,
          1.9232171151998751,
          1.2514977061012698,
          -0.010263114481263881,
          1.4971556937885246,
          0.5715860883089958,
          0.19761772066921174,
          1.1502304384350708,
          -0.24098786918618537,
          -1.6010465710520883,
          0.9732937328192726,
          0.11160359753779947,
          0.32197195249841265,
          0.30358682957964434,
          0.40859502431711464,
          0.6193062029177665,
          -0.4755616450031329,
          -1.0241841009392374,
          -0.10086891983338513,
          0.754866747209579,
          0.06900528817558078,
          -0.24279306917070723,
          1.0348185228210516,
          -0.3958072182103754,
          -0.2877736157815689,
          1.8262614760763645,
          0.6560796576224647,
          0.6039936134209548,
          0.13811643849623192,
          0.6169996082287618,
          -0.4388003603691258,
          0.0857953494782665,
          0.06263204663463057,
          1.9136188883998924,
          -2.1038091801398306,
          -0.5031598748343795,
          -0.499738792228652,
          0.3442035464303753,
          -1.2225361345294794,
          -0.22793921626844366,
          0.5262130361354909,
          -0.010912344260437948,
          2.2298919035757816,
          -1.444058305089868,
          -1.1316461333814778,
          0.3933956396359092,
          -0.8704396282469317,
          -0.20553795675791134,
          -0.08867481958175209,
          -1.1172775865956317,
          -1.5260076855104778,
          -1.7467581009661328,
          -1.0664288474904873,
          1.9150131279839857,
          0.7683469110544034,
          2.00607805679846,
          1.8580914663696646,
          1.9062502131655201,
          0.03580593006324525,
          -0.6555706026085864,
          -1.1089797545764777,
          0.8329301907539098,
          0.8284039642458526,
          -1.1789468559824925,
          0.7518735549022194,
          1.0952234728205141,
          -0.3779764711785572,
          -0.9265655021956508,
          -0.9553992513910263,
          -0.38587972952013033,
          -0.6838345119123879,
          -0.43684706995405886,
          -0.4081057994560073,
          -1.5156425658958605,
          -0.575082296862586,
          -1.9415192419502305,
          0.6216142225912914,
          -0.17327214911462618,
          0.41144632474130993,
          0.15372200990299822,
          -0.6157231774320628,
          0.5240625234153609,
          -0.9920542569293624,
          -0.1510296013533493,
          -0.20056562222891014,
          -0.10335285122129649
         ]
        },
        {
         "line": {
          "color": "rgba(55, 128, 191, 1.0)",
          "dash": "solid",
          "shape": "linear",
          "width": 1.3
         },
         "mode": "lines",
         "name": "B",
         "text": "",
         "type": "scatter",
         "x": [
          0,
          1,
          2,
          3,
          4,
          5,
          6,
          7,
          8,
          9,
          10,
          11,
          12,
          13,
          14,
          15,
          16,
          17,
          18,
          19,
          20,
          21,
          22,
          23,
          24,
          25,
          26,
          27,
          28,
          29,
          30,
          31,
          32,
          33,
          34,
          35,
          36,
          37,
          38,
          39,
          40,
          41,
          42,
          43,
          44,
          45,
          46,
          47,
          48,
          49,
          50,
          51,
          52,
          53,
          54,
          55,
          56,
          57,
          58,
          59,
          60,
          61,
          62,
          63,
          64,
          65,
          66,
          67,
          68,
          69,
          70,
          71,
          72,
          73,
          74,
          75,
          76,
          77,
          78,
          79,
          80,
          81,
          82,
          83,
          84,
          85,
          86,
          87,
          88,
          89,
          90,
          91,
          92,
          93,
          94,
          95,
          96,
          97,
          98,
          99
         ],
         "y": [
          -0.1635062728202632,
          -0.9756447904649324,
          0.4357492211576944,
          0.051226001530410986,
          1.6194609778186286,
          -0.2614992416979577,
          -0.503056959460743,
          -0.13993298480476804,
          0.4728179839113631,
          0.53389506015398,
          0.04175052703734408,
          -0.07721058388948895,
          -1.225800753883539,
          0.8171131199268552,
          0.271335570828907,
          -0.6148593154348182,
          -2.5442148291754667,
          -1.7782906353324925,
          0.1356671690464854,
          0.5537287920898528,
          -1.9714030383810386,
          0.21204671141656967,
          -0.49986516306652934,
          1.1605986854994819,
          -0.15289830668798166,
          0.868679639924568,
          -0.5327690147279569,
          0.38676522371752736,
          -0.697783301263672,
          2.729615807039255,
          -0.44168975575870933,
          -0.8975405797564469,
          1.156250284244023,
          0.18372610275768578,
          0.22028435577067737,
          -2.0445273482561723,
          -1.2705850191721542,
          -1.4398853748138425,
          -0.5164216605007113,
          -0.8766005893127831,
          -0.20189795216579856,
          -0.63168004490542,
          -0.10625317572230386,
          0.06570462032791533,
          -0.3306030709977983,
          -1.1066179005719434,
          -1.8001592887010398,
          -1.2464956160103438,
          1.412558001616313,
          0.7263817448765412,
          -0.674821902689123,
          0.13863430885397565,
          0.8131652940034697,
          -1.8446556023227498,
          -0.3991970389101511,
          -1.6061316037339424,
          -0.3895083198515032,
          0.9956640976917002,
          -0.09581646337107551,
          0.5003441799337934,
          0.4412554563299149,
          -1.2186611487320202,
          -0.6603496496066004,
          -1.3840238128032634,
          -1.279561508367783,
          0.8242627049250715,
          0.6066034035416791,
          -0.3129127244834932,
          0.7439229469840886,
          -0.09075013988002041,
          -0.31059118918465206,
          -0.6998974552396815,
          -1.4718276518213624,
          0.9598030326043391,
          -0.08470576393901538,
          -1.6271765054338334,
          0.10367717536539334,
          1.2481090029334017,
          -1.3083436514057565,
          0.9001700007453994,
          0.3191804389519386,
          -1.216318060061043,
          0.6960767879130475,
          -0.10206427976470202,
          -1.0295841917882045,
          -0.3919692938644334,
          -0.004198236309692963,
          -2.7629842618099905,
          1.2332621129863932,
          0.3392732764281834,
          -0.6057250793486275,
          -0.049403623228994324,
          -1.1140335648259374,
          1.1227986792321807,
          0.7647722049015698,
          0.23076529128221307,
          0.025538967609587467,
          1.0284112692058112,
          -0.11467294290964382,
          -0.5103834221495227
         ]
        },
        {
         "connectgaps": false,
         "fill": "tozeroy",
         "line": {
          "color": "green",
          "dash": "solid",
          "shape": "linear",
          "width": 0.5
         },
         "mode": "lines",
         "name": "Spread",
         "showlegend": false,
         "type": "scatter",
         "x": [
          0,
          1,
          2,
          3,
          4,
          5,
          6,
          7,
          8,
          9,
          10,
          11,
          12,
          13,
          14,
          15,
          16,
          17,
          18,
          19,
          20,
          21,
          22,
          23,
          24,
          25,
          26,
          27,
          28,
          29,
          30,
          31,
          32,
          33,
          34,
          35,
          36,
          37,
          38,
          39,
          40,
          41,
          42,
          43,
          44,
          45,
          46,
          47,
          48,
          49,
          50,
          51,
          52,
          53,
          54,
          55,
          56,
          57,
          58,
          59,
          60,
          61,
          62,
          63,
          64,
          65,
          66,
          67,
          68,
          69,
          70,
          71,
          72,
          73,
          74,
          75,
          76,
          77,
          78,
          79,
          80,
          81,
          82,
          83,
          84,
          85,
          86,
          87,
          88,
          89,
          90,
          91,
          92,
          93,
          94,
          95,
          96,
          97,
          98,
          99
         ],
         "xaxis": "x2",
         "y": [
          "",
          0.23782654732820252,
          0.8660869802437521,
          "",
          "",
          0.5233949487735441,
          "",
          0.7602864986853346,
          "",
          0.5887130040528643,
          "",
          0.07497438058387851,
          0.1758175363636496,
          "",
          1.0662101538100535,
          2.5380764306346935,
          3.7957125352767367,
          1.7680275208512286,
          1.3614885247420392,
          0.017857296219143004,
          2.1690207590502504,
          0.9381837270185012,
          0.258877293880344,
          "",
          1.1261920395072542,
          "",
          0.8547409672263695,
          "",
          1.1063783255807866,
          "",
          "",
          "",
          "",
          0.5711406444518933,
          "",
          1.8017342790854651,
          2.305403541993206,
          1.0440781566034671,
          0.22864804471914235,
          2.7028620653891475,
          0.8579776097882632,
          1.2356736583263748,
          0.24436961421853579,
          0.5512949879008464,
          "",
          1.19241325005021,
          1.8627913353356704,
          3.1601145044102363,
          "",
          "",
          0.17508311046047104,
          0.20556923757639967,
          "",
          1.6167163860543061,
          0.925410075045642,
          1.5952192594735044,
          2.619400223427285,
          "",
          "",
          "",
          "",
          1.0131231919741088,
          0.5716748300248483,
          0.26674622620763166,
          "",
          "",
          "",
          2.2279258524674788,
          0.024423964070314885,
          2.0968281966784805,
          2.1686826555543166,
          2.6061476684052014,
          1.5076335818846076,
          "",
          "",
          2.460106696187743,
          0.7247267888804593,
          "",
          2.060217206307976,
          0.1950534720751147,
          "",
          0.2897525578653922,
          "",
          "",
          0.3457496798758166,
          "",
          "",
          1.24734169591413,
          "",
          "",
          1.227339301939919,
          "",
          1.5254798895672472,
          "",
          "",
          0.2932972321331478,
          "",
          "",
          "",
          0.4070305709282262
         ],
         "yaxis": "y2"
        },
        {
         "connectgaps": false,
         "fill": "tozeroy",
         "line": {
          "color": "red",
          "dash": "solid",
          "shape": "linear",
          "width": 0.5
         },
         "mode": "lines",
         "name": "Spread",
         "showlegend": false,
         "type": "scatter",
         "x": [
          0,
          1,
          2,
          3,
          4,
          5,
          6,
          7,
          8,
          9,
          10,
          11,
          12,
          13,
          14,
          15,
          16,
          17,
          18,
          19,
          20,
          21,
          22,
          23,
          24,
          25,
          26,
          27,
          28,
          29,
          30,
          31,
          32,
          33,
          34,
          35,
          36,
          37,
          38,
          39,
          40,
          41,
          42,
          43,
          44,
          45,
          46,
          47,
          48,
          49,
          50,
          51,
          52,
          53,
          54,
          55,
          56,
          57,
          58,
          59,
          60,
          61,
          62,
          63,
          64,
          65,
          66,
          67,
          68,
          69,
          70,
          71,
          72,
          73,
          74,
          75,
          76,
          77,
          78,
          79,
          80,
          81,
          82,
          83,
          84,
          85,
          86,
          87,
          88,
          89,
          90,
          91,
          92,
          93,
          94,
          95,
          96,
          97,
          98,
          99
         ],
         "xaxis": "x2",
         "y": [
          -0.9662293268441369,
          "",
          "",
          -0.4409784370066572,
          -1.9041566740950615,
          "",
          -0.40460619309302315,
          "",
          -1.0914983039083448,
          "",
          -0.08318916221023145,
          "",
          "",
          -0.7272437473424916,
          "",
          "",
          "",
          "",
          "",
          "",
          "",
          "",
          "",
          -2.76164525655157,
          "",
          -0.7570760423867685,
          "",
          -0.08317839413788303,
          "",
          -2.1103096041214884,
          -0.03387188924442358,
          -0.12664352118279054,
          -1.2571192040774082,
          "",
          -0.15127906759509657,
          "",
          "",
          "",
          "",
          "",
          "",
          "",
          "",
          "",
          -0.1081972893713275,
          "",
          "",
          "",
          -3.5163671817561437,
          -1.2295416197109206,
          "",
          "",
          -2.035701428532949,
          "",
          "",
          "",
          "",
          -2.4397224027815683,
          -1.0358296700104024,
          -0.10694854029788425,
          -1.3116950845768467,
          "",
          "",
          "",
          -0.2464461771426949,
          -2.5710208058912043,
          -1.6730322510321662,
          "",
          "",
          "",
          "",
          "",
          "",
          -1.6153736352129253,
          -1.0242739906374623,
          "",
          "",
          -2.427055858915894,
          "",
          "",
          -0.6971569101304957,
          "",
          -1.651476039304074,
          -0.28381544975542833,
          "",
          -0.044877776089625454,
          -0.4039075631463143,
          "",
          -1.8083444098489792,
          -2.280792518378414,
          "",
          -0.12386852588563185,
          "",
          -0.9690766693291825,
          -1.3804953823336326,
          "",
          -1.0175932245389498,
          -1.1794408705591604,
          -0.08589267931926632,
          ""
         ],
         "yaxis": "y2"
        }
       ],
       "layout": {
        "hovermode": "x",
        "legend": {
         "bgcolor": "#F5F6F9",
         "font": {
          "color": "#4D5663"
         }
        },
        "paper_bgcolor": "#F5F6F9",
        "plot_bgcolor": "#F5F6F9",
        "template": {
         "data": {
          "bar": [
           {
            "error_x": {
             "color": "#2a3f5f"
            },
            "error_y": {
             "color": "#2a3f5f"
            },
            "marker": {
             "line": {
              "color": "#E5ECF6",
              "width": 0.5
             }
            },
            "type": "bar"
           }
          ],
          "barpolar": [
           {
            "marker": {
             "line": {
              "color": "#E5ECF6",
              "width": 0.5
             }
            },
            "type": "barpolar"
           }
          ],
          "carpet": [
           {
            "aaxis": {
             "endlinecolor": "#2a3f5f",
             "gridcolor": "white",
             "linecolor": "white",
             "minorgridcolor": "white",
             "startlinecolor": "#2a3f5f"
            },
            "baxis": {
             "endlinecolor": "#2a3f5f",
             "gridcolor": "white",
             "linecolor": "white",
             "minorgridcolor": "white",
             "startlinecolor": "#2a3f5f"
            },
            "type": "carpet"
           }
          ],
          "choropleth": [
           {
            "colorbar": {
             "outlinewidth": 0,
             "ticks": ""
            },
            "type": "choropleth"
           }
          ],
          "contour": [
           {
            "colorbar": {
             "outlinewidth": 0,
             "ticks": ""
            },
            "colorscale": [
             [
              0,
              "#0d0887"
             ],
             [
              0.1111111111111111,
              "#46039f"
             ],
             [
              0.2222222222222222,
              "#7201a8"
             ],
             [
              0.3333333333333333,
              "#9c179e"
             ],
             [
              0.4444444444444444,
              "#bd3786"
             ],
             [
              0.5555555555555556,
              "#d8576b"
             ],
             [
              0.6666666666666666,
              "#ed7953"
             ],
             [
              0.7777777777777778,
              "#fb9f3a"
             ],
             [
              0.8888888888888888,
              "#fdca26"
             ],
             [
              1,
              "#f0f921"
             ]
            ],
            "type": "contour"
           }
          ],
          "contourcarpet": [
           {
            "colorbar": {
             "outlinewidth": 0,
             "ticks": ""
            },
            "type": "contourcarpet"
           }
          ],
          "heatmap": [
           {
            "colorbar": {
             "outlinewidth": 0,
             "ticks": ""
            },
            "colorscale": [
             [
              0,
              "#0d0887"
             ],
             [
              0.1111111111111111,
              "#46039f"
             ],
             [
              0.2222222222222222,
              "#7201a8"
             ],
             [
              0.3333333333333333,
              "#9c179e"
             ],
             [
              0.4444444444444444,
              "#bd3786"
             ],
             [
              0.5555555555555556,
              "#d8576b"
             ],
             [
              0.6666666666666666,
              "#ed7953"
             ],
             [
              0.7777777777777778,
              "#fb9f3a"
             ],
             [
              0.8888888888888888,
              "#fdca26"
             ],
             [
              1,
              "#f0f921"
             ]
            ],
            "type": "heatmap"
           }
          ],
          "heatmapgl": [
           {
            "colorbar": {
             "outlinewidth": 0,
             "ticks": ""
            },
            "colorscale": [
             [
              0,
              "#0d0887"
             ],
             [
              0.1111111111111111,
              "#46039f"
             ],
             [
              0.2222222222222222,
              "#7201a8"
             ],
             [
              0.3333333333333333,
              "#9c179e"
             ],
             [
              0.4444444444444444,
              "#bd3786"
             ],
             [
              0.5555555555555556,
              "#d8576b"
             ],
             [
              0.6666666666666666,
              "#ed7953"
             ],
             [
              0.7777777777777778,
              "#fb9f3a"
             ],
             [
              0.8888888888888888,
              "#fdca26"
             ],
             [
              1,
              "#f0f921"
             ]
            ],
            "type": "heatmapgl"
           }
          ],
          "histogram": [
           {
            "marker": {
             "colorbar": {
              "outlinewidth": 0,
              "ticks": ""
             }
            },
            "type": "histogram"
           }
          ],
          "histogram2d": [
           {
            "colorbar": {
             "outlinewidth": 0,
             "ticks": ""
            },
            "colorscale": [
             [
              0,
              "#0d0887"
             ],
             [
              0.1111111111111111,
              "#46039f"
             ],
             [
              0.2222222222222222,
              "#7201a8"
             ],
             [
              0.3333333333333333,
              "#9c179e"
             ],
             [
              0.4444444444444444,
              "#bd3786"
             ],
             [
              0.5555555555555556,
              "#d8576b"
             ],
             [
              0.6666666666666666,
              "#ed7953"
             ],
             [
              0.7777777777777778,
              "#fb9f3a"
             ],
             [
              0.8888888888888888,
              "#fdca26"
             ],
             [
              1,
              "#f0f921"
             ]
            ],
            "type": "histogram2d"
           }
          ],
          "histogram2dcontour": [
           {
            "colorbar": {
             "outlinewidth": 0,
             "ticks": ""
            },
            "colorscale": [
             [
              0,
              "#0d0887"
             ],
             [
              0.1111111111111111,
              "#46039f"
             ],
             [
              0.2222222222222222,
              "#7201a8"
             ],
             [
              0.3333333333333333,
              "#9c179e"
             ],
             [
              0.4444444444444444,
              "#bd3786"
             ],
             [
              0.5555555555555556,
              "#d8576b"
             ],
             [
              0.6666666666666666,
              "#ed7953"
             ],
             [
              0.7777777777777778,
              "#fb9f3a"
             ],
             [
              0.8888888888888888,
              "#fdca26"
             ],
             [
              1,
              "#f0f921"
             ]
            ],
            "type": "histogram2dcontour"
           }
          ],
          "mesh3d": [
           {
            "colorbar": {
             "outlinewidth": 0,
             "ticks": ""
            },
            "type": "mesh3d"
           }
          ],
          "parcoords": [
           {
            "line": {
             "colorbar": {
              "outlinewidth": 0,
              "ticks": ""
             }
            },
            "type": "parcoords"
           }
          ],
          "pie": [
           {
            "automargin": true,
            "type": "pie"
           }
          ],
          "scatter": [
           {
            "marker": {
             "colorbar": {
              "outlinewidth": 0,
              "ticks": ""
             }
            },
            "type": "scatter"
           }
          ],
          "scatter3d": [
           {
            "line": {
             "colorbar": {
              "outlinewidth": 0,
              "ticks": ""
             }
            },
            "marker": {
             "colorbar": {
              "outlinewidth": 0,
              "ticks": ""
             }
            },
            "type": "scatter3d"
           }
          ],
          "scattercarpet": [
           {
            "marker": {
             "colorbar": {
              "outlinewidth": 0,
              "ticks": ""
             }
            },
            "type": "scattercarpet"
           }
          ],
          "scattergeo": [
           {
            "marker": {
             "colorbar": {
              "outlinewidth": 0,
              "ticks": ""
             }
            },
            "type": "scattergeo"
           }
          ],
          "scattergl": [
           {
            "marker": {
             "colorbar": {
              "outlinewidth": 0,
              "ticks": ""
             }
            },
            "type": "scattergl"
           }
          ],
          "scattermapbox": [
           {
            "marker": {
             "colorbar": {
              "outlinewidth": 0,
              "ticks": ""
             }
            },
            "type": "scattermapbox"
           }
          ],
          "scatterpolar": [
           {
            "marker": {
             "colorbar": {
              "outlinewidth": 0,
              "ticks": ""
             }
            },
            "type": "scatterpolar"
           }
          ],
          "scatterpolargl": [
           {
            "marker": {
             "colorbar": {
              "outlinewidth": 0,
              "ticks": ""
             }
            },
            "type": "scatterpolargl"
           }
          ],
          "scatterternary": [
           {
            "marker": {
             "colorbar": {
              "outlinewidth": 0,
              "ticks": ""
             }
            },
            "type": "scatterternary"
           }
          ],
          "surface": [
           {
            "colorbar": {
             "outlinewidth": 0,
             "ticks": ""
            },
            "colorscale": [
             [
              0,
              "#0d0887"
             ],
             [
              0.1111111111111111,
              "#46039f"
             ],
             [
              0.2222222222222222,
              "#7201a8"
             ],
             [
              0.3333333333333333,
              "#9c179e"
             ],
             [
              0.4444444444444444,
              "#bd3786"
             ],
             [
              0.5555555555555556,
              "#d8576b"
             ],
             [
              0.6666666666666666,
              "#ed7953"
             ],
             [
              0.7777777777777778,
              "#fb9f3a"
             ],
             [
              0.8888888888888888,
              "#fdca26"
             ],
             [
              1,
              "#f0f921"
             ]
            ],
            "type": "surface"
           }
          ],
          "table": [
           {
            "cells": {
             "fill": {
              "color": "#EBF0F8"
             },
             "line": {
              "color": "white"
             }
            },
            "header": {
             "fill": {
              "color": "#C8D4E3"
             },
             "line": {
              "color": "white"
             }
            },
            "type": "table"
           }
          ]
         },
         "layout": {
          "annotationdefaults": {
           "arrowcolor": "#2a3f5f",
           "arrowhead": 0,
           "arrowwidth": 1
          },
          "autotypenumbers": "strict",
          "coloraxis": {
           "colorbar": {
            "outlinewidth": 0,
            "ticks": ""
           }
          },
          "colorscale": {
           "diverging": [
            [
             0,
             "#8e0152"
            ],
            [
             0.1,
             "#c51b7d"
            ],
            [
             0.2,
             "#de77ae"
            ],
            [
             0.3,
             "#f1b6da"
            ],
            [
             0.4,
             "#fde0ef"
            ],
            [
             0.5,
             "#f7f7f7"
            ],
            [
             0.6,
             "#e6f5d0"
            ],
            [
             0.7,
             "#b8e186"
            ],
            [
             0.8,
             "#7fbc41"
            ],
            [
             0.9,
             "#4d9221"
            ],
            [
             1,
             "#276419"
            ]
           ],
           "sequential": [
            [
             0,
             "#0d0887"
            ],
            [
             0.1111111111111111,
             "#46039f"
            ],
            [
             0.2222222222222222,
             "#7201a8"
            ],
            [
             0.3333333333333333,
             "#9c179e"
            ],
            [
             0.4444444444444444,
             "#bd3786"
            ],
            [
             0.5555555555555556,
             "#d8576b"
            ],
            [
             0.6666666666666666,
             "#ed7953"
            ],
            [
             0.7777777777777778,
             "#fb9f3a"
            ],
            [
             0.8888888888888888,
             "#fdca26"
            ],
            [
             1,
             "#f0f921"
            ]
           ],
           "sequentialminus": [
            [
             0,
             "#0d0887"
            ],
            [
             0.1111111111111111,
             "#46039f"
            ],
            [
             0.2222222222222222,
             "#7201a8"
            ],
            [
             0.3333333333333333,
             "#9c179e"
            ],
            [
             0.4444444444444444,
             "#bd3786"
            ],
            [
             0.5555555555555556,
             "#d8576b"
            ],
            [
             0.6666666666666666,
             "#ed7953"
            ],
            [
             0.7777777777777778,
             "#fb9f3a"
            ],
            [
             0.8888888888888888,
             "#fdca26"
            ],
            [
             1,
             "#f0f921"
            ]
           ]
          },
          "colorway": [
           "#636efa",
           "#EF553B",
           "#00cc96",
           "#ab63fa",
           "#FFA15A",
           "#19d3f3",
           "#FF6692",
           "#B6E880",
           "#FF97FF",
           "#FECB52"
          ],
          "font": {
           "color": "#2a3f5f"
          },
          "geo": {
           "bgcolor": "white",
           "lakecolor": "white",
           "landcolor": "#E5ECF6",
           "showlakes": true,
           "showland": true,
           "subunitcolor": "white"
          },
          "hoverlabel": {
           "align": "left"
          },
          "hovermode": "closest",
          "mapbox": {
           "style": "light"
          },
          "paper_bgcolor": "white",
          "plot_bgcolor": "#E5ECF6",
          "polar": {
           "angularaxis": {
            "gridcolor": "white",
            "linecolor": "white",
            "ticks": ""
           },
           "bgcolor": "#E5ECF6",
           "radialaxis": {
            "gridcolor": "white",
            "linecolor": "white",
            "ticks": ""
           }
          },
          "scene": {
           "xaxis": {
            "backgroundcolor": "#E5ECF6",
            "gridcolor": "white",
            "gridwidth": 2,
            "linecolor": "white",
            "showbackground": true,
            "ticks": "",
            "zerolinecolor": "white"
           },
           "yaxis": {
            "backgroundcolor": "#E5ECF6",
            "gridcolor": "white",
            "gridwidth": 2,
            "linecolor": "white",
            "showbackground": true,
            "ticks": "",
            "zerolinecolor": "white"
           },
           "zaxis": {
            "backgroundcolor": "#E5ECF6",
            "gridcolor": "white",
            "gridwidth": 2,
            "linecolor": "white",
            "showbackground": true,
            "ticks": "",
            "zerolinecolor": "white"
           }
          },
          "shapedefaults": {
           "line": {
            "color": "#2a3f5f"
           }
          },
          "ternary": {
           "aaxis": {
            "gridcolor": "white",
            "linecolor": "white",
            "ticks": ""
           },
           "baxis": {
            "gridcolor": "white",
            "linecolor": "white",
            "ticks": ""
           },
           "bgcolor": "#E5ECF6",
           "caxis": {
            "gridcolor": "white",
            "linecolor": "white",
            "ticks": ""
           }
          },
          "title": {
           "x": 0.05
          },
          "xaxis": {
           "automargin": true,
           "gridcolor": "white",
           "linecolor": "white",
           "ticks": "",
           "title": {
            "standoff": 15
           },
           "zerolinecolor": "white",
           "zerolinewidth": 2
          },
          "yaxis": {
           "automargin": true,
           "gridcolor": "white",
           "linecolor": "white",
           "ticks": "",
           "title": {
            "standoff": 15
           },
           "zerolinecolor": "white",
           "zerolinewidth": 2
          }
         }
        },
        "title": {
         "font": {
          "color": "#4D5663"
         }
        },
        "xaxis": {
         "gridcolor": "#E1E5ED",
         "showgrid": true,
         "tickfont": {
          "color": "#4D5663"
         },
         "title": {
          "font": {
           "color": "#4D5663"
          },
          "text": ""
         },
         "zerolinecolor": "#E1E5ED"
        },
        "xaxis2": {
         "anchor": "y2",
         "gridcolor": "#E1E5ED",
         "showgrid": true,
         "showticklabels": false,
         "tickfont": {
          "color": "#4D5663"
         },
         "title": {
          "font": {
           "color": "#4D5663"
          },
          "text": ""
         },
         "zerolinecolor": "#E1E5ED"
        },
        "yaxis": {
         "domain": [
          0.3,
          1
         ],
         "gridcolor": "#E1E5ED",
         "showgrid": true,
         "tickfont": {
          "color": "#4D5663"
         },
         "title": {
          "font": {
           "color": "#4D5663"
          },
          "text": ""
         },
         "zerolinecolor": "#E1E5ED"
        },
        "yaxis2": {
         "domain": [
          0,
          0.25
         ],
         "gridcolor": "#E1E5ED",
         "showgrid": true,
         "tickfont": {
          "color": "#4D5663"
         },
         "title": {
          "font": {
           "color": "#4D5663"
          },
          "text": "Spread"
         },
         "zerolinecolor": "#E1E5ED"
        }
       }
      },
      "text/html": [
       "<div>                            <div id=\"fe96f577-1089-4c86-86e5-acb88a14f608\" class=\"plotly-graph-div\" style=\"height:525px; width:100%;\"></div>            <script type=\"text/javascript\">                require([\"plotly\"], function(Plotly) {                    window.PLOTLYENV=window.PLOTLYENV || {};\n",
       "                    window.PLOTLYENV.BASE_URL='https://plot.ly';                                    if (document.getElementById(\"fe96f577-1089-4c86-86e5-acb88a14f608\")) {                    Plotly.newPlot(                        \"fe96f577-1089-4c86-86e5-acb88a14f608\",                        [{\"line\": {\"color\": \"rgba(255, 153, 51, 1.0)\", \"dash\": \"solid\", \"shape\": \"linear\", \"width\": 1.3}, \"mode\": \"lines\", \"name\": \"A\", \"text\": \"\", \"type\": \"scatter\", \"x\": [0, 1, 2, 3, 4, 5, 6, 7, 8, 9, 10, 11, 12, 13, 14, 15, 16, 17, 18, 19, 20, 21, 22, 23, 24, 25, 26, 27, 28, 29, 30, 31, 32, 33, 34, 35, 36, 37, 38, 39, 40, 41, 42, 43, 44, 45, 46, 47, 48, 49, 50, 51, 52, 53, 54, 55, 56, 57, 58, 59, 60, 61, 62, 63, 64, 65, 66, 67, 68, 69, 70, 71, 72, 73, 74, 75, 76, 77, 78, 79, 80, 81, 82, 83, 84, 85, 86, 87, 88, 89, 90, 91, 92, 93, 94, 95, 96, 97, 98, 99], \"y\": [-1.1297355996644, -0.7378182431367298, 1.3018362014014464, -0.3897524354762462, -0.28469569627643276, 0.26189570707558646, -0.9076631525537662, 0.6203535138805666, -0.6186803199969817, 1.1226080642068443, -0.041438635172887366, -0.0022362033056104436, -1.0499832175198893, 0.08986937258436357, 1.3375457246389604, 1.9232171151998751, 1.2514977061012698, -0.010263114481263881, 1.4971556937885246, 0.5715860883089958, 0.19761772066921174, 1.1502304384350708, -0.24098786918618537, -1.6010465710520883, 0.9732937328192726, 0.11160359753779947, 0.32197195249841265, 0.30358682957964434, 0.40859502431711464, 0.6193062029177665, -0.4755616450031329, -1.0241841009392374, -0.10086891983338513, 0.754866747209579, 0.06900528817558078, -0.24279306917070723, 1.0348185228210516, -0.3958072182103754, -0.2877736157815689, 1.8262614760763645, 0.6560796576224647, 0.6039936134209548, 0.13811643849623192, 0.6169996082287618, -0.4388003603691258, 0.0857953494782665, 0.06263204663463057, 1.9136188883998924, -2.1038091801398306, -0.5031598748343795, -0.499738792228652, 0.3442035464303753, -1.2225361345294794, -0.22793921626844366, 0.5262130361354909, -0.010912344260437948, 2.2298919035757816, -1.444058305089868, -1.1316461333814778, 0.3933956396359092, -0.8704396282469317, -0.20553795675791134, -0.08867481958175209, -1.1172775865956317, -1.5260076855104778, -1.7467581009661328, -1.0664288474904873, 1.9150131279839857, 0.7683469110544034, 2.00607805679846, 1.8580914663696646, 1.9062502131655201, 0.03580593006324525, -0.6555706026085864, -1.1089797545764777, 0.8329301907539098, 0.8284039642458526, -1.1789468559824925, 0.7518735549022194, 1.0952234728205141, -0.3779764711785572, -0.9265655021956508, -0.9553992513910263, -0.38587972952013033, -0.6838345119123879, -0.43684706995405886, -0.4081057994560073, -1.5156425658958605, -0.575082296862586, -1.9415192419502305, 0.6216142225912914, -0.17327214911462618, 0.41144632474130993, 0.15372200990299822, -0.6157231774320628, 0.5240625234153609, -0.9920542569293624, -0.1510296013533493, -0.20056562222891014, -0.10335285122129649]}, {\"line\": {\"color\": \"rgba(55, 128, 191, 1.0)\", \"dash\": \"solid\", \"shape\": \"linear\", \"width\": 1.3}, \"mode\": \"lines\", \"name\": \"B\", \"text\": \"\", \"type\": \"scatter\", \"x\": [0, 1, 2, 3, 4, 5, 6, 7, 8, 9, 10, 11, 12, 13, 14, 15, 16, 17, 18, 19, 20, 21, 22, 23, 24, 25, 26, 27, 28, 29, 30, 31, 32, 33, 34, 35, 36, 37, 38, 39, 40, 41, 42, 43, 44, 45, 46, 47, 48, 49, 50, 51, 52, 53, 54, 55, 56, 57, 58, 59, 60, 61, 62, 63, 64, 65, 66, 67, 68, 69, 70, 71, 72, 73, 74, 75, 76, 77, 78, 79, 80, 81, 82, 83, 84, 85, 86, 87, 88, 89, 90, 91, 92, 93, 94, 95, 96, 97, 98, 99], \"y\": [-0.1635062728202632, -0.9756447904649324, 0.4357492211576944, 0.051226001530410986, 1.6194609778186286, -0.2614992416979577, -0.503056959460743, -0.13993298480476804, 0.4728179839113631, 0.53389506015398, 0.04175052703734408, -0.07721058388948895, -1.225800753883539, 0.8171131199268552, 0.271335570828907, -0.6148593154348182, -2.5442148291754667, -1.7782906353324925, 0.1356671690464854, 0.5537287920898528, -1.9714030383810386, 0.21204671141656967, -0.49986516306652934, 1.1605986854994819, -0.15289830668798166, 0.868679639924568, -0.5327690147279569, 0.38676522371752736, -0.697783301263672, 2.729615807039255, -0.44168975575870933, -0.8975405797564469, 1.156250284244023, 0.18372610275768578, 0.22028435577067737, -2.0445273482561723, -1.2705850191721542, -1.4398853748138425, -0.5164216605007113, -0.8766005893127831, -0.20189795216579856, -0.63168004490542, -0.10625317572230386, 0.06570462032791533, -0.3306030709977983, -1.1066179005719434, -1.8001592887010398, -1.2464956160103438, 1.412558001616313, 0.7263817448765412, -0.674821902689123, 0.13863430885397565, 0.8131652940034697, -1.8446556023227498, -0.3991970389101511, -1.6061316037339424, -0.3895083198515032, 0.9956640976917002, -0.09581646337107551, 0.5003441799337934, 0.4412554563299149, -1.2186611487320202, -0.6603496496066004, -1.3840238128032634, -1.279561508367783, 0.8242627049250715, 0.6066034035416791, -0.3129127244834932, 0.7439229469840886, -0.09075013988002041, -0.31059118918465206, -0.6998974552396815, -1.4718276518213624, 0.9598030326043391, -0.08470576393901538, -1.6271765054338334, 0.10367717536539334, 1.2481090029334017, -1.3083436514057565, 0.9001700007453994, 0.3191804389519386, -1.216318060061043, 0.6960767879130475, -0.10206427976470202, -1.0295841917882045, -0.3919692938644334, -0.004198236309692963, -2.7629842618099905, 1.2332621129863932, 0.3392732764281834, -0.6057250793486275, -0.049403623228994324, -1.1140335648259374, 1.1227986792321807, 0.7647722049015698, 0.23076529128221307, 0.025538967609587467, 1.0284112692058112, -0.11467294290964382, -0.5103834221495227]}, {\"connectgaps\": false, \"fill\": \"tozeroy\", \"line\": {\"color\": \"green\", \"dash\": \"solid\", \"shape\": \"linear\", \"width\": 0.5}, \"mode\": \"lines\", \"name\": \"Spread\", \"showlegend\": false, \"type\": \"scatter\", \"x\": [0, 1, 2, 3, 4, 5, 6, 7, 8, 9, 10, 11, 12, 13, 14, 15, 16, 17, 18, 19, 20, 21, 22, 23, 24, 25, 26, 27, 28, 29, 30, 31, 32, 33, 34, 35, 36, 37, 38, 39, 40, 41, 42, 43, 44, 45, 46, 47, 48, 49, 50, 51, 52, 53, 54, 55, 56, 57, 58, 59, 60, 61, 62, 63, 64, 65, 66, 67, 68, 69, 70, 71, 72, 73, 74, 75, 76, 77, 78, 79, 80, 81, 82, 83, 84, 85, 86, 87, 88, 89, 90, 91, 92, 93, 94, 95, 96, 97, 98, 99], \"xaxis\": \"x2\", \"y\": [\"\", 0.23782654732820252, 0.8660869802437521, \"\", \"\", 0.5233949487735441, \"\", 0.7602864986853346, \"\", 0.5887130040528643, \"\", 0.07497438058387851, 0.1758175363636496, \"\", 1.0662101538100535, 2.5380764306346935, 3.7957125352767367, 1.7680275208512286, 1.3614885247420392, 0.017857296219143004, 2.1690207590502504, 0.9381837270185012, 0.258877293880344, \"\", 1.1261920395072542, \"\", 0.8547409672263695, \"\", 1.1063783255807866, \"\", \"\", \"\", \"\", 0.5711406444518933, \"\", 1.8017342790854651, 2.305403541993206, 1.0440781566034671, 0.22864804471914235, 2.7028620653891475, 0.8579776097882632, 1.2356736583263748, 0.24436961421853579, 0.5512949879008464, \"\", 1.19241325005021, 1.8627913353356704, 3.1601145044102363, \"\", \"\", 0.17508311046047104, 0.20556923757639967, \"\", 1.6167163860543061, 0.925410075045642, 1.5952192594735044, 2.619400223427285, \"\", \"\", \"\", \"\", 1.0131231919741088, 0.5716748300248483, 0.26674622620763166, \"\", \"\", \"\", 2.2279258524674788, 0.024423964070314885, 2.0968281966784805, 2.1686826555543166, 2.6061476684052014, 1.5076335818846076, \"\", \"\", 2.460106696187743, 0.7247267888804593, \"\", 2.060217206307976, 0.1950534720751147, \"\", 0.2897525578653922, \"\", \"\", 0.3457496798758166, \"\", \"\", 1.24734169591413, \"\", \"\", 1.227339301939919, \"\", 1.5254798895672472, \"\", \"\", 0.2932972321331478, \"\", \"\", \"\", 0.4070305709282262], \"yaxis\": \"y2\"}, {\"connectgaps\": false, \"fill\": \"tozeroy\", \"line\": {\"color\": \"red\", \"dash\": \"solid\", \"shape\": \"linear\", \"width\": 0.5}, \"mode\": \"lines\", \"name\": \"Spread\", \"showlegend\": false, \"type\": \"scatter\", \"x\": [0, 1, 2, 3, 4, 5, 6, 7, 8, 9, 10, 11, 12, 13, 14, 15, 16, 17, 18, 19, 20, 21, 22, 23, 24, 25, 26, 27, 28, 29, 30, 31, 32, 33, 34, 35, 36, 37, 38, 39, 40, 41, 42, 43, 44, 45, 46, 47, 48, 49, 50, 51, 52, 53, 54, 55, 56, 57, 58, 59, 60, 61, 62, 63, 64, 65, 66, 67, 68, 69, 70, 71, 72, 73, 74, 75, 76, 77, 78, 79, 80, 81, 82, 83, 84, 85, 86, 87, 88, 89, 90, 91, 92, 93, 94, 95, 96, 97, 98, 99], \"xaxis\": \"x2\", \"y\": [-0.9662293268441369, \"\", \"\", -0.4409784370066572, -1.9041566740950615, \"\", -0.40460619309302315, \"\", -1.0914983039083448, \"\", -0.08318916221023145, \"\", \"\", -0.7272437473424916, \"\", \"\", \"\", \"\", \"\", \"\", \"\", \"\", \"\", -2.76164525655157, \"\", -0.7570760423867685, \"\", -0.08317839413788303, \"\", -2.1103096041214884, -0.03387188924442358, -0.12664352118279054, -1.2571192040774082, \"\", -0.15127906759509657, \"\", \"\", \"\", \"\", \"\", \"\", \"\", \"\", \"\", -0.1081972893713275, \"\", \"\", \"\", -3.5163671817561437, -1.2295416197109206, \"\", \"\", -2.035701428532949, \"\", \"\", \"\", \"\", -2.4397224027815683, -1.0358296700104024, -0.10694854029788425, -1.3116950845768467, \"\", \"\", \"\", -0.2464461771426949, -2.5710208058912043, -1.6730322510321662, \"\", \"\", \"\", \"\", \"\", \"\", -1.6153736352129253, -1.0242739906374623, \"\", \"\", -2.427055858915894, \"\", \"\", -0.6971569101304957, \"\", -1.651476039304074, -0.28381544975542833, \"\", -0.044877776089625454, -0.4039075631463143, \"\", -1.8083444098489792, -2.280792518378414, \"\", -0.12386852588563185, \"\", -0.9690766693291825, -1.3804953823336326, \"\", -1.0175932245389498, -1.1794408705591604, -0.08589267931926632, \"\"], \"yaxis\": \"y2\"}],                        {\"hovermode\": \"x\", \"legend\": {\"bgcolor\": \"#F5F6F9\", \"font\": {\"color\": \"#4D5663\"}}, \"paper_bgcolor\": \"#F5F6F9\", \"plot_bgcolor\": \"#F5F6F9\", \"template\": {\"data\": {\"bar\": [{\"error_x\": {\"color\": \"#2a3f5f\"}, \"error_y\": {\"color\": \"#2a3f5f\"}, \"marker\": {\"line\": {\"color\": \"#E5ECF6\", \"width\": 0.5}}, \"type\": \"bar\"}], \"barpolar\": [{\"marker\": {\"line\": {\"color\": \"#E5ECF6\", \"width\": 0.5}}, \"type\": \"barpolar\"}], \"carpet\": [{\"aaxis\": {\"endlinecolor\": \"#2a3f5f\", \"gridcolor\": \"white\", \"linecolor\": \"white\", \"minorgridcolor\": \"white\", \"startlinecolor\": \"#2a3f5f\"}, \"baxis\": {\"endlinecolor\": \"#2a3f5f\", \"gridcolor\": \"white\", \"linecolor\": \"white\", \"minorgridcolor\": \"white\", \"startlinecolor\": \"#2a3f5f\"}, \"type\": \"carpet\"}], \"choropleth\": [{\"colorbar\": {\"outlinewidth\": 0, \"ticks\": \"\"}, \"type\": \"choropleth\"}], \"contour\": [{\"colorbar\": {\"outlinewidth\": 0, \"ticks\": \"\"}, \"colorscale\": [[0.0, \"#0d0887\"], [0.1111111111111111, \"#46039f\"], [0.2222222222222222, \"#7201a8\"], [0.3333333333333333, \"#9c179e\"], [0.4444444444444444, \"#bd3786\"], [0.5555555555555556, \"#d8576b\"], [0.6666666666666666, \"#ed7953\"], [0.7777777777777778, \"#fb9f3a\"], [0.8888888888888888, \"#fdca26\"], [1.0, \"#f0f921\"]], \"type\": \"contour\"}], \"contourcarpet\": [{\"colorbar\": {\"outlinewidth\": 0, \"ticks\": \"\"}, \"type\": \"contourcarpet\"}], \"heatmap\": [{\"colorbar\": {\"outlinewidth\": 0, \"ticks\": \"\"}, \"colorscale\": [[0.0, \"#0d0887\"], [0.1111111111111111, \"#46039f\"], [0.2222222222222222, \"#7201a8\"], [0.3333333333333333, \"#9c179e\"], [0.4444444444444444, \"#bd3786\"], [0.5555555555555556, \"#d8576b\"], [0.6666666666666666, \"#ed7953\"], [0.7777777777777778, \"#fb9f3a\"], [0.8888888888888888, \"#fdca26\"], [1.0, \"#f0f921\"]], \"type\": \"heatmap\"}], \"heatmapgl\": [{\"colorbar\": {\"outlinewidth\": 0, \"ticks\": \"\"}, \"colorscale\": [[0.0, \"#0d0887\"], [0.1111111111111111, \"#46039f\"], [0.2222222222222222, \"#7201a8\"], [0.3333333333333333, \"#9c179e\"], [0.4444444444444444, \"#bd3786\"], [0.5555555555555556, \"#d8576b\"], [0.6666666666666666, \"#ed7953\"], [0.7777777777777778, \"#fb9f3a\"], [0.8888888888888888, \"#fdca26\"], [1.0, \"#f0f921\"]], \"type\": \"heatmapgl\"}], \"histogram\": [{\"marker\": {\"colorbar\": {\"outlinewidth\": 0, \"ticks\": \"\"}}, \"type\": \"histogram\"}], \"histogram2d\": [{\"colorbar\": {\"outlinewidth\": 0, \"ticks\": \"\"}, \"colorscale\": [[0.0, \"#0d0887\"], [0.1111111111111111, \"#46039f\"], [0.2222222222222222, \"#7201a8\"], [0.3333333333333333, \"#9c179e\"], [0.4444444444444444, \"#bd3786\"], [0.5555555555555556, \"#d8576b\"], [0.6666666666666666, \"#ed7953\"], [0.7777777777777778, \"#fb9f3a\"], [0.8888888888888888, \"#fdca26\"], [1.0, \"#f0f921\"]], \"type\": \"histogram2d\"}], \"histogram2dcontour\": [{\"colorbar\": {\"outlinewidth\": 0, \"ticks\": \"\"}, \"colorscale\": [[0.0, \"#0d0887\"], [0.1111111111111111, \"#46039f\"], [0.2222222222222222, \"#7201a8\"], [0.3333333333333333, \"#9c179e\"], [0.4444444444444444, \"#bd3786\"], [0.5555555555555556, \"#d8576b\"], [0.6666666666666666, \"#ed7953\"], [0.7777777777777778, \"#fb9f3a\"], [0.8888888888888888, \"#fdca26\"], [1.0, \"#f0f921\"]], \"type\": \"histogram2dcontour\"}], \"mesh3d\": [{\"colorbar\": {\"outlinewidth\": 0, \"ticks\": \"\"}, \"type\": \"mesh3d\"}], \"parcoords\": [{\"line\": {\"colorbar\": {\"outlinewidth\": 0, \"ticks\": \"\"}}, \"type\": \"parcoords\"}], \"pie\": [{\"automargin\": true, \"type\": \"pie\"}], \"scatter\": [{\"marker\": {\"colorbar\": {\"outlinewidth\": 0, \"ticks\": \"\"}}, \"type\": \"scatter\"}], \"scatter3d\": [{\"line\": {\"colorbar\": {\"outlinewidth\": 0, \"ticks\": \"\"}}, \"marker\": {\"colorbar\": {\"outlinewidth\": 0, \"ticks\": \"\"}}, \"type\": \"scatter3d\"}], \"scattercarpet\": [{\"marker\": {\"colorbar\": {\"outlinewidth\": 0, \"ticks\": \"\"}}, \"type\": \"scattercarpet\"}], \"scattergeo\": [{\"marker\": {\"colorbar\": {\"outlinewidth\": 0, \"ticks\": \"\"}}, \"type\": \"scattergeo\"}], \"scattergl\": [{\"marker\": {\"colorbar\": {\"outlinewidth\": 0, \"ticks\": \"\"}}, \"type\": \"scattergl\"}], \"scattermapbox\": [{\"marker\": {\"colorbar\": {\"outlinewidth\": 0, \"ticks\": \"\"}}, \"type\": \"scattermapbox\"}], \"scatterpolar\": [{\"marker\": {\"colorbar\": {\"outlinewidth\": 0, \"ticks\": \"\"}}, \"type\": \"scatterpolar\"}], \"scatterpolargl\": [{\"marker\": {\"colorbar\": {\"outlinewidth\": 0, \"ticks\": \"\"}}, \"type\": \"scatterpolargl\"}], \"scatterternary\": [{\"marker\": {\"colorbar\": {\"outlinewidth\": 0, \"ticks\": \"\"}}, \"type\": \"scatterternary\"}], \"surface\": [{\"colorbar\": {\"outlinewidth\": 0, \"ticks\": \"\"}, \"colorscale\": [[0.0, \"#0d0887\"], [0.1111111111111111, \"#46039f\"], [0.2222222222222222, \"#7201a8\"], [0.3333333333333333, \"#9c179e\"], [0.4444444444444444, \"#bd3786\"], [0.5555555555555556, \"#d8576b\"], [0.6666666666666666, \"#ed7953\"], [0.7777777777777778, \"#fb9f3a\"], [0.8888888888888888, \"#fdca26\"], [1.0, \"#f0f921\"]], \"type\": \"surface\"}], \"table\": [{\"cells\": {\"fill\": {\"color\": \"#EBF0F8\"}, \"line\": {\"color\": \"white\"}}, \"header\": {\"fill\": {\"color\": \"#C8D4E3\"}, \"line\": {\"color\": \"white\"}}, \"type\": \"table\"}]}, \"layout\": {\"annotationdefaults\": {\"arrowcolor\": \"#2a3f5f\", \"arrowhead\": 0, \"arrowwidth\": 1}, \"autotypenumbers\": \"strict\", \"coloraxis\": {\"colorbar\": {\"outlinewidth\": 0, \"ticks\": \"\"}}, \"colorscale\": {\"diverging\": [[0, \"#8e0152\"], [0.1, \"#c51b7d\"], [0.2, \"#de77ae\"], [0.3, \"#f1b6da\"], [0.4, \"#fde0ef\"], [0.5, \"#f7f7f7\"], [0.6, \"#e6f5d0\"], [0.7, \"#b8e186\"], [0.8, \"#7fbc41\"], [0.9, \"#4d9221\"], [1, \"#276419\"]], \"sequential\": [[0.0, \"#0d0887\"], [0.1111111111111111, \"#46039f\"], [0.2222222222222222, \"#7201a8\"], [0.3333333333333333, \"#9c179e\"], [0.4444444444444444, \"#bd3786\"], [0.5555555555555556, \"#d8576b\"], [0.6666666666666666, \"#ed7953\"], [0.7777777777777778, \"#fb9f3a\"], [0.8888888888888888, \"#fdca26\"], [1.0, \"#f0f921\"]], \"sequentialminus\": [[0.0, \"#0d0887\"], [0.1111111111111111, \"#46039f\"], [0.2222222222222222, \"#7201a8\"], [0.3333333333333333, \"#9c179e\"], [0.4444444444444444, \"#bd3786\"], [0.5555555555555556, \"#d8576b\"], [0.6666666666666666, \"#ed7953\"], [0.7777777777777778, \"#fb9f3a\"], [0.8888888888888888, \"#fdca26\"], [1.0, \"#f0f921\"]]}, \"colorway\": [\"#636efa\", \"#EF553B\", \"#00cc96\", \"#ab63fa\", \"#FFA15A\", \"#19d3f3\", \"#FF6692\", \"#B6E880\", \"#FF97FF\", \"#FECB52\"], \"font\": {\"color\": \"#2a3f5f\"}, \"geo\": {\"bgcolor\": \"white\", \"lakecolor\": \"white\", \"landcolor\": \"#E5ECF6\", \"showlakes\": true, \"showland\": true, \"subunitcolor\": \"white\"}, \"hoverlabel\": {\"align\": \"left\"}, \"hovermode\": \"closest\", \"mapbox\": {\"style\": \"light\"}, \"paper_bgcolor\": \"white\", \"plot_bgcolor\": \"#E5ECF6\", \"polar\": {\"angularaxis\": {\"gridcolor\": \"white\", \"linecolor\": \"white\", \"ticks\": \"\"}, \"bgcolor\": \"#E5ECF6\", \"radialaxis\": {\"gridcolor\": \"white\", \"linecolor\": \"white\", \"ticks\": \"\"}}, \"scene\": {\"xaxis\": {\"backgroundcolor\": \"#E5ECF6\", \"gridcolor\": \"white\", \"gridwidth\": 2, \"linecolor\": \"white\", \"showbackground\": true, \"ticks\": \"\", \"zerolinecolor\": \"white\"}, \"yaxis\": {\"backgroundcolor\": \"#E5ECF6\", \"gridcolor\": \"white\", \"gridwidth\": 2, \"linecolor\": \"white\", \"showbackground\": true, \"ticks\": \"\", \"zerolinecolor\": \"white\"}, \"zaxis\": {\"backgroundcolor\": \"#E5ECF6\", \"gridcolor\": \"white\", \"gridwidth\": 2, \"linecolor\": \"white\", \"showbackground\": true, \"ticks\": \"\", \"zerolinecolor\": \"white\"}}, \"shapedefaults\": {\"line\": {\"color\": \"#2a3f5f\"}}, \"ternary\": {\"aaxis\": {\"gridcolor\": \"white\", \"linecolor\": \"white\", \"ticks\": \"\"}, \"baxis\": {\"gridcolor\": \"white\", \"linecolor\": \"white\", \"ticks\": \"\"}, \"bgcolor\": \"#E5ECF6\", \"caxis\": {\"gridcolor\": \"white\", \"linecolor\": \"white\", \"ticks\": \"\"}}, \"title\": {\"x\": 0.05}, \"xaxis\": {\"automargin\": true, \"gridcolor\": \"white\", \"linecolor\": \"white\", \"ticks\": \"\", \"title\": {\"standoff\": 15}, \"zerolinecolor\": \"white\", \"zerolinewidth\": 2}, \"yaxis\": {\"automargin\": true, \"gridcolor\": \"white\", \"linecolor\": \"white\", \"ticks\": \"\", \"title\": {\"standoff\": 15}, \"zerolinecolor\": \"white\", \"zerolinewidth\": 2}}}, \"title\": {\"font\": {\"color\": \"#4D5663\"}}, \"xaxis\": {\"gridcolor\": \"#E1E5ED\", \"showgrid\": true, \"tickfont\": {\"color\": \"#4D5663\"}, \"title\": {\"font\": {\"color\": \"#4D5663\"}, \"text\": \"\"}, \"zerolinecolor\": \"#E1E5ED\"}, \"xaxis2\": {\"anchor\": \"y2\", \"gridcolor\": \"#E1E5ED\", \"showgrid\": true, \"showticklabels\": false, \"tickfont\": {\"color\": \"#4D5663\"}, \"title\": {\"font\": {\"color\": \"#4D5663\"}, \"text\": \"\"}, \"zerolinecolor\": \"#E1E5ED\"}, \"yaxis\": {\"domain\": [0.3, 1], \"gridcolor\": \"#E1E5ED\", \"showgrid\": true, \"tickfont\": {\"color\": \"#4D5663\"}, \"title\": {\"font\": {\"color\": \"#4D5663\"}, \"text\": \"\"}, \"zerolinecolor\": \"#E1E5ED\"}, \"yaxis2\": {\"domain\": [0, 0.25], \"gridcolor\": \"#E1E5ED\", \"showgrid\": true, \"tickfont\": {\"color\": \"#4D5663\"}, \"title\": {\"font\": {\"color\": \"#4D5663\"}, \"text\": \"Spread\"}, \"zerolinecolor\": \"#E1E5ED\"}},                        {\"showLink\": true, \"linkText\": \"Export to plot.ly\", \"plotlyServerURL\": \"https://plot.ly\", \"responsive\": true}                    ).then(function(){\n",
       "                            \n",
       "var gd = document.getElementById('fe96f577-1089-4c86-86e5-acb88a14f608');\n",
       "var x = new MutationObserver(function (mutations, observer) {{\n",
       "        var display = window.getComputedStyle(gd).display;\n",
       "        if (!display || display === 'none') {{\n",
       "            console.log([gd, 'removed!']);\n",
       "            Plotly.purge(gd);\n",
       "            observer.disconnect();\n",
       "        }}\n",
       "}});\n",
       "\n",
       "// Listen for the removal of the full notebook cells\n",
       "var notebookContainer = gd.closest('#notebook-container');\n",
       "if (notebookContainer) {{\n",
       "    x.observe(notebookContainer, {childList: true});\n",
       "}}\n",
       "\n",
       "// Listen for the clearing of the current output cell\n",
       "var outputEl = gd.closest('.output');\n",
       "if (outputEl) {{\n",
       "    x.observe(outputEl, {childList: true});\n",
       "}}\n",
       "\n",
       "                        })                };                });            </script>        </div>"
      ]
     },
     "metadata": {},
     "output_type": "display_data"
    }
   ],
   "source": [
    "df[['A','B']].iplot(kind='spread')"
   ]
  },
  {
   "cell_type": "markdown",
   "metadata": {},
   "source": [
    "## Histogram"
   ]
  },
  {
   "cell_type": "code",
   "execution_count": 16,
   "metadata": {},
   "outputs": [
    {
     "data": {
      "application/vnd.plotly.v1+json": {
       "config": {
        "linkText": "Export to plot.ly",
        "plotlyServerURL": "https://plot.ly",
        "showLink": true
       },
       "data": [
        {
         "histfunc": "count",
         "histnorm": "",
         "marker": {
          "color": "rgba(255, 153, 51, 1.0)",
          "line": {
           "color": "#4D5663",
           "width": 1.3
          }
         },
         "name": "A",
         "nbinsx": 25,
         "opacity": 0.8,
         "orientation": "v",
         "type": "histogram",
         "x": [
          -1.1297355996644,
          -0.7378182431367298,
          1.3018362014014464,
          -0.3897524354762462,
          -0.28469569627643276,
          0.26189570707558646,
          -0.9076631525537662,
          0.6203535138805666,
          -0.6186803199969817,
          1.1226080642068443,
          -0.041438635172887366,
          -0.0022362033056104436,
          -1.0499832175198893,
          0.08986937258436357,
          1.3375457246389604,
          1.9232171151998751,
          1.2514977061012698,
          -0.010263114481263881,
          1.4971556937885246,
          0.5715860883089958,
          0.19761772066921174,
          1.1502304384350708,
          -0.24098786918618537,
          -1.6010465710520883,
          0.9732937328192726,
          0.11160359753779947,
          0.32197195249841265,
          0.30358682957964434,
          0.40859502431711464,
          0.6193062029177665,
          -0.4755616450031329,
          -1.0241841009392374,
          -0.10086891983338513,
          0.754866747209579,
          0.06900528817558078,
          -0.24279306917070723,
          1.0348185228210516,
          -0.3958072182103754,
          -0.2877736157815689,
          1.8262614760763645,
          0.6560796576224647,
          0.6039936134209548,
          0.13811643849623192,
          0.6169996082287618,
          -0.4388003603691258,
          0.0857953494782665,
          0.06263204663463057,
          1.9136188883998924,
          -2.1038091801398306,
          -0.5031598748343795,
          -0.499738792228652,
          0.3442035464303753,
          -1.2225361345294794,
          -0.22793921626844366,
          0.5262130361354909,
          -0.010912344260437948,
          2.2298919035757816,
          -1.444058305089868,
          -1.1316461333814778,
          0.3933956396359092,
          -0.8704396282469317,
          -0.20553795675791134,
          -0.08867481958175209,
          -1.1172775865956317,
          -1.5260076855104778,
          -1.7467581009661328,
          -1.0664288474904873,
          1.9150131279839857,
          0.7683469110544034,
          2.00607805679846,
          1.8580914663696646,
          1.9062502131655201,
          0.03580593006324525,
          -0.6555706026085864,
          -1.1089797545764777,
          0.8329301907539098,
          0.8284039642458526,
          -1.1789468559824925,
          0.7518735549022194,
          1.0952234728205141,
          -0.3779764711785572,
          -0.9265655021956508,
          -0.9553992513910263,
          -0.38587972952013033,
          -0.6838345119123879,
          -0.43684706995405886,
          -0.4081057994560073,
          -1.5156425658958605,
          -0.575082296862586,
          -1.9415192419502305,
          0.6216142225912914,
          -0.17327214911462618,
          0.41144632474130993,
          0.15372200990299822,
          -0.6157231774320628,
          0.5240625234153609,
          -0.9920542569293624,
          -0.1510296013533493,
          -0.20056562222891014,
          -0.10335285122129649
         ]
        }
       ],
       "layout": {
        "barmode": "overlay",
        "legend": {
         "bgcolor": "#F5F6F9",
         "font": {
          "color": "#4D5663"
         }
        },
        "paper_bgcolor": "#F5F6F9",
        "plot_bgcolor": "#F5F6F9",
        "template": {
         "data": {
          "bar": [
           {
            "error_x": {
             "color": "#2a3f5f"
            },
            "error_y": {
             "color": "#2a3f5f"
            },
            "marker": {
             "line": {
              "color": "#E5ECF6",
              "width": 0.5
             }
            },
            "type": "bar"
           }
          ],
          "barpolar": [
           {
            "marker": {
             "line": {
              "color": "#E5ECF6",
              "width": 0.5
             }
            },
            "type": "barpolar"
           }
          ],
          "carpet": [
           {
            "aaxis": {
             "endlinecolor": "#2a3f5f",
             "gridcolor": "white",
             "linecolor": "white",
             "minorgridcolor": "white",
             "startlinecolor": "#2a3f5f"
            },
            "baxis": {
             "endlinecolor": "#2a3f5f",
             "gridcolor": "white",
             "linecolor": "white",
             "minorgridcolor": "white",
             "startlinecolor": "#2a3f5f"
            },
            "type": "carpet"
           }
          ],
          "choropleth": [
           {
            "colorbar": {
             "outlinewidth": 0,
             "ticks": ""
            },
            "type": "choropleth"
           }
          ],
          "contour": [
           {
            "colorbar": {
             "outlinewidth": 0,
             "ticks": ""
            },
            "colorscale": [
             [
              0,
              "#0d0887"
             ],
             [
              0.1111111111111111,
              "#46039f"
             ],
             [
              0.2222222222222222,
              "#7201a8"
             ],
             [
              0.3333333333333333,
              "#9c179e"
             ],
             [
              0.4444444444444444,
              "#bd3786"
             ],
             [
              0.5555555555555556,
              "#d8576b"
             ],
             [
              0.6666666666666666,
              "#ed7953"
             ],
             [
              0.7777777777777778,
              "#fb9f3a"
             ],
             [
              0.8888888888888888,
              "#fdca26"
             ],
             [
              1,
              "#f0f921"
             ]
            ],
            "type": "contour"
           }
          ],
          "contourcarpet": [
           {
            "colorbar": {
             "outlinewidth": 0,
             "ticks": ""
            },
            "type": "contourcarpet"
           }
          ],
          "heatmap": [
           {
            "colorbar": {
             "outlinewidth": 0,
             "ticks": ""
            },
            "colorscale": [
             [
              0,
              "#0d0887"
             ],
             [
              0.1111111111111111,
              "#46039f"
             ],
             [
              0.2222222222222222,
              "#7201a8"
             ],
             [
              0.3333333333333333,
              "#9c179e"
             ],
             [
              0.4444444444444444,
              "#bd3786"
             ],
             [
              0.5555555555555556,
              "#d8576b"
             ],
             [
              0.6666666666666666,
              "#ed7953"
             ],
             [
              0.7777777777777778,
              "#fb9f3a"
             ],
             [
              0.8888888888888888,
              "#fdca26"
             ],
             [
              1,
              "#f0f921"
             ]
            ],
            "type": "heatmap"
           }
          ],
          "heatmapgl": [
           {
            "colorbar": {
             "outlinewidth": 0,
             "ticks": ""
            },
            "colorscale": [
             [
              0,
              "#0d0887"
             ],
             [
              0.1111111111111111,
              "#46039f"
             ],
             [
              0.2222222222222222,
              "#7201a8"
             ],
             [
              0.3333333333333333,
              "#9c179e"
             ],
             [
              0.4444444444444444,
              "#bd3786"
             ],
             [
              0.5555555555555556,
              "#d8576b"
             ],
             [
              0.6666666666666666,
              "#ed7953"
             ],
             [
              0.7777777777777778,
              "#fb9f3a"
             ],
             [
              0.8888888888888888,
              "#fdca26"
             ],
             [
              1,
              "#f0f921"
             ]
            ],
            "type": "heatmapgl"
           }
          ],
          "histogram": [
           {
            "marker": {
             "colorbar": {
              "outlinewidth": 0,
              "ticks": ""
             }
            },
            "type": "histogram"
           }
          ],
          "histogram2d": [
           {
            "colorbar": {
             "outlinewidth": 0,
             "ticks": ""
            },
            "colorscale": [
             [
              0,
              "#0d0887"
             ],
             [
              0.1111111111111111,
              "#46039f"
             ],
             [
              0.2222222222222222,
              "#7201a8"
             ],
             [
              0.3333333333333333,
              "#9c179e"
             ],
             [
              0.4444444444444444,
              "#bd3786"
             ],
             [
              0.5555555555555556,
              "#d8576b"
             ],
             [
              0.6666666666666666,
              "#ed7953"
             ],
             [
              0.7777777777777778,
              "#fb9f3a"
             ],
             [
              0.8888888888888888,
              "#fdca26"
             ],
             [
              1,
              "#f0f921"
             ]
            ],
            "type": "histogram2d"
           }
          ],
          "histogram2dcontour": [
           {
            "colorbar": {
             "outlinewidth": 0,
             "ticks": ""
            },
            "colorscale": [
             [
              0,
              "#0d0887"
             ],
             [
              0.1111111111111111,
              "#46039f"
             ],
             [
              0.2222222222222222,
              "#7201a8"
             ],
             [
              0.3333333333333333,
              "#9c179e"
             ],
             [
              0.4444444444444444,
              "#bd3786"
             ],
             [
              0.5555555555555556,
              "#d8576b"
             ],
             [
              0.6666666666666666,
              "#ed7953"
             ],
             [
              0.7777777777777778,
              "#fb9f3a"
             ],
             [
              0.8888888888888888,
              "#fdca26"
             ],
             [
              1,
              "#f0f921"
             ]
            ],
            "type": "histogram2dcontour"
           }
          ],
          "mesh3d": [
           {
            "colorbar": {
             "outlinewidth": 0,
             "ticks": ""
            },
            "type": "mesh3d"
           }
          ],
          "parcoords": [
           {
            "line": {
             "colorbar": {
              "outlinewidth": 0,
              "ticks": ""
             }
            },
            "type": "parcoords"
           }
          ],
          "pie": [
           {
            "automargin": true,
            "type": "pie"
           }
          ],
          "scatter": [
           {
            "marker": {
             "colorbar": {
              "outlinewidth": 0,
              "ticks": ""
             }
            },
            "type": "scatter"
           }
          ],
          "scatter3d": [
           {
            "line": {
             "colorbar": {
              "outlinewidth": 0,
              "ticks": ""
             }
            },
            "marker": {
             "colorbar": {
              "outlinewidth": 0,
              "ticks": ""
             }
            },
            "type": "scatter3d"
           }
          ],
          "scattercarpet": [
           {
            "marker": {
             "colorbar": {
              "outlinewidth": 0,
              "ticks": ""
             }
            },
            "type": "scattercarpet"
           }
          ],
          "scattergeo": [
           {
            "marker": {
             "colorbar": {
              "outlinewidth": 0,
              "ticks": ""
             }
            },
            "type": "scattergeo"
           }
          ],
          "scattergl": [
           {
            "marker": {
             "colorbar": {
              "outlinewidth": 0,
              "ticks": ""
             }
            },
            "type": "scattergl"
           }
          ],
          "scattermapbox": [
           {
            "marker": {
             "colorbar": {
              "outlinewidth": 0,
              "ticks": ""
             }
            },
            "type": "scattermapbox"
           }
          ],
          "scatterpolar": [
           {
            "marker": {
             "colorbar": {
              "outlinewidth": 0,
              "ticks": ""
             }
            },
            "type": "scatterpolar"
           }
          ],
          "scatterpolargl": [
           {
            "marker": {
             "colorbar": {
              "outlinewidth": 0,
              "ticks": ""
             }
            },
            "type": "scatterpolargl"
           }
          ],
          "scatterternary": [
           {
            "marker": {
             "colorbar": {
              "outlinewidth": 0,
              "ticks": ""
             }
            },
            "type": "scatterternary"
           }
          ],
          "surface": [
           {
            "colorbar": {
             "outlinewidth": 0,
             "ticks": ""
            },
            "colorscale": [
             [
              0,
              "#0d0887"
             ],
             [
              0.1111111111111111,
              "#46039f"
             ],
             [
              0.2222222222222222,
              "#7201a8"
             ],
             [
              0.3333333333333333,
              "#9c179e"
             ],
             [
              0.4444444444444444,
              "#bd3786"
             ],
             [
              0.5555555555555556,
              "#d8576b"
             ],
             [
              0.6666666666666666,
              "#ed7953"
             ],
             [
              0.7777777777777778,
              "#fb9f3a"
             ],
             [
              0.8888888888888888,
              "#fdca26"
             ],
             [
              1,
              "#f0f921"
             ]
            ],
            "type": "surface"
           }
          ],
          "table": [
           {
            "cells": {
             "fill": {
              "color": "#EBF0F8"
             },
             "line": {
              "color": "white"
             }
            },
            "header": {
             "fill": {
              "color": "#C8D4E3"
             },
             "line": {
              "color": "white"
             }
            },
            "type": "table"
           }
          ]
         },
         "layout": {
          "annotationdefaults": {
           "arrowcolor": "#2a3f5f",
           "arrowhead": 0,
           "arrowwidth": 1
          },
          "autotypenumbers": "strict",
          "coloraxis": {
           "colorbar": {
            "outlinewidth": 0,
            "ticks": ""
           }
          },
          "colorscale": {
           "diverging": [
            [
             0,
             "#8e0152"
            ],
            [
             0.1,
             "#c51b7d"
            ],
            [
             0.2,
             "#de77ae"
            ],
            [
             0.3,
             "#f1b6da"
            ],
            [
             0.4,
             "#fde0ef"
            ],
            [
             0.5,
             "#f7f7f7"
            ],
            [
             0.6,
             "#e6f5d0"
            ],
            [
             0.7,
             "#b8e186"
            ],
            [
             0.8,
             "#7fbc41"
            ],
            [
             0.9,
             "#4d9221"
            ],
            [
             1,
             "#276419"
            ]
           ],
           "sequential": [
            [
             0,
             "#0d0887"
            ],
            [
             0.1111111111111111,
             "#46039f"
            ],
            [
             0.2222222222222222,
             "#7201a8"
            ],
            [
             0.3333333333333333,
             "#9c179e"
            ],
            [
             0.4444444444444444,
             "#bd3786"
            ],
            [
             0.5555555555555556,
             "#d8576b"
            ],
            [
             0.6666666666666666,
             "#ed7953"
            ],
            [
             0.7777777777777778,
             "#fb9f3a"
            ],
            [
             0.8888888888888888,
             "#fdca26"
            ],
            [
             1,
             "#f0f921"
            ]
           ],
           "sequentialminus": [
            [
             0,
             "#0d0887"
            ],
            [
             0.1111111111111111,
             "#46039f"
            ],
            [
             0.2222222222222222,
             "#7201a8"
            ],
            [
             0.3333333333333333,
             "#9c179e"
            ],
            [
             0.4444444444444444,
             "#bd3786"
            ],
            [
             0.5555555555555556,
             "#d8576b"
            ],
            [
             0.6666666666666666,
             "#ed7953"
            ],
            [
             0.7777777777777778,
             "#fb9f3a"
            ],
            [
             0.8888888888888888,
             "#fdca26"
            ],
            [
             1,
             "#f0f921"
            ]
           ]
          },
          "colorway": [
           "#636efa",
           "#EF553B",
           "#00cc96",
           "#ab63fa",
           "#FFA15A",
           "#19d3f3",
           "#FF6692",
           "#B6E880",
           "#FF97FF",
           "#FECB52"
          ],
          "font": {
           "color": "#2a3f5f"
          },
          "geo": {
           "bgcolor": "white",
           "lakecolor": "white",
           "landcolor": "#E5ECF6",
           "showlakes": true,
           "showland": true,
           "subunitcolor": "white"
          },
          "hoverlabel": {
           "align": "left"
          },
          "hovermode": "closest",
          "mapbox": {
           "style": "light"
          },
          "paper_bgcolor": "white",
          "plot_bgcolor": "#E5ECF6",
          "polar": {
           "angularaxis": {
            "gridcolor": "white",
            "linecolor": "white",
            "ticks": ""
           },
           "bgcolor": "#E5ECF6",
           "radialaxis": {
            "gridcolor": "white",
            "linecolor": "white",
            "ticks": ""
           }
          },
          "scene": {
           "xaxis": {
            "backgroundcolor": "#E5ECF6",
            "gridcolor": "white",
            "gridwidth": 2,
            "linecolor": "white",
            "showbackground": true,
            "ticks": "",
            "zerolinecolor": "white"
           },
           "yaxis": {
            "backgroundcolor": "#E5ECF6",
            "gridcolor": "white",
            "gridwidth": 2,
            "linecolor": "white",
            "showbackground": true,
            "ticks": "",
            "zerolinecolor": "white"
           },
           "zaxis": {
            "backgroundcolor": "#E5ECF6",
            "gridcolor": "white",
            "gridwidth": 2,
            "linecolor": "white",
            "showbackground": true,
            "ticks": "",
            "zerolinecolor": "white"
           }
          },
          "shapedefaults": {
           "line": {
            "color": "#2a3f5f"
           }
          },
          "ternary": {
           "aaxis": {
            "gridcolor": "white",
            "linecolor": "white",
            "ticks": ""
           },
           "baxis": {
            "gridcolor": "white",
            "linecolor": "white",
            "ticks": ""
           },
           "bgcolor": "#E5ECF6",
           "caxis": {
            "gridcolor": "white",
            "linecolor": "white",
            "ticks": ""
           }
          },
          "title": {
           "x": 0.05
          },
          "xaxis": {
           "automargin": true,
           "gridcolor": "white",
           "linecolor": "white",
           "ticks": "",
           "title": {
            "standoff": 15
           },
           "zerolinecolor": "white",
           "zerolinewidth": 2
          },
          "yaxis": {
           "automargin": true,
           "gridcolor": "white",
           "linecolor": "white",
           "ticks": "",
           "title": {
            "standoff": 15
           },
           "zerolinecolor": "white",
           "zerolinewidth": 2
          }
         }
        },
        "title": {
         "font": {
          "color": "#4D5663"
         }
        },
        "xaxis": {
         "gridcolor": "#E1E5ED",
         "showgrid": true,
         "tickfont": {
          "color": "#4D5663"
         },
         "title": {
          "font": {
           "color": "#4D5663"
          },
          "text": ""
         },
         "zerolinecolor": "#E1E5ED"
        },
        "yaxis": {
         "gridcolor": "#E1E5ED",
         "showgrid": true,
         "tickfont": {
          "color": "#4D5663"
         },
         "title": {
          "font": {
           "color": "#4D5663"
          },
          "text": ""
         },
         "zerolinecolor": "#E1E5ED"
        }
       }
      },
      "text/html": [
       "<div>                            <div id=\"987104f2-d98c-4ab8-9db0-dc01af64e3f4\" class=\"plotly-graph-div\" style=\"height:525px; width:100%;\"></div>            <script type=\"text/javascript\">                require([\"plotly\"], function(Plotly) {                    window.PLOTLYENV=window.PLOTLYENV || {};\n",
       "                    window.PLOTLYENV.BASE_URL='https://plot.ly';                                    if (document.getElementById(\"987104f2-d98c-4ab8-9db0-dc01af64e3f4\")) {                    Plotly.newPlot(                        \"987104f2-d98c-4ab8-9db0-dc01af64e3f4\",                        [{\"histfunc\": \"count\", \"histnorm\": \"\", \"marker\": {\"color\": \"rgba(255, 153, 51, 1.0)\", \"line\": {\"color\": \"#4D5663\", \"width\": 1.3}}, \"name\": \"A\", \"nbinsx\": 25, \"opacity\": 0.8, \"orientation\": \"v\", \"type\": \"histogram\", \"x\": [-1.1297355996644, -0.7378182431367298, 1.3018362014014464, -0.3897524354762462, -0.28469569627643276, 0.26189570707558646, -0.9076631525537662, 0.6203535138805666, -0.6186803199969817, 1.1226080642068443, -0.041438635172887366, -0.0022362033056104436, -1.0499832175198893, 0.08986937258436357, 1.3375457246389604, 1.9232171151998751, 1.2514977061012698, -0.010263114481263881, 1.4971556937885246, 0.5715860883089958, 0.19761772066921174, 1.1502304384350708, -0.24098786918618537, -1.6010465710520883, 0.9732937328192726, 0.11160359753779947, 0.32197195249841265, 0.30358682957964434, 0.40859502431711464, 0.6193062029177665, -0.4755616450031329, -1.0241841009392374, -0.10086891983338513, 0.754866747209579, 0.06900528817558078, -0.24279306917070723, 1.0348185228210516, -0.3958072182103754, -0.2877736157815689, 1.8262614760763645, 0.6560796576224647, 0.6039936134209548, 0.13811643849623192, 0.6169996082287618, -0.4388003603691258, 0.0857953494782665, 0.06263204663463057, 1.9136188883998924, -2.1038091801398306, -0.5031598748343795, -0.499738792228652, 0.3442035464303753, -1.2225361345294794, -0.22793921626844366, 0.5262130361354909, -0.010912344260437948, 2.2298919035757816, -1.444058305089868, -1.1316461333814778, 0.3933956396359092, -0.8704396282469317, -0.20553795675791134, -0.08867481958175209, -1.1172775865956317, -1.5260076855104778, -1.7467581009661328, -1.0664288474904873, 1.9150131279839857, 0.7683469110544034, 2.00607805679846, 1.8580914663696646, 1.9062502131655201, 0.03580593006324525, -0.6555706026085864, -1.1089797545764777, 0.8329301907539098, 0.8284039642458526, -1.1789468559824925, 0.7518735549022194, 1.0952234728205141, -0.3779764711785572, -0.9265655021956508, -0.9553992513910263, -0.38587972952013033, -0.6838345119123879, -0.43684706995405886, -0.4081057994560073, -1.5156425658958605, -0.575082296862586, -1.9415192419502305, 0.6216142225912914, -0.17327214911462618, 0.41144632474130993, 0.15372200990299822, -0.6157231774320628, 0.5240625234153609, -0.9920542569293624, -0.1510296013533493, -0.20056562222891014, -0.10335285122129649]}],                        {\"barmode\": \"overlay\", \"legend\": {\"bgcolor\": \"#F5F6F9\", \"font\": {\"color\": \"#4D5663\"}}, \"paper_bgcolor\": \"#F5F6F9\", \"plot_bgcolor\": \"#F5F6F9\", \"template\": {\"data\": {\"bar\": [{\"error_x\": {\"color\": \"#2a3f5f\"}, \"error_y\": {\"color\": \"#2a3f5f\"}, \"marker\": {\"line\": {\"color\": \"#E5ECF6\", \"width\": 0.5}}, \"type\": \"bar\"}], \"barpolar\": [{\"marker\": {\"line\": {\"color\": \"#E5ECF6\", \"width\": 0.5}}, \"type\": \"barpolar\"}], \"carpet\": [{\"aaxis\": {\"endlinecolor\": \"#2a3f5f\", \"gridcolor\": \"white\", \"linecolor\": \"white\", \"minorgridcolor\": \"white\", \"startlinecolor\": \"#2a3f5f\"}, \"baxis\": {\"endlinecolor\": \"#2a3f5f\", \"gridcolor\": \"white\", \"linecolor\": \"white\", \"minorgridcolor\": \"white\", \"startlinecolor\": \"#2a3f5f\"}, \"type\": \"carpet\"}], \"choropleth\": [{\"colorbar\": {\"outlinewidth\": 0, \"ticks\": \"\"}, \"type\": \"choropleth\"}], \"contour\": [{\"colorbar\": {\"outlinewidth\": 0, \"ticks\": \"\"}, \"colorscale\": [[0.0, \"#0d0887\"], [0.1111111111111111, \"#46039f\"], [0.2222222222222222, \"#7201a8\"], [0.3333333333333333, \"#9c179e\"], [0.4444444444444444, \"#bd3786\"], [0.5555555555555556, \"#d8576b\"], [0.6666666666666666, \"#ed7953\"], [0.7777777777777778, \"#fb9f3a\"], [0.8888888888888888, \"#fdca26\"], [1.0, \"#f0f921\"]], \"type\": \"contour\"}], \"contourcarpet\": [{\"colorbar\": {\"outlinewidth\": 0, \"ticks\": \"\"}, \"type\": \"contourcarpet\"}], \"heatmap\": [{\"colorbar\": {\"outlinewidth\": 0, \"ticks\": \"\"}, \"colorscale\": [[0.0, \"#0d0887\"], [0.1111111111111111, \"#46039f\"], [0.2222222222222222, \"#7201a8\"], [0.3333333333333333, \"#9c179e\"], [0.4444444444444444, \"#bd3786\"], [0.5555555555555556, \"#d8576b\"], [0.6666666666666666, \"#ed7953\"], [0.7777777777777778, \"#fb9f3a\"], [0.8888888888888888, \"#fdca26\"], [1.0, \"#f0f921\"]], \"type\": \"heatmap\"}], \"heatmapgl\": [{\"colorbar\": {\"outlinewidth\": 0, \"ticks\": \"\"}, \"colorscale\": [[0.0, \"#0d0887\"], [0.1111111111111111, \"#46039f\"], [0.2222222222222222, \"#7201a8\"], [0.3333333333333333, \"#9c179e\"], [0.4444444444444444, \"#bd3786\"], [0.5555555555555556, \"#d8576b\"], [0.6666666666666666, \"#ed7953\"], [0.7777777777777778, \"#fb9f3a\"], [0.8888888888888888, \"#fdca26\"], [1.0, \"#f0f921\"]], \"type\": \"heatmapgl\"}], \"histogram\": [{\"marker\": {\"colorbar\": {\"outlinewidth\": 0, \"ticks\": \"\"}}, \"type\": \"histogram\"}], \"histogram2d\": [{\"colorbar\": {\"outlinewidth\": 0, \"ticks\": \"\"}, \"colorscale\": [[0.0, \"#0d0887\"], [0.1111111111111111, \"#46039f\"], [0.2222222222222222, \"#7201a8\"], [0.3333333333333333, \"#9c179e\"], [0.4444444444444444, \"#bd3786\"], [0.5555555555555556, \"#d8576b\"], [0.6666666666666666, \"#ed7953\"], [0.7777777777777778, \"#fb9f3a\"], [0.8888888888888888, \"#fdca26\"], [1.0, \"#f0f921\"]], \"type\": \"histogram2d\"}], \"histogram2dcontour\": [{\"colorbar\": {\"outlinewidth\": 0, \"ticks\": \"\"}, \"colorscale\": [[0.0, \"#0d0887\"], [0.1111111111111111, \"#46039f\"], [0.2222222222222222, \"#7201a8\"], [0.3333333333333333, \"#9c179e\"], [0.4444444444444444, \"#bd3786\"], [0.5555555555555556, \"#d8576b\"], [0.6666666666666666, \"#ed7953\"], [0.7777777777777778, \"#fb9f3a\"], [0.8888888888888888, \"#fdca26\"], [1.0, \"#f0f921\"]], \"type\": \"histogram2dcontour\"}], \"mesh3d\": [{\"colorbar\": {\"outlinewidth\": 0, \"ticks\": \"\"}, \"type\": \"mesh3d\"}], \"parcoords\": [{\"line\": {\"colorbar\": {\"outlinewidth\": 0, \"ticks\": \"\"}}, \"type\": \"parcoords\"}], \"pie\": [{\"automargin\": true, \"type\": \"pie\"}], \"scatter\": [{\"marker\": {\"colorbar\": {\"outlinewidth\": 0, \"ticks\": \"\"}}, \"type\": \"scatter\"}], \"scatter3d\": [{\"line\": {\"colorbar\": {\"outlinewidth\": 0, \"ticks\": \"\"}}, \"marker\": {\"colorbar\": {\"outlinewidth\": 0, \"ticks\": \"\"}}, \"type\": \"scatter3d\"}], \"scattercarpet\": [{\"marker\": {\"colorbar\": {\"outlinewidth\": 0, \"ticks\": \"\"}}, \"type\": \"scattercarpet\"}], \"scattergeo\": [{\"marker\": {\"colorbar\": {\"outlinewidth\": 0, \"ticks\": \"\"}}, \"type\": \"scattergeo\"}], \"scattergl\": [{\"marker\": {\"colorbar\": {\"outlinewidth\": 0, \"ticks\": \"\"}}, \"type\": \"scattergl\"}], \"scattermapbox\": [{\"marker\": {\"colorbar\": {\"outlinewidth\": 0, \"ticks\": \"\"}}, \"type\": \"scattermapbox\"}], \"scatterpolar\": [{\"marker\": {\"colorbar\": {\"outlinewidth\": 0, \"ticks\": \"\"}}, \"type\": \"scatterpolar\"}], \"scatterpolargl\": [{\"marker\": {\"colorbar\": {\"outlinewidth\": 0, \"ticks\": \"\"}}, \"type\": \"scatterpolargl\"}], \"scatterternary\": [{\"marker\": {\"colorbar\": {\"outlinewidth\": 0, \"ticks\": \"\"}}, \"type\": \"scatterternary\"}], \"surface\": [{\"colorbar\": {\"outlinewidth\": 0, \"ticks\": \"\"}, \"colorscale\": [[0.0, \"#0d0887\"], [0.1111111111111111, \"#46039f\"], [0.2222222222222222, \"#7201a8\"], [0.3333333333333333, \"#9c179e\"], [0.4444444444444444, \"#bd3786\"], [0.5555555555555556, \"#d8576b\"], [0.6666666666666666, \"#ed7953\"], [0.7777777777777778, \"#fb9f3a\"], [0.8888888888888888, \"#fdca26\"], [1.0, \"#f0f921\"]], \"type\": \"surface\"}], \"table\": [{\"cells\": {\"fill\": {\"color\": \"#EBF0F8\"}, \"line\": {\"color\": \"white\"}}, \"header\": {\"fill\": {\"color\": \"#C8D4E3\"}, \"line\": {\"color\": \"white\"}}, \"type\": \"table\"}]}, \"layout\": {\"annotationdefaults\": {\"arrowcolor\": \"#2a3f5f\", \"arrowhead\": 0, \"arrowwidth\": 1}, \"autotypenumbers\": \"strict\", \"coloraxis\": {\"colorbar\": {\"outlinewidth\": 0, \"ticks\": \"\"}}, \"colorscale\": {\"diverging\": [[0, \"#8e0152\"], [0.1, \"#c51b7d\"], [0.2, \"#de77ae\"], [0.3, \"#f1b6da\"], [0.4, \"#fde0ef\"], [0.5, \"#f7f7f7\"], [0.6, \"#e6f5d0\"], [0.7, \"#b8e186\"], [0.8, \"#7fbc41\"], [0.9, \"#4d9221\"], [1, \"#276419\"]], \"sequential\": [[0.0, \"#0d0887\"], [0.1111111111111111, \"#46039f\"], [0.2222222222222222, \"#7201a8\"], [0.3333333333333333, \"#9c179e\"], [0.4444444444444444, \"#bd3786\"], [0.5555555555555556, \"#d8576b\"], [0.6666666666666666, \"#ed7953\"], [0.7777777777777778, \"#fb9f3a\"], [0.8888888888888888, \"#fdca26\"], [1.0, \"#f0f921\"]], \"sequentialminus\": [[0.0, \"#0d0887\"], [0.1111111111111111, \"#46039f\"], [0.2222222222222222, \"#7201a8\"], [0.3333333333333333, \"#9c179e\"], [0.4444444444444444, \"#bd3786\"], [0.5555555555555556, \"#d8576b\"], [0.6666666666666666, \"#ed7953\"], [0.7777777777777778, \"#fb9f3a\"], [0.8888888888888888, \"#fdca26\"], [1.0, \"#f0f921\"]]}, \"colorway\": [\"#636efa\", \"#EF553B\", \"#00cc96\", \"#ab63fa\", \"#FFA15A\", \"#19d3f3\", \"#FF6692\", \"#B6E880\", \"#FF97FF\", \"#FECB52\"], \"font\": {\"color\": \"#2a3f5f\"}, \"geo\": {\"bgcolor\": \"white\", \"lakecolor\": \"white\", \"landcolor\": \"#E5ECF6\", \"showlakes\": true, \"showland\": true, \"subunitcolor\": \"white\"}, \"hoverlabel\": {\"align\": \"left\"}, \"hovermode\": \"closest\", \"mapbox\": {\"style\": \"light\"}, \"paper_bgcolor\": \"white\", \"plot_bgcolor\": \"#E5ECF6\", \"polar\": {\"angularaxis\": {\"gridcolor\": \"white\", \"linecolor\": \"white\", \"ticks\": \"\"}, \"bgcolor\": \"#E5ECF6\", \"radialaxis\": {\"gridcolor\": \"white\", \"linecolor\": \"white\", \"ticks\": \"\"}}, \"scene\": {\"xaxis\": {\"backgroundcolor\": \"#E5ECF6\", \"gridcolor\": \"white\", \"gridwidth\": 2, \"linecolor\": \"white\", \"showbackground\": true, \"ticks\": \"\", \"zerolinecolor\": \"white\"}, \"yaxis\": {\"backgroundcolor\": \"#E5ECF6\", \"gridcolor\": \"white\", \"gridwidth\": 2, \"linecolor\": \"white\", \"showbackground\": true, \"ticks\": \"\", \"zerolinecolor\": \"white\"}, \"zaxis\": {\"backgroundcolor\": \"#E5ECF6\", \"gridcolor\": \"white\", \"gridwidth\": 2, \"linecolor\": \"white\", \"showbackground\": true, \"ticks\": \"\", \"zerolinecolor\": \"white\"}}, \"shapedefaults\": {\"line\": {\"color\": \"#2a3f5f\"}}, \"ternary\": {\"aaxis\": {\"gridcolor\": \"white\", \"linecolor\": \"white\", \"ticks\": \"\"}, \"baxis\": {\"gridcolor\": \"white\", \"linecolor\": \"white\", \"ticks\": \"\"}, \"bgcolor\": \"#E5ECF6\", \"caxis\": {\"gridcolor\": \"white\", \"linecolor\": \"white\", \"ticks\": \"\"}}, \"title\": {\"x\": 0.05}, \"xaxis\": {\"automargin\": true, \"gridcolor\": \"white\", \"linecolor\": \"white\", \"ticks\": \"\", \"title\": {\"standoff\": 15}, \"zerolinecolor\": \"white\", \"zerolinewidth\": 2}, \"yaxis\": {\"automargin\": true, \"gridcolor\": \"white\", \"linecolor\": \"white\", \"ticks\": \"\", \"title\": {\"standoff\": 15}, \"zerolinecolor\": \"white\", \"zerolinewidth\": 2}}}, \"title\": {\"font\": {\"color\": \"#4D5663\"}}, \"xaxis\": {\"gridcolor\": \"#E1E5ED\", \"showgrid\": true, \"tickfont\": {\"color\": \"#4D5663\"}, \"title\": {\"font\": {\"color\": \"#4D5663\"}, \"text\": \"\"}, \"zerolinecolor\": \"#E1E5ED\"}, \"yaxis\": {\"gridcolor\": \"#E1E5ED\", \"showgrid\": true, \"tickfont\": {\"color\": \"#4D5663\"}, \"title\": {\"font\": {\"color\": \"#4D5663\"}, \"text\": \"\"}, \"zerolinecolor\": \"#E1E5ED\"}},                        {\"showLink\": true, \"linkText\": \"Export to plot.ly\", \"plotlyServerURL\": \"https://plot.ly\", \"responsive\": true}                    ).then(function(){\n",
       "                            \n",
       "var gd = document.getElementById('987104f2-d98c-4ab8-9db0-dc01af64e3f4');\n",
       "var x = new MutationObserver(function (mutations, observer) {{\n",
       "        var display = window.getComputedStyle(gd).display;\n",
       "        if (!display || display === 'none') {{\n",
       "            console.log([gd, 'removed!']);\n",
       "            Plotly.purge(gd);\n",
       "            observer.disconnect();\n",
       "        }}\n",
       "}});\n",
       "\n",
       "// Listen for the removal of the full notebook cells\n",
       "var notebookContainer = gd.closest('#notebook-container');\n",
       "if (notebookContainer) {{\n",
       "    x.observe(notebookContainer, {childList: true});\n",
       "}}\n",
       "\n",
       "// Listen for the clearing of the current output cell\n",
       "var outputEl = gd.closest('.output');\n",
       "if (outputEl) {{\n",
       "    x.observe(outputEl, {childList: true});\n",
       "}}\n",
       "\n",
       "                        })                };                });            </script>        </div>"
      ]
     },
     "metadata": {},
     "output_type": "display_data"
    }
   ],
   "source": [
    "df['A'].iplot(kind='hist',bins=25)"
   ]
  },
  {
   "cell_type": "code",
   "execution_count": 17,
   "metadata": {},
   "outputs": [
    {
     "data": {
      "application/vnd.plotly.v1+json": {
       "config": {
        "linkText": "Export to plot.ly",
        "plotlyServerURL": "https://plot.ly",
        "showLink": true
       },
       "data": [
        {
         "marker": {
          "color": [
           "rgb(255, 153, 51)",
           "rgb(55, 128, 191)",
           "rgb(50, 171, 96)",
           "rgb(128, 0, 128)",
           "rgb(219, 64, 82)",
           "rgb(0, 128, 128)",
           "rgb(255, 255, 51)",
           "rgb(128, 128, 0)",
           "rgb(251, 128, 114)",
           "rgb(128, 177, 211)"
          ],
          "line": {
           "width": 1.3
          },
          "size": [
           61,
           31,
           64,
           67,
           61,
           65,
           53,
           63,
           55,
           87,
           76,
           73,
           112,
           68,
           80,
           57,
           69,
           56,
           43,
           50,
           73,
           66,
           43,
           38,
           43,
           55,
           86,
           18,
           40,
           80,
           57,
           29,
           56,
           15,
           46,
           82,
           90,
           97,
           55,
           24,
           60,
           67,
           45,
           88,
           60,
           53,
           62,
           51,
           35,
           90,
           80,
           75,
           93,
           41,
           80,
           73,
           74,
           69,
           65,
           48,
           48,
           50,
           85,
           40,
           48,
           72,
           78,
           51,
           58,
           75,
           81,
           62,
           49,
           64,
           82,
           83,
           53,
           69,
           57,
           58,
           64,
           45,
           64,
           73,
           48,
           12,
           51,
           65,
           91,
           65,
           77,
           55,
           51,
           70,
           71,
           58,
           52,
           33,
           53,
           39
          ],
          "symbol": "circle"
         },
         "mode": "markers",
         "text": "",
         "type": "scatter",
         "x": [
          -1.1297355996644,
          -0.7378182431367298,
          1.3018362014014464,
          -0.3897524354762462,
          -0.28469569627643276,
          0.26189570707558646,
          -0.9076631525537662,
          0.6203535138805666,
          -0.6186803199969817,
          1.1226080642068443,
          -0.041438635172887366,
          -0.0022362033056104436,
          -1.0499832175198893,
          0.08986937258436357,
          1.3375457246389604,
          1.9232171151998751,
          1.2514977061012698,
          -0.010263114481263881,
          1.4971556937885246,
          0.5715860883089958,
          0.19761772066921174,
          1.1502304384350708,
          -0.24098786918618537,
          -1.6010465710520883,
          0.9732937328192726,
          0.11160359753779947,
          0.32197195249841265,
          0.30358682957964434,
          0.40859502431711464,
          0.6193062029177665,
          -0.4755616450031329,
          -1.0241841009392374,
          -0.10086891983338513,
          0.754866747209579,
          0.06900528817558078,
          -0.24279306917070723,
          1.0348185228210516,
          -0.3958072182103754,
          -0.2877736157815689,
          1.8262614760763645,
          0.6560796576224647,
          0.6039936134209548,
          0.13811643849623192,
          0.6169996082287618,
          -0.4388003603691258,
          0.0857953494782665,
          0.06263204663463057,
          1.9136188883998924,
          -2.1038091801398306,
          -0.5031598748343795,
          -0.499738792228652,
          0.3442035464303753,
          -1.2225361345294794,
          -0.22793921626844366,
          0.5262130361354909,
          -0.010912344260437948,
          2.2298919035757816,
          -1.444058305089868,
          -1.1316461333814778,
          0.3933956396359092,
          -0.8704396282469317,
          -0.20553795675791134,
          -0.08867481958175209,
          -1.1172775865956317,
          -1.5260076855104778,
          -1.7467581009661328,
          -1.0664288474904873,
          1.9150131279839857,
          0.7683469110544034,
          2.00607805679846,
          1.8580914663696646,
          1.9062502131655201,
          0.03580593006324525,
          -0.6555706026085864,
          -1.1089797545764777,
          0.8329301907539098,
          0.8284039642458526,
          -1.1789468559824925,
          0.7518735549022194,
          1.0952234728205141,
          -0.3779764711785572,
          -0.9265655021956508,
          -0.9553992513910263,
          -0.38587972952013033,
          -0.6838345119123879,
          -0.43684706995405886,
          -0.4081057994560073,
          -1.5156425658958605,
          -0.575082296862586,
          -1.9415192419502305,
          0.6216142225912914,
          -0.17327214911462618,
          0.41144632474130993,
          0.15372200990299822,
          -0.6157231774320628,
          0.5240625234153609,
          -0.9920542569293624,
          -0.1510296013533493,
          -0.20056562222891014,
          -0.10335285122129649
         ],
         "y": [
          -0.1635062728202632,
          -0.9756447904649324,
          0.4357492211576944,
          0.051226001530410986,
          1.6194609778186286,
          -0.2614992416979577,
          -0.503056959460743,
          -0.13993298480476804,
          0.4728179839113631,
          0.53389506015398,
          0.04175052703734408,
          -0.07721058388948895,
          -1.225800753883539,
          0.8171131199268552,
          0.271335570828907,
          -0.6148593154348182,
          -2.5442148291754667,
          -1.7782906353324925,
          0.1356671690464854,
          0.5537287920898528,
          -1.9714030383810386,
          0.21204671141656967,
          -0.49986516306652934,
          1.1605986854994819,
          -0.15289830668798166,
          0.868679639924568,
          -0.5327690147279569,
          0.38676522371752736,
          -0.697783301263672,
          2.729615807039255,
          -0.44168975575870933,
          -0.8975405797564469,
          1.156250284244023,
          0.18372610275768578,
          0.22028435577067737,
          -2.0445273482561723,
          -1.2705850191721542,
          -1.4398853748138425,
          -0.5164216605007113,
          -0.8766005893127831,
          -0.20189795216579856,
          -0.63168004490542,
          -0.10625317572230386,
          0.06570462032791533,
          -0.3306030709977983,
          -1.1066179005719434,
          -1.8001592887010398,
          -1.2464956160103438,
          1.412558001616313,
          0.7263817448765412,
          -0.674821902689123,
          0.13863430885397565,
          0.8131652940034697,
          -1.8446556023227498,
          -0.3991970389101511,
          -1.6061316037339424,
          -0.3895083198515032,
          0.9956640976917002,
          -0.09581646337107551,
          0.5003441799337934,
          0.4412554563299149,
          -1.2186611487320202,
          -0.6603496496066004,
          -1.3840238128032634,
          -1.279561508367783,
          0.8242627049250715,
          0.6066034035416791,
          -0.3129127244834932,
          0.7439229469840886,
          -0.09075013988002041,
          -0.31059118918465206,
          -0.6998974552396815,
          -1.4718276518213624,
          0.9598030326043391,
          -0.08470576393901538,
          -1.6271765054338334,
          0.10367717536539334,
          1.2481090029334017,
          -1.3083436514057565,
          0.9001700007453994,
          0.3191804389519386,
          -1.216318060061043,
          0.6960767879130475,
          -0.10206427976470202,
          -1.0295841917882045,
          -0.3919692938644334,
          -0.004198236309692963,
          -2.7629842618099905,
          1.2332621129863932,
          0.3392732764281834,
          -0.6057250793486275,
          -0.049403623228994324,
          -1.1140335648259374,
          1.1227986792321807,
          0.7647722049015698,
          0.23076529128221307,
          0.025538967609587467,
          1.0284112692058112,
          -0.11467294290964382,
          -0.5103834221495227
         ]
        }
       ],
       "layout": {
        "legend": {
         "bgcolor": "#F5F6F9",
         "font": {
          "color": "#4D5663"
         }
        },
        "paper_bgcolor": "#F5F6F9",
        "plot_bgcolor": "#F5F6F9",
        "template": {
         "data": {
          "bar": [
           {
            "error_x": {
             "color": "#2a3f5f"
            },
            "error_y": {
             "color": "#2a3f5f"
            },
            "marker": {
             "line": {
              "color": "#E5ECF6",
              "width": 0.5
             }
            },
            "type": "bar"
           }
          ],
          "barpolar": [
           {
            "marker": {
             "line": {
              "color": "#E5ECF6",
              "width": 0.5
             }
            },
            "type": "barpolar"
           }
          ],
          "carpet": [
           {
            "aaxis": {
             "endlinecolor": "#2a3f5f",
             "gridcolor": "white",
             "linecolor": "white",
             "minorgridcolor": "white",
             "startlinecolor": "#2a3f5f"
            },
            "baxis": {
             "endlinecolor": "#2a3f5f",
             "gridcolor": "white",
             "linecolor": "white",
             "minorgridcolor": "white",
             "startlinecolor": "#2a3f5f"
            },
            "type": "carpet"
           }
          ],
          "choropleth": [
           {
            "colorbar": {
             "outlinewidth": 0,
             "ticks": ""
            },
            "type": "choropleth"
           }
          ],
          "contour": [
           {
            "colorbar": {
             "outlinewidth": 0,
             "ticks": ""
            },
            "colorscale": [
             [
              0,
              "#0d0887"
             ],
             [
              0.1111111111111111,
              "#46039f"
             ],
             [
              0.2222222222222222,
              "#7201a8"
             ],
             [
              0.3333333333333333,
              "#9c179e"
             ],
             [
              0.4444444444444444,
              "#bd3786"
             ],
             [
              0.5555555555555556,
              "#d8576b"
             ],
             [
              0.6666666666666666,
              "#ed7953"
             ],
             [
              0.7777777777777778,
              "#fb9f3a"
             ],
             [
              0.8888888888888888,
              "#fdca26"
             ],
             [
              1,
              "#f0f921"
             ]
            ],
            "type": "contour"
           }
          ],
          "contourcarpet": [
           {
            "colorbar": {
             "outlinewidth": 0,
             "ticks": ""
            },
            "type": "contourcarpet"
           }
          ],
          "heatmap": [
           {
            "colorbar": {
             "outlinewidth": 0,
             "ticks": ""
            },
            "colorscale": [
             [
              0,
              "#0d0887"
             ],
             [
              0.1111111111111111,
              "#46039f"
             ],
             [
              0.2222222222222222,
              "#7201a8"
             ],
             [
              0.3333333333333333,
              "#9c179e"
             ],
             [
              0.4444444444444444,
              "#bd3786"
             ],
             [
              0.5555555555555556,
              "#d8576b"
             ],
             [
              0.6666666666666666,
              "#ed7953"
             ],
             [
              0.7777777777777778,
              "#fb9f3a"
             ],
             [
              0.8888888888888888,
              "#fdca26"
             ],
             [
              1,
              "#f0f921"
             ]
            ],
            "type": "heatmap"
           }
          ],
          "heatmapgl": [
           {
            "colorbar": {
             "outlinewidth": 0,
             "ticks": ""
            },
            "colorscale": [
             [
              0,
              "#0d0887"
             ],
             [
              0.1111111111111111,
              "#46039f"
             ],
             [
              0.2222222222222222,
              "#7201a8"
             ],
             [
              0.3333333333333333,
              "#9c179e"
             ],
             [
              0.4444444444444444,
              "#bd3786"
             ],
             [
              0.5555555555555556,
              "#d8576b"
             ],
             [
              0.6666666666666666,
              "#ed7953"
             ],
             [
              0.7777777777777778,
              "#fb9f3a"
             ],
             [
              0.8888888888888888,
              "#fdca26"
             ],
             [
              1,
              "#f0f921"
             ]
            ],
            "type": "heatmapgl"
           }
          ],
          "histogram": [
           {
            "marker": {
             "colorbar": {
              "outlinewidth": 0,
              "ticks": ""
             }
            },
            "type": "histogram"
           }
          ],
          "histogram2d": [
           {
            "colorbar": {
             "outlinewidth": 0,
             "ticks": ""
            },
            "colorscale": [
             [
              0,
              "#0d0887"
             ],
             [
              0.1111111111111111,
              "#46039f"
             ],
             [
              0.2222222222222222,
              "#7201a8"
             ],
             [
              0.3333333333333333,
              "#9c179e"
             ],
             [
              0.4444444444444444,
              "#bd3786"
             ],
             [
              0.5555555555555556,
              "#d8576b"
             ],
             [
              0.6666666666666666,
              "#ed7953"
             ],
             [
              0.7777777777777778,
              "#fb9f3a"
             ],
             [
              0.8888888888888888,
              "#fdca26"
             ],
             [
              1,
              "#f0f921"
             ]
            ],
            "type": "histogram2d"
           }
          ],
          "histogram2dcontour": [
           {
            "colorbar": {
             "outlinewidth": 0,
             "ticks": ""
            },
            "colorscale": [
             [
              0,
              "#0d0887"
             ],
             [
              0.1111111111111111,
              "#46039f"
             ],
             [
              0.2222222222222222,
              "#7201a8"
             ],
             [
              0.3333333333333333,
              "#9c179e"
             ],
             [
              0.4444444444444444,
              "#bd3786"
             ],
             [
              0.5555555555555556,
              "#d8576b"
             ],
             [
              0.6666666666666666,
              "#ed7953"
             ],
             [
              0.7777777777777778,
              "#fb9f3a"
             ],
             [
              0.8888888888888888,
              "#fdca26"
             ],
             [
              1,
              "#f0f921"
             ]
            ],
            "type": "histogram2dcontour"
           }
          ],
          "mesh3d": [
           {
            "colorbar": {
             "outlinewidth": 0,
             "ticks": ""
            },
            "type": "mesh3d"
           }
          ],
          "parcoords": [
           {
            "line": {
             "colorbar": {
              "outlinewidth": 0,
              "ticks": ""
             }
            },
            "type": "parcoords"
           }
          ],
          "pie": [
           {
            "automargin": true,
            "type": "pie"
           }
          ],
          "scatter": [
           {
            "marker": {
             "colorbar": {
              "outlinewidth": 0,
              "ticks": ""
             }
            },
            "type": "scatter"
           }
          ],
          "scatter3d": [
           {
            "line": {
             "colorbar": {
              "outlinewidth": 0,
              "ticks": ""
             }
            },
            "marker": {
             "colorbar": {
              "outlinewidth": 0,
              "ticks": ""
             }
            },
            "type": "scatter3d"
           }
          ],
          "scattercarpet": [
           {
            "marker": {
             "colorbar": {
              "outlinewidth": 0,
              "ticks": ""
             }
            },
            "type": "scattercarpet"
           }
          ],
          "scattergeo": [
           {
            "marker": {
             "colorbar": {
              "outlinewidth": 0,
              "ticks": ""
             }
            },
            "type": "scattergeo"
           }
          ],
          "scattergl": [
           {
            "marker": {
             "colorbar": {
              "outlinewidth": 0,
              "ticks": ""
             }
            },
            "type": "scattergl"
           }
          ],
          "scattermapbox": [
           {
            "marker": {
             "colorbar": {
              "outlinewidth": 0,
              "ticks": ""
             }
            },
            "type": "scattermapbox"
           }
          ],
          "scatterpolar": [
           {
            "marker": {
             "colorbar": {
              "outlinewidth": 0,
              "ticks": ""
             }
            },
            "type": "scatterpolar"
           }
          ],
          "scatterpolargl": [
           {
            "marker": {
             "colorbar": {
              "outlinewidth": 0,
              "ticks": ""
             }
            },
            "type": "scatterpolargl"
           }
          ],
          "scatterternary": [
           {
            "marker": {
             "colorbar": {
              "outlinewidth": 0,
              "ticks": ""
             }
            },
            "type": "scatterternary"
           }
          ],
          "surface": [
           {
            "colorbar": {
             "outlinewidth": 0,
             "ticks": ""
            },
            "colorscale": [
             [
              0,
              "#0d0887"
             ],
             [
              0.1111111111111111,
              "#46039f"
             ],
             [
              0.2222222222222222,
              "#7201a8"
             ],
             [
              0.3333333333333333,
              "#9c179e"
             ],
             [
              0.4444444444444444,
              "#bd3786"
             ],
             [
              0.5555555555555556,
              "#d8576b"
             ],
             [
              0.6666666666666666,
              "#ed7953"
             ],
             [
              0.7777777777777778,
              "#fb9f3a"
             ],
             [
              0.8888888888888888,
              "#fdca26"
             ],
             [
              1,
              "#f0f921"
             ]
            ],
            "type": "surface"
           }
          ],
          "table": [
           {
            "cells": {
             "fill": {
              "color": "#EBF0F8"
             },
             "line": {
              "color": "white"
             }
            },
            "header": {
             "fill": {
              "color": "#C8D4E3"
             },
             "line": {
              "color": "white"
             }
            },
            "type": "table"
           }
          ]
         },
         "layout": {
          "annotationdefaults": {
           "arrowcolor": "#2a3f5f",
           "arrowhead": 0,
           "arrowwidth": 1
          },
          "autotypenumbers": "strict",
          "coloraxis": {
           "colorbar": {
            "outlinewidth": 0,
            "ticks": ""
           }
          },
          "colorscale": {
           "diverging": [
            [
             0,
             "#8e0152"
            ],
            [
             0.1,
             "#c51b7d"
            ],
            [
             0.2,
             "#de77ae"
            ],
            [
             0.3,
             "#f1b6da"
            ],
            [
             0.4,
             "#fde0ef"
            ],
            [
             0.5,
             "#f7f7f7"
            ],
            [
             0.6,
             "#e6f5d0"
            ],
            [
             0.7,
             "#b8e186"
            ],
            [
             0.8,
             "#7fbc41"
            ],
            [
             0.9,
             "#4d9221"
            ],
            [
             1,
             "#276419"
            ]
           ],
           "sequential": [
            [
             0,
             "#0d0887"
            ],
            [
             0.1111111111111111,
             "#46039f"
            ],
            [
             0.2222222222222222,
             "#7201a8"
            ],
            [
             0.3333333333333333,
             "#9c179e"
            ],
            [
             0.4444444444444444,
             "#bd3786"
            ],
            [
             0.5555555555555556,
             "#d8576b"
            ],
            [
             0.6666666666666666,
             "#ed7953"
            ],
            [
             0.7777777777777778,
             "#fb9f3a"
            ],
            [
             0.8888888888888888,
             "#fdca26"
            ],
            [
             1,
             "#f0f921"
            ]
           ],
           "sequentialminus": [
            [
             0,
             "#0d0887"
            ],
            [
             0.1111111111111111,
             "#46039f"
            ],
            [
             0.2222222222222222,
             "#7201a8"
            ],
            [
             0.3333333333333333,
             "#9c179e"
            ],
            [
             0.4444444444444444,
             "#bd3786"
            ],
            [
             0.5555555555555556,
             "#d8576b"
            ],
            [
             0.6666666666666666,
             "#ed7953"
            ],
            [
             0.7777777777777778,
             "#fb9f3a"
            ],
            [
             0.8888888888888888,
             "#fdca26"
            ],
            [
             1,
             "#f0f921"
            ]
           ]
          },
          "colorway": [
           "#636efa",
           "#EF553B",
           "#00cc96",
           "#ab63fa",
           "#FFA15A",
           "#19d3f3",
           "#FF6692",
           "#B6E880",
           "#FF97FF",
           "#FECB52"
          ],
          "font": {
           "color": "#2a3f5f"
          },
          "geo": {
           "bgcolor": "white",
           "lakecolor": "white",
           "landcolor": "#E5ECF6",
           "showlakes": true,
           "showland": true,
           "subunitcolor": "white"
          },
          "hoverlabel": {
           "align": "left"
          },
          "hovermode": "closest",
          "mapbox": {
           "style": "light"
          },
          "paper_bgcolor": "white",
          "plot_bgcolor": "#E5ECF6",
          "polar": {
           "angularaxis": {
            "gridcolor": "white",
            "linecolor": "white",
            "ticks": ""
           },
           "bgcolor": "#E5ECF6",
           "radialaxis": {
            "gridcolor": "white",
            "linecolor": "white",
            "ticks": ""
           }
          },
          "scene": {
           "xaxis": {
            "backgroundcolor": "#E5ECF6",
            "gridcolor": "white",
            "gridwidth": 2,
            "linecolor": "white",
            "showbackground": true,
            "ticks": "",
            "zerolinecolor": "white"
           },
           "yaxis": {
            "backgroundcolor": "#E5ECF6",
            "gridcolor": "white",
            "gridwidth": 2,
            "linecolor": "white",
            "showbackground": true,
            "ticks": "",
            "zerolinecolor": "white"
           },
           "zaxis": {
            "backgroundcolor": "#E5ECF6",
            "gridcolor": "white",
            "gridwidth": 2,
            "linecolor": "white",
            "showbackground": true,
            "ticks": "",
            "zerolinecolor": "white"
           }
          },
          "shapedefaults": {
           "line": {
            "color": "#2a3f5f"
           }
          },
          "ternary": {
           "aaxis": {
            "gridcolor": "white",
            "linecolor": "white",
            "ticks": ""
           },
           "baxis": {
            "gridcolor": "white",
            "linecolor": "white",
            "ticks": ""
           },
           "bgcolor": "#E5ECF6",
           "caxis": {
            "gridcolor": "white",
            "linecolor": "white",
            "ticks": ""
           }
          },
          "title": {
           "x": 0.05
          },
          "xaxis": {
           "automargin": true,
           "gridcolor": "white",
           "linecolor": "white",
           "ticks": "",
           "title": {
            "standoff": 15
           },
           "zerolinecolor": "white",
           "zerolinewidth": 2
          },
          "yaxis": {
           "automargin": true,
           "gridcolor": "white",
           "linecolor": "white",
           "ticks": "",
           "title": {
            "standoff": 15
           },
           "zerolinecolor": "white",
           "zerolinewidth": 2
          }
         }
        },
        "title": {
         "font": {
          "color": "#4D5663"
         }
        },
        "xaxis": {
         "gridcolor": "#E1E5ED",
         "showgrid": true,
         "tickfont": {
          "color": "#4D5663"
         },
         "title": {
          "font": {
           "color": "#4D5663"
          },
          "text": ""
         },
         "zerolinecolor": "#E1E5ED"
        },
        "yaxis": {
         "gridcolor": "#E1E5ED",
         "showgrid": true,
         "tickfont": {
          "color": "#4D5663"
         },
         "title": {
          "font": {
           "color": "#4D5663"
          },
          "text": ""
         },
         "zerolinecolor": "#E1E5ED"
        }
       }
      },
      "text/html": [
       "<div>                            <div id=\"ddd13f17-d37b-4969-8ece-a323ed27f238\" class=\"plotly-graph-div\" style=\"height:525px; width:100%;\"></div>            <script type=\"text/javascript\">                require([\"plotly\"], function(Plotly) {                    window.PLOTLYENV=window.PLOTLYENV || {};\n",
       "                    window.PLOTLYENV.BASE_URL='https://plot.ly';                                    if (document.getElementById(\"ddd13f17-d37b-4969-8ece-a323ed27f238\")) {                    Plotly.newPlot(                        \"ddd13f17-d37b-4969-8ece-a323ed27f238\",                        [{\"marker\": {\"color\": [\"rgb(255, 153, 51)\", \"rgb(55, 128, 191)\", \"rgb(50, 171, 96)\", \"rgb(128, 0, 128)\", \"rgb(219, 64, 82)\", \"rgb(0, 128, 128)\", \"rgb(255, 255, 51)\", \"rgb(128, 128, 0)\", \"rgb(251, 128, 114)\", \"rgb(128, 177, 211)\"], \"line\": {\"width\": 1.3}, \"size\": [61, 31, 64, 67, 61, 65, 53, 63, 55, 87, 76, 73, 112, 68, 80, 57, 69, 56, 43, 50, 73, 66, 43, 38, 43, 55, 86, 18, 40, 80, 57, 29, 56, 15, 46, 82, 90, 97, 55, 24, 60, 67, 45, 88, 60, 53, 62, 51, 35, 90, 80, 75, 93, 41, 80, 73, 74, 69, 65, 48, 48, 50, 85, 40, 48, 72, 78, 51, 58, 75, 81, 62, 49, 64, 82, 83, 53, 69, 57, 58, 64, 45, 64, 73, 48, 12, 51, 65, 91, 65, 77, 55, 51, 70, 71, 58, 52, 33, 53, 39], \"symbol\": \"circle\"}, \"mode\": \"markers\", \"text\": \"\", \"type\": \"scatter\", \"x\": [-1.1297355996644, -0.7378182431367298, 1.3018362014014464, -0.3897524354762462, -0.28469569627643276, 0.26189570707558646, -0.9076631525537662, 0.6203535138805666, -0.6186803199969817, 1.1226080642068443, -0.041438635172887366, -0.0022362033056104436, -1.0499832175198893, 0.08986937258436357, 1.3375457246389604, 1.9232171151998751, 1.2514977061012698, -0.010263114481263881, 1.4971556937885246, 0.5715860883089958, 0.19761772066921174, 1.1502304384350708, -0.24098786918618537, -1.6010465710520883, 0.9732937328192726, 0.11160359753779947, 0.32197195249841265, 0.30358682957964434, 0.40859502431711464, 0.6193062029177665, -0.4755616450031329, -1.0241841009392374, -0.10086891983338513, 0.754866747209579, 0.06900528817558078, -0.24279306917070723, 1.0348185228210516, -0.3958072182103754, -0.2877736157815689, 1.8262614760763645, 0.6560796576224647, 0.6039936134209548, 0.13811643849623192, 0.6169996082287618, -0.4388003603691258, 0.0857953494782665, 0.06263204663463057, 1.9136188883998924, -2.1038091801398306, -0.5031598748343795, -0.499738792228652, 0.3442035464303753, -1.2225361345294794, -0.22793921626844366, 0.5262130361354909, -0.010912344260437948, 2.2298919035757816, -1.444058305089868, -1.1316461333814778, 0.3933956396359092, -0.8704396282469317, -0.20553795675791134, -0.08867481958175209, -1.1172775865956317, -1.5260076855104778, -1.7467581009661328, -1.0664288474904873, 1.9150131279839857, 0.7683469110544034, 2.00607805679846, 1.8580914663696646, 1.9062502131655201, 0.03580593006324525, -0.6555706026085864, -1.1089797545764777, 0.8329301907539098, 0.8284039642458526, -1.1789468559824925, 0.7518735549022194, 1.0952234728205141, -0.3779764711785572, -0.9265655021956508, -0.9553992513910263, -0.38587972952013033, -0.6838345119123879, -0.43684706995405886, -0.4081057994560073, -1.5156425658958605, -0.575082296862586, -1.9415192419502305, 0.6216142225912914, -0.17327214911462618, 0.41144632474130993, 0.15372200990299822, -0.6157231774320628, 0.5240625234153609, -0.9920542569293624, -0.1510296013533493, -0.20056562222891014, -0.10335285122129649], \"y\": [-0.1635062728202632, -0.9756447904649324, 0.4357492211576944, 0.051226001530410986, 1.6194609778186286, -0.2614992416979577, -0.503056959460743, -0.13993298480476804, 0.4728179839113631, 0.53389506015398, 0.04175052703734408, -0.07721058388948895, -1.225800753883539, 0.8171131199268552, 0.271335570828907, -0.6148593154348182, -2.5442148291754667, -1.7782906353324925, 0.1356671690464854, 0.5537287920898528, -1.9714030383810386, 0.21204671141656967, -0.49986516306652934, 1.1605986854994819, -0.15289830668798166, 0.868679639924568, -0.5327690147279569, 0.38676522371752736, -0.697783301263672, 2.729615807039255, -0.44168975575870933, -0.8975405797564469, 1.156250284244023, 0.18372610275768578, 0.22028435577067737, -2.0445273482561723, -1.2705850191721542, -1.4398853748138425, -0.5164216605007113, -0.8766005893127831, -0.20189795216579856, -0.63168004490542, -0.10625317572230386, 0.06570462032791533, -0.3306030709977983, -1.1066179005719434, -1.8001592887010398, -1.2464956160103438, 1.412558001616313, 0.7263817448765412, -0.674821902689123, 0.13863430885397565, 0.8131652940034697, -1.8446556023227498, -0.3991970389101511, -1.6061316037339424, -0.3895083198515032, 0.9956640976917002, -0.09581646337107551, 0.5003441799337934, 0.4412554563299149, -1.2186611487320202, -0.6603496496066004, -1.3840238128032634, -1.279561508367783, 0.8242627049250715, 0.6066034035416791, -0.3129127244834932, 0.7439229469840886, -0.09075013988002041, -0.31059118918465206, -0.6998974552396815, -1.4718276518213624, 0.9598030326043391, -0.08470576393901538, -1.6271765054338334, 0.10367717536539334, 1.2481090029334017, -1.3083436514057565, 0.9001700007453994, 0.3191804389519386, -1.216318060061043, 0.6960767879130475, -0.10206427976470202, -1.0295841917882045, -0.3919692938644334, -0.004198236309692963, -2.7629842618099905, 1.2332621129863932, 0.3392732764281834, -0.6057250793486275, -0.049403623228994324, -1.1140335648259374, 1.1227986792321807, 0.7647722049015698, 0.23076529128221307, 0.025538967609587467, 1.0284112692058112, -0.11467294290964382, -0.5103834221495227]}],                        {\"legend\": {\"bgcolor\": \"#F5F6F9\", \"font\": {\"color\": \"#4D5663\"}}, \"paper_bgcolor\": \"#F5F6F9\", \"plot_bgcolor\": \"#F5F6F9\", \"template\": {\"data\": {\"bar\": [{\"error_x\": {\"color\": \"#2a3f5f\"}, \"error_y\": {\"color\": \"#2a3f5f\"}, \"marker\": {\"line\": {\"color\": \"#E5ECF6\", \"width\": 0.5}}, \"type\": \"bar\"}], \"barpolar\": [{\"marker\": {\"line\": {\"color\": \"#E5ECF6\", \"width\": 0.5}}, \"type\": \"barpolar\"}], \"carpet\": [{\"aaxis\": {\"endlinecolor\": \"#2a3f5f\", \"gridcolor\": \"white\", \"linecolor\": \"white\", \"minorgridcolor\": \"white\", \"startlinecolor\": \"#2a3f5f\"}, \"baxis\": {\"endlinecolor\": \"#2a3f5f\", \"gridcolor\": \"white\", \"linecolor\": \"white\", \"minorgridcolor\": \"white\", \"startlinecolor\": \"#2a3f5f\"}, \"type\": \"carpet\"}], \"choropleth\": [{\"colorbar\": {\"outlinewidth\": 0, \"ticks\": \"\"}, \"type\": \"choropleth\"}], \"contour\": [{\"colorbar\": {\"outlinewidth\": 0, \"ticks\": \"\"}, \"colorscale\": [[0.0, \"#0d0887\"], [0.1111111111111111, \"#46039f\"], [0.2222222222222222, \"#7201a8\"], [0.3333333333333333, \"#9c179e\"], [0.4444444444444444, \"#bd3786\"], [0.5555555555555556, \"#d8576b\"], [0.6666666666666666, \"#ed7953\"], [0.7777777777777778, \"#fb9f3a\"], [0.8888888888888888, \"#fdca26\"], [1.0, \"#f0f921\"]], \"type\": \"contour\"}], \"contourcarpet\": [{\"colorbar\": {\"outlinewidth\": 0, \"ticks\": \"\"}, \"type\": \"contourcarpet\"}], \"heatmap\": [{\"colorbar\": {\"outlinewidth\": 0, \"ticks\": \"\"}, \"colorscale\": [[0.0, \"#0d0887\"], [0.1111111111111111, \"#46039f\"], [0.2222222222222222, \"#7201a8\"], [0.3333333333333333, \"#9c179e\"], [0.4444444444444444, \"#bd3786\"], [0.5555555555555556, \"#d8576b\"], [0.6666666666666666, \"#ed7953\"], [0.7777777777777778, \"#fb9f3a\"], [0.8888888888888888, \"#fdca26\"], [1.0, \"#f0f921\"]], \"type\": \"heatmap\"}], \"heatmapgl\": [{\"colorbar\": {\"outlinewidth\": 0, \"ticks\": \"\"}, \"colorscale\": [[0.0, \"#0d0887\"], [0.1111111111111111, \"#46039f\"], [0.2222222222222222, \"#7201a8\"], [0.3333333333333333, \"#9c179e\"], [0.4444444444444444, \"#bd3786\"], [0.5555555555555556, \"#d8576b\"], [0.6666666666666666, \"#ed7953\"], [0.7777777777777778, \"#fb9f3a\"], [0.8888888888888888, \"#fdca26\"], [1.0, \"#f0f921\"]], \"type\": \"heatmapgl\"}], \"histogram\": [{\"marker\": {\"colorbar\": {\"outlinewidth\": 0, \"ticks\": \"\"}}, \"type\": \"histogram\"}], \"histogram2d\": [{\"colorbar\": {\"outlinewidth\": 0, \"ticks\": \"\"}, \"colorscale\": [[0.0, \"#0d0887\"], [0.1111111111111111, \"#46039f\"], [0.2222222222222222, \"#7201a8\"], [0.3333333333333333, \"#9c179e\"], [0.4444444444444444, \"#bd3786\"], [0.5555555555555556, \"#d8576b\"], [0.6666666666666666, \"#ed7953\"], [0.7777777777777778, \"#fb9f3a\"], [0.8888888888888888, \"#fdca26\"], [1.0, \"#f0f921\"]], \"type\": \"histogram2d\"}], \"histogram2dcontour\": [{\"colorbar\": {\"outlinewidth\": 0, \"ticks\": \"\"}, \"colorscale\": [[0.0, \"#0d0887\"], [0.1111111111111111, \"#46039f\"], [0.2222222222222222, \"#7201a8\"], [0.3333333333333333, \"#9c179e\"], [0.4444444444444444, \"#bd3786\"], [0.5555555555555556, \"#d8576b\"], [0.6666666666666666, \"#ed7953\"], [0.7777777777777778, \"#fb9f3a\"], [0.8888888888888888, \"#fdca26\"], [1.0, \"#f0f921\"]], \"type\": \"histogram2dcontour\"}], \"mesh3d\": [{\"colorbar\": {\"outlinewidth\": 0, \"ticks\": \"\"}, \"type\": \"mesh3d\"}], \"parcoords\": [{\"line\": {\"colorbar\": {\"outlinewidth\": 0, \"ticks\": \"\"}}, \"type\": \"parcoords\"}], \"pie\": [{\"automargin\": true, \"type\": \"pie\"}], \"scatter\": [{\"marker\": {\"colorbar\": {\"outlinewidth\": 0, \"ticks\": \"\"}}, \"type\": \"scatter\"}], \"scatter3d\": [{\"line\": {\"colorbar\": {\"outlinewidth\": 0, \"ticks\": \"\"}}, \"marker\": {\"colorbar\": {\"outlinewidth\": 0, \"ticks\": \"\"}}, \"type\": \"scatter3d\"}], \"scattercarpet\": [{\"marker\": {\"colorbar\": {\"outlinewidth\": 0, \"ticks\": \"\"}}, \"type\": \"scattercarpet\"}], \"scattergeo\": [{\"marker\": {\"colorbar\": {\"outlinewidth\": 0, \"ticks\": \"\"}}, \"type\": \"scattergeo\"}], \"scattergl\": [{\"marker\": {\"colorbar\": {\"outlinewidth\": 0, \"ticks\": \"\"}}, \"type\": \"scattergl\"}], \"scattermapbox\": [{\"marker\": {\"colorbar\": {\"outlinewidth\": 0, \"ticks\": \"\"}}, \"type\": \"scattermapbox\"}], \"scatterpolar\": [{\"marker\": {\"colorbar\": {\"outlinewidth\": 0, \"ticks\": \"\"}}, \"type\": \"scatterpolar\"}], \"scatterpolargl\": [{\"marker\": {\"colorbar\": {\"outlinewidth\": 0, \"ticks\": \"\"}}, \"type\": \"scatterpolargl\"}], \"scatterternary\": [{\"marker\": {\"colorbar\": {\"outlinewidth\": 0, \"ticks\": \"\"}}, \"type\": \"scatterternary\"}], \"surface\": [{\"colorbar\": {\"outlinewidth\": 0, \"ticks\": \"\"}, \"colorscale\": [[0.0, \"#0d0887\"], [0.1111111111111111, \"#46039f\"], [0.2222222222222222, \"#7201a8\"], [0.3333333333333333, \"#9c179e\"], [0.4444444444444444, \"#bd3786\"], [0.5555555555555556, \"#d8576b\"], [0.6666666666666666, \"#ed7953\"], [0.7777777777777778, \"#fb9f3a\"], [0.8888888888888888, \"#fdca26\"], [1.0, \"#f0f921\"]], \"type\": \"surface\"}], \"table\": [{\"cells\": {\"fill\": {\"color\": \"#EBF0F8\"}, \"line\": {\"color\": \"white\"}}, \"header\": {\"fill\": {\"color\": \"#C8D4E3\"}, \"line\": {\"color\": \"white\"}}, \"type\": \"table\"}]}, \"layout\": {\"annotationdefaults\": {\"arrowcolor\": \"#2a3f5f\", \"arrowhead\": 0, \"arrowwidth\": 1}, \"autotypenumbers\": \"strict\", \"coloraxis\": {\"colorbar\": {\"outlinewidth\": 0, \"ticks\": \"\"}}, \"colorscale\": {\"diverging\": [[0, \"#8e0152\"], [0.1, \"#c51b7d\"], [0.2, \"#de77ae\"], [0.3, \"#f1b6da\"], [0.4, \"#fde0ef\"], [0.5, \"#f7f7f7\"], [0.6, \"#e6f5d0\"], [0.7, \"#b8e186\"], [0.8, \"#7fbc41\"], [0.9, \"#4d9221\"], [1, \"#276419\"]], \"sequential\": [[0.0, \"#0d0887\"], [0.1111111111111111, \"#46039f\"], [0.2222222222222222, \"#7201a8\"], [0.3333333333333333, \"#9c179e\"], [0.4444444444444444, \"#bd3786\"], [0.5555555555555556, \"#d8576b\"], [0.6666666666666666, \"#ed7953\"], [0.7777777777777778, \"#fb9f3a\"], [0.8888888888888888, \"#fdca26\"], [1.0, \"#f0f921\"]], \"sequentialminus\": [[0.0, \"#0d0887\"], [0.1111111111111111, \"#46039f\"], [0.2222222222222222, \"#7201a8\"], [0.3333333333333333, \"#9c179e\"], [0.4444444444444444, \"#bd3786\"], [0.5555555555555556, \"#d8576b\"], [0.6666666666666666, \"#ed7953\"], [0.7777777777777778, \"#fb9f3a\"], [0.8888888888888888, \"#fdca26\"], [1.0, \"#f0f921\"]]}, \"colorway\": [\"#636efa\", \"#EF553B\", \"#00cc96\", \"#ab63fa\", \"#FFA15A\", \"#19d3f3\", \"#FF6692\", \"#B6E880\", \"#FF97FF\", \"#FECB52\"], \"font\": {\"color\": \"#2a3f5f\"}, \"geo\": {\"bgcolor\": \"white\", \"lakecolor\": \"white\", \"landcolor\": \"#E5ECF6\", \"showlakes\": true, \"showland\": true, \"subunitcolor\": \"white\"}, \"hoverlabel\": {\"align\": \"left\"}, \"hovermode\": \"closest\", \"mapbox\": {\"style\": \"light\"}, \"paper_bgcolor\": \"white\", \"plot_bgcolor\": \"#E5ECF6\", \"polar\": {\"angularaxis\": {\"gridcolor\": \"white\", \"linecolor\": \"white\", \"ticks\": \"\"}, \"bgcolor\": \"#E5ECF6\", \"radialaxis\": {\"gridcolor\": \"white\", \"linecolor\": \"white\", \"ticks\": \"\"}}, \"scene\": {\"xaxis\": {\"backgroundcolor\": \"#E5ECF6\", \"gridcolor\": \"white\", \"gridwidth\": 2, \"linecolor\": \"white\", \"showbackground\": true, \"ticks\": \"\", \"zerolinecolor\": \"white\"}, \"yaxis\": {\"backgroundcolor\": \"#E5ECF6\", \"gridcolor\": \"white\", \"gridwidth\": 2, \"linecolor\": \"white\", \"showbackground\": true, \"ticks\": \"\", \"zerolinecolor\": \"white\"}, \"zaxis\": {\"backgroundcolor\": \"#E5ECF6\", \"gridcolor\": \"white\", \"gridwidth\": 2, \"linecolor\": \"white\", \"showbackground\": true, \"ticks\": \"\", \"zerolinecolor\": \"white\"}}, \"shapedefaults\": {\"line\": {\"color\": \"#2a3f5f\"}}, \"ternary\": {\"aaxis\": {\"gridcolor\": \"white\", \"linecolor\": \"white\", \"ticks\": \"\"}, \"baxis\": {\"gridcolor\": \"white\", \"linecolor\": \"white\", \"ticks\": \"\"}, \"bgcolor\": \"#E5ECF6\", \"caxis\": {\"gridcolor\": \"white\", \"linecolor\": \"white\", \"ticks\": \"\"}}, \"title\": {\"x\": 0.05}, \"xaxis\": {\"automargin\": true, \"gridcolor\": \"white\", \"linecolor\": \"white\", \"ticks\": \"\", \"title\": {\"standoff\": 15}, \"zerolinecolor\": \"white\", \"zerolinewidth\": 2}, \"yaxis\": {\"automargin\": true, \"gridcolor\": \"white\", \"linecolor\": \"white\", \"ticks\": \"\", \"title\": {\"standoff\": 15}, \"zerolinecolor\": \"white\", \"zerolinewidth\": 2}}}, \"title\": {\"font\": {\"color\": \"#4D5663\"}}, \"xaxis\": {\"gridcolor\": \"#E1E5ED\", \"showgrid\": true, \"tickfont\": {\"color\": \"#4D5663\"}, \"title\": {\"font\": {\"color\": \"#4D5663\"}, \"text\": \"\"}, \"zerolinecolor\": \"#E1E5ED\"}, \"yaxis\": {\"gridcolor\": \"#E1E5ED\", \"showgrid\": true, \"tickfont\": {\"color\": \"#4D5663\"}, \"title\": {\"font\": {\"color\": \"#4D5663\"}, \"text\": \"\"}, \"zerolinecolor\": \"#E1E5ED\"}},                        {\"showLink\": true, \"linkText\": \"Export to plot.ly\", \"plotlyServerURL\": \"https://plot.ly\", \"responsive\": true}                    ).then(function(){\n",
       "                            \n",
       "var gd = document.getElementById('ddd13f17-d37b-4969-8ece-a323ed27f238');\n",
       "var x = new MutationObserver(function (mutations, observer) {{\n",
       "        var display = window.getComputedStyle(gd).display;\n",
       "        if (!display || display === 'none') {{\n",
       "            console.log([gd, 'removed!']);\n",
       "            Plotly.purge(gd);\n",
       "            observer.disconnect();\n",
       "        }}\n",
       "}});\n",
       "\n",
       "// Listen for the removal of the full notebook cells\n",
       "var notebookContainer = gd.closest('#notebook-container');\n",
       "if (notebookContainer) {{\n",
       "    x.observe(notebookContainer, {childList: true});\n",
       "}}\n",
       "\n",
       "// Listen for the clearing of the current output cell\n",
       "var outputEl = gd.closest('.output');\n",
       "if (outputEl) {{\n",
       "    x.observe(outputEl, {childList: true});\n",
       "}}\n",
       "\n",
       "                        })                };                });            </script>        </div>"
      ]
     },
     "metadata": {},
     "output_type": "display_data"
    }
   ],
   "source": [
    "df.iplot(kind='bubble',x='A',y='B',size='C')"
   ]
  },
  {
   "cell_type": "markdown",
   "metadata": {},
   "source": [
    "## scatter_matrix()"
   ]
  },
  {
   "cell_type": "code",
   "execution_count": 18,
   "metadata": {},
   "outputs": [
    {
     "data": {
      "application/vnd.plotly.v1+json": {
       "config": {
        "linkText": "Export to plot.ly",
        "plotlyServerURL": "https://plot.ly",
        "showLink": true
       },
       "data": [
        {
         "histfunc": "count",
         "histnorm": "",
         "marker": {
          "color": "rgba(255, 153, 51, 1.0)",
          "line": {
           "color": "#4D5663",
           "width": 1.3
          }
         },
         "name": "A",
         "nbinsx": 10,
         "opacity": 0.8,
         "orientation": "v",
         "type": "histogram",
         "x": [
          -1.1297355996644,
          -0.7378182431367298,
          1.3018362014014464,
          -0.3897524354762462,
          -0.28469569627643276,
          0.26189570707558646,
          -0.9076631525537662,
          0.6203535138805666,
          -0.6186803199969817,
          1.1226080642068443,
          -0.041438635172887366,
          -0.0022362033056104436,
          -1.0499832175198893,
          0.08986937258436357,
          1.3375457246389604,
          1.9232171151998751,
          1.2514977061012698,
          -0.010263114481263881,
          1.4971556937885246,
          0.5715860883089958,
          0.19761772066921174,
          1.1502304384350708,
          -0.24098786918618537,
          -1.6010465710520883,
          0.9732937328192726,
          0.11160359753779947,
          0.32197195249841265,
          0.30358682957964434,
          0.40859502431711464,
          0.6193062029177665,
          -0.4755616450031329,
          -1.0241841009392374,
          -0.10086891983338513,
          0.754866747209579,
          0.06900528817558078,
          -0.24279306917070723,
          1.0348185228210516,
          -0.3958072182103754,
          -0.2877736157815689,
          1.8262614760763645,
          0.6560796576224647,
          0.6039936134209548,
          0.13811643849623192,
          0.6169996082287618,
          -0.4388003603691258,
          0.0857953494782665,
          0.06263204663463057,
          1.9136188883998924,
          -2.1038091801398306,
          -0.5031598748343795,
          -0.499738792228652,
          0.3442035464303753,
          -1.2225361345294794,
          -0.22793921626844366,
          0.5262130361354909,
          -0.010912344260437948,
          2.2298919035757816,
          -1.444058305089868,
          -1.1316461333814778,
          0.3933956396359092,
          -0.8704396282469317,
          -0.20553795675791134,
          -0.08867481958175209,
          -1.1172775865956317,
          -1.5260076855104778,
          -1.7467581009661328,
          -1.0664288474904873,
          1.9150131279839857,
          0.7683469110544034,
          2.00607805679846,
          1.8580914663696646,
          1.9062502131655201,
          0.03580593006324525,
          -0.6555706026085864,
          -1.1089797545764777,
          0.8329301907539098,
          0.8284039642458526,
          -1.1789468559824925,
          0.7518735549022194,
          1.0952234728205141,
          -0.3779764711785572,
          -0.9265655021956508,
          -0.9553992513910263,
          -0.38587972952013033,
          -0.6838345119123879,
          -0.43684706995405886,
          -0.4081057994560073,
          -1.5156425658958605,
          -0.575082296862586,
          -1.9415192419502305,
          0.6216142225912914,
          -0.17327214911462618,
          0.41144632474130993,
          0.15372200990299822,
          -0.6157231774320628,
          0.5240625234153609,
          -0.9920542569293624,
          -0.1510296013533493,
          -0.20056562222891014,
          -0.10335285122129649
         ],
         "xaxis": "x",
         "yaxis": "y"
        },
        {
         "line": {
          "color": "rgba(128, 128, 128, 1.0)",
          "dash": "solid",
          "shape": "linear",
          "width": 1.3
         },
         "marker": {
          "size": 2,
          "symbol": "circle"
         },
         "mode": "markers",
         "name": "A",
         "text": "",
         "type": "scatter",
         "x": [
          -0.1635062728202632,
          -0.9756447904649324,
          0.4357492211576944,
          0.051226001530410986,
          1.6194609778186286,
          -0.2614992416979577,
          -0.503056959460743,
          -0.13993298480476804,
          0.4728179839113631,
          0.53389506015398,
          0.04175052703734408,
          -0.07721058388948895,
          -1.225800753883539,
          0.8171131199268552,
          0.271335570828907,
          -0.6148593154348182,
          -2.5442148291754667,
          -1.7782906353324925,
          0.1356671690464854,
          0.5537287920898528,
          -1.9714030383810386,
          0.21204671141656967,
          -0.49986516306652934,
          1.1605986854994819,
          -0.15289830668798166,
          0.868679639924568,
          -0.5327690147279569,
          0.38676522371752736,
          -0.697783301263672,
          2.729615807039255,
          -0.44168975575870933,
          -0.8975405797564469,
          1.156250284244023,
          0.18372610275768578,
          0.22028435577067737,
          -2.0445273482561723,
          -1.2705850191721542,
          -1.4398853748138425,
          -0.5164216605007113,
          -0.8766005893127831,
          -0.20189795216579856,
          -0.63168004490542,
          -0.10625317572230386,
          0.06570462032791533,
          -0.3306030709977983,
          -1.1066179005719434,
          -1.8001592887010398,
          -1.2464956160103438,
          1.412558001616313,
          0.7263817448765412,
          -0.674821902689123,
          0.13863430885397565,
          0.8131652940034697,
          -1.8446556023227498,
          -0.3991970389101511,
          -1.6061316037339424,
          -0.3895083198515032,
          0.9956640976917002,
          -0.09581646337107551,
          0.5003441799337934,
          0.4412554563299149,
          -1.2186611487320202,
          -0.6603496496066004,
          -1.3840238128032634,
          -1.279561508367783,
          0.8242627049250715,
          0.6066034035416791,
          -0.3129127244834932,
          0.7439229469840886,
          -0.09075013988002041,
          -0.31059118918465206,
          -0.6998974552396815,
          -1.4718276518213624,
          0.9598030326043391,
          -0.08470576393901538,
          -1.6271765054338334,
          0.10367717536539334,
          1.2481090029334017,
          -1.3083436514057565,
          0.9001700007453994,
          0.3191804389519386,
          -1.216318060061043,
          0.6960767879130475,
          -0.10206427976470202,
          -1.0295841917882045,
          -0.3919692938644334,
          -0.004198236309692963,
          -2.7629842618099905,
          1.2332621129863932,
          0.3392732764281834,
          -0.6057250793486275,
          -0.049403623228994324,
          -1.1140335648259374,
          1.1227986792321807,
          0.7647722049015698,
          0.23076529128221307,
          0.025538967609587467,
          1.0284112692058112,
          -0.11467294290964382,
          -0.5103834221495227
         ],
         "xaxis": "x2",
         "y": [
          -1.1297355996644,
          -0.7378182431367298,
          1.3018362014014464,
          -0.3897524354762462,
          -0.28469569627643276,
          0.26189570707558646,
          -0.9076631525537662,
          0.6203535138805666,
          -0.6186803199969817,
          1.1226080642068443,
          -0.041438635172887366,
          -0.0022362033056104436,
          -1.0499832175198893,
          0.08986937258436357,
          1.3375457246389604,
          1.9232171151998751,
          1.2514977061012698,
          -0.010263114481263881,
          1.4971556937885246,
          0.5715860883089958,
          0.19761772066921174,
          1.1502304384350708,
          -0.24098786918618537,
          -1.6010465710520883,
          0.9732937328192726,
          0.11160359753779947,
          0.32197195249841265,
          0.30358682957964434,
          0.40859502431711464,
          0.6193062029177665,
          -0.4755616450031329,
          -1.0241841009392374,
          -0.10086891983338513,
          0.754866747209579,
          0.06900528817558078,
          -0.24279306917070723,
          1.0348185228210516,
          -0.3958072182103754,
          -0.2877736157815689,
          1.8262614760763645,
          0.6560796576224647,
          0.6039936134209548,
          0.13811643849623192,
          0.6169996082287618,
          -0.4388003603691258,
          0.0857953494782665,
          0.06263204663463057,
          1.9136188883998924,
          -2.1038091801398306,
          -0.5031598748343795,
          -0.499738792228652,
          0.3442035464303753,
          -1.2225361345294794,
          -0.22793921626844366,
          0.5262130361354909,
          -0.010912344260437948,
          2.2298919035757816,
          -1.444058305089868,
          -1.1316461333814778,
          0.3933956396359092,
          -0.8704396282469317,
          -0.20553795675791134,
          -0.08867481958175209,
          -1.1172775865956317,
          -1.5260076855104778,
          -1.7467581009661328,
          -1.0664288474904873,
          1.9150131279839857,
          0.7683469110544034,
          2.00607805679846,
          1.8580914663696646,
          1.9062502131655201,
          0.03580593006324525,
          -0.6555706026085864,
          -1.1089797545764777,
          0.8329301907539098,
          0.8284039642458526,
          -1.1789468559824925,
          0.7518735549022194,
          1.0952234728205141,
          -0.3779764711785572,
          -0.9265655021956508,
          -0.9553992513910263,
          -0.38587972952013033,
          -0.6838345119123879,
          -0.43684706995405886,
          -0.4081057994560073,
          -1.5156425658958605,
          -0.575082296862586,
          -1.9415192419502305,
          0.6216142225912914,
          -0.17327214911462618,
          0.41144632474130993,
          0.15372200990299822,
          -0.6157231774320628,
          0.5240625234153609,
          -0.9920542569293624,
          -0.1510296013533493,
          -0.20056562222891014,
          -0.10335285122129649
         ],
         "yaxis": "y2"
        },
        {
         "line": {
          "color": "rgba(128, 128, 128, 1.0)",
          "dash": "solid",
          "shape": "linear",
          "width": 1.3
         },
         "marker": {
          "size": 2,
          "symbol": "circle"
         },
         "mode": "markers",
         "name": "A",
         "text": "",
         "type": "scatter",
         "x": [
          0.11283031733277957,
          -1.361284331583743,
          0.25994077605414034,
          0.38959313337602264,
          0.13067355807753492,
          0.3227772997051113,
          -0.3046470317405729,
          0.21262946711523859,
          -0.18545062372845666,
          1.408158740699216,
          0.832127306043445,
          0.7233007298027437,
          2.592076750966838,
          0.4372835915750651,
          1.0456009503869577,
          -0.10896717671709816,
          0.5122037431260221,
          -0.11337424244070682,
          -0.7816781259696549,
          -0.4100948706532913,
          0.6964057941366105,
          0.36746904732545255,
          -0.7502410991693306,
          -1.0213807432442694,
          -0.7823211617714393,
          -0.18050238898936574,
          1.3475391164944077,
          -2.017613664525537,
          -0.914340212487567,
          1.0542539063755882,
          -0.09706941869315856,
          -1.456721538503752,
          -0.11545419654006604,
          -2.1554219970003645,
          -0.6276875313672381,
          1.124724482266114,
          1.5456975734686016,
          1.8764227506584508,
          -0.20510093769002238,
          -1.7060295671555399,
          0.04431171538660458,
          0.39403894117897614,
          -0.6869783121433457,
          1.455839617849644,
          0.06230447079335637,
          -0.30023939732847216,
          0.14011200080170352,
          -0.3645626613083884,
          -1.1516877616101877,
          1.541246158404446,
          1.0331106872251201,
          0.7921891009532842,
          1.6783110772135967,
          -0.8766331742460747,
          1.0235203320321027,
          0.701960141685297,
          0.7651104002675053,
          0.5194243998661789,
          0.30918233746190904,
          -0.546190774839706,
          -0.5142471808977173,
          -0.42462565450019113,
          1.2952996037607194,
          -0.8970588287044531,
          -0.5464663004065007,
          0.6413825063548994,
          0.9477350178116315,
          -0.37901231911871874,
          -0.045400287048320546,
          0.7943838281320083,
          1.073353768930085,
          0.16043169392409934,
          -0.4782821328775109,
          0.2736732512409374,
          1.1342637312186539,
          1.1826436526758746,
          -0.280696984045084,
          0.48787177121146336,
          -0.09653893055785567,
          -0.056911694205144005,
          0.24506678305677007,
          -0.6880268658655267,
          0.24297960194793905,
          0.6896351516203121,
          -0.539824561709622,
          -2.3216199349649096,
          -0.39180850198850914,
          0.3185777920876068,
          1.5758023687870821,
          0.3083559696896942,
          0.9189071123950201,
          -0.17972585672602343,
          -0.39014446888607557,
          0.5334723758838263,
          0.5790713350650735,
          -0.035620542072960774,
          -0.3301452792602241,
          -1.2618270450203632,
          -0.27439773322073563,
          -0.9688992149707151
         ],
         "xaxis": "x3",
         "y": [
          -1.1297355996644,
          -0.7378182431367298,
          1.3018362014014464,
          -0.3897524354762462,
          -0.28469569627643276,
          0.26189570707558646,
          -0.9076631525537662,
          0.6203535138805666,
          -0.6186803199969817,
          1.1226080642068443,
          -0.041438635172887366,
          -0.0022362033056104436,
          -1.0499832175198893,
          0.08986937258436357,
          1.3375457246389604,
          1.9232171151998751,
          1.2514977061012698,
          -0.010263114481263881,
          1.4971556937885246,
          0.5715860883089958,
          0.19761772066921174,
          1.1502304384350708,
          -0.24098786918618537,
          -1.6010465710520883,
          0.9732937328192726,
          0.11160359753779947,
          0.32197195249841265,
          0.30358682957964434,
          0.40859502431711464,
          0.6193062029177665,
          -0.4755616450031329,
          -1.0241841009392374,
          -0.10086891983338513,
          0.754866747209579,
          0.06900528817558078,
          -0.24279306917070723,
          1.0348185228210516,
          -0.3958072182103754,
          -0.2877736157815689,
          1.8262614760763645,
          0.6560796576224647,
          0.6039936134209548,
          0.13811643849623192,
          0.6169996082287618,
          -0.4388003603691258,
          0.0857953494782665,
          0.06263204663463057,
          1.9136188883998924,
          -2.1038091801398306,
          -0.5031598748343795,
          -0.499738792228652,
          0.3442035464303753,
          -1.2225361345294794,
          -0.22793921626844366,
          0.5262130361354909,
          -0.010912344260437948,
          2.2298919035757816,
          -1.444058305089868,
          -1.1316461333814778,
          0.3933956396359092,
          -0.8704396282469317,
          -0.20553795675791134,
          -0.08867481958175209,
          -1.1172775865956317,
          -1.5260076855104778,
          -1.7467581009661328,
          -1.0664288474904873,
          1.9150131279839857,
          0.7683469110544034,
          2.00607805679846,
          1.8580914663696646,
          1.9062502131655201,
          0.03580593006324525,
          -0.6555706026085864,
          -1.1089797545764777,
          0.8329301907539098,
          0.8284039642458526,
          -1.1789468559824925,
          0.7518735549022194,
          1.0952234728205141,
          -0.3779764711785572,
          -0.9265655021956508,
          -0.9553992513910263,
          -0.38587972952013033,
          -0.6838345119123879,
          -0.43684706995405886,
          -0.4081057994560073,
          -1.5156425658958605,
          -0.575082296862586,
          -1.9415192419502305,
          0.6216142225912914,
          -0.17327214911462618,
          0.41144632474130993,
          0.15372200990299822,
          -0.6157231774320628,
          0.5240625234153609,
          -0.9920542569293624,
          -0.1510296013533493,
          -0.20056562222891014,
          -0.10335285122129649
         ],
         "yaxis": "y3"
        },
        {
         "line": {
          "color": "rgba(128, 128, 128, 1.0)",
          "dash": "solid",
          "shape": "linear",
          "width": 1.3
         },
         "marker": {
          "size": 2,
          "symbol": "circle"
         },
         "mode": "markers",
         "name": "A",
         "text": "",
         "type": "scatter",
         "x": [
          0.7118018274434779,
          -1.2870065882504182,
          -0.4916580493491787,
          -1.9044308590692947,
          0.44351772033203785,
          -0.8273690155867319,
          -0.26055125217240704,
          0.018141216394656854,
          0.11008597289630066,
          -0.1295995451203634,
          -2.5910847329063196,
          -1.0429374286137294,
          -0.933194717655079,
          1.1730632159410679,
          -1.5634474725013752,
          0.06124450115994435,
          -2.462283503795632,
          -1.086247491879777,
          0.5115129683238252,
          1.4778568005223898,
          1.5159370360629094,
          0.38734606585622705,
          -0.6482415702654734,
          0.4706369698418316,
          -0.8506092686698958,
          -0.5657587648336501,
          0.6424211253349936,
          -0.6301938372710957,
          0.779597094268482,
          -0.11736811855957255,
          -1.1240759278650072,
          -0.4249470969787539,
          1.2564408229880317,
          0.7504260227702606,
          1.0437309096416023,
          0.7993057618778631,
          -0.9549154584512836,
          1.5346625194776453,
          1.3141321896443987,
          -1.7241038422728823,
          -2.3547881946364266,
          0.1938604385221901,
          0.20773629690488585,
          0.167229442949951,
          0.31955325724674877,
          -0.7544148858212423,
          1.1332089519520134,
          0.07994626035589668,
          -0.49874884575035905,
          0.18123275411143955,
          -0.395156698520691,
          -0.7627582584708325,
          1.8655137740278986,
          1.9835988187756877,
          0.21617851924165346,
          1.9078703451033887,
          -1.2088955789444449,
          0.24520916592393158,
          -0.6695956520006487,
          -0.5289167647520208,
          -0.9663802562480689,
          1.6507113606508885,
          0.6877752606098776,
          -0.4295743594399312,
          0.3336637707572907,
          -0.034684490378471634,
          -1.8849000567154173,
          -0.3888386615121982,
          -0.438519674648204,
          -1.5140712445326898,
          0.29645004668549324,
          -0.020518771653509488,
          0.24340253185014743,
          0.5272517935508056,
          0.20093651389213774,
          -0.681284626436085,
          1.991433431106185,
          -0.23803286285355918,
          -0.9082058481785367,
          -0.9479342716163699,
          0.09453027478112576,
          -0.14206289950205084,
          1.8876158338669904,
          0.14435770629035993,
          -0.10557615886304807,
          -0.7722511756395839,
          0.5595579954963263,
          0.03796416430661692,
          -2.305640382010492,
          0.40141186801845913,
          1.9559216264785575,
          0.3282349006818968,
          1.2497863794369466,
          -1.4249720497809808,
          -0.6708144248867455,
          -0.7315669636364406,
          -1.162681731855504,
          0.8598682003782712,
          1.612239177726746,
          0.378354468322111
         ],
         "xaxis": "x4",
         "y": [
          -1.1297355996644,
          -0.7378182431367298,
          1.3018362014014464,
          -0.3897524354762462,
          -0.28469569627643276,
          0.26189570707558646,
          -0.9076631525537662,
          0.6203535138805666,
          -0.6186803199969817,
          1.1226080642068443,
          -0.041438635172887366,
          -0.0022362033056104436,
          -1.0499832175198893,
          0.08986937258436357,
          1.3375457246389604,
          1.9232171151998751,
          1.2514977061012698,
          -0.010263114481263881,
          1.4971556937885246,
          0.5715860883089958,
          0.19761772066921174,
          1.1502304384350708,
          -0.24098786918618537,
          -1.6010465710520883,
          0.9732937328192726,
          0.11160359753779947,
          0.32197195249841265,
          0.30358682957964434,
          0.40859502431711464,
          0.6193062029177665,
          -0.4755616450031329,
          -1.0241841009392374,
          -0.10086891983338513,
          0.754866747209579,
          0.06900528817558078,
          -0.24279306917070723,
          1.0348185228210516,
          -0.3958072182103754,
          -0.2877736157815689,
          1.8262614760763645,
          0.6560796576224647,
          0.6039936134209548,
          0.13811643849623192,
          0.6169996082287618,
          -0.4388003603691258,
          0.0857953494782665,
          0.06263204663463057,
          1.9136188883998924,
          -2.1038091801398306,
          -0.5031598748343795,
          -0.499738792228652,
          0.3442035464303753,
          -1.2225361345294794,
          -0.22793921626844366,
          0.5262130361354909,
          -0.010912344260437948,
          2.2298919035757816,
          -1.444058305089868,
          -1.1316461333814778,
          0.3933956396359092,
          -0.8704396282469317,
          -0.20553795675791134,
          -0.08867481958175209,
          -1.1172775865956317,
          -1.5260076855104778,
          -1.7467581009661328,
          -1.0664288474904873,
          1.9150131279839857,
          0.7683469110544034,
          2.00607805679846,
          1.8580914663696646,
          1.9062502131655201,
          0.03580593006324525,
          -0.6555706026085864,
          -1.1089797545764777,
          0.8329301907539098,
          0.8284039642458526,
          -1.1789468559824925,
          0.7518735549022194,
          1.0952234728205141,
          -0.3779764711785572,
          -0.9265655021956508,
          -0.9553992513910263,
          -0.38587972952013033,
          -0.6838345119123879,
          -0.43684706995405886,
          -0.4081057994560073,
          -1.5156425658958605,
          -0.575082296862586,
          -1.9415192419502305,
          0.6216142225912914,
          -0.17327214911462618,
          0.41144632474130993,
          0.15372200990299822,
          -0.6157231774320628,
          0.5240625234153609,
          -0.9920542569293624,
          -0.1510296013533493,
          -0.20056562222891014,
          -0.10335285122129649
         ],
         "yaxis": "y4"
        },
        {
         "line": {
          "color": "rgba(128, 128, 128, 1.0)",
          "dash": "solid",
          "shape": "linear",
          "width": 1.3
         },
         "marker": {
          "size": 2,
          "symbol": "circle"
         },
         "mode": "markers",
         "name": "B",
         "text": "",
         "type": "scatter",
         "x": [
          -1.1297355996644,
          -0.7378182431367298,
          1.3018362014014464,
          -0.3897524354762462,
          -0.28469569627643276,
          0.26189570707558646,
          -0.9076631525537662,
          0.6203535138805666,
          -0.6186803199969817,
          1.1226080642068443,
          -0.041438635172887366,
          -0.0022362033056104436,
          -1.0499832175198893,
          0.08986937258436357,
          1.3375457246389604,
          1.9232171151998751,
          1.2514977061012698,
          -0.010263114481263881,
          1.4971556937885246,
          0.5715860883089958,
          0.19761772066921174,
          1.1502304384350708,
          -0.24098786918618537,
          -1.6010465710520883,
          0.9732937328192726,
          0.11160359753779947,
          0.32197195249841265,
          0.30358682957964434,
          0.40859502431711464,
          0.6193062029177665,
          -0.4755616450031329,
          -1.0241841009392374,
          -0.10086891983338513,
          0.754866747209579,
          0.06900528817558078,
          -0.24279306917070723,
          1.0348185228210516,
          -0.3958072182103754,
          -0.2877736157815689,
          1.8262614760763645,
          0.6560796576224647,
          0.6039936134209548,
          0.13811643849623192,
          0.6169996082287618,
          -0.4388003603691258,
          0.0857953494782665,
          0.06263204663463057,
          1.9136188883998924,
          -2.1038091801398306,
          -0.5031598748343795,
          -0.499738792228652,
          0.3442035464303753,
          -1.2225361345294794,
          -0.22793921626844366,
          0.5262130361354909,
          -0.010912344260437948,
          2.2298919035757816,
          -1.444058305089868,
          -1.1316461333814778,
          0.3933956396359092,
          -0.8704396282469317,
          -0.20553795675791134,
          -0.08867481958175209,
          -1.1172775865956317,
          -1.5260076855104778,
          -1.7467581009661328,
          -1.0664288474904873,
          1.9150131279839857,
          0.7683469110544034,
          2.00607805679846,
          1.8580914663696646,
          1.9062502131655201,
          0.03580593006324525,
          -0.6555706026085864,
          -1.1089797545764777,
          0.8329301907539098,
          0.8284039642458526,
          -1.1789468559824925,
          0.7518735549022194,
          1.0952234728205141,
          -0.3779764711785572,
          -0.9265655021956508,
          -0.9553992513910263,
          -0.38587972952013033,
          -0.6838345119123879,
          -0.43684706995405886,
          -0.4081057994560073,
          -1.5156425658958605,
          -0.575082296862586,
          -1.9415192419502305,
          0.6216142225912914,
          -0.17327214911462618,
          0.41144632474130993,
          0.15372200990299822,
          -0.6157231774320628,
          0.5240625234153609,
          -0.9920542569293624,
          -0.1510296013533493,
          -0.20056562222891014,
          -0.10335285122129649
         ],
         "xaxis": "x5",
         "y": [
          -0.1635062728202632,
          -0.9756447904649324,
          0.4357492211576944,
          0.051226001530410986,
          1.6194609778186286,
          -0.2614992416979577,
          -0.503056959460743,
          -0.13993298480476804,
          0.4728179839113631,
          0.53389506015398,
          0.04175052703734408,
          -0.07721058388948895,
          -1.225800753883539,
          0.8171131199268552,
          0.271335570828907,
          -0.6148593154348182,
          -2.5442148291754667,
          -1.7782906353324925,
          0.1356671690464854,
          0.5537287920898528,
          -1.9714030383810386,
          0.21204671141656967,
          -0.49986516306652934,
          1.1605986854994819,
          -0.15289830668798166,
          0.868679639924568,
          -0.5327690147279569,
          0.38676522371752736,
          -0.697783301263672,
          2.729615807039255,
          -0.44168975575870933,
          -0.8975405797564469,
          1.156250284244023,
          0.18372610275768578,
          0.22028435577067737,
          -2.0445273482561723,
          -1.2705850191721542,
          -1.4398853748138425,
          -0.5164216605007113,
          -0.8766005893127831,
          -0.20189795216579856,
          -0.63168004490542,
          -0.10625317572230386,
          0.06570462032791533,
          -0.3306030709977983,
          -1.1066179005719434,
          -1.8001592887010398,
          -1.2464956160103438,
          1.412558001616313,
          0.7263817448765412,
          -0.674821902689123,
          0.13863430885397565,
          0.8131652940034697,
          -1.8446556023227498,
          -0.3991970389101511,
          -1.6061316037339424,
          -0.3895083198515032,
          0.9956640976917002,
          -0.09581646337107551,
          0.5003441799337934,
          0.4412554563299149,
          -1.2186611487320202,
          -0.6603496496066004,
          -1.3840238128032634,
          -1.279561508367783,
          0.8242627049250715,
          0.6066034035416791,
          -0.3129127244834932,
          0.7439229469840886,
          -0.09075013988002041,
          -0.31059118918465206,
          -0.6998974552396815,
          -1.4718276518213624,
          0.9598030326043391,
          -0.08470576393901538,
          -1.6271765054338334,
          0.10367717536539334,
          1.2481090029334017,
          -1.3083436514057565,
          0.9001700007453994,
          0.3191804389519386,
          -1.216318060061043,
          0.6960767879130475,
          -0.10206427976470202,
          -1.0295841917882045,
          -0.3919692938644334,
          -0.004198236309692963,
          -2.7629842618099905,
          1.2332621129863932,
          0.3392732764281834,
          -0.6057250793486275,
          -0.049403623228994324,
          -1.1140335648259374,
          1.1227986792321807,
          0.7647722049015698,
          0.23076529128221307,
          0.025538967609587467,
          1.0284112692058112,
          -0.11467294290964382,
          -0.5103834221495227
         ],
         "yaxis": "y5"
        },
        {
         "histfunc": "count",
         "histnorm": "",
         "marker": {
          "color": "rgba(55, 128, 191, 1.0)",
          "line": {
           "color": "#4D5663",
           "width": 1.3
          }
         },
         "name": "B",
         "nbinsx": 10,
         "opacity": 0.8,
         "orientation": "v",
         "type": "histogram",
         "x": [
          -0.1635062728202632,
          -0.9756447904649324,
          0.4357492211576944,
          0.051226001530410986,
          1.6194609778186286,
          -0.2614992416979577,
          -0.503056959460743,
          -0.13993298480476804,
          0.4728179839113631,
          0.53389506015398,
          0.04175052703734408,
          -0.07721058388948895,
          -1.225800753883539,
          0.8171131199268552,
          0.271335570828907,
          -0.6148593154348182,
          -2.5442148291754667,
          -1.7782906353324925,
          0.1356671690464854,
          0.5537287920898528,
          -1.9714030383810386,
          0.21204671141656967,
          -0.49986516306652934,
          1.1605986854994819,
          -0.15289830668798166,
          0.868679639924568,
          -0.5327690147279569,
          0.38676522371752736,
          -0.697783301263672,
          2.729615807039255,
          -0.44168975575870933,
          -0.8975405797564469,
          1.156250284244023,
          0.18372610275768578,
          0.22028435577067737,
          -2.0445273482561723,
          -1.2705850191721542,
          -1.4398853748138425,
          -0.5164216605007113,
          -0.8766005893127831,
          -0.20189795216579856,
          -0.63168004490542,
          -0.10625317572230386,
          0.06570462032791533,
          -0.3306030709977983,
          -1.1066179005719434,
          -1.8001592887010398,
          -1.2464956160103438,
          1.412558001616313,
          0.7263817448765412,
          -0.674821902689123,
          0.13863430885397565,
          0.8131652940034697,
          -1.8446556023227498,
          -0.3991970389101511,
          -1.6061316037339424,
          -0.3895083198515032,
          0.9956640976917002,
          -0.09581646337107551,
          0.5003441799337934,
          0.4412554563299149,
          -1.2186611487320202,
          -0.6603496496066004,
          -1.3840238128032634,
          -1.279561508367783,
          0.8242627049250715,
          0.6066034035416791,
          -0.3129127244834932,
          0.7439229469840886,
          -0.09075013988002041,
          -0.31059118918465206,
          -0.6998974552396815,
          -1.4718276518213624,
          0.9598030326043391,
          -0.08470576393901538,
          -1.6271765054338334,
          0.10367717536539334,
          1.2481090029334017,
          -1.3083436514057565,
          0.9001700007453994,
          0.3191804389519386,
          -1.216318060061043,
          0.6960767879130475,
          -0.10206427976470202,
          -1.0295841917882045,
          -0.3919692938644334,
          -0.004198236309692963,
          -2.7629842618099905,
          1.2332621129863932,
          0.3392732764281834,
          -0.6057250793486275,
          -0.049403623228994324,
          -1.1140335648259374,
          1.1227986792321807,
          0.7647722049015698,
          0.23076529128221307,
          0.025538967609587467,
          1.0284112692058112,
          -0.11467294290964382,
          -0.5103834221495227
         ],
         "xaxis": "x6",
         "yaxis": "y6"
        },
        {
         "line": {
          "color": "rgba(128, 128, 128, 1.0)",
          "dash": "solid",
          "shape": "linear",
          "width": 1.3
         },
         "marker": {
          "size": 2,
          "symbol": "circle"
         },
         "mode": "markers",
         "name": "B",
         "text": "",
         "type": "scatter",
         "x": [
          0.11283031733277957,
          -1.361284331583743,
          0.25994077605414034,
          0.38959313337602264,
          0.13067355807753492,
          0.3227772997051113,
          -0.3046470317405729,
          0.21262946711523859,
          -0.18545062372845666,
          1.408158740699216,
          0.832127306043445,
          0.7233007298027437,
          2.592076750966838,
          0.4372835915750651,
          1.0456009503869577,
          -0.10896717671709816,
          0.5122037431260221,
          -0.11337424244070682,
          -0.7816781259696549,
          -0.4100948706532913,
          0.6964057941366105,
          0.36746904732545255,
          -0.7502410991693306,
          -1.0213807432442694,
          -0.7823211617714393,
          -0.18050238898936574,
          1.3475391164944077,
          -2.017613664525537,
          -0.914340212487567,
          1.0542539063755882,
          -0.09706941869315856,
          -1.456721538503752,
          -0.11545419654006604,
          -2.1554219970003645,
          -0.6276875313672381,
          1.124724482266114,
          1.5456975734686016,
          1.8764227506584508,
          -0.20510093769002238,
          -1.7060295671555399,
          0.04431171538660458,
          0.39403894117897614,
          -0.6869783121433457,
          1.455839617849644,
          0.06230447079335637,
          -0.30023939732847216,
          0.14011200080170352,
          -0.3645626613083884,
          -1.1516877616101877,
          1.541246158404446,
          1.0331106872251201,
          0.7921891009532842,
          1.6783110772135967,
          -0.8766331742460747,
          1.0235203320321027,
          0.701960141685297,
          0.7651104002675053,
          0.5194243998661789,
          0.30918233746190904,
          -0.546190774839706,
          -0.5142471808977173,
          -0.42462565450019113,
          1.2952996037607194,
          -0.8970588287044531,
          -0.5464663004065007,
          0.6413825063548994,
          0.9477350178116315,
          -0.37901231911871874,
          -0.045400287048320546,
          0.7943838281320083,
          1.073353768930085,
          0.16043169392409934,
          -0.4782821328775109,
          0.2736732512409374,
          1.1342637312186539,
          1.1826436526758746,
          -0.280696984045084,
          0.48787177121146336,
          -0.09653893055785567,
          -0.056911694205144005,
          0.24506678305677007,
          -0.6880268658655267,
          0.24297960194793905,
          0.6896351516203121,
          -0.539824561709622,
          -2.3216199349649096,
          -0.39180850198850914,
          0.3185777920876068,
          1.5758023687870821,
          0.3083559696896942,
          0.9189071123950201,
          -0.17972585672602343,
          -0.39014446888607557,
          0.5334723758838263,
          0.5790713350650735,
          -0.035620542072960774,
          -0.3301452792602241,
          -1.2618270450203632,
          -0.27439773322073563,
          -0.9688992149707151
         ],
         "xaxis": "x7",
         "y": [
          -0.1635062728202632,
          -0.9756447904649324,
          0.4357492211576944,
          0.051226001530410986,
          1.6194609778186286,
          -0.2614992416979577,
          -0.503056959460743,
          -0.13993298480476804,
          0.4728179839113631,
          0.53389506015398,
          0.04175052703734408,
          -0.07721058388948895,
          -1.225800753883539,
          0.8171131199268552,
          0.271335570828907,
          -0.6148593154348182,
          -2.5442148291754667,
          -1.7782906353324925,
          0.1356671690464854,
          0.5537287920898528,
          -1.9714030383810386,
          0.21204671141656967,
          -0.49986516306652934,
          1.1605986854994819,
          -0.15289830668798166,
          0.868679639924568,
          -0.5327690147279569,
          0.38676522371752736,
          -0.697783301263672,
          2.729615807039255,
          -0.44168975575870933,
          -0.8975405797564469,
          1.156250284244023,
          0.18372610275768578,
          0.22028435577067737,
          -2.0445273482561723,
          -1.2705850191721542,
          -1.4398853748138425,
          -0.5164216605007113,
          -0.8766005893127831,
          -0.20189795216579856,
          -0.63168004490542,
          -0.10625317572230386,
          0.06570462032791533,
          -0.3306030709977983,
          -1.1066179005719434,
          -1.8001592887010398,
          -1.2464956160103438,
          1.412558001616313,
          0.7263817448765412,
          -0.674821902689123,
          0.13863430885397565,
          0.8131652940034697,
          -1.8446556023227498,
          -0.3991970389101511,
          -1.6061316037339424,
          -0.3895083198515032,
          0.9956640976917002,
          -0.09581646337107551,
          0.5003441799337934,
          0.4412554563299149,
          -1.2186611487320202,
          -0.6603496496066004,
          -1.3840238128032634,
          -1.279561508367783,
          0.8242627049250715,
          0.6066034035416791,
          -0.3129127244834932,
          0.7439229469840886,
          -0.09075013988002041,
          -0.31059118918465206,
          -0.6998974552396815,
          -1.4718276518213624,
          0.9598030326043391,
          -0.08470576393901538,
          -1.6271765054338334,
          0.10367717536539334,
          1.2481090029334017,
          -1.3083436514057565,
          0.9001700007453994,
          0.3191804389519386,
          -1.216318060061043,
          0.6960767879130475,
          -0.10206427976470202,
          -1.0295841917882045,
          -0.3919692938644334,
          -0.004198236309692963,
          -2.7629842618099905,
          1.2332621129863932,
          0.3392732764281834,
          -0.6057250793486275,
          -0.049403623228994324,
          -1.1140335648259374,
          1.1227986792321807,
          0.7647722049015698,
          0.23076529128221307,
          0.025538967609587467,
          1.0284112692058112,
          -0.11467294290964382,
          -0.5103834221495227
         ],
         "yaxis": "y7"
        },
        {
         "line": {
          "color": "rgba(128, 128, 128, 1.0)",
          "dash": "solid",
          "shape": "linear",
          "width": 1.3
         },
         "marker": {
          "size": 2,
          "symbol": "circle"
         },
         "mode": "markers",
         "name": "B",
         "text": "",
         "type": "scatter",
         "x": [
          0.7118018274434779,
          -1.2870065882504182,
          -0.4916580493491787,
          -1.9044308590692947,
          0.44351772033203785,
          -0.8273690155867319,
          -0.26055125217240704,
          0.018141216394656854,
          0.11008597289630066,
          -0.1295995451203634,
          -2.5910847329063196,
          -1.0429374286137294,
          -0.933194717655079,
          1.1730632159410679,
          -1.5634474725013752,
          0.06124450115994435,
          -2.462283503795632,
          -1.086247491879777,
          0.5115129683238252,
          1.4778568005223898,
          1.5159370360629094,
          0.38734606585622705,
          -0.6482415702654734,
          0.4706369698418316,
          -0.8506092686698958,
          -0.5657587648336501,
          0.6424211253349936,
          -0.6301938372710957,
          0.779597094268482,
          -0.11736811855957255,
          -1.1240759278650072,
          -0.4249470969787539,
          1.2564408229880317,
          0.7504260227702606,
          1.0437309096416023,
          0.7993057618778631,
          -0.9549154584512836,
          1.5346625194776453,
          1.3141321896443987,
          -1.7241038422728823,
          -2.3547881946364266,
          0.1938604385221901,
          0.20773629690488585,
          0.167229442949951,
          0.31955325724674877,
          -0.7544148858212423,
          1.1332089519520134,
          0.07994626035589668,
          -0.49874884575035905,
          0.18123275411143955,
          -0.395156698520691,
          -0.7627582584708325,
          1.8655137740278986,
          1.9835988187756877,
          0.21617851924165346,
          1.9078703451033887,
          -1.2088955789444449,
          0.24520916592393158,
          -0.6695956520006487,
          -0.5289167647520208,
          -0.9663802562480689,
          1.6507113606508885,
          0.6877752606098776,
          -0.4295743594399312,
          0.3336637707572907,
          -0.034684490378471634,
          -1.8849000567154173,
          -0.3888386615121982,
          -0.438519674648204,
          -1.5140712445326898,
          0.29645004668549324,
          -0.020518771653509488,
          0.24340253185014743,
          0.5272517935508056,
          0.20093651389213774,
          -0.681284626436085,
          1.991433431106185,
          -0.23803286285355918,
          -0.9082058481785367,
          -0.9479342716163699,
          0.09453027478112576,
          -0.14206289950205084,
          1.8876158338669904,
          0.14435770629035993,
          -0.10557615886304807,
          -0.7722511756395839,
          0.5595579954963263,
          0.03796416430661692,
          -2.305640382010492,
          0.40141186801845913,
          1.9559216264785575,
          0.3282349006818968,
          1.2497863794369466,
          -1.4249720497809808,
          -0.6708144248867455,
          -0.7315669636364406,
          -1.162681731855504,
          0.8598682003782712,
          1.612239177726746,
          0.378354468322111
         ],
         "xaxis": "x8",
         "y": [
          -0.1635062728202632,
          -0.9756447904649324,
          0.4357492211576944,
          0.051226001530410986,
          1.6194609778186286,
          -0.2614992416979577,
          -0.503056959460743,
          -0.13993298480476804,
          0.4728179839113631,
          0.53389506015398,
          0.04175052703734408,
          -0.07721058388948895,
          -1.225800753883539,
          0.8171131199268552,
          0.271335570828907,
          -0.6148593154348182,
          -2.5442148291754667,
          -1.7782906353324925,
          0.1356671690464854,
          0.5537287920898528,
          -1.9714030383810386,
          0.21204671141656967,
          -0.49986516306652934,
          1.1605986854994819,
          -0.15289830668798166,
          0.868679639924568,
          -0.5327690147279569,
          0.38676522371752736,
          -0.697783301263672,
          2.729615807039255,
          -0.44168975575870933,
          -0.8975405797564469,
          1.156250284244023,
          0.18372610275768578,
          0.22028435577067737,
          -2.0445273482561723,
          -1.2705850191721542,
          -1.4398853748138425,
          -0.5164216605007113,
          -0.8766005893127831,
          -0.20189795216579856,
          -0.63168004490542,
          -0.10625317572230386,
          0.06570462032791533,
          -0.3306030709977983,
          -1.1066179005719434,
          -1.8001592887010398,
          -1.2464956160103438,
          1.412558001616313,
          0.7263817448765412,
          -0.674821902689123,
          0.13863430885397565,
          0.8131652940034697,
          -1.8446556023227498,
          -0.3991970389101511,
          -1.6061316037339424,
          -0.3895083198515032,
          0.9956640976917002,
          -0.09581646337107551,
          0.5003441799337934,
          0.4412554563299149,
          -1.2186611487320202,
          -0.6603496496066004,
          -1.3840238128032634,
          -1.279561508367783,
          0.8242627049250715,
          0.6066034035416791,
          -0.3129127244834932,
          0.7439229469840886,
          -0.09075013988002041,
          -0.31059118918465206,
          -0.6998974552396815,
          -1.4718276518213624,
          0.9598030326043391,
          -0.08470576393901538,
          -1.6271765054338334,
          0.10367717536539334,
          1.2481090029334017,
          -1.3083436514057565,
          0.9001700007453994,
          0.3191804389519386,
          -1.216318060061043,
          0.6960767879130475,
          -0.10206427976470202,
          -1.0295841917882045,
          -0.3919692938644334,
          -0.004198236309692963,
          -2.7629842618099905,
          1.2332621129863932,
          0.3392732764281834,
          -0.6057250793486275,
          -0.049403623228994324,
          -1.1140335648259374,
          1.1227986792321807,
          0.7647722049015698,
          0.23076529128221307,
          0.025538967609587467,
          1.0284112692058112,
          -0.11467294290964382,
          -0.5103834221495227
         ],
         "yaxis": "y8"
        },
        {
         "line": {
          "color": "rgba(128, 128, 128, 1.0)",
          "dash": "solid",
          "shape": "linear",
          "width": 1.3
         },
         "marker": {
          "size": 2,
          "symbol": "circle"
         },
         "mode": "markers",
         "name": "C",
         "text": "",
         "type": "scatter",
         "x": [
          -1.1297355996644,
          -0.7378182431367298,
          1.3018362014014464,
          -0.3897524354762462,
          -0.28469569627643276,
          0.26189570707558646,
          -0.9076631525537662,
          0.6203535138805666,
          -0.6186803199969817,
          1.1226080642068443,
          -0.041438635172887366,
          -0.0022362033056104436,
          -1.0499832175198893,
          0.08986937258436357,
          1.3375457246389604,
          1.9232171151998751,
          1.2514977061012698,
          -0.010263114481263881,
          1.4971556937885246,
          0.5715860883089958,
          0.19761772066921174,
          1.1502304384350708,
          -0.24098786918618537,
          -1.6010465710520883,
          0.9732937328192726,
          0.11160359753779947,
          0.32197195249841265,
          0.30358682957964434,
          0.40859502431711464,
          0.6193062029177665,
          -0.4755616450031329,
          -1.0241841009392374,
          -0.10086891983338513,
          0.754866747209579,
          0.06900528817558078,
          -0.24279306917070723,
          1.0348185228210516,
          -0.3958072182103754,
          -0.2877736157815689,
          1.8262614760763645,
          0.6560796576224647,
          0.6039936134209548,
          0.13811643849623192,
          0.6169996082287618,
          -0.4388003603691258,
          0.0857953494782665,
          0.06263204663463057,
          1.9136188883998924,
          -2.1038091801398306,
          -0.5031598748343795,
          -0.499738792228652,
          0.3442035464303753,
          -1.2225361345294794,
          -0.22793921626844366,
          0.5262130361354909,
          -0.010912344260437948,
          2.2298919035757816,
          -1.444058305089868,
          -1.1316461333814778,
          0.3933956396359092,
          -0.8704396282469317,
          -0.20553795675791134,
          -0.08867481958175209,
          -1.1172775865956317,
          -1.5260076855104778,
          -1.7467581009661328,
          -1.0664288474904873,
          1.9150131279839857,
          0.7683469110544034,
          2.00607805679846,
          1.8580914663696646,
          1.9062502131655201,
          0.03580593006324525,
          -0.6555706026085864,
          -1.1089797545764777,
          0.8329301907539098,
          0.8284039642458526,
          -1.1789468559824925,
          0.7518735549022194,
          1.0952234728205141,
          -0.3779764711785572,
          -0.9265655021956508,
          -0.9553992513910263,
          -0.38587972952013033,
          -0.6838345119123879,
          -0.43684706995405886,
          -0.4081057994560073,
          -1.5156425658958605,
          -0.575082296862586,
          -1.9415192419502305,
          0.6216142225912914,
          -0.17327214911462618,
          0.41144632474130993,
          0.15372200990299822,
          -0.6157231774320628,
          0.5240625234153609,
          -0.9920542569293624,
          -0.1510296013533493,
          -0.20056562222891014,
          -0.10335285122129649
         ],
         "xaxis": "x9",
         "y": [
          0.11283031733277957,
          -1.361284331583743,
          0.25994077605414034,
          0.38959313337602264,
          0.13067355807753492,
          0.3227772997051113,
          -0.3046470317405729,
          0.21262946711523859,
          -0.18545062372845666,
          1.408158740699216,
          0.832127306043445,
          0.7233007298027437,
          2.592076750966838,
          0.4372835915750651,
          1.0456009503869577,
          -0.10896717671709816,
          0.5122037431260221,
          -0.11337424244070682,
          -0.7816781259696549,
          -0.4100948706532913,
          0.6964057941366105,
          0.36746904732545255,
          -0.7502410991693306,
          -1.0213807432442694,
          -0.7823211617714393,
          -0.18050238898936574,
          1.3475391164944077,
          -2.017613664525537,
          -0.914340212487567,
          1.0542539063755882,
          -0.09706941869315856,
          -1.456721538503752,
          -0.11545419654006604,
          -2.1554219970003645,
          -0.6276875313672381,
          1.124724482266114,
          1.5456975734686016,
          1.8764227506584508,
          -0.20510093769002238,
          -1.7060295671555399,
          0.04431171538660458,
          0.39403894117897614,
          -0.6869783121433457,
          1.455839617849644,
          0.06230447079335637,
          -0.30023939732847216,
          0.14011200080170352,
          -0.3645626613083884,
          -1.1516877616101877,
          1.541246158404446,
          1.0331106872251201,
          0.7921891009532842,
          1.6783110772135967,
          -0.8766331742460747,
          1.0235203320321027,
          0.701960141685297,
          0.7651104002675053,
          0.5194243998661789,
          0.30918233746190904,
          -0.546190774839706,
          -0.5142471808977173,
          -0.42462565450019113,
          1.2952996037607194,
          -0.8970588287044531,
          -0.5464663004065007,
          0.6413825063548994,
          0.9477350178116315,
          -0.37901231911871874,
          -0.045400287048320546,
          0.7943838281320083,
          1.073353768930085,
          0.16043169392409934,
          -0.4782821328775109,
          0.2736732512409374,
          1.1342637312186539,
          1.1826436526758746,
          -0.280696984045084,
          0.48787177121146336,
          -0.09653893055785567,
          -0.056911694205144005,
          0.24506678305677007,
          -0.6880268658655267,
          0.24297960194793905,
          0.6896351516203121,
          -0.539824561709622,
          -2.3216199349649096,
          -0.39180850198850914,
          0.3185777920876068,
          1.5758023687870821,
          0.3083559696896942,
          0.9189071123950201,
          -0.17972585672602343,
          -0.39014446888607557,
          0.5334723758838263,
          0.5790713350650735,
          -0.035620542072960774,
          -0.3301452792602241,
          -1.2618270450203632,
          -0.27439773322073563,
          -0.9688992149707151
         ],
         "yaxis": "y9"
        },
        {
         "line": {
          "color": "rgba(128, 128, 128, 1.0)",
          "dash": "solid",
          "shape": "linear",
          "width": 1.3
         },
         "marker": {
          "size": 2,
          "symbol": "circle"
         },
         "mode": "markers",
         "name": "C",
         "text": "",
         "type": "scatter",
         "x": [
          -0.1635062728202632,
          -0.9756447904649324,
          0.4357492211576944,
          0.051226001530410986,
          1.6194609778186286,
          -0.2614992416979577,
          -0.503056959460743,
          -0.13993298480476804,
          0.4728179839113631,
          0.53389506015398,
          0.04175052703734408,
          -0.07721058388948895,
          -1.225800753883539,
          0.8171131199268552,
          0.271335570828907,
          -0.6148593154348182,
          -2.5442148291754667,
          -1.7782906353324925,
          0.1356671690464854,
          0.5537287920898528,
          -1.9714030383810386,
          0.21204671141656967,
          -0.49986516306652934,
          1.1605986854994819,
          -0.15289830668798166,
          0.868679639924568,
          -0.5327690147279569,
          0.38676522371752736,
          -0.697783301263672,
          2.729615807039255,
          -0.44168975575870933,
          -0.8975405797564469,
          1.156250284244023,
          0.18372610275768578,
          0.22028435577067737,
          -2.0445273482561723,
          -1.2705850191721542,
          -1.4398853748138425,
          -0.5164216605007113,
          -0.8766005893127831,
          -0.20189795216579856,
          -0.63168004490542,
          -0.10625317572230386,
          0.06570462032791533,
          -0.3306030709977983,
          -1.1066179005719434,
          -1.8001592887010398,
          -1.2464956160103438,
          1.412558001616313,
          0.7263817448765412,
          -0.674821902689123,
          0.13863430885397565,
          0.8131652940034697,
          -1.8446556023227498,
          -0.3991970389101511,
          -1.6061316037339424,
          -0.3895083198515032,
          0.9956640976917002,
          -0.09581646337107551,
          0.5003441799337934,
          0.4412554563299149,
          -1.2186611487320202,
          -0.6603496496066004,
          -1.3840238128032634,
          -1.279561508367783,
          0.8242627049250715,
          0.6066034035416791,
          -0.3129127244834932,
          0.7439229469840886,
          -0.09075013988002041,
          -0.31059118918465206,
          -0.6998974552396815,
          -1.4718276518213624,
          0.9598030326043391,
          -0.08470576393901538,
          -1.6271765054338334,
          0.10367717536539334,
          1.2481090029334017,
          -1.3083436514057565,
          0.9001700007453994,
          0.3191804389519386,
          -1.216318060061043,
          0.6960767879130475,
          -0.10206427976470202,
          -1.0295841917882045,
          -0.3919692938644334,
          -0.004198236309692963,
          -2.7629842618099905,
          1.2332621129863932,
          0.3392732764281834,
          -0.6057250793486275,
          -0.049403623228994324,
          -1.1140335648259374,
          1.1227986792321807,
          0.7647722049015698,
          0.23076529128221307,
          0.025538967609587467,
          1.0284112692058112,
          -0.11467294290964382,
          -0.5103834221495227
         ],
         "xaxis": "x10",
         "y": [
          0.11283031733277957,
          -1.361284331583743,
          0.25994077605414034,
          0.38959313337602264,
          0.13067355807753492,
          0.3227772997051113,
          -0.3046470317405729,
          0.21262946711523859,
          -0.18545062372845666,
          1.408158740699216,
          0.832127306043445,
          0.7233007298027437,
          2.592076750966838,
          0.4372835915750651,
          1.0456009503869577,
          -0.10896717671709816,
          0.5122037431260221,
          -0.11337424244070682,
          -0.7816781259696549,
          -0.4100948706532913,
          0.6964057941366105,
          0.36746904732545255,
          -0.7502410991693306,
          -1.0213807432442694,
          -0.7823211617714393,
          -0.18050238898936574,
          1.3475391164944077,
          -2.017613664525537,
          -0.914340212487567,
          1.0542539063755882,
          -0.09706941869315856,
          -1.456721538503752,
          -0.11545419654006604,
          -2.1554219970003645,
          -0.6276875313672381,
          1.124724482266114,
          1.5456975734686016,
          1.8764227506584508,
          -0.20510093769002238,
          -1.7060295671555399,
          0.04431171538660458,
          0.39403894117897614,
          -0.6869783121433457,
          1.455839617849644,
          0.06230447079335637,
          -0.30023939732847216,
          0.14011200080170352,
          -0.3645626613083884,
          -1.1516877616101877,
          1.541246158404446,
          1.0331106872251201,
          0.7921891009532842,
          1.6783110772135967,
          -0.8766331742460747,
          1.0235203320321027,
          0.701960141685297,
          0.7651104002675053,
          0.5194243998661789,
          0.30918233746190904,
          -0.546190774839706,
          -0.5142471808977173,
          -0.42462565450019113,
          1.2952996037607194,
          -0.8970588287044531,
          -0.5464663004065007,
          0.6413825063548994,
          0.9477350178116315,
          -0.37901231911871874,
          -0.045400287048320546,
          0.7943838281320083,
          1.073353768930085,
          0.16043169392409934,
          -0.4782821328775109,
          0.2736732512409374,
          1.1342637312186539,
          1.1826436526758746,
          -0.280696984045084,
          0.48787177121146336,
          -0.09653893055785567,
          -0.056911694205144005,
          0.24506678305677007,
          -0.6880268658655267,
          0.24297960194793905,
          0.6896351516203121,
          -0.539824561709622,
          -2.3216199349649096,
          -0.39180850198850914,
          0.3185777920876068,
          1.5758023687870821,
          0.3083559696896942,
          0.9189071123950201,
          -0.17972585672602343,
          -0.39014446888607557,
          0.5334723758838263,
          0.5790713350650735,
          -0.035620542072960774,
          -0.3301452792602241,
          -1.2618270450203632,
          -0.27439773322073563,
          -0.9688992149707151
         ],
         "yaxis": "y10"
        },
        {
         "histfunc": "count",
         "histnorm": "",
         "marker": {
          "color": "rgba(50, 171, 96, 1.0)",
          "line": {
           "color": "#4D5663",
           "width": 1.3
          }
         },
         "name": "C",
         "nbinsx": 10,
         "opacity": 0.8,
         "orientation": "v",
         "type": "histogram",
         "x": [
          0.11283031733277957,
          -1.361284331583743,
          0.25994077605414034,
          0.38959313337602264,
          0.13067355807753492,
          0.3227772997051113,
          -0.3046470317405729,
          0.21262946711523859,
          -0.18545062372845666,
          1.408158740699216,
          0.832127306043445,
          0.7233007298027437,
          2.592076750966838,
          0.4372835915750651,
          1.0456009503869577,
          -0.10896717671709816,
          0.5122037431260221,
          -0.11337424244070682,
          -0.7816781259696549,
          -0.4100948706532913,
          0.6964057941366105,
          0.36746904732545255,
          -0.7502410991693306,
          -1.0213807432442694,
          -0.7823211617714393,
          -0.18050238898936574,
          1.3475391164944077,
          -2.017613664525537,
          -0.914340212487567,
          1.0542539063755882,
          -0.09706941869315856,
          -1.456721538503752,
          -0.11545419654006604,
          -2.1554219970003645,
          -0.6276875313672381,
          1.124724482266114,
          1.5456975734686016,
          1.8764227506584508,
          -0.20510093769002238,
          -1.7060295671555399,
          0.04431171538660458,
          0.39403894117897614,
          -0.6869783121433457,
          1.455839617849644,
          0.06230447079335637,
          -0.30023939732847216,
          0.14011200080170352,
          -0.3645626613083884,
          -1.1516877616101877,
          1.541246158404446,
          1.0331106872251201,
          0.7921891009532842,
          1.6783110772135967,
          -0.8766331742460747,
          1.0235203320321027,
          0.701960141685297,
          0.7651104002675053,
          0.5194243998661789,
          0.30918233746190904,
          -0.546190774839706,
          -0.5142471808977173,
          -0.42462565450019113,
          1.2952996037607194,
          -0.8970588287044531,
          -0.5464663004065007,
          0.6413825063548994,
          0.9477350178116315,
          -0.37901231911871874,
          -0.045400287048320546,
          0.7943838281320083,
          1.073353768930085,
          0.16043169392409934,
          -0.4782821328775109,
          0.2736732512409374,
          1.1342637312186539,
          1.1826436526758746,
          -0.280696984045084,
          0.48787177121146336,
          -0.09653893055785567,
          -0.056911694205144005,
          0.24506678305677007,
          -0.6880268658655267,
          0.24297960194793905,
          0.6896351516203121,
          -0.539824561709622,
          -2.3216199349649096,
          -0.39180850198850914,
          0.3185777920876068,
          1.5758023687870821,
          0.3083559696896942,
          0.9189071123950201,
          -0.17972585672602343,
          -0.39014446888607557,
          0.5334723758838263,
          0.5790713350650735,
          -0.035620542072960774,
          -0.3301452792602241,
          -1.2618270450203632,
          -0.27439773322073563,
          -0.9688992149707151
         ],
         "xaxis": "x11",
         "yaxis": "y11"
        },
        {
         "line": {
          "color": "rgba(128, 128, 128, 1.0)",
          "dash": "solid",
          "shape": "linear",
          "width": 1.3
         },
         "marker": {
          "size": 2,
          "symbol": "circle"
         },
         "mode": "markers",
         "name": "C",
         "text": "",
         "type": "scatter",
         "x": [
          0.7118018274434779,
          -1.2870065882504182,
          -0.4916580493491787,
          -1.9044308590692947,
          0.44351772033203785,
          -0.8273690155867319,
          -0.26055125217240704,
          0.018141216394656854,
          0.11008597289630066,
          -0.1295995451203634,
          -2.5910847329063196,
          -1.0429374286137294,
          -0.933194717655079,
          1.1730632159410679,
          -1.5634474725013752,
          0.06124450115994435,
          -2.462283503795632,
          -1.086247491879777,
          0.5115129683238252,
          1.4778568005223898,
          1.5159370360629094,
          0.38734606585622705,
          -0.6482415702654734,
          0.4706369698418316,
          -0.8506092686698958,
          -0.5657587648336501,
          0.6424211253349936,
          -0.6301938372710957,
          0.779597094268482,
          -0.11736811855957255,
          -1.1240759278650072,
          -0.4249470969787539,
          1.2564408229880317,
          0.7504260227702606,
          1.0437309096416023,
          0.7993057618778631,
          -0.9549154584512836,
          1.5346625194776453,
          1.3141321896443987,
          -1.7241038422728823,
          -2.3547881946364266,
          0.1938604385221901,
          0.20773629690488585,
          0.167229442949951,
          0.31955325724674877,
          -0.7544148858212423,
          1.1332089519520134,
          0.07994626035589668,
          -0.49874884575035905,
          0.18123275411143955,
          -0.395156698520691,
          -0.7627582584708325,
          1.8655137740278986,
          1.9835988187756877,
          0.21617851924165346,
          1.9078703451033887,
          -1.2088955789444449,
          0.24520916592393158,
          -0.6695956520006487,
          -0.5289167647520208,
          -0.9663802562480689,
          1.6507113606508885,
          0.6877752606098776,
          -0.4295743594399312,
          0.3336637707572907,
          -0.034684490378471634,
          -1.8849000567154173,
          -0.3888386615121982,
          -0.438519674648204,
          -1.5140712445326898,
          0.29645004668549324,
          -0.020518771653509488,
          0.24340253185014743,
          0.5272517935508056,
          0.20093651389213774,
          -0.681284626436085,
          1.991433431106185,
          -0.23803286285355918,
          -0.9082058481785367,
          -0.9479342716163699,
          0.09453027478112576,
          -0.14206289950205084,
          1.8876158338669904,
          0.14435770629035993,
          -0.10557615886304807,
          -0.7722511756395839,
          0.5595579954963263,
          0.03796416430661692,
          -2.305640382010492,
          0.40141186801845913,
          1.9559216264785575,
          0.3282349006818968,
          1.2497863794369466,
          -1.4249720497809808,
          -0.6708144248867455,
          -0.7315669636364406,
          -1.162681731855504,
          0.8598682003782712,
          1.612239177726746,
          0.378354468322111
         ],
         "xaxis": "x12",
         "y": [
          0.11283031733277957,
          -1.361284331583743,
          0.25994077605414034,
          0.38959313337602264,
          0.13067355807753492,
          0.3227772997051113,
          -0.3046470317405729,
          0.21262946711523859,
          -0.18545062372845666,
          1.408158740699216,
          0.832127306043445,
          0.7233007298027437,
          2.592076750966838,
          0.4372835915750651,
          1.0456009503869577,
          -0.10896717671709816,
          0.5122037431260221,
          -0.11337424244070682,
          -0.7816781259696549,
          -0.4100948706532913,
          0.6964057941366105,
          0.36746904732545255,
          -0.7502410991693306,
          -1.0213807432442694,
          -0.7823211617714393,
          -0.18050238898936574,
          1.3475391164944077,
          -2.017613664525537,
          -0.914340212487567,
          1.0542539063755882,
          -0.09706941869315856,
          -1.456721538503752,
          -0.11545419654006604,
          -2.1554219970003645,
          -0.6276875313672381,
          1.124724482266114,
          1.5456975734686016,
          1.8764227506584508,
          -0.20510093769002238,
          -1.7060295671555399,
          0.04431171538660458,
          0.39403894117897614,
          -0.6869783121433457,
          1.455839617849644,
          0.06230447079335637,
          -0.30023939732847216,
          0.14011200080170352,
          -0.3645626613083884,
          -1.1516877616101877,
          1.541246158404446,
          1.0331106872251201,
          0.7921891009532842,
          1.6783110772135967,
          -0.8766331742460747,
          1.0235203320321027,
          0.701960141685297,
          0.7651104002675053,
          0.5194243998661789,
          0.30918233746190904,
          -0.546190774839706,
          -0.5142471808977173,
          -0.42462565450019113,
          1.2952996037607194,
          -0.8970588287044531,
          -0.5464663004065007,
          0.6413825063548994,
          0.9477350178116315,
          -0.37901231911871874,
          -0.045400287048320546,
          0.7943838281320083,
          1.073353768930085,
          0.16043169392409934,
          -0.4782821328775109,
          0.2736732512409374,
          1.1342637312186539,
          1.1826436526758746,
          -0.280696984045084,
          0.48787177121146336,
          -0.09653893055785567,
          -0.056911694205144005,
          0.24506678305677007,
          -0.6880268658655267,
          0.24297960194793905,
          0.6896351516203121,
          -0.539824561709622,
          -2.3216199349649096,
          -0.39180850198850914,
          0.3185777920876068,
          1.5758023687870821,
          0.3083559696896942,
          0.9189071123950201,
          -0.17972585672602343,
          -0.39014446888607557,
          0.5334723758838263,
          0.5790713350650735,
          -0.035620542072960774,
          -0.3301452792602241,
          -1.2618270450203632,
          -0.27439773322073563,
          -0.9688992149707151
         ],
         "yaxis": "y12"
        },
        {
         "line": {
          "color": "rgba(128, 128, 128, 1.0)",
          "dash": "solid",
          "shape": "linear",
          "width": 1.3
         },
         "marker": {
          "size": 2,
          "symbol": "circle"
         },
         "mode": "markers",
         "name": "D",
         "text": "",
         "type": "scatter",
         "x": [
          -1.1297355996644,
          -0.7378182431367298,
          1.3018362014014464,
          -0.3897524354762462,
          -0.28469569627643276,
          0.26189570707558646,
          -0.9076631525537662,
          0.6203535138805666,
          -0.6186803199969817,
          1.1226080642068443,
          -0.041438635172887366,
          -0.0022362033056104436,
          -1.0499832175198893,
          0.08986937258436357,
          1.3375457246389604,
          1.9232171151998751,
          1.2514977061012698,
          -0.010263114481263881,
          1.4971556937885246,
          0.5715860883089958,
          0.19761772066921174,
          1.1502304384350708,
          -0.24098786918618537,
          -1.6010465710520883,
          0.9732937328192726,
          0.11160359753779947,
          0.32197195249841265,
          0.30358682957964434,
          0.40859502431711464,
          0.6193062029177665,
          -0.4755616450031329,
          -1.0241841009392374,
          -0.10086891983338513,
          0.754866747209579,
          0.06900528817558078,
          -0.24279306917070723,
          1.0348185228210516,
          -0.3958072182103754,
          -0.2877736157815689,
          1.8262614760763645,
          0.6560796576224647,
          0.6039936134209548,
          0.13811643849623192,
          0.6169996082287618,
          -0.4388003603691258,
          0.0857953494782665,
          0.06263204663463057,
          1.9136188883998924,
          -2.1038091801398306,
          -0.5031598748343795,
          -0.499738792228652,
          0.3442035464303753,
          -1.2225361345294794,
          -0.22793921626844366,
          0.5262130361354909,
          -0.010912344260437948,
          2.2298919035757816,
          -1.444058305089868,
          -1.1316461333814778,
          0.3933956396359092,
          -0.8704396282469317,
          -0.20553795675791134,
          -0.08867481958175209,
          -1.1172775865956317,
          -1.5260076855104778,
          -1.7467581009661328,
          -1.0664288474904873,
          1.9150131279839857,
          0.7683469110544034,
          2.00607805679846,
          1.8580914663696646,
          1.9062502131655201,
          0.03580593006324525,
          -0.6555706026085864,
          -1.1089797545764777,
          0.8329301907539098,
          0.8284039642458526,
          -1.1789468559824925,
          0.7518735549022194,
          1.0952234728205141,
          -0.3779764711785572,
          -0.9265655021956508,
          -0.9553992513910263,
          -0.38587972952013033,
          -0.6838345119123879,
          -0.43684706995405886,
          -0.4081057994560073,
          -1.5156425658958605,
          -0.575082296862586,
          -1.9415192419502305,
          0.6216142225912914,
          -0.17327214911462618,
          0.41144632474130993,
          0.15372200990299822,
          -0.6157231774320628,
          0.5240625234153609,
          -0.9920542569293624,
          -0.1510296013533493,
          -0.20056562222891014,
          -0.10335285122129649
         ],
         "xaxis": "x13",
         "y": [
          0.7118018274434779,
          -1.2870065882504182,
          -0.4916580493491787,
          -1.9044308590692947,
          0.44351772033203785,
          -0.8273690155867319,
          -0.26055125217240704,
          0.018141216394656854,
          0.11008597289630066,
          -0.1295995451203634,
          -2.5910847329063196,
          -1.0429374286137294,
          -0.933194717655079,
          1.1730632159410679,
          -1.5634474725013752,
          0.06124450115994435,
          -2.462283503795632,
          -1.086247491879777,
          0.5115129683238252,
          1.4778568005223898,
          1.5159370360629094,
          0.38734606585622705,
          -0.6482415702654734,
          0.4706369698418316,
          -0.8506092686698958,
          -0.5657587648336501,
          0.6424211253349936,
          -0.6301938372710957,
          0.779597094268482,
          -0.11736811855957255,
          -1.1240759278650072,
          -0.4249470969787539,
          1.2564408229880317,
          0.7504260227702606,
          1.0437309096416023,
          0.7993057618778631,
          -0.9549154584512836,
          1.5346625194776453,
          1.3141321896443987,
          -1.7241038422728823,
          -2.3547881946364266,
          0.1938604385221901,
          0.20773629690488585,
          0.167229442949951,
          0.31955325724674877,
          -0.7544148858212423,
          1.1332089519520134,
          0.07994626035589668,
          -0.49874884575035905,
          0.18123275411143955,
          -0.395156698520691,
          -0.7627582584708325,
          1.8655137740278986,
          1.9835988187756877,
          0.21617851924165346,
          1.9078703451033887,
          -1.2088955789444449,
          0.24520916592393158,
          -0.6695956520006487,
          -0.5289167647520208,
          -0.9663802562480689,
          1.6507113606508885,
          0.6877752606098776,
          -0.4295743594399312,
          0.3336637707572907,
          -0.034684490378471634,
          -1.8849000567154173,
          -0.3888386615121982,
          -0.438519674648204,
          -1.5140712445326898,
          0.29645004668549324,
          -0.020518771653509488,
          0.24340253185014743,
          0.5272517935508056,
          0.20093651389213774,
          -0.681284626436085,
          1.991433431106185,
          -0.23803286285355918,
          -0.9082058481785367,
          -0.9479342716163699,
          0.09453027478112576,
          -0.14206289950205084,
          1.8876158338669904,
          0.14435770629035993,
          -0.10557615886304807,
          -0.7722511756395839,
          0.5595579954963263,
          0.03796416430661692,
          -2.305640382010492,
          0.40141186801845913,
          1.9559216264785575,
          0.3282349006818968,
          1.2497863794369466,
          -1.4249720497809808,
          -0.6708144248867455,
          -0.7315669636364406,
          -1.162681731855504,
          0.8598682003782712,
          1.612239177726746,
          0.378354468322111
         ],
         "yaxis": "y13"
        },
        {
         "line": {
          "color": "rgba(128, 128, 128, 1.0)",
          "dash": "solid",
          "shape": "linear",
          "width": 1.3
         },
         "marker": {
          "size": 2,
          "symbol": "circle"
         },
         "mode": "markers",
         "name": "D",
         "text": "",
         "type": "scatter",
         "x": [
          -0.1635062728202632,
          -0.9756447904649324,
          0.4357492211576944,
          0.051226001530410986,
          1.6194609778186286,
          -0.2614992416979577,
          -0.503056959460743,
          -0.13993298480476804,
          0.4728179839113631,
          0.53389506015398,
          0.04175052703734408,
          -0.07721058388948895,
          -1.225800753883539,
          0.8171131199268552,
          0.271335570828907,
          -0.6148593154348182,
          -2.5442148291754667,
          -1.7782906353324925,
          0.1356671690464854,
          0.5537287920898528,
          -1.9714030383810386,
          0.21204671141656967,
          -0.49986516306652934,
          1.1605986854994819,
          -0.15289830668798166,
          0.868679639924568,
          -0.5327690147279569,
          0.38676522371752736,
          -0.697783301263672,
          2.729615807039255,
          -0.44168975575870933,
          -0.8975405797564469,
          1.156250284244023,
          0.18372610275768578,
          0.22028435577067737,
          -2.0445273482561723,
          -1.2705850191721542,
          -1.4398853748138425,
          -0.5164216605007113,
          -0.8766005893127831,
          -0.20189795216579856,
          -0.63168004490542,
          -0.10625317572230386,
          0.06570462032791533,
          -0.3306030709977983,
          -1.1066179005719434,
          -1.8001592887010398,
          -1.2464956160103438,
          1.412558001616313,
          0.7263817448765412,
          -0.674821902689123,
          0.13863430885397565,
          0.8131652940034697,
          -1.8446556023227498,
          -0.3991970389101511,
          -1.6061316037339424,
          -0.3895083198515032,
          0.9956640976917002,
          -0.09581646337107551,
          0.5003441799337934,
          0.4412554563299149,
          -1.2186611487320202,
          -0.6603496496066004,
          -1.3840238128032634,
          -1.279561508367783,
          0.8242627049250715,
          0.6066034035416791,
          -0.3129127244834932,
          0.7439229469840886,
          -0.09075013988002041,
          -0.31059118918465206,
          -0.6998974552396815,
          -1.4718276518213624,
          0.9598030326043391,
          -0.08470576393901538,
          -1.6271765054338334,
          0.10367717536539334,
          1.2481090029334017,
          -1.3083436514057565,
          0.9001700007453994,
          0.3191804389519386,
          -1.216318060061043,
          0.6960767879130475,
          -0.10206427976470202,
          -1.0295841917882045,
          -0.3919692938644334,
          -0.004198236309692963,
          -2.7629842618099905,
          1.2332621129863932,
          0.3392732764281834,
          -0.6057250793486275,
          -0.049403623228994324,
          -1.1140335648259374,
          1.1227986792321807,
          0.7647722049015698,
          0.23076529128221307,
          0.025538967609587467,
          1.0284112692058112,
          -0.11467294290964382,
          -0.5103834221495227
         ],
         "xaxis": "x14",
         "y": [
          0.7118018274434779,
          -1.2870065882504182,
          -0.4916580493491787,
          -1.9044308590692947,
          0.44351772033203785,
          -0.8273690155867319,
          -0.26055125217240704,
          0.018141216394656854,
          0.11008597289630066,
          -0.1295995451203634,
          -2.5910847329063196,
          -1.0429374286137294,
          -0.933194717655079,
          1.1730632159410679,
          -1.5634474725013752,
          0.06124450115994435,
          -2.462283503795632,
          -1.086247491879777,
          0.5115129683238252,
          1.4778568005223898,
          1.5159370360629094,
          0.38734606585622705,
          -0.6482415702654734,
          0.4706369698418316,
          -0.8506092686698958,
          -0.5657587648336501,
          0.6424211253349936,
          -0.6301938372710957,
          0.779597094268482,
          -0.11736811855957255,
          -1.1240759278650072,
          -0.4249470969787539,
          1.2564408229880317,
          0.7504260227702606,
          1.0437309096416023,
          0.7993057618778631,
          -0.9549154584512836,
          1.5346625194776453,
          1.3141321896443987,
          -1.7241038422728823,
          -2.3547881946364266,
          0.1938604385221901,
          0.20773629690488585,
          0.167229442949951,
          0.31955325724674877,
          -0.7544148858212423,
          1.1332089519520134,
          0.07994626035589668,
          -0.49874884575035905,
          0.18123275411143955,
          -0.395156698520691,
          -0.7627582584708325,
          1.8655137740278986,
          1.9835988187756877,
          0.21617851924165346,
          1.9078703451033887,
          -1.2088955789444449,
          0.24520916592393158,
          -0.6695956520006487,
          -0.5289167647520208,
          -0.9663802562480689,
          1.6507113606508885,
          0.6877752606098776,
          -0.4295743594399312,
          0.3336637707572907,
          -0.034684490378471634,
          -1.8849000567154173,
          -0.3888386615121982,
          -0.438519674648204,
          -1.5140712445326898,
          0.29645004668549324,
          -0.020518771653509488,
          0.24340253185014743,
          0.5272517935508056,
          0.20093651389213774,
          -0.681284626436085,
          1.991433431106185,
          -0.23803286285355918,
          -0.9082058481785367,
          -0.9479342716163699,
          0.09453027478112576,
          -0.14206289950205084,
          1.8876158338669904,
          0.14435770629035993,
          -0.10557615886304807,
          -0.7722511756395839,
          0.5595579954963263,
          0.03796416430661692,
          -2.305640382010492,
          0.40141186801845913,
          1.9559216264785575,
          0.3282349006818968,
          1.2497863794369466,
          -1.4249720497809808,
          -0.6708144248867455,
          -0.7315669636364406,
          -1.162681731855504,
          0.8598682003782712,
          1.612239177726746,
          0.378354468322111
         ],
         "yaxis": "y14"
        },
        {
         "line": {
          "color": "rgba(128, 128, 128, 1.0)",
          "dash": "solid",
          "shape": "linear",
          "width": 1.3
         },
         "marker": {
          "size": 2,
          "symbol": "circle"
         },
         "mode": "markers",
         "name": "D",
         "text": "",
         "type": "scatter",
         "x": [
          0.11283031733277957,
          -1.361284331583743,
          0.25994077605414034,
          0.38959313337602264,
          0.13067355807753492,
          0.3227772997051113,
          -0.3046470317405729,
          0.21262946711523859,
          -0.18545062372845666,
          1.408158740699216,
          0.832127306043445,
          0.7233007298027437,
          2.592076750966838,
          0.4372835915750651,
          1.0456009503869577,
          -0.10896717671709816,
          0.5122037431260221,
          -0.11337424244070682,
          -0.7816781259696549,
          -0.4100948706532913,
          0.6964057941366105,
          0.36746904732545255,
          -0.7502410991693306,
          -1.0213807432442694,
          -0.7823211617714393,
          -0.18050238898936574,
          1.3475391164944077,
          -2.017613664525537,
          -0.914340212487567,
          1.0542539063755882,
          -0.09706941869315856,
          -1.456721538503752,
          -0.11545419654006604,
          -2.1554219970003645,
          -0.6276875313672381,
          1.124724482266114,
          1.5456975734686016,
          1.8764227506584508,
          -0.20510093769002238,
          -1.7060295671555399,
          0.04431171538660458,
          0.39403894117897614,
          -0.6869783121433457,
          1.455839617849644,
          0.06230447079335637,
          -0.30023939732847216,
          0.14011200080170352,
          -0.3645626613083884,
          -1.1516877616101877,
          1.541246158404446,
          1.0331106872251201,
          0.7921891009532842,
          1.6783110772135967,
          -0.8766331742460747,
          1.0235203320321027,
          0.701960141685297,
          0.7651104002675053,
          0.5194243998661789,
          0.30918233746190904,
          -0.546190774839706,
          -0.5142471808977173,
          -0.42462565450019113,
          1.2952996037607194,
          -0.8970588287044531,
          -0.5464663004065007,
          0.6413825063548994,
          0.9477350178116315,
          -0.37901231911871874,
          -0.045400287048320546,
          0.7943838281320083,
          1.073353768930085,
          0.16043169392409934,
          -0.4782821328775109,
          0.2736732512409374,
          1.1342637312186539,
          1.1826436526758746,
          -0.280696984045084,
          0.48787177121146336,
          -0.09653893055785567,
          -0.056911694205144005,
          0.24506678305677007,
          -0.6880268658655267,
          0.24297960194793905,
          0.6896351516203121,
          -0.539824561709622,
          -2.3216199349649096,
          -0.39180850198850914,
          0.3185777920876068,
          1.5758023687870821,
          0.3083559696896942,
          0.9189071123950201,
          -0.17972585672602343,
          -0.39014446888607557,
          0.5334723758838263,
          0.5790713350650735,
          -0.035620542072960774,
          -0.3301452792602241,
          -1.2618270450203632,
          -0.27439773322073563,
          -0.9688992149707151
         ],
         "xaxis": "x15",
         "y": [
          0.7118018274434779,
          -1.2870065882504182,
          -0.4916580493491787,
          -1.9044308590692947,
          0.44351772033203785,
          -0.8273690155867319,
          -0.26055125217240704,
          0.018141216394656854,
          0.11008597289630066,
          -0.1295995451203634,
          -2.5910847329063196,
          -1.0429374286137294,
          -0.933194717655079,
          1.1730632159410679,
          -1.5634474725013752,
          0.06124450115994435,
          -2.462283503795632,
          -1.086247491879777,
          0.5115129683238252,
          1.4778568005223898,
          1.5159370360629094,
          0.38734606585622705,
          -0.6482415702654734,
          0.4706369698418316,
          -0.8506092686698958,
          -0.5657587648336501,
          0.6424211253349936,
          -0.6301938372710957,
          0.779597094268482,
          -0.11736811855957255,
          -1.1240759278650072,
          -0.4249470969787539,
          1.2564408229880317,
          0.7504260227702606,
          1.0437309096416023,
          0.7993057618778631,
          -0.9549154584512836,
          1.5346625194776453,
          1.3141321896443987,
          -1.7241038422728823,
          -2.3547881946364266,
          0.1938604385221901,
          0.20773629690488585,
          0.167229442949951,
          0.31955325724674877,
          -0.7544148858212423,
          1.1332089519520134,
          0.07994626035589668,
          -0.49874884575035905,
          0.18123275411143955,
          -0.395156698520691,
          -0.7627582584708325,
          1.8655137740278986,
          1.9835988187756877,
          0.21617851924165346,
          1.9078703451033887,
          -1.2088955789444449,
          0.24520916592393158,
          -0.6695956520006487,
          -0.5289167647520208,
          -0.9663802562480689,
          1.6507113606508885,
          0.6877752606098776,
          -0.4295743594399312,
          0.3336637707572907,
          -0.034684490378471634,
          -1.8849000567154173,
          -0.3888386615121982,
          -0.438519674648204,
          -1.5140712445326898,
          0.29645004668549324,
          -0.020518771653509488,
          0.24340253185014743,
          0.5272517935508056,
          0.20093651389213774,
          -0.681284626436085,
          1.991433431106185,
          -0.23803286285355918,
          -0.9082058481785367,
          -0.9479342716163699,
          0.09453027478112576,
          -0.14206289950205084,
          1.8876158338669904,
          0.14435770629035993,
          -0.10557615886304807,
          -0.7722511756395839,
          0.5595579954963263,
          0.03796416430661692,
          -2.305640382010492,
          0.40141186801845913,
          1.9559216264785575,
          0.3282349006818968,
          1.2497863794369466,
          -1.4249720497809808,
          -0.6708144248867455,
          -0.7315669636364406,
          -1.162681731855504,
          0.8598682003782712,
          1.612239177726746,
          0.378354468322111
         ],
         "yaxis": "y15"
        },
        {
         "histfunc": "count",
         "histnorm": "",
         "marker": {
          "color": "rgba(128, 0, 128, 1.0)",
          "line": {
           "color": "#4D5663",
           "width": 1.3
          }
         },
         "name": "D",
         "nbinsx": 10,
         "opacity": 0.8,
         "orientation": "v",
         "type": "histogram",
         "x": [
          0.7118018274434779,
          -1.2870065882504182,
          -0.4916580493491787,
          -1.9044308590692947,
          0.44351772033203785,
          -0.8273690155867319,
          -0.26055125217240704,
          0.018141216394656854,
          0.11008597289630066,
          -0.1295995451203634,
          -2.5910847329063196,
          -1.0429374286137294,
          -0.933194717655079,
          1.1730632159410679,
          -1.5634474725013752,
          0.06124450115994435,
          -2.462283503795632,
          -1.086247491879777,
          0.5115129683238252,
          1.4778568005223898,
          1.5159370360629094,
          0.38734606585622705,
          -0.6482415702654734,
          0.4706369698418316,
          -0.8506092686698958,
          -0.5657587648336501,
          0.6424211253349936,
          -0.6301938372710957,
          0.779597094268482,
          -0.11736811855957255,
          -1.1240759278650072,
          -0.4249470969787539,
          1.2564408229880317,
          0.7504260227702606,
          1.0437309096416023,
          0.7993057618778631,
          -0.9549154584512836,
          1.5346625194776453,
          1.3141321896443987,
          -1.7241038422728823,
          -2.3547881946364266,
          0.1938604385221901,
          0.20773629690488585,
          0.167229442949951,
          0.31955325724674877,
          -0.7544148858212423,
          1.1332089519520134,
          0.07994626035589668,
          -0.49874884575035905,
          0.18123275411143955,
          -0.395156698520691,
          -0.7627582584708325,
          1.8655137740278986,
          1.9835988187756877,
          0.21617851924165346,
          1.9078703451033887,
          -1.2088955789444449,
          0.24520916592393158,
          -0.6695956520006487,
          -0.5289167647520208,
          -0.9663802562480689,
          1.6507113606508885,
          0.6877752606098776,
          -0.4295743594399312,
          0.3336637707572907,
          -0.034684490378471634,
          -1.8849000567154173,
          -0.3888386615121982,
          -0.438519674648204,
          -1.5140712445326898,
          0.29645004668549324,
          -0.020518771653509488,
          0.24340253185014743,
          0.5272517935508056,
          0.20093651389213774,
          -0.681284626436085,
          1.991433431106185,
          -0.23803286285355918,
          -0.9082058481785367,
          -0.9479342716163699,
          0.09453027478112576,
          -0.14206289950205084,
          1.8876158338669904,
          0.14435770629035993,
          -0.10557615886304807,
          -0.7722511756395839,
          0.5595579954963263,
          0.03796416430661692,
          -2.305640382010492,
          0.40141186801845913,
          1.9559216264785575,
          0.3282349006818968,
          1.2497863794369466,
          -1.4249720497809808,
          -0.6708144248867455,
          -0.7315669636364406,
          -1.162681731855504,
          0.8598682003782712,
          1.612239177726746,
          0.378354468322111
         ],
         "xaxis": "x16",
         "yaxis": "y16"
        }
       ],
       "layout": {
        "bargap": 0.02,
        "legend": {
         "bgcolor": "#F5F6F9",
         "font": {
          "color": "#4D5663"
         }
        },
        "paper_bgcolor": "#F5F6F9",
        "plot_bgcolor": "#F5F6F9",
        "showlegend": false,
        "template": {
         "data": {
          "bar": [
           {
            "error_x": {
             "color": "#2a3f5f"
            },
            "error_y": {
             "color": "#2a3f5f"
            },
            "marker": {
             "line": {
              "color": "#E5ECF6",
              "width": 0.5
             }
            },
            "type": "bar"
           }
          ],
          "barpolar": [
           {
            "marker": {
             "line": {
              "color": "#E5ECF6",
              "width": 0.5
             }
            },
            "type": "barpolar"
           }
          ],
          "carpet": [
           {
            "aaxis": {
             "endlinecolor": "#2a3f5f",
             "gridcolor": "white",
             "linecolor": "white",
             "minorgridcolor": "white",
             "startlinecolor": "#2a3f5f"
            },
            "baxis": {
             "endlinecolor": "#2a3f5f",
             "gridcolor": "white",
             "linecolor": "white",
             "minorgridcolor": "white",
             "startlinecolor": "#2a3f5f"
            },
            "type": "carpet"
           }
          ],
          "choropleth": [
           {
            "colorbar": {
             "outlinewidth": 0,
             "ticks": ""
            },
            "type": "choropleth"
           }
          ],
          "contour": [
           {
            "colorbar": {
             "outlinewidth": 0,
             "ticks": ""
            },
            "colorscale": [
             [
              0,
              "#0d0887"
             ],
             [
              0.1111111111111111,
              "#46039f"
             ],
             [
              0.2222222222222222,
              "#7201a8"
             ],
             [
              0.3333333333333333,
              "#9c179e"
             ],
             [
              0.4444444444444444,
              "#bd3786"
             ],
             [
              0.5555555555555556,
              "#d8576b"
             ],
             [
              0.6666666666666666,
              "#ed7953"
             ],
             [
              0.7777777777777778,
              "#fb9f3a"
             ],
             [
              0.8888888888888888,
              "#fdca26"
             ],
             [
              1,
              "#f0f921"
             ]
            ],
            "type": "contour"
           }
          ],
          "contourcarpet": [
           {
            "colorbar": {
             "outlinewidth": 0,
             "ticks": ""
            },
            "type": "contourcarpet"
           }
          ],
          "heatmap": [
           {
            "colorbar": {
             "outlinewidth": 0,
             "ticks": ""
            },
            "colorscale": [
             [
              0,
              "#0d0887"
             ],
             [
              0.1111111111111111,
              "#46039f"
             ],
             [
              0.2222222222222222,
              "#7201a8"
             ],
             [
              0.3333333333333333,
              "#9c179e"
             ],
             [
              0.4444444444444444,
              "#bd3786"
             ],
             [
              0.5555555555555556,
              "#d8576b"
             ],
             [
              0.6666666666666666,
              "#ed7953"
             ],
             [
              0.7777777777777778,
              "#fb9f3a"
             ],
             [
              0.8888888888888888,
              "#fdca26"
             ],
             [
              1,
              "#f0f921"
             ]
            ],
            "type": "heatmap"
           }
          ],
          "heatmapgl": [
           {
            "colorbar": {
             "outlinewidth": 0,
             "ticks": ""
            },
            "colorscale": [
             [
              0,
              "#0d0887"
             ],
             [
              0.1111111111111111,
              "#46039f"
             ],
             [
              0.2222222222222222,
              "#7201a8"
             ],
             [
              0.3333333333333333,
              "#9c179e"
             ],
             [
              0.4444444444444444,
              "#bd3786"
             ],
             [
              0.5555555555555556,
              "#d8576b"
             ],
             [
              0.6666666666666666,
              "#ed7953"
             ],
             [
              0.7777777777777778,
              "#fb9f3a"
             ],
             [
              0.8888888888888888,
              "#fdca26"
             ],
             [
              1,
              "#f0f921"
             ]
            ],
            "type": "heatmapgl"
           }
          ],
          "histogram": [
           {
            "marker": {
             "colorbar": {
              "outlinewidth": 0,
              "ticks": ""
             }
            },
            "type": "histogram"
           }
          ],
          "histogram2d": [
           {
            "colorbar": {
             "outlinewidth": 0,
             "ticks": ""
            },
            "colorscale": [
             [
              0,
              "#0d0887"
             ],
             [
              0.1111111111111111,
              "#46039f"
             ],
             [
              0.2222222222222222,
              "#7201a8"
             ],
             [
              0.3333333333333333,
              "#9c179e"
             ],
             [
              0.4444444444444444,
              "#bd3786"
             ],
             [
              0.5555555555555556,
              "#d8576b"
             ],
             [
              0.6666666666666666,
              "#ed7953"
             ],
             [
              0.7777777777777778,
              "#fb9f3a"
             ],
             [
              0.8888888888888888,
              "#fdca26"
             ],
             [
              1,
              "#f0f921"
             ]
            ],
            "type": "histogram2d"
           }
          ],
          "histogram2dcontour": [
           {
            "colorbar": {
             "outlinewidth": 0,
             "ticks": ""
            },
            "colorscale": [
             [
              0,
              "#0d0887"
             ],
             [
              0.1111111111111111,
              "#46039f"
             ],
             [
              0.2222222222222222,
              "#7201a8"
             ],
             [
              0.3333333333333333,
              "#9c179e"
             ],
             [
              0.4444444444444444,
              "#bd3786"
             ],
             [
              0.5555555555555556,
              "#d8576b"
             ],
             [
              0.6666666666666666,
              "#ed7953"
             ],
             [
              0.7777777777777778,
              "#fb9f3a"
             ],
             [
              0.8888888888888888,
              "#fdca26"
             ],
             [
              1,
              "#f0f921"
             ]
            ],
            "type": "histogram2dcontour"
           }
          ],
          "mesh3d": [
           {
            "colorbar": {
             "outlinewidth": 0,
             "ticks": ""
            },
            "type": "mesh3d"
           }
          ],
          "parcoords": [
           {
            "line": {
             "colorbar": {
              "outlinewidth": 0,
              "ticks": ""
             }
            },
            "type": "parcoords"
           }
          ],
          "pie": [
           {
            "automargin": true,
            "type": "pie"
           }
          ],
          "scatter": [
           {
            "marker": {
             "colorbar": {
              "outlinewidth": 0,
              "ticks": ""
             }
            },
            "type": "scatter"
           }
          ],
          "scatter3d": [
           {
            "line": {
             "colorbar": {
              "outlinewidth": 0,
              "ticks": ""
             }
            },
            "marker": {
             "colorbar": {
              "outlinewidth": 0,
              "ticks": ""
             }
            },
            "type": "scatter3d"
           }
          ],
          "scattercarpet": [
           {
            "marker": {
             "colorbar": {
              "outlinewidth": 0,
              "ticks": ""
             }
            },
            "type": "scattercarpet"
           }
          ],
          "scattergeo": [
           {
            "marker": {
             "colorbar": {
              "outlinewidth": 0,
              "ticks": ""
             }
            },
            "type": "scattergeo"
           }
          ],
          "scattergl": [
           {
            "marker": {
             "colorbar": {
              "outlinewidth": 0,
              "ticks": ""
             }
            },
            "type": "scattergl"
           }
          ],
          "scattermapbox": [
           {
            "marker": {
             "colorbar": {
              "outlinewidth": 0,
              "ticks": ""
             }
            },
            "type": "scattermapbox"
           }
          ],
          "scatterpolar": [
           {
            "marker": {
             "colorbar": {
              "outlinewidth": 0,
              "ticks": ""
             }
            },
            "type": "scatterpolar"
           }
          ],
          "scatterpolargl": [
           {
            "marker": {
             "colorbar": {
              "outlinewidth": 0,
              "ticks": ""
             }
            },
            "type": "scatterpolargl"
           }
          ],
          "scatterternary": [
           {
            "marker": {
             "colorbar": {
              "outlinewidth": 0,
              "ticks": ""
             }
            },
            "type": "scatterternary"
           }
          ],
          "surface": [
           {
            "colorbar": {
             "outlinewidth": 0,
             "ticks": ""
            },
            "colorscale": [
             [
              0,
              "#0d0887"
             ],
             [
              0.1111111111111111,
              "#46039f"
             ],
             [
              0.2222222222222222,
              "#7201a8"
             ],
             [
              0.3333333333333333,
              "#9c179e"
             ],
             [
              0.4444444444444444,
              "#bd3786"
             ],
             [
              0.5555555555555556,
              "#d8576b"
             ],
             [
              0.6666666666666666,
              "#ed7953"
             ],
             [
              0.7777777777777778,
              "#fb9f3a"
             ],
             [
              0.8888888888888888,
              "#fdca26"
             ],
             [
              1,
              "#f0f921"
             ]
            ],
            "type": "surface"
           }
          ],
          "table": [
           {
            "cells": {
             "fill": {
              "color": "#EBF0F8"
             },
             "line": {
              "color": "white"
             }
            },
            "header": {
             "fill": {
              "color": "#C8D4E3"
             },
             "line": {
              "color": "white"
             }
            },
            "type": "table"
           }
          ]
         },
         "layout": {
          "annotationdefaults": {
           "arrowcolor": "#2a3f5f",
           "arrowhead": 0,
           "arrowwidth": 1
          },
          "autotypenumbers": "strict",
          "coloraxis": {
           "colorbar": {
            "outlinewidth": 0,
            "ticks": ""
           }
          },
          "colorscale": {
           "diverging": [
            [
             0,
             "#8e0152"
            ],
            [
             0.1,
             "#c51b7d"
            ],
            [
             0.2,
             "#de77ae"
            ],
            [
             0.3,
             "#f1b6da"
            ],
            [
             0.4,
             "#fde0ef"
            ],
            [
             0.5,
             "#f7f7f7"
            ],
            [
             0.6,
             "#e6f5d0"
            ],
            [
             0.7,
             "#b8e186"
            ],
            [
             0.8,
             "#7fbc41"
            ],
            [
             0.9,
             "#4d9221"
            ],
            [
             1,
             "#276419"
            ]
           ],
           "sequential": [
            [
             0,
             "#0d0887"
            ],
            [
             0.1111111111111111,
             "#46039f"
            ],
            [
             0.2222222222222222,
             "#7201a8"
            ],
            [
             0.3333333333333333,
             "#9c179e"
            ],
            [
             0.4444444444444444,
             "#bd3786"
            ],
            [
             0.5555555555555556,
             "#d8576b"
            ],
            [
             0.6666666666666666,
             "#ed7953"
            ],
            [
             0.7777777777777778,
             "#fb9f3a"
            ],
            [
             0.8888888888888888,
             "#fdca26"
            ],
            [
             1,
             "#f0f921"
            ]
           ],
           "sequentialminus": [
            [
             0,
             "#0d0887"
            ],
            [
             0.1111111111111111,
             "#46039f"
            ],
            [
             0.2222222222222222,
             "#7201a8"
            ],
            [
             0.3333333333333333,
             "#9c179e"
            ],
            [
             0.4444444444444444,
             "#bd3786"
            ],
            [
             0.5555555555555556,
             "#d8576b"
            ],
            [
             0.6666666666666666,
             "#ed7953"
            ],
            [
             0.7777777777777778,
             "#fb9f3a"
            ],
            [
             0.8888888888888888,
             "#fdca26"
            ],
            [
             1,
             "#f0f921"
            ]
           ]
          },
          "colorway": [
           "#636efa",
           "#EF553B",
           "#00cc96",
           "#ab63fa",
           "#FFA15A",
           "#19d3f3",
           "#FF6692",
           "#B6E880",
           "#FF97FF",
           "#FECB52"
          ],
          "font": {
           "color": "#2a3f5f"
          },
          "geo": {
           "bgcolor": "white",
           "lakecolor": "white",
           "landcolor": "#E5ECF6",
           "showlakes": true,
           "showland": true,
           "subunitcolor": "white"
          },
          "hoverlabel": {
           "align": "left"
          },
          "hovermode": "closest",
          "mapbox": {
           "style": "light"
          },
          "paper_bgcolor": "white",
          "plot_bgcolor": "#E5ECF6",
          "polar": {
           "angularaxis": {
            "gridcolor": "white",
            "linecolor": "white",
            "ticks": ""
           },
           "bgcolor": "#E5ECF6",
           "radialaxis": {
            "gridcolor": "white",
            "linecolor": "white",
            "ticks": ""
           }
          },
          "scene": {
           "xaxis": {
            "backgroundcolor": "#E5ECF6",
            "gridcolor": "white",
            "gridwidth": 2,
            "linecolor": "white",
            "showbackground": true,
            "ticks": "",
            "zerolinecolor": "white"
           },
           "yaxis": {
            "backgroundcolor": "#E5ECF6",
            "gridcolor": "white",
            "gridwidth": 2,
            "linecolor": "white",
            "showbackground": true,
            "ticks": "",
            "zerolinecolor": "white"
           },
           "zaxis": {
            "backgroundcolor": "#E5ECF6",
            "gridcolor": "white",
            "gridwidth": 2,
            "linecolor": "white",
            "showbackground": true,
            "ticks": "",
            "zerolinecolor": "white"
           }
          },
          "shapedefaults": {
           "line": {
            "color": "#2a3f5f"
           }
          },
          "ternary": {
           "aaxis": {
            "gridcolor": "white",
            "linecolor": "white",
            "ticks": ""
           },
           "baxis": {
            "gridcolor": "white",
            "linecolor": "white",
            "ticks": ""
           },
           "bgcolor": "#E5ECF6",
           "caxis": {
            "gridcolor": "white",
            "linecolor": "white",
            "ticks": ""
           }
          },
          "title": {
           "x": 0.05
          },
          "xaxis": {
           "automargin": true,
           "gridcolor": "white",
           "linecolor": "white",
           "ticks": "",
           "title": {
            "standoff": 15
           },
           "zerolinecolor": "white",
           "zerolinewidth": 2
          },
          "yaxis": {
           "automargin": true,
           "gridcolor": "white",
           "linecolor": "white",
           "ticks": "",
           "title": {
            "standoff": 15
           },
           "zerolinecolor": "white",
           "zerolinewidth": 2
          }
         }
        },
        "title": {
         "font": {
          "color": "#4D5663"
         }
        },
        "xaxis": {
         "anchor": "y",
         "domain": [
          0,
          0.2125
         ],
         "gridcolor": "#E1E5ED",
         "showgrid": false,
         "tickfont": {
          "color": "#4D5663"
         },
         "title": {
          "font": {
           "color": "#4D5663"
          },
          "text": ""
         },
         "zerolinecolor": "#E1E5ED"
        },
        "xaxis10": {
         "anchor": "y10",
         "domain": [
          0.2625,
          0.475
         ],
         "gridcolor": "#E1E5ED",
         "showgrid": false,
         "tickfont": {
          "color": "#4D5663"
         },
         "title": {
          "font": {
           "color": "#4D5663"
          },
          "text": ""
         },
         "zerolinecolor": "#E1E5ED"
        },
        "xaxis11": {
         "anchor": "y11",
         "domain": [
          0.525,
          0.7375
         ],
         "gridcolor": "#E1E5ED",
         "showgrid": false,
         "tickfont": {
          "color": "#4D5663"
         },
         "title": {
          "font": {
           "color": "#4D5663"
          },
          "text": ""
         },
         "zerolinecolor": "#E1E5ED"
        },
        "xaxis12": {
         "anchor": "y12",
         "domain": [
          0.7875,
          1
         ],
         "gridcolor": "#E1E5ED",
         "showgrid": false,
         "tickfont": {
          "color": "#4D5663"
         },
         "title": {
          "font": {
           "color": "#4D5663"
          },
          "text": ""
         },
         "zerolinecolor": "#E1E5ED"
        },
        "xaxis13": {
         "anchor": "y13",
         "domain": [
          0,
          0.2125
         ],
         "gridcolor": "#E1E5ED",
         "showgrid": false,
         "tickfont": {
          "color": "#4D5663"
         },
         "title": {
          "font": {
           "color": "#4D5663"
          },
          "text": ""
         },
         "zerolinecolor": "#E1E5ED"
        },
        "xaxis14": {
         "anchor": "y14",
         "domain": [
          0.2625,
          0.475
         ],
         "gridcolor": "#E1E5ED",
         "showgrid": false,
         "tickfont": {
          "color": "#4D5663"
         },
         "title": {
          "font": {
           "color": "#4D5663"
          },
          "text": ""
         },
         "zerolinecolor": "#E1E5ED"
        },
        "xaxis15": {
         "anchor": "y15",
         "domain": [
          0.525,
          0.7375
         ],
         "gridcolor": "#E1E5ED",
         "showgrid": false,
         "tickfont": {
          "color": "#4D5663"
         },
         "title": {
          "font": {
           "color": "#4D5663"
          },
          "text": ""
         },
         "zerolinecolor": "#E1E5ED"
        },
        "xaxis16": {
         "anchor": "y16",
         "domain": [
          0.7875,
          1
         ],
         "gridcolor": "#E1E5ED",
         "showgrid": false,
         "tickfont": {
          "color": "#4D5663"
         },
         "title": {
          "font": {
           "color": "#4D5663"
          },
          "text": ""
         },
         "zerolinecolor": "#E1E5ED"
        },
        "xaxis2": {
         "anchor": "y2",
         "domain": [
          0.2625,
          0.475
         ],
         "gridcolor": "#E1E5ED",
         "showgrid": false,
         "tickfont": {
          "color": "#4D5663"
         },
         "title": {
          "font": {
           "color": "#4D5663"
          },
          "text": ""
         },
         "zerolinecolor": "#E1E5ED"
        },
        "xaxis3": {
         "anchor": "y3",
         "domain": [
          0.525,
          0.7375
         ],
         "gridcolor": "#E1E5ED",
         "showgrid": false,
         "tickfont": {
          "color": "#4D5663"
         },
         "title": {
          "font": {
           "color": "#4D5663"
          },
          "text": ""
         },
         "zerolinecolor": "#E1E5ED"
        },
        "xaxis4": {
         "anchor": "y4",
         "domain": [
          0.7875,
          1
         ],
         "gridcolor": "#E1E5ED",
         "showgrid": false,
         "tickfont": {
          "color": "#4D5663"
         },
         "title": {
          "font": {
           "color": "#4D5663"
          },
          "text": ""
         },
         "zerolinecolor": "#E1E5ED"
        },
        "xaxis5": {
         "anchor": "y5",
         "domain": [
          0,
          0.2125
         ],
         "gridcolor": "#E1E5ED",
         "showgrid": false,
         "tickfont": {
          "color": "#4D5663"
         },
         "title": {
          "font": {
           "color": "#4D5663"
          },
          "text": ""
         },
         "zerolinecolor": "#E1E5ED"
        },
        "xaxis6": {
         "anchor": "y6",
         "domain": [
          0.2625,
          0.475
         ],
         "gridcolor": "#E1E5ED",
         "showgrid": false,
         "tickfont": {
          "color": "#4D5663"
         },
         "title": {
          "font": {
           "color": "#4D5663"
          },
          "text": ""
         },
         "zerolinecolor": "#E1E5ED"
        },
        "xaxis7": {
         "anchor": "y7",
         "domain": [
          0.525,
          0.7375
         ],
         "gridcolor": "#E1E5ED",
         "showgrid": false,
         "tickfont": {
          "color": "#4D5663"
         },
         "title": {
          "font": {
           "color": "#4D5663"
          },
          "text": ""
         },
         "zerolinecolor": "#E1E5ED"
        },
        "xaxis8": {
         "anchor": "y8",
         "domain": [
          0.7875,
          1
         ],
         "gridcolor": "#E1E5ED",
         "showgrid": false,
         "tickfont": {
          "color": "#4D5663"
         },
         "title": {
          "font": {
           "color": "#4D5663"
          },
          "text": ""
         },
         "zerolinecolor": "#E1E5ED"
        },
        "xaxis9": {
         "anchor": "y9",
         "domain": [
          0,
          0.2125
         ],
         "gridcolor": "#E1E5ED",
         "showgrid": false,
         "tickfont": {
          "color": "#4D5663"
         },
         "title": {
          "font": {
           "color": "#4D5663"
          },
          "text": ""
         },
         "zerolinecolor": "#E1E5ED"
        },
        "yaxis": {
         "anchor": "x",
         "domain": [
          0.8025,
          1
         ],
         "gridcolor": "#E1E5ED",
         "showgrid": false,
         "tickfont": {
          "color": "#4D5663"
         },
         "title": {
          "font": {
           "color": "#4D5663"
          },
          "text": ""
         },
         "zerolinecolor": "#E1E5ED"
        },
        "yaxis10": {
         "anchor": "x10",
         "domain": [
          0.2675,
          0.465
         ],
         "gridcolor": "#E1E5ED",
         "showgrid": false,
         "tickfont": {
          "color": "#4D5663"
         },
         "title": {
          "font": {
           "color": "#4D5663"
          },
          "text": ""
         },
         "zerolinecolor": "#E1E5ED"
        },
        "yaxis11": {
         "anchor": "x11",
         "domain": [
          0.2675,
          0.465
         ],
         "gridcolor": "#E1E5ED",
         "showgrid": false,
         "tickfont": {
          "color": "#4D5663"
         },
         "title": {
          "font": {
           "color": "#4D5663"
          },
          "text": ""
         },
         "zerolinecolor": "#E1E5ED"
        },
        "yaxis12": {
         "anchor": "x12",
         "domain": [
          0.2675,
          0.465
         ],
         "gridcolor": "#E1E5ED",
         "showgrid": false,
         "tickfont": {
          "color": "#4D5663"
         },
         "title": {
          "font": {
           "color": "#4D5663"
          },
          "text": ""
         },
         "zerolinecolor": "#E1E5ED"
        },
        "yaxis13": {
         "anchor": "x13",
         "domain": [
          0,
          0.1975
         ],
         "gridcolor": "#E1E5ED",
         "showgrid": false,
         "tickfont": {
          "color": "#4D5663"
         },
         "title": {
          "font": {
           "color": "#4D5663"
          },
          "text": ""
         },
         "zerolinecolor": "#E1E5ED"
        },
        "yaxis14": {
         "anchor": "x14",
         "domain": [
          0,
          0.1975
         ],
         "gridcolor": "#E1E5ED",
         "showgrid": false,
         "tickfont": {
          "color": "#4D5663"
         },
         "title": {
          "font": {
           "color": "#4D5663"
          },
          "text": ""
         },
         "zerolinecolor": "#E1E5ED"
        },
        "yaxis15": {
         "anchor": "x15",
         "domain": [
          0,
          0.1975
         ],
         "gridcolor": "#E1E5ED",
         "showgrid": false,
         "tickfont": {
          "color": "#4D5663"
         },
         "title": {
          "font": {
           "color": "#4D5663"
          },
          "text": ""
         },
         "zerolinecolor": "#E1E5ED"
        },
        "yaxis16": {
         "anchor": "x16",
         "domain": [
          0,
          0.1975
         ],
         "gridcolor": "#E1E5ED",
         "showgrid": false,
         "tickfont": {
          "color": "#4D5663"
         },
         "title": {
          "font": {
           "color": "#4D5663"
          },
          "text": ""
         },
         "zerolinecolor": "#E1E5ED"
        },
        "yaxis2": {
         "anchor": "x2",
         "domain": [
          0.8025,
          1
         ],
         "gridcolor": "#E1E5ED",
         "showgrid": false,
         "tickfont": {
          "color": "#4D5663"
         },
         "title": {
          "font": {
           "color": "#4D5663"
          },
          "text": ""
         },
         "zerolinecolor": "#E1E5ED"
        },
        "yaxis3": {
         "anchor": "x3",
         "domain": [
          0.8025,
          1
         ],
         "gridcolor": "#E1E5ED",
         "showgrid": false,
         "tickfont": {
          "color": "#4D5663"
         },
         "title": {
          "font": {
           "color": "#4D5663"
          },
          "text": ""
         },
         "zerolinecolor": "#E1E5ED"
        },
        "yaxis4": {
         "anchor": "x4",
         "domain": [
          0.8025,
          1
         ],
         "gridcolor": "#E1E5ED",
         "showgrid": false,
         "tickfont": {
          "color": "#4D5663"
         },
         "title": {
          "font": {
           "color": "#4D5663"
          },
          "text": ""
         },
         "zerolinecolor": "#E1E5ED"
        },
        "yaxis5": {
         "anchor": "x5",
         "domain": [
          0.535,
          0.7325
         ],
         "gridcolor": "#E1E5ED",
         "showgrid": false,
         "tickfont": {
          "color": "#4D5663"
         },
         "title": {
          "font": {
           "color": "#4D5663"
          },
          "text": ""
         },
         "zerolinecolor": "#E1E5ED"
        },
        "yaxis6": {
         "anchor": "x6",
         "domain": [
          0.535,
          0.7325
         ],
         "gridcolor": "#E1E5ED",
         "showgrid": false,
         "tickfont": {
          "color": "#4D5663"
         },
         "title": {
          "font": {
           "color": "#4D5663"
          },
          "text": ""
         },
         "zerolinecolor": "#E1E5ED"
        },
        "yaxis7": {
         "anchor": "x7",
         "domain": [
          0.535,
          0.7325
         ],
         "gridcolor": "#E1E5ED",
         "showgrid": false,
         "tickfont": {
          "color": "#4D5663"
         },
         "title": {
          "font": {
           "color": "#4D5663"
          },
          "text": ""
         },
         "zerolinecolor": "#E1E5ED"
        },
        "yaxis8": {
         "anchor": "x8",
         "domain": [
          0.535,
          0.7325
         ],
         "gridcolor": "#E1E5ED",
         "showgrid": false,
         "tickfont": {
          "color": "#4D5663"
         },
         "title": {
          "font": {
           "color": "#4D5663"
          },
          "text": ""
         },
         "zerolinecolor": "#E1E5ED"
        },
        "yaxis9": {
         "anchor": "x9",
         "domain": [
          0.2675,
          0.465
         ],
         "gridcolor": "#E1E5ED",
         "showgrid": false,
         "tickfont": {
          "color": "#4D5663"
         },
         "title": {
          "font": {
           "color": "#4D5663"
          },
          "text": ""
         },
         "zerolinecolor": "#E1E5ED"
        }
       }
      },
      "text/html": [
       "<div>                            <div id=\"eb46d47a-1cd2-4dbb-b871-be2392586b83\" class=\"plotly-graph-div\" style=\"height:525px; width:100%;\"></div>            <script type=\"text/javascript\">                require([\"plotly\"], function(Plotly) {                    window.PLOTLYENV=window.PLOTLYENV || {};\n",
       "                    window.PLOTLYENV.BASE_URL='https://plot.ly';                                    if (document.getElementById(\"eb46d47a-1cd2-4dbb-b871-be2392586b83\")) {                    Plotly.newPlot(                        \"eb46d47a-1cd2-4dbb-b871-be2392586b83\",                        [{\"histfunc\": \"count\", \"histnorm\": \"\", \"marker\": {\"color\": \"rgba(255, 153, 51, 1.0)\", \"line\": {\"color\": \"#4D5663\", \"width\": 1.3}}, \"name\": \"A\", \"nbinsx\": 10, \"opacity\": 0.8, \"orientation\": \"v\", \"type\": \"histogram\", \"x\": [-1.1297355996644, -0.7378182431367298, 1.3018362014014464, -0.3897524354762462, -0.28469569627643276, 0.26189570707558646, -0.9076631525537662, 0.6203535138805666, -0.6186803199969817, 1.1226080642068443, -0.041438635172887366, -0.0022362033056104436, -1.0499832175198893, 0.08986937258436357, 1.3375457246389604, 1.9232171151998751, 1.2514977061012698, -0.010263114481263881, 1.4971556937885246, 0.5715860883089958, 0.19761772066921174, 1.1502304384350708, -0.24098786918618537, -1.6010465710520883, 0.9732937328192726, 0.11160359753779947, 0.32197195249841265, 0.30358682957964434, 0.40859502431711464, 0.6193062029177665, -0.4755616450031329, -1.0241841009392374, -0.10086891983338513, 0.754866747209579, 0.06900528817558078, -0.24279306917070723, 1.0348185228210516, -0.3958072182103754, -0.2877736157815689, 1.8262614760763645, 0.6560796576224647, 0.6039936134209548, 0.13811643849623192, 0.6169996082287618, -0.4388003603691258, 0.0857953494782665, 0.06263204663463057, 1.9136188883998924, -2.1038091801398306, -0.5031598748343795, -0.499738792228652, 0.3442035464303753, -1.2225361345294794, -0.22793921626844366, 0.5262130361354909, -0.010912344260437948, 2.2298919035757816, -1.444058305089868, -1.1316461333814778, 0.3933956396359092, -0.8704396282469317, -0.20553795675791134, -0.08867481958175209, -1.1172775865956317, -1.5260076855104778, -1.7467581009661328, -1.0664288474904873, 1.9150131279839857, 0.7683469110544034, 2.00607805679846, 1.8580914663696646, 1.9062502131655201, 0.03580593006324525, -0.6555706026085864, -1.1089797545764777, 0.8329301907539098, 0.8284039642458526, -1.1789468559824925, 0.7518735549022194, 1.0952234728205141, -0.3779764711785572, -0.9265655021956508, -0.9553992513910263, -0.38587972952013033, -0.6838345119123879, -0.43684706995405886, -0.4081057994560073, -1.5156425658958605, -0.575082296862586, -1.9415192419502305, 0.6216142225912914, -0.17327214911462618, 0.41144632474130993, 0.15372200990299822, -0.6157231774320628, 0.5240625234153609, -0.9920542569293624, -0.1510296013533493, -0.20056562222891014, -0.10335285122129649], \"xaxis\": \"x\", \"yaxis\": \"y\"}, {\"line\": {\"color\": \"rgba(128, 128, 128, 1.0)\", \"dash\": \"solid\", \"shape\": \"linear\", \"width\": 1.3}, \"marker\": {\"size\": 2, \"symbol\": \"circle\"}, \"mode\": \"markers\", \"name\": \"A\", \"text\": \"\", \"type\": \"scatter\", \"x\": [-0.1635062728202632, -0.9756447904649324, 0.4357492211576944, 0.051226001530410986, 1.6194609778186286, -0.2614992416979577, -0.503056959460743, -0.13993298480476804, 0.4728179839113631, 0.53389506015398, 0.04175052703734408, -0.07721058388948895, -1.225800753883539, 0.8171131199268552, 0.271335570828907, -0.6148593154348182, -2.5442148291754667, -1.7782906353324925, 0.1356671690464854, 0.5537287920898528, -1.9714030383810386, 0.21204671141656967, -0.49986516306652934, 1.1605986854994819, -0.15289830668798166, 0.868679639924568, -0.5327690147279569, 0.38676522371752736, -0.697783301263672, 2.729615807039255, -0.44168975575870933, -0.8975405797564469, 1.156250284244023, 0.18372610275768578, 0.22028435577067737, -2.0445273482561723, -1.2705850191721542, -1.4398853748138425, -0.5164216605007113, -0.8766005893127831, -0.20189795216579856, -0.63168004490542, -0.10625317572230386, 0.06570462032791533, -0.3306030709977983, -1.1066179005719434, -1.8001592887010398, -1.2464956160103438, 1.412558001616313, 0.7263817448765412, -0.674821902689123, 0.13863430885397565, 0.8131652940034697, -1.8446556023227498, -0.3991970389101511, -1.6061316037339424, -0.3895083198515032, 0.9956640976917002, -0.09581646337107551, 0.5003441799337934, 0.4412554563299149, -1.2186611487320202, -0.6603496496066004, -1.3840238128032634, -1.279561508367783, 0.8242627049250715, 0.6066034035416791, -0.3129127244834932, 0.7439229469840886, -0.09075013988002041, -0.31059118918465206, -0.6998974552396815, -1.4718276518213624, 0.9598030326043391, -0.08470576393901538, -1.6271765054338334, 0.10367717536539334, 1.2481090029334017, -1.3083436514057565, 0.9001700007453994, 0.3191804389519386, -1.216318060061043, 0.6960767879130475, -0.10206427976470202, -1.0295841917882045, -0.3919692938644334, -0.004198236309692963, -2.7629842618099905, 1.2332621129863932, 0.3392732764281834, -0.6057250793486275, -0.049403623228994324, -1.1140335648259374, 1.1227986792321807, 0.7647722049015698, 0.23076529128221307, 0.025538967609587467, 1.0284112692058112, -0.11467294290964382, -0.5103834221495227], \"xaxis\": \"x2\", \"y\": [-1.1297355996644, -0.7378182431367298, 1.3018362014014464, -0.3897524354762462, -0.28469569627643276, 0.26189570707558646, -0.9076631525537662, 0.6203535138805666, -0.6186803199969817, 1.1226080642068443, -0.041438635172887366, -0.0022362033056104436, -1.0499832175198893, 0.08986937258436357, 1.3375457246389604, 1.9232171151998751, 1.2514977061012698, -0.010263114481263881, 1.4971556937885246, 0.5715860883089958, 0.19761772066921174, 1.1502304384350708, -0.24098786918618537, -1.6010465710520883, 0.9732937328192726, 0.11160359753779947, 0.32197195249841265, 0.30358682957964434, 0.40859502431711464, 0.6193062029177665, -0.4755616450031329, -1.0241841009392374, -0.10086891983338513, 0.754866747209579, 0.06900528817558078, -0.24279306917070723, 1.0348185228210516, -0.3958072182103754, -0.2877736157815689, 1.8262614760763645, 0.6560796576224647, 0.6039936134209548, 0.13811643849623192, 0.6169996082287618, -0.4388003603691258, 0.0857953494782665, 0.06263204663463057, 1.9136188883998924, -2.1038091801398306, -0.5031598748343795, -0.499738792228652, 0.3442035464303753, -1.2225361345294794, -0.22793921626844366, 0.5262130361354909, -0.010912344260437948, 2.2298919035757816, -1.444058305089868, -1.1316461333814778, 0.3933956396359092, -0.8704396282469317, -0.20553795675791134, -0.08867481958175209, -1.1172775865956317, -1.5260076855104778, -1.7467581009661328, -1.0664288474904873, 1.9150131279839857, 0.7683469110544034, 2.00607805679846, 1.8580914663696646, 1.9062502131655201, 0.03580593006324525, -0.6555706026085864, -1.1089797545764777, 0.8329301907539098, 0.8284039642458526, -1.1789468559824925, 0.7518735549022194, 1.0952234728205141, -0.3779764711785572, -0.9265655021956508, -0.9553992513910263, -0.38587972952013033, -0.6838345119123879, -0.43684706995405886, -0.4081057994560073, -1.5156425658958605, -0.575082296862586, -1.9415192419502305, 0.6216142225912914, -0.17327214911462618, 0.41144632474130993, 0.15372200990299822, -0.6157231774320628, 0.5240625234153609, -0.9920542569293624, -0.1510296013533493, -0.20056562222891014, -0.10335285122129649], \"yaxis\": \"y2\"}, {\"line\": {\"color\": \"rgba(128, 128, 128, 1.0)\", \"dash\": \"solid\", \"shape\": \"linear\", \"width\": 1.3}, \"marker\": {\"size\": 2, \"symbol\": \"circle\"}, \"mode\": \"markers\", \"name\": \"A\", \"text\": \"\", \"type\": \"scatter\", \"x\": [0.11283031733277957, -1.361284331583743, 0.25994077605414034, 0.38959313337602264, 0.13067355807753492, 0.3227772997051113, -0.3046470317405729, 0.21262946711523859, -0.18545062372845666, 1.408158740699216, 0.832127306043445, 0.7233007298027437, 2.592076750966838, 0.4372835915750651, 1.0456009503869577, -0.10896717671709816, 0.5122037431260221, -0.11337424244070682, -0.7816781259696549, -0.4100948706532913, 0.6964057941366105, 0.36746904732545255, -0.7502410991693306, -1.0213807432442694, -0.7823211617714393, -0.18050238898936574, 1.3475391164944077, -2.017613664525537, -0.914340212487567, 1.0542539063755882, -0.09706941869315856, -1.456721538503752, -0.11545419654006604, -2.1554219970003645, -0.6276875313672381, 1.124724482266114, 1.5456975734686016, 1.8764227506584508, -0.20510093769002238, -1.7060295671555399, 0.04431171538660458, 0.39403894117897614, -0.6869783121433457, 1.455839617849644, 0.06230447079335637, -0.30023939732847216, 0.14011200080170352, -0.3645626613083884, -1.1516877616101877, 1.541246158404446, 1.0331106872251201, 0.7921891009532842, 1.6783110772135967, -0.8766331742460747, 1.0235203320321027, 0.701960141685297, 0.7651104002675053, 0.5194243998661789, 0.30918233746190904, -0.546190774839706, -0.5142471808977173, -0.42462565450019113, 1.2952996037607194, -0.8970588287044531, -0.5464663004065007, 0.6413825063548994, 0.9477350178116315, -0.37901231911871874, -0.045400287048320546, 0.7943838281320083, 1.073353768930085, 0.16043169392409934, -0.4782821328775109, 0.2736732512409374, 1.1342637312186539, 1.1826436526758746, -0.280696984045084, 0.48787177121146336, -0.09653893055785567, -0.056911694205144005, 0.24506678305677007, -0.6880268658655267, 0.24297960194793905, 0.6896351516203121, -0.539824561709622, -2.3216199349649096, -0.39180850198850914, 0.3185777920876068, 1.5758023687870821, 0.3083559696896942, 0.9189071123950201, -0.17972585672602343, -0.39014446888607557, 0.5334723758838263, 0.5790713350650735, -0.035620542072960774, -0.3301452792602241, -1.2618270450203632, -0.27439773322073563, -0.9688992149707151], \"xaxis\": \"x3\", \"y\": [-1.1297355996644, -0.7378182431367298, 1.3018362014014464, -0.3897524354762462, -0.28469569627643276, 0.26189570707558646, -0.9076631525537662, 0.6203535138805666, -0.6186803199969817, 1.1226080642068443, -0.041438635172887366, -0.0022362033056104436, -1.0499832175198893, 0.08986937258436357, 1.3375457246389604, 1.9232171151998751, 1.2514977061012698, -0.010263114481263881, 1.4971556937885246, 0.5715860883089958, 0.19761772066921174, 1.1502304384350708, -0.24098786918618537, -1.6010465710520883, 0.9732937328192726, 0.11160359753779947, 0.32197195249841265, 0.30358682957964434, 0.40859502431711464, 0.6193062029177665, -0.4755616450031329, -1.0241841009392374, -0.10086891983338513, 0.754866747209579, 0.06900528817558078, -0.24279306917070723, 1.0348185228210516, -0.3958072182103754, -0.2877736157815689, 1.8262614760763645, 0.6560796576224647, 0.6039936134209548, 0.13811643849623192, 0.6169996082287618, -0.4388003603691258, 0.0857953494782665, 0.06263204663463057, 1.9136188883998924, -2.1038091801398306, -0.5031598748343795, -0.499738792228652, 0.3442035464303753, -1.2225361345294794, -0.22793921626844366, 0.5262130361354909, -0.010912344260437948, 2.2298919035757816, -1.444058305089868, -1.1316461333814778, 0.3933956396359092, -0.8704396282469317, -0.20553795675791134, -0.08867481958175209, -1.1172775865956317, -1.5260076855104778, -1.7467581009661328, -1.0664288474904873, 1.9150131279839857, 0.7683469110544034, 2.00607805679846, 1.8580914663696646, 1.9062502131655201, 0.03580593006324525, -0.6555706026085864, -1.1089797545764777, 0.8329301907539098, 0.8284039642458526, -1.1789468559824925, 0.7518735549022194, 1.0952234728205141, -0.3779764711785572, -0.9265655021956508, -0.9553992513910263, -0.38587972952013033, -0.6838345119123879, -0.43684706995405886, -0.4081057994560073, -1.5156425658958605, -0.575082296862586, -1.9415192419502305, 0.6216142225912914, -0.17327214911462618, 0.41144632474130993, 0.15372200990299822, -0.6157231774320628, 0.5240625234153609, -0.9920542569293624, -0.1510296013533493, -0.20056562222891014, -0.10335285122129649], \"yaxis\": \"y3\"}, {\"line\": {\"color\": \"rgba(128, 128, 128, 1.0)\", \"dash\": \"solid\", \"shape\": \"linear\", \"width\": 1.3}, \"marker\": {\"size\": 2, \"symbol\": \"circle\"}, \"mode\": \"markers\", \"name\": \"A\", \"text\": \"\", \"type\": \"scatter\", \"x\": [0.7118018274434779, -1.2870065882504182, -0.4916580493491787, -1.9044308590692947, 0.44351772033203785, -0.8273690155867319, -0.26055125217240704, 0.018141216394656854, 0.11008597289630066, -0.1295995451203634, -2.5910847329063196, -1.0429374286137294, -0.933194717655079, 1.1730632159410679, -1.5634474725013752, 0.06124450115994435, -2.462283503795632, -1.086247491879777, 0.5115129683238252, 1.4778568005223898, 1.5159370360629094, 0.38734606585622705, -0.6482415702654734, 0.4706369698418316, -0.8506092686698958, -0.5657587648336501, 0.6424211253349936, -0.6301938372710957, 0.779597094268482, -0.11736811855957255, -1.1240759278650072, -0.4249470969787539, 1.2564408229880317, 0.7504260227702606, 1.0437309096416023, 0.7993057618778631, -0.9549154584512836, 1.5346625194776453, 1.3141321896443987, -1.7241038422728823, -2.3547881946364266, 0.1938604385221901, 0.20773629690488585, 0.167229442949951, 0.31955325724674877, -0.7544148858212423, 1.1332089519520134, 0.07994626035589668, -0.49874884575035905, 0.18123275411143955, -0.395156698520691, -0.7627582584708325, 1.8655137740278986, 1.9835988187756877, 0.21617851924165346, 1.9078703451033887, -1.2088955789444449, 0.24520916592393158, -0.6695956520006487, -0.5289167647520208, -0.9663802562480689, 1.6507113606508885, 0.6877752606098776, -0.4295743594399312, 0.3336637707572907, -0.034684490378471634, -1.8849000567154173, -0.3888386615121982, -0.438519674648204, -1.5140712445326898, 0.29645004668549324, -0.020518771653509488, 0.24340253185014743, 0.5272517935508056, 0.20093651389213774, -0.681284626436085, 1.991433431106185, -0.23803286285355918, -0.9082058481785367, -0.9479342716163699, 0.09453027478112576, -0.14206289950205084, 1.8876158338669904, 0.14435770629035993, -0.10557615886304807, -0.7722511756395839, 0.5595579954963263, 0.03796416430661692, -2.305640382010492, 0.40141186801845913, 1.9559216264785575, 0.3282349006818968, 1.2497863794369466, -1.4249720497809808, -0.6708144248867455, -0.7315669636364406, -1.162681731855504, 0.8598682003782712, 1.612239177726746, 0.378354468322111], \"xaxis\": \"x4\", \"y\": [-1.1297355996644, -0.7378182431367298, 1.3018362014014464, -0.3897524354762462, -0.28469569627643276, 0.26189570707558646, -0.9076631525537662, 0.6203535138805666, -0.6186803199969817, 1.1226080642068443, -0.041438635172887366, -0.0022362033056104436, -1.0499832175198893, 0.08986937258436357, 1.3375457246389604, 1.9232171151998751, 1.2514977061012698, -0.010263114481263881, 1.4971556937885246, 0.5715860883089958, 0.19761772066921174, 1.1502304384350708, -0.24098786918618537, -1.6010465710520883, 0.9732937328192726, 0.11160359753779947, 0.32197195249841265, 0.30358682957964434, 0.40859502431711464, 0.6193062029177665, -0.4755616450031329, -1.0241841009392374, -0.10086891983338513, 0.754866747209579, 0.06900528817558078, -0.24279306917070723, 1.0348185228210516, -0.3958072182103754, -0.2877736157815689, 1.8262614760763645, 0.6560796576224647, 0.6039936134209548, 0.13811643849623192, 0.6169996082287618, -0.4388003603691258, 0.0857953494782665, 0.06263204663463057, 1.9136188883998924, -2.1038091801398306, -0.5031598748343795, -0.499738792228652, 0.3442035464303753, -1.2225361345294794, -0.22793921626844366, 0.5262130361354909, -0.010912344260437948, 2.2298919035757816, -1.444058305089868, -1.1316461333814778, 0.3933956396359092, -0.8704396282469317, -0.20553795675791134, -0.08867481958175209, -1.1172775865956317, -1.5260076855104778, -1.7467581009661328, -1.0664288474904873, 1.9150131279839857, 0.7683469110544034, 2.00607805679846, 1.8580914663696646, 1.9062502131655201, 0.03580593006324525, -0.6555706026085864, -1.1089797545764777, 0.8329301907539098, 0.8284039642458526, -1.1789468559824925, 0.7518735549022194, 1.0952234728205141, -0.3779764711785572, -0.9265655021956508, -0.9553992513910263, -0.38587972952013033, -0.6838345119123879, -0.43684706995405886, -0.4081057994560073, -1.5156425658958605, -0.575082296862586, -1.9415192419502305, 0.6216142225912914, -0.17327214911462618, 0.41144632474130993, 0.15372200990299822, -0.6157231774320628, 0.5240625234153609, -0.9920542569293624, -0.1510296013533493, -0.20056562222891014, -0.10335285122129649], \"yaxis\": \"y4\"}, {\"line\": {\"color\": \"rgba(128, 128, 128, 1.0)\", \"dash\": \"solid\", \"shape\": \"linear\", \"width\": 1.3}, \"marker\": {\"size\": 2, \"symbol\": \"circle\"}, \"mode\": \"markers\", \"name\": \"B\", \"text\": \"\", \"type\": \"scatter\", \"x\": [-1.1297355996644, -0.7378182431367298, 1.3018362014014464, -0.3897524354762462, -0.28469569627643276, 0.26189570707558646, -0.9076631525537662, 0.6203535138805666, -0.6186803199969817, 1.1226080642068443, -0.041438635172887366, -0.0022362033056104436, -1.0499832175198893, 0.08986937258436357, 1.3375457246389604, 1.9232171151998751, 1.2514977061012698, -0.010263114481263881, 1.4971556937885246, 0.5715860883089958, 0.19761772066921174, 1.1502304384350708, -0.24098786918618537, -1.6010465710520883, 0.9732937328192726, 0.11160359753779947, 0.32197195249841265, 0.30358682957964434, 0.40859502431711464, 0.6193062029177665, -0.4755616450031329, -1.0241841009392374, -0.10086891983338513, 0.754866747209579, 0.06900528817558078, -0.24279306917070723, 1.0348185228210516, -0.3958072182103754, -0.2877736157815689, 1.8262614760763645, 0.6560796576224647, 0.6039936134209548, 0.13811643849623192, 0.6169996082287618, -0.4388003603691258, 0.0857953494782665, 0.06263204663463057, 1.9136188883998924, -2.1038091801398306, -0.5031598748343795, -0.499738792228652, 0.3442035464303753, -1.2225361345294794, -0.22793921626844366, 0.5262130361354909, -0.010912344260437948, 2.2298919035757816, -1.444058305089868, -1.1316461333814778, 0.3933956396359092, -0.8704396282469317, -0.20553795675791134, -0.08867481958175209, -1.1172775865956317, -1.5260076855104778, -1.7467581009661328, -1.0664288474904873, 1.9150131279839857, 0.7683469110544034, 2.00607805679846, 1.8580914663696646, 1.9062502131655201, 0.03580593006324525, -0.6555706026085864, -1.1089797545764777, 0.8329301907539098, 0.8284039642458526, -1.1789468559824925, 0.7518735549022194, 1.0952234728205141, -0.3779764711785572, -0.9265655021956508, -0.9553992513910263, -0.38587972952013033, -0.6838345119123879, -0.43684706995405886, -0.4081057994560073, -1.5156425658958605, -0.575082296862586, -1.9415192419502305, 0.6216142225912914, -0.17327214911462618, 0.41144632474130993, 0.15372200990299822, -0.6157231774320628, 0.5240625234153609, -0.9920542569293624, -0.1510296013533493, -0.20056562222891014, -0.10335285122129649], \"xaxis\": \"x5\", \"y\": [-0.1635062728202632, -0.9756447904649324, 0.4357492211576944, 0.051226001530410986, 1.6194609778186286, -0.2614992416979577, -0.503056959460743, -0.13993298480476804, 0.4728179839113631, 0.53389506015398, 0.04175052703734408, -0.07721058388948895, -1.225800753883539, 0.8171131199268552, 0.271335570828907, -0.6148593154348182, -2.5442148291754667, -1.7782906353324925, 0.1356671690464854, 0.5537287920898528, -1.9714030383810386, 0.21204671141656967, -0.49986516306652934, 1.1605986854994819, -0.15289830668798166, 0.868679639924568, -0.5327690147279569, 0.38676522371752736, -0.697783301263672, 2.729615807039255, -0.44168975575870933, -0.8975405797564469, 1.156250284244023, 0.18372610275768578, 0.22028435577067737, -2.0445273482561723, -1.2705850191721542, -1.4398853748138425, -0.5164216605007113, -0.8766005893127831, -0.20189795216579856, -0.63168004490542, -0.10625317572230386, 0.06570462032791533, -0.3306030709977983, -1.1066179005719434, -1.8001592887010398, -1.2464956160103438, 1.412558001616313, 0.7263817448765412, -0.674821902689123, 0.13863430885397565, 0.8131652940034697, -1.8446556023227498, -0.3991970389101511, -1.6061316037339424, -0.3895083198515032, 0.9956640976917002, -0.09581646337107551, 0.5003441799337934, 0.4412554563299149, -1.2186611487320202, -0.6603496496066004, -1.3840238128032634, -1.279561508367783, 0.8242627049250715, 0.6066034035416791, -0.3129127244834932, 0.7439229469840886, -0.09075013988002041, -0.31059118918465206, -0.6998974552396815, -1.4718276518213624, 0.9598030326043391, -0.08470576393901538, -1.6271765054338334, 0.10367717536539334, 1.2481090029334017, -1.3083436514057565, 0.9001700007453994, 0.3191804389519386, -1.216318060061043, 0.6960767879130475, -0.10206427976470202, -1.0295841917882045, -0.3919692938644334, -0.004198236309692963, -2.7629842618099905, 1.2332621129863932, 0.3392732764281834, -0.6057250793486275, -0.049403623228994324, -1.1140335648259374, 1.1227986792321807, 0.7647722049015698, 0.23076529128221307, 0.025538967609587467, 1.0284112692058112, -0.11467294290964382, -0.5103834221495227], \"yaxis\": \"y5\"}, {\"histfunc\": \"count\", \"histnorm\": \"\", \"marker\": {\"color\": \"rgba(55, 128, 191, 1.0)\", \"line\": {\"color\": \"#4D5663\", \"width\": 1.3}}, \"name\": \"B\", \"nbinsx\": 10, \"opacity\": 0.8, \"orientation\": \"v\", \"type\": \"histogram\", \"x\": [-0.1635062728202632, -0.9756447904649324, 0.4357492211576944, 0.051226001530410986, 1.6194609778186286, -0.2614992416979577, -0.503056959460743, -0.13993298480476804, 0.4728179839113631, 0.53389506015398, 0.04175052703734408, -0.07721058388948895, -1.225800753883539, 0.8171131199268552, 0.271335570828907, -0.6148593154348182, -2.5442148291754667, -1.7782906353324925, 0.1356671690464854, 0.5537287920898528, -1.9714030383810386, 0.21204671141656967, -0.49986516306652934, 1.1605986854994819, -0.15289830668798166, 0.868679639924568, -0.5327690147279569, 0.38676522371752736, -0.697783301263672, 2.729615807039255, -0.44168975575870933, -0.8975405797564469, 1.156250284244023, 0.18372610275768578, 0.22028435577067737, -2.0445273482561723, -1.2705850191721542, -1.4398853748138425, -0.5164216605007113, -0.8766005893127831, -0.20189795216579856, -0.63168004490542, -0.10625317572230386, 0.06570462032791533, -0.3306030709977983, -1.1066179005719434, -1.8001592887010398, -1.2464956160103438, 1.412558001616313, 0.7263817448765412, -0.674821902689123, 0.13863430885397565, 0.8131652940034697, -1.8446556023227498, -0.3991970389101511, -1.6061316037339424, -0.3895083198515032, 0.9956640976917002, -0.09581646337107551, 0.5003441799337934, 0.4412554563299149, -1.2186611487320202, -0.6603496496066004, -1.3840238128032634, -1.279561508367783, 0.8242627049250715, 0.6066034035416791, -0.3129127244834932, 0.7439229469840886, -0.09075013988002041, -0.31059118918465206, -0.6998974552396815, -1.4718276518213624, 0.9598030326043391, -0.08470576393901538, -1.6271765054338334, 0.10367717536539334, 1.2481090029334017, -1.3083436514057565, 0.9001700007453994, 0.3191804389519386, -1.216318060061043, 0.6960767879130475, -0.10206427976470202, -1.0295841917882045, -0.3919692938644334, -0.004198236309692963, -2.7629842618099905, 1.2332621129863932, 0.3392732764281834, -0.6057250793486275, -0.049403623228994324, -1.1140335648259374, 1.1227986792321807, 0.7647722049015698, 0.23076529128221307, 0.025538967609587467, 1.0284112692058112, -0.11467294290964382, -0.5103834221495227], \"xaxis\": \"x6\", \"yaxis\": \"y6\"}, {\"line\": {\"color\": \"rgba(128, 128, 128, 1.0)\", \"dash\": \"solid\", \"shape\": \"linear\", \"width\": 1.3}, \"marker\": {\"size\": 2, \"symbol\": \"circle\"}, \"mode\": \"markers\", \"name\": \"B\", \"text\": \"\", \"type\": \"scatter\", \"x\": [0.11283031733277957, -1.361284331583743, 0.25994077605414034, 0.38959313337602264, 0.13067355807753492, 0.3227772997051113, -0.3046470317405729, 0.21262946711523859, -0.18545062372845666, 1.408158740699216, 0.832127306043445, 0.7233007298027437, 2.592076750966838, 0.4372835915750651, 1.0456009503869577, -0.10896717671709816, 0.5122037431260221, -0.11337424244070682, -0.7816781259696549, -0.4100948706532913, 0.6964057941366105, 0.36746904732545255, -0.7502410991693306, -1.0213807432442694, -0.7823211617714393, -0.18050238898936574, 1.3475391164944077, -2.017613664525537, -0.914340212487567, 1.0542539063755882, -0.09706941869315856, -1.456721538503752, -0.11545419654006604, -2.1554219970003645, -0.6276875313672381, 1.124724482266114, 1.5456975734686016, 1.8764227506584508, -0.20510093769002238, -1.7060295671555399, 0.04431171538660458, 0.39403894117897614, -0.6869783121433457, 1.455839617849644, 0.06230447079335637, -0.30023939732847216, 0.14011200080170352, -0.3645626613083884, -1.1516877616101877, 1.541246158404446, 1.0331106872251201, 0.7921891009532842, 1.6783110772135967, -0.8766331742460747, 1.0235203320321027, 0.701960141685297, 0.7651104002675053, 0.5194243998661789, 0.30918233746190904, -0.546190774839706, -0.5142471808977173, -0.42462565450019113, 1.2952996037607194, -0.8970588287044531, -0.5464663004065007, 0.6413825063548994, 0.9477350178116315, -0.37901231911871874, -0.045400287048320546, 0.7943838281320083, 1.073353768930085, 0.16043169392409934, -0.4782821328775109, 0.2736732512409374, 1.1342637312186539, 1.1826436526758746, -0.280696984045084, 0.48787177121146336, -0.09653893055785567, -0.056911694205144005, 0.24506678305677007, -0.6880268658655267, 0.24297960194793905, 0.6896351516203121, -0.539824561709622, -2.3216199349649096, -0.39180850198850914, 0.3185777920876068, 1.5758023687870821, 0.3083559696896942, 0.9189071123950201, -0.17972585672602343, -0.39014446888607557, 0.5334723758838263, 0.5790713350650735, -0.035620542072960774, -0.3301452792602241, -1.2618270450203632, -0.27439773322073563, -0.9688992149707151], \"xaxis\": \"x7\", \"y\": [-0.1635062728202632, -0.9756447904649324, 0.4357492211576944, 0.051226001530410986, 1.6194609778186286, -0.2614992416979577, -0.503056959460743, -0.13993298480476804, 0.4728179839113631, 0.53389506015398, 0.04175052703734408, -0.07721058388948895, -1.225800753883539, 0.8171131199268552, 0.271335570828907, -0.6148593154348182, -2.5442148291754667, -1.7782906353324925, 0.1356671690464854, 0.5537287920898528, -1.9714030383810386, 0.21204671141656967, -0.49986516306652934, 1.1605986854994819, -0.15289830668798166, 0.868679639924568, -0.5327690147279569, 0.38676522371752736, -0.697783301263672, 2.729615807039255, -0.44168975575870933, -0.8975405797564469, 1.156250284244023, 0.18372610275768578, 0.22028435577067737, -2.0445273482561723, -1.2705850191721542, -1.4398853748138425, -0.5164216605007113, -0.8766005893127831, -0.20189795216579856, -0.63168004490542, -0.10625317572230386, 0.06570462032791533, -0.3306030709977983, -1.1066179005719434, -1.8001592887010398, -1.2464956160103438, 1.412558001616313, 0.7263817448765412, -0.674821902689123, 0.13863430885397565, 0.8131652940034697, -1.8446556023227498, -0.3991970389101511, -1.6061316037339424, -0.3895083198515032, 0.9956640976917002, -0.09581646337107551, 0.5003441799337934, 0.4412554563299149, -1.2186611487320202, -0.6603496496066004, -1.3840238128032634, -1.279561508367783, 0.8242627049250715, 0.6066034035416791, -0.3129127244834932, 0.7439229469840886, -0.09075013988002041, -0.31059118918465206, -0.6998974552396815, -1.4718276518213624, 0.9598030326043391, -0.08470576393901538, -1.6271765054338334, 0.10367717536539334, 1.2481090029334017, -1.3083436514057565, 0.9001700007453994, 0.3191804389519386, -1.216318060061043, 0.6960767879130475, -0.10206427976470202, -1.0295841917882045, -0.3919692938644334, -0.004198236309692963, -2.7629842618099905, 1.2332621129863932, 0.3392732764281834, -0.6057250793486275, -0.049403623228994324, -1.1140335648259374, 1.1227986792321807, 0.7647722049015698, 0.23076529128221307, 0.025538967609587467, 1.0284112692058112, -0.11467294290964382, -0.5103834221495227], \"yaxis\": \"y7\"}, {\"line\": {\"color\": \"rgba(128, 128, 128, 1.0)\", \"dash\": \"solid\", \"shape\": \"linear\", \"width\": 1.3}, \"marker\": {\"size\": 2, \"symbol\": \"circle\"}, \"mode\": \"markers\", \"name\": \"B\", \"text\": \"\", \"type\": \"scatter\", \"x\": [0.7118018274434779, -1.2870065882504182, -0.4916580493491787, -1.9044308590692947, 0.44351772033203785, -0.8273690155867319, -0.26055125217240704, 0.018141216394656854, 0.11008597289630066, -0.1295995451203634, -2.5910847329063196, -1.0429374286137294, -0.933194717655079, 1.1730632159410679, -1.5634474725013752, 0.06124450115994435, -2.462283503795632, -1.086247491879777, 0.5115129683238252, 1.4778568005223898, 1.5159370360629094, 0.38734606585622705, -0.6482415702654734, 0.4706369698418316, -0.8506092686698958, -0.5657587648336501, 0.6424211253349936, -0.6301938372710957, 0.779597094268482, -0.11736811855957255, -1.1240759278650072, -0.4249470969787539, 1.2564408229880317, 0.7504260227702606, 1.0437309096416023, 0.7993057618778631, -0.9549154584512836, 1.5346625194776453, 1.3141321896443987, -1.7241038422728823, -2.3547881946364266, 0.1938604385221901, 0.20773629690488585, 0.167229442949951, 0.31955325724674877, -0.7544148858212423, 1.1332089519520134, 0.07994626035589668, -0.49874884575035905, 0.18123275411143955, -0.395156698520691, -0.7627582584708325, 1.8655137740278986, 1.9835988187756877, 0.21617851924165346, 1.9078703451033887, -1.2088955789444449, 0.24520916592393158, -0.6695956520006487, -0.5289167647520208, -0.9663802562480689, 1.6507113606508885, 0.6877752606098776, -0.4295743594399312, 0.3336637707572907, -0.034684490378471634, -1.8849000567154173, -0.3888386615121982, -0.438519674648204, -1.5140712445326898, 0.29645004668549324, -0.020518771653509488, 0.24340253185014743, 0.5272517935508056, 0.20093651389213774, -0.681284626436085, 1.991433431106185, -0.23803286285355918, -0.9082058481785367, -0.9479342716163699, 0.09453027478112576, -0.14206289950205084, 1.8876158338669904, 0.14435770629035993, -0.10557615886304807, -0.7722511756395839, 0.5595579954963263, 0.03796416430661692, -2.305640382010492, 0.40141186801845913, 1.9559216264785575, 0.3282349006818968, 1.2497863794369466, -1.4249720497809808, -0.6708144248867455, -0.7315669636364406, -1.162681731855504, 0.8598682003782712, 1.612239177726746, 0.378354468322111], \"xaxis\": \"x8\", \"y\": [-0.1635062728202632, -0.9756447904649324, 0.4357492211576944, 0.051226001530410986, 1.6194609778186286, -0.2614992416979577, -0.503056959460743, -0.13993298480476804, 0.4728179839113631, 0.53389506015398, 0.04175052703734408, -0.07721058388948895, -1.225800753883539, 0.8171131199268552, 0.271335570828907, -0.6148593154348182, -2.5442148291754667, -1.7782906353324925, 0.1356671690464854, 0.5537287920898528, -1.9714030383810386, 0.21204671141656967, -0.49986516306652934, 1.1605986854994819, -0.15289830668798166, 0.868679639924568, -0.5327690147279569, 0.38676522371752736, -0.697783301263672, 2.729615807039255, -0.44168975575870933, -0.8975405797564469, 1.156250284244023, 0.18372610275768578, 0.22028435577067737, -2.0445273482561723, -1.2705850191721542, -1.4398853748138425, -0.5164216605007113, -0.8766005893127831, -0.20189795216579856, -0.63168004490542, -0.10625317572230386, 0.06570462032791533, -0.3306030709977983, -1.1066179005719434, -1.8001592887010398, -1.2464956160103438, 1.412558001616313, 0.7263817448765412, -0.674821902689123, 0.13863430885397565, 0.8131652940034697, -1.8446556023227498, -0.3991970389101511, -1.6061316037339424, -0.3895083198515032, 0.9956640976917002, -0.09581646337107551, 0.5003441799337934, 0.4412554563299149, -1.2186611487320202, -0.6603496496066004, -1.3840238128032634, -1.279561508367783, 0.8242627049250715, 0.6066034035416791, -0.3129127244834932, 0.7439229469840886, -0.09075013988002041, -0.31059118918465206, -0.6998974552396815, -1.4718276518213624, 0.9598030326043391, -0.08470576393901538, -1.6271765054338334, 0.10367717536539334, 1.2481090029334017, -1.3083436514057565, 0.9001700007453994, 0.3191804389519386, -1.216318060061043, 0.6960767879130475, -0.10206427976470202, -1.0295841917882045, -0.3919692938644334, -0.004198236309692963, -2.7629842618099905, 1.2332621129863932, 0.3392732764281834, -0.6057250793486275, -0.049403623228994324, -1.1140335648259374, 1.1227986792321807, 0.7647722049015698, 0.23076529128221307, 0.025538967609587467, 1.0284112692058112, -0.11467294290964382, -0.5103834221495227], \"yaxis\": \"y8\"}, {\"line\": {\"color\": \"rgba(128, 128, 128, 1.0)\", \"dash\": \"solid\", \"shape\": \"linear\", \"width\": 1.3}, \"marker\": {\"size\": 2, \"symbol\": \"circle\"}, \"mode\": \"markers\", \"name\": \"C\", \"text\": \"\", \"type\": \"scatter\", \"x\": [-1.1297355996644, -0.7378182431367298, 1.3018362014014464, -0.3897524354762462, -0.28469569627643276, 0.26189570707558646, -0.9076631525537662, 0.6203535138805666, -0.6186803199969817, 1.1226080642068443, -0.041438635172887366, -0.0022362033056104436, -1.0499832175198893, 0.08986937258436357, 1.3375457246389604, 1.9232171151998751, 1.2514977061012698, -0.010263114481263881, 1.4971556937885246, 0.5715860883089958, 0.19761772066921174, 1.1502304384350708, -0.24098786918618537, -1.6010465710520883, 0.9732937328192726, 0.11160359753779947, 0.32197195249841265, 0.30358682957964434, 0.40859502431711464, 0.6193062029177665, -0.4755616450031329, -1.0241841009392374, -0.10086891983338513, 0.754866747209579, 0.06900528817558078, -0.24279306917070723, 1.0348185228210516, -0.3958072182103754, -0.2877736157815689, 1.8262614760763645, 0.6560796576224647, 0.6039936134209548, 0.13811643849623192, 0.6169996082287618, -0.4388003603691258, 0.0857953494782665, 0.06263204663463057, 1.9136188883998924, -2.1038091801398306, -0.5031598748343795, -0.499738792228652, 0.3442035464303753, -1.2225361345294794, -0.22793921626844366, 0.5262130361354909, -0.010912344260437948, 2.2298919035757816, -1.444058305089868, -1.1316461333814778, 0.3933956396359092, -0.8704396282469317, -0.20553795675791134, -0.08867481958175209, -1.1172775865956317, -1.5260076855104778, -1.7467581009661328, -1.0664288474904873, 1.9150131279839857, 0.7683469110544034, 2.00607805679846, 1.8580914663696646, 1.9062502131655201, 0.03580593006324525, -0.6555706026085864, -1.1089797545764777, 0.8329301907539098, 0.8284039642458526, -1.1789468559824925, 0.7518735549022194, 1.0952234728205141, -0.3779764711785572, -0.9265655021956508, -0.9553992513910263, -0.38587972952013033, -0.6838345119123879, -0.43684706995405886, -0.4081057994560073, -1.5156425658958605, -0.575082296862586, -1.9415192419502305, 0.6216142225912914, -0.17327214911462618, 0.41144632474130993, 0.15372200990299822, -0.6157231774320628, 0.5240625234153609, -0.9920542569293624, -0.1510296013533493, -0.20056562222891014, -0.10335285122129649], \"xaxis\": \"x9\", \"y\": [0.11283031733277957, -1.361284331583743, 0.25994077605414034, 0.38959313337602264, 0.13067355807753492, 0.3227772997051113, -0.3046470317405729, 0.21262946711523859, -0.18545062372845666, 1.408158740699216, 0.832127306043445, 0.7233007298027437, 2.592076750966838, 0.4372835915750651, 1.0456009503869577, -0.10896717671709816, 0.5122037431260221, -0.11337424244070682, -0.7816781259696549, -0.4100948706532913, 0.6964057941366105, 0.36746904732545255, -0.7502410991693306, -1.0213807432442694, -0.7823211617714393, -0.18050238898936574, 1.3475391164944077, -2.017613664525537, -0.914340212487567, 1.0542539063755882, -0.09706941869315856, -1.456721538503752, -0.11545419654006604, -2.1554219970003645, -0.6276875313672381, 1.124724482266114, 1.5456975734686016, 1.8764227506584508, -0.20510093769002238, -1.7060295671555399, 0.04431171538660458, 0.39403894117897614, -0.6869783121433457, 1.455839617849644, 0.06230447079335637, -0.30023939732847216, 0.14011200080170352, -0.3645626613083884, -1.1516877616101877, 1.541246158404446, 1.0331106872251201, 0.7921891009532842, 1.6783110772135967, -0.8766331742460747, 1.0235203320321027, 0.701960141685297, 0.7651104002675053, 0.5194243998661789, 0.30918233746190904, -0.546190774839706, -0.5142471808977173, -0.42462565450019113, 1.2952996037607194, -0.8970588287044531, -0.5464663004065007, 0.6413825063548994, 0.9477350178116315, -0.37901231911871874, -0.045400287048320546, 0.7943838281320083, 1.073353768930085, 0.16043169392409934, -0.4782821328775109, 0.2736732512409374, 1.1342637312186539, 1.1826436526758746, -0.280696984045084, 0.48787177121146336, -0.09653893055785567, -0.056911694205144005, 0.24506678305677007, -0.6880268658655267, 0.24297960194793905, 0.6896351516203121, -0.539824561709622, -2.3216199349649096, -0.39180850198850914, 0.3185777920876068, 1.5758023687870821, 0.3083559696896942, 0.9189071123950201, -0.17972585672602343, -0.39014446888607557, 0.5334723758838263, 0.5790713350650735, -0.035620542072960774, -0.3301452792602241, -1.2618270450203632, -0.27439773322073563, -0.9688992149707151], \"yaxis\": \"y9\"}, {\"line\": {\"color\": \"rgba(128, 128, 128, 1.0)\", \"dash\": \"solid\", \"shape\": \"linear\", \"width\": 1.3}, \"marker\": {\"size\": 2, \"symbol\": \"circle\"}, \"mode\": \"markers\", \"name\": \"C\", \"text\": \"\", \"type\": \"scatter\", \"x\": [-0.1635062728202632, -0.9756447904649324, 0.4357492211576944, 0.051226001530410986, 1.6194609778186286, -0.2614992416979577, -0.503056959460743, -0.13993298480476804, 0.4728179839113631, 0.53389506015398, 0.04175052703734408, -0.07721058388948895, -1.225800753883539, 0.8171131199268552, 0.271335570828907, -0.6148593154348182, -2.5442148291754667, -1.7782906353324925, 0.1356671690464854, 0.5537287920898528, -1.9714030383810386, 0.21204671141656967, -0.49986516306652934, 1.1605986854994819, -0.15289830668798166, 0.868679639924568, -0.5327690147279569, 0.38676522371752736, -0.697783301263672, 2.729615807039255, -0.44168975575870933, -0.8975405797564469, 1.156250284244023, 0.18372610275768578, 0.22028435577067737, -2.0445273482561723, -1.2705850191721542, -1.4398853748138425, -0.5164216605007113, -0.8766005893127831, -0.20189795216579856, -0.63168004490542, -0.10625317572230386, 0.06570462032791533, -0.3306030709977983, -1.1066179005719434, -1.8001592887010398, -1.2464956160103438, 1.412558001616313, 0.7263817448765412, -0.674821902689123, 0.13863430885397565, 0.8131652940034697, -1.8446556023227498, -0.3991970389101511, -1.6061316037339424, -0.3895083198515032, 0.9956640976917002, -0.09581646337107551, 0.5003441799337934, 0.4412554563299149, -1.2186611487320202, -0.6603496496066004, -1.3840238128032634, -1.279561508367783, 0.8242627049250715, 0.6066034035416791, -0.3129127244834932, 0.7439229469840886, -0.09075013988002041, -0.31059118918465206, -0.6998974552396815, -1.4718276518213624, 0.9598030326043391, -0.08470576393901538, -1.6271765054338334, 0.10367717536539334, 1.2481090029334017, -1.3083436514057565, 0.9001700007453994, 0.3191804389519386, -1.216318060061043, 0.6960767879130475, -0.10206427976470202, -1.0295841917882045, -0.3919692938644334, -0.004198236309692963, -2.7629842618099905, 1.2332621129863932, 0.3392732764281834, -0.6057250793486275, -0.049403623228994324, -1.1140335648259374, 1.1227986792321807, 0.7647722049015698, 0.23076529128221307, 0.025538967609587467, 1.0284112692058112, -0.11467294290964382, -0.5103834221495227], \"xaxis\": \"x10\", \"y\": [0.11283031733277957, -1.361284331583743, 0.25994077605414034, 0.38959313337602264, 0.13067355807753492, 0.3227772997051113, -0.3046470317405729, 0.21262946711523859, -0.18545062372845666, 1.408158740699216, 0.832127306043445, 0.7233007298027437, 2.592076750966838, 0.4372835915750651, 1.0456009503869577, -0.10896717671709816, 0.5122037431260221, -0.11337424244070682, -0.7816781259696549, -0.4100948706532913, 0.6964057941366105, 0.36746904732545255, -0.7502410991693306, -1.0213807432442694, -0.7823211617714393, -0.18050238898936574, 1.3475391164944077, -2.017613664525537, -0.914340212487567, 1.0542539063755882, -0.09706941869315856, -1.456721538503752, -0.11545419654006604, -2.1554219970003645, -0.6276875313672381, 1.124724482266114, 1.5456975734686016, 1.8764227506584508, -0.20510093769002238, -1.7060295671555399, 0.04431171538660458, 0.39403894117897614, -0.6869783121433457, 1.455839617849644, 0.06230447079335637, -0.30023939732847216, 0.14011200080170352, -0.3645626613083884, -1.1516877616101877, 1.541246158404446, 1.0331106872251201, 0.7921891009532842, 1.6783110772135967, -0.8766331742460747, 1.0235203320321027, 0.701960141685297, 0.7651104002675053, 0.5194243998661789, 0.30918233746190904, -0.546190774839706, -0.5142471808977173, -0.42462565450019113, 1.2952996037607194, -0.8970588287044531, -0.5464663004065007, 0.6413825063548994, 0.9477350178116315, -0.37901231911871874, -0.045400287048320546, 0.7943838281320083, 1.073353768930085, 0.16043169392409934, -0.4782821328775109, 0.2736732512409374, 1.1342637312186539, 1.1826436526758746, -0.280696984045084, 0.48787177121146336, -0.09653893055785567, -0.056911694205144005, 0.24506678305677007, -0.6880268658655267, 0.24297960194793905, 0.6896351516203121, -0.539824561709622, -2.3216199349649096, -0.39180850198850914, 0.3185777920876068, 1.5758023687870821, 0.3083559696896942, 0.9189071123950201, -0.17972585672602343, -0.39014446888607557, 0.5334723758838263, 0.5790713350650735, -0.035620542072960774, -0.3301452792602241, -1.2618270450203632, -0.27439773322073563, -0.9688992149707151], \"yaxis\": \"y10\"}, {\"histfunc\": \"count\", \"histnorm\": \"\", \"marker\": {\"color\": \"rgba(50, 171, 96, 1.0)\", \"line\": {\"color\": \"#4D5663\", \"width\": 1.3}}, \"name\": \"C\", \"nbinsx\": 10, \"opacity\": 0.8, \"orientation\": \"v\", \"type\": \"histogram\", \"x\": [0.11283031733277957, -1.361284331583743, 0.25994077605414034, 0.38959313337602264, 0.13067355807753492, 0.3227772997051113, -0.3046470317405729, 0.21262946711523859, -0.18545062372845666, 1.408158740699216, 0.832127306043445, 0.7233007298027437, 2.592076750966838, 0.4372835915750651, 1.0456009503869577, -0.10896717671709816, 0.5122037431260221, -0.11337424244070682, -0.7816781259696549, -0.4100948706532913, 0.6964057941366105, 0.36746904732545255, -0.7502410991693306, -1.0213807432442694, -0.7823211617714393, -0.18050238898936574, 1.3475391164944077, -2.017613664525537, -0.914340212487567, 1.0542539063755882, -0.09706941869315856, -1.456721538503752, -0.11545419654006604, -2.1554219970003645, -0.6276875313672381, 1.124724482266114, 1.5456975734686016, 1.8764227506584508, -0.20510093769002238, -1.7060295671555399, 0.04431171538660458, 0.39403894117897614, -0.6869783121433457, 1.455839617849644, 0.06230447079335637, -0.30023939732847216, 0.14011200080170352, -0.3645626613083884, -1.1516877616101877, 1.541246158404446, 1.0331106872251201, 0.7921891009532842, 1.6783110772135967, -0.8766331742460747, 1.0235203320321027, 0.701960141685297, 0.7651104002675053, 0.5194243998661789, 0.30918233746190904, -0.546190774839706, -0.5142471808977173, -0.42462565450019113, 1.2952996037607194, -0.8970588287044531, -0.5464663004065007, 0.6413825063548994, 0.9477350178116315, -0.37901231911871874, -0.045400287048320546, 0.7943838281320083, 1.073353768930085, 0.16043169392409934, -0.4782821328775109, 0.2736732512409374, 1.1342637312186539, 1.1826436526758746, -0.280696984045084, 0.48787177121146336, -0.09653893055785567, -0.056911694205144005, 0.24506678305677007, -0.6880268658655267, 0.24297960194793905, 0.6896351516203121, -0.539824561709622, -2.3216199349649096, -0.39180850198850914, 0.3185777920876068, 1.5758023687870821, 0.3083559696896942, 0.9189071123950201, -0.17972585672602343, -0.39014446888607557, 0.5334723758838263, 0.5790713350650735, -0.035620542072960774, -0.3301452792602241, -1.2618270450203632, -0.27439773322073563, -0.9688992149707151], \"xaxis\": \"x11\", \"yaxis\": \"y11\"}, {\"line\": {\"color\": \"rgba(128, 128, 128, 1.0)\", \"dash\": \"solid\", \"shape\": \"linear\", \"width\": 1.3}, \"marker\": {\"size\": 2, \"symbol\": \"circle\"}, \"mode\": \"markers\", \"name\": \"C\", \"text\": \"\", \"type\": \"scatter\", \"x\": [0.7118018274434779, -1.2870065882504182, -0.4916580493491787, -1.9044308590692947, 0.44351772033203785, -0.8273690155867319, -0.26055125217240704, 0.018141216394656854, 0.11008597289630066, -0.1295995451203634, -2.5910847329063196, -1.0429374286137294, -0.933194717655079, 1.1730632159410679, -1.5634474725013752, 0.06124450115994435, -2.462283503795632, -1.086247491879777, 0.5115129683238252, 1.4778568005223898, 1.5159370360629094, 0.38734606585622705, -0.6482415702654734, 0.4706369698418316, -0.8506092686698958, -0.5657587648336501, 0.6424211253349936, -0.6301938372710957, 0.779597094268482, -0.11736811855957255, -1.1240759278650072, -0.4249470969787539, 1.2564408229880317, 0.7504260227702606, 1.0437309096416023, 0.7993057618778631, -0.9549154584512836, 1.5346625194776453, 1.3141321896443987, -1.7241038422728823, -2.3547881946364266, 0.1938604385221901, 0.20773629690488585, 0.167229442949951, 0.31955325724674877, -0.7544148858212423, 1.1332089519520134, 0.07994626035589668, -0.49874884575035905, 0.18123275411143955, -0.395156698520691, -0.7627582584708325, 1.8655137740278986, 1.9835988187756877, 0.21617851924165346, 1.9078703451033887, -1.2088955789444449, 0.24520916592393158, -0.6695956520006487, -0.5289167647520208, -0.9663802562480689, 1.6507113606508885, 0.6877752606098776, -0.4295743594399312, 0.3336637707572907, -0.034684490378471634, -1.8849000567154173, -0.3888386615121982, -0.438519674648204, -1.5140712445326898, 0.29645004668549324, -0.020518771653509488, 0.24340253185014743, 0.5272517935508056, 0.20093651389213774, -0.681284626436085, 1.991433431106185, -0.23803286285355918, -0.9082058481785367, -0.9479342716163699, 0.09453027478112576, -0.14206289950205084, 1.8876158338669904, 0.14435770629035993, -0.10557615886304807, -0.7722511756395839, 0.5595579954963263, 0.03796416430661692, -2.305640382010492, 0.40141186801845913, 1.9559216264785575, 0.3282349006818968, 1.2497863794369466, -1.4249720497809808, -0.6708144248867455, -0.7315669636364406, -1.162681731855504, 0.8598682003782712, 1.612239177726746, 0.378354468322111], \"xaxis\": \"x12\", \"y\": [0.11283031733277957, -1.361284331583743, 0.25994077605414034, 0.38959313337602264, 0.13067355807753492, 0.3227772997051113, -0.3046470317405729, 0.21262946711523859, -0.18545062372845666, 1.408158740699216, 0.832127306043445, 0.7233007298027437, 2.592076750966838, 0.4372835915750651, 1.0456009503869577, -0.10896717671709816, 0.5122037431260221, -0.11337424244070682, -0.7816781259696549, -0.4100948706532913, 0.6964057941366105, 0.36746904732545255, -0.7502410991693306, -1.0213807432442694, -0.7823211617714393, -0.18050238898936574, 1.3475391164944077, -2.017613664525537, -0.914340212487567, 1.0542539063755882, -0.09706941869315856, -1.456721538503752, -0.11545419654006604, -2.1554219970003645, -0.6276875313672381, 1.124724482266114, 1.5456975734686016, 1.8764227506584508, -0.20510093769002238, -1.7060295671555399, 0.04431171538660458, 0.39403894117897614, -0.6869783121433457, 1.455839617849644, 0.06230447079335637, -0.30023939732847216, 0.14011200080170352, -0.3645626613083884, -1.1516877616101877, 1.541246158404446, 1.0331106872251201, 0.7921891009532842, 1.6783110772135967, -0.8766331742460747, 1.0235203320321027, 0.701960141685297, 0.7651104002675053, 0.5194243998661789, 0.30918233746190904, -0.546190774839706, -0.5142471808977173, -0.42462565450019113, 1.2952996037607194, -0.8970588287044531, -0.5464663004065007, 0.6413825063548994, 0.9477350178116315, -0.37901231911871874, -0.045400287048320546, 0.7943838281320083, 1.073353768930085, 0.16043169392409934, -0.4782821328775109, 0.2736732512409374, 1.1342637312186539, 1.1826436526758746, -0.280696984045084, 0.48787177121146336, -0.09653893055785567, -0.056911694205144005, 0.24506678305677007, -0.6880268658655267, 0.24297960194793905, 0.6896351516203121, -0.539824561709622, -2.3216199349649096, -0.39180850198850914, 0.3185777920876068, 1.5758023687870821, 0.3083559696896942, 0.9189071123950201, -0.17972585672602343, -0.39014446888607557, 0.5334723758838263, 0.5790713350650735, -0.035620542072960774, -0.3301452792602241, -1.2618270450203632, -0.27439773322073563, -0.9688992149707151], \"yaxis\": \"y12\"}, {\"line\": {\"color\": \"rgba(128, 128, 128, 1.0)\", \"dash\": \"solid\", \"shape\": \"linear\", \"width\": 1.3}, \"marker\": {\"size\": 2, \"symbol\": \"circle\"}, \"mode\": \"markers\", \"name\": \"D\", \"text\": \"\", \"type\": \"scatter\", \"x\": [-1.1297355996644, -0.7378182431367298, 1.3018362014014464, -0.3897524354762462, -0.28469569627643276, 0.26189570707558646, -0.9076631525537662, 0.6203535138805666, -0.6186803199969817, 1.1226080642068443, -0.041438635172887366, -0.0022362033056104436, -1.0499832175198893, 0.08986937258436357, 1.3375457246389604, 1.9232171151998751, 1.2514977061012698, -0.010263114481263881, 1.4971556937885246, 0.5715860883089958, 0.19761772066921174, 1.1502304384350708, -0.24098786918618537, -1.6010465710520883, 0.9732937328192726, 0.11160359753779947, 0.32197195249841265, 0.30358682957964434, 0.40859502431711464, 0.6193062029177665, -0.4755616450031329, -1.0241841009392374, -0.10086891983338513, 0.754866747209579, 0.06900528817558078, -0.24279306917070723, 1.0348185228210516, -0.3958072182103754, -0.2877736157815689, 1.8262614760763645, 0.6560796576224647, 0.6039936134209548, 0.13811643849623192, 0.6169996082287618, -0.4388003603691258, 0.0857953494782665, 0.06263204663463057, 1.9136188883998924, -2.1038091801398306, -0.5031598748343795, -0.499738792228652, 0.3442035464303753, -1.2225361345294794, -0.22793921626844366, 0.5262130361354909, -0.010912344260437948, 2.2298919035757816, -1.444058305089868, -1.1316461333814778, 0.3933956396359092, -0.8704396282469317, -0.20553795675791134, -0.08867481958175209, -1.1172775865956317, -1.5260076855104778, -1.7467581009661328, -1.0664288474904873, 1.9150131279839857, 0.7683469110544034, 2.00607805679846, 1.8580914663696646, 1.9062502131655201, 0.03580593006324525, -0.6555706026085864, -1.1089797545764777, 0.8329301907539098, 0.8284039642458526, -1.1789468559824925, 0.7518735549022194, 1.0952234728205141, -0.3779764711785572, -0.9265655021956508, -0.9553992513910263, -0.38587972952013033, -0.6838345119123879, -0.43684706995405886, -0.4081057994560073, -1.5156425658958605, -0.575082296862586, -1.9415192419502305, 0.6216142225912914, -0.17327214911462618, 0.41144632474130993, 0.15372200990299822, -0.6157231774320628, 0.5240625234153609, -0.9920542569293624, -0.1510296013533493, -0.20056562222891014, -0.10335285122129649], \"xaxis\": \"x13\", \"y\": [0.7118018274434779, -1.2870065882504182, -0.4916580493491787, -1.9044308590692947, 0.44351772033203785, -0.8273690155867319, -0.26055125217240704, 0.018141216394656854, 0.11008597289630066, -0.1295995451203634, -2.5910847329063196, -1.0429374286137294, -0.933194717655079, 1.1730632159410679, -1.5634474725013752, 0.06124450115994435, -2.462283503795632, -1.086247491879777, 0.5115129683238252, 1.4778568005223898, 1.5159370360629094, 0.38734606585622705, -0.6482415702654734, 0.4706369698418316, -0.8506092686698958, -0.5657587648336501, 0.6424211253349936, -0.6301938372710957, 0.779597094268482, -0.11736811855957255, -1.1240759278650072, -0.4249470969787539, 1.2564408229880317, 0.7504260227702606, 1.0437309096416023, 0.7993057618778631, -0.9549154584512836, 1.5346625194776453, 1.3141321896443987, -1.7241038422728823, -2.3547881946364266, 0.1938604385221901, 0.20773629690488585, 0.167229442949951, 0.31955325724674877, -0.7544148858212423, 1.1332089519520134, 0.07994626035589668, -0.49874884575035905, 0.18123275411143955, -0.395156698520691, -0.7627582584708325, 1.8655137740278986, 1.9835988187756877, 0.21617851924165346, 1.9078703451033887, -1.2088955789444449, 0.24520916592393158, -0.6695956520006487, -0.5289167647520208, -0.9663802562480689, 1.6507113606508885, 0.6877752606098776, -0.4295743594399312, 0.3336637707572907, -0.034684490378471634, -1.8849000567154173, -0.3888386615121982, -0.438519674648204, -1.5140712445326898, 0.29645004668549324, -0.020518771653509488, 0.24340253185014743, 0.5272517935508056, 0.20093651389213774, -0.681284626436085, 1.991433431106185, -0.23803286285355918, -0.9082058481785367, -0.9479342716163699, 0.09453027478112576, -0.14206289950205084, 1.8876158338669904, 0.14435770629035993, -0.10557615886304807, -0.7722511756395839, 0.5595579954963263, 0.03796416430661692, -2.305640382010492, 0.40141186801845913, 1.9559216264785575, 0.3282349006818968, 1.2497863794369466, -1.4249720497809808, -0.6708144248867455, -0.7315669636364406, -1.162681731855504, 0.8598682003782712, 1.612239177726746, 0.378354468322111], \"yaxis\": \"y13\"}, {\"line\": {\"color\": \"rgba(128, 128, 128, 1.0)\", \"dash\": \"solid\", \"shape\": \"linear\", \"width\": 1.3}, \"marker\": {\"size\": 2, \"symbol\": \"circle\"}, \"mode\": \"markers\", \"name\": \"D\", \"text\": \"\", \"type\": \"scatter\", \"x\": [-0.1635062728202632, -0.9756447904649324, 0.4357492211576944, 0.051226001530410986, 1.6194609778186286, -0.2614992416979577, -0.503056959460743, -0.13993298480476804, 0.4728179839113631, 0.53389506015398, 0.04175052703734408, -0.07721058388948895, -1.225800753883539, 0.8171131199268552, 0.271335570828907, -0.6148593154348182, -2.5442148291754667, -1.7782906353324925, 0.1356671690464854, 0.5537287920898528, -1.9714030383810386, 0.21204671141656967, -0.49986516306652934, 1.1605986854994819, -0.15289830668798166, 0.868679639924568, -0.5327690147279569, 0.38676522371752736, -0.697783301263672, 2.729615807039255, -0.44168975575870933, -0.8975405797564469, 1.156250284244023, 0.18372610275768578, 0.22028435577067737, -2.0445273482561723, -1.2705850191721542, -1.4398853748138425, -0.5164216605007113, -0.8766005893127831, -0.20189795216579856, -0.63168004490542, -0.10625317572230386, 0.06570462032791533, -0.3306030709977983, -1.1066179005719434, -1.8001592887010398, -1.2464956160103438, 1.412558001616313, 0.7263817448765412, -0.674821902689123, 0.13863430885397565, 0.8131652940034697, -1.8446556023227498, -0.3991970389101511, -1.6061316037339424, -0.3895083198515032, 0.9956640976917002, -0.09581646337107551, 0.5003441799337934, 0.4412554563299149, -1.2186611487320202, -0.6603496496066004, -1.3840238128032634, -1.279561508367783, 0.8242627049250715, 0.6066034035416791, -0.3129127244834932, 0.7439229469840886, -0.09075013988002041, -0.31059118918465206, -0.6998974552396815, -1.4718276518213624, 0.9598030326043391, -0.08470576393901538, -1.6271765054338334, 0.10367717536539334, 1.2481090029334017, -1.3083436514057565, 0.9001700007453994, 0.3191804389519386, -1.216318060061043, 0.6960767879130475, -0.10206427976470202, -1.0295841917882045, -0.3919692938644334, -0.004198236309692963, -2.7629842618099905, 1.2332621129863932, 0.3392732764281834, -0.6057250793486275, -0.049403623228994324, -1.1140335648259374, 1.1227986792321807, 0.7647722049015698, 0.23076529128221307, 0.025538967609587467, 1.0284112692058112, -0.11467294290964382, -0.5103834221495227], \"xaxis\": \"x14\", \"y\": [0.7118018274434779, -1.2870065882504182, -0.4916580493491787, -1.9044308590692947, 0.44351772033203785, -0.8273690155867319, -0.26055125217240704, 0.018141216394656854, 0.11008597289630066, -0.1295995451203634, -2.5910847329063196, -1.0429374286137294, -0.933194717655079, 1.1730632159410679, -1.5634474725013752, 0.06124450115994435, -2.462283503795632, -1.086247491879777, 0.5115129683238252, 1.4778568005223898, 1.5159370360629094, 0.38734606585622705, -0.6482415702654734, 0.4706369698418316, -0.8506092686698958, -0.5657587648336501, 0.6424211253349936, -0.6301938372710957, 0.779597094268482, -0.11736811855957255, -1.1240759278650072, -0.4249470969787539, 1.2564408229880317, 0.7504260227702606, 1.0437309096416023, 0.7993057618778631, -0.9549154584512836, 1.5346625194776453, 1.3141321896443987, -1.7241038422728823, -2.3547881946364266, 0.1938604385221901, 0.20773629690488585, 0.167229442949951, 0.31955325724674877, -0.7544148858212423, 1.1332089519520134, 0.07994626035589668, -0.49874884575035905, 0.18123275411143955, -0.395156698520691, -0.7627582584708325, 1.8655137740278986, 1.9835988187756877, 0.21617851924165346, 1.9078703451033887, -1.2088955789444449, 0.24520916592393158, -0.6695956520006487, -0.5289167647520208, -0.9663802562480689, 1.6507113606508885, 0.6877752606098776, -0.4295743594399312, 0.3336637707572907, -0.034684490378471634, -1.8849000567154173, -0.3888386615121982, -0.438519674648204, -1.5140712445326898, 0.29645004668549324, -0.020518771653509488, 0.24340253185014743, 0.5272517935508056, 0.20093651389213774, -0.681284626436085, 1.991433431106185, -0.23803286285355918, -0.9082058481785367, -0.9479342716163699, 0.09453027478112576, -0.14206289950205084, 1.8876158338669904, 0.14435770629035993, -0.10557615886304807, -0.7722511756395839, 0.5595579954963263, 0.03796416430661692, -2.305640382010492, 0.40141186801845913, 1.9559216264785575, 0.3282349006818968, 1.2497863794369466, -1.4249720497809808, -0.6708144248867455, -0.7315669636364406, -1.162681731855504, 0.8598682003782712, 1.612239177726746, 0.378354468322111], \"yaxis\": \"y14\"}, {\"line\": {\"color\": \"rgba(128, 128, 128, 1.0)\", \"dash\": \"solid\", \"shape\": \"linear\", \"width\": 1.3}, \"marker\": {\"size\": 2, \"symbol\": \"circle\"}, \"mode\": \"markers\", \"name\": \"D\", \"text\": \"\", \"type\": \"scatter\", \"x\": [0.11283031733277957, -1.361284331583743, 0.25994077605414034, 0.38959313337602264, 0.13067355807753492, 0.3227772997051113, -0.3046470317405729, 0.21262946711523859, -0.18545062372845666, 1.408158740699216, 0.832127306043445, 0.7233007298027437, 2.592076750966838, 0.4372835915750651, 1.0456009503869577, -0.10896717671709816, 0.5122037431260221, -0.11337424244070682, -0.7816781259696549, -0.4100948706532913, 0.6964057941366105, 0.36746904732545255, -0.7502410991693306, -1.0213807432442694, -0.7823211617714393, -0.18050238898936574, 1.3475391164944077, -2.017613664525537, -0.914340212487567, 1.0542539063755882, -0.09706941869315856, -1.456721538503752, -0.11545419654006604, -2.1554219970003645, -0.6276875313672381, 1.124724482266114, 1.5456975734686016, 1.8764227506584508, -0.20510093769002238, -1.7060295671555399, 0.04431171538660458, 0.39403894117897614, -0.6869783121433457, 1.455839617849644, 0.06230447079335637, -0.30023939732847216, 0.14011200080170352, -0.3645626613083884, -1.1516877616101877, 1.541246158404446, 1.0331106872251201, 0.7921891009532842, 1.6783110772135967, -0.8766331742460747, 1.0235203320321027, 0.701960141685297, 0.7651104002675053, 0.5194243998661789, 0.30918233746190904, -0.546190774839706, -0.5142471808977173, -0.42462565450019113, 1.2952996037607194, -0.8970588287044531, -0.5464663004065007, 0.6413825063548994, 0.9477350178116315, -0.37901231911871874, -0.045400287048320546, 0.7943838281320083, 1.073353768930085, 0.16043169392409934, -0.4782821328775109, 0.2736732512409374, 1.1342637312186539, 1.1826436526758746, -0.280696984045084, 0.48787177121146336, -0.09653893055785567, -0.056911694205144005, 0.24506678305677007, -0.6880268658655267, 0.24297960194793905, 0.6896351516203121, -0.539824561709622, -2.3216199349649096, -0.39180850198850914, 0.3185777920876068, 1.5758023687870821, 0.3083559696896942, 0.9189071123950201, -0.17972585672602343, -0.39014446888607557, 0.5334723758838263, 0.5790713350650735, -0.035620542072960774, -0.3301452792602241, -1.2618270450203632, -0.27439773322073563, -0.9688992149707151], \"xaxis\": \"x15\", \"y\": [0.7118018274434779, -1.2870065882504182, -0.4916580493491787, -1.9044308590692947, 0.44351772033203785, -0.8273690155867319, -0.26055125217240704, 0.018141216394656854, 0.11008597289630066, -0.1295995451203634, -2.5910847329063196, -1.0429374286137294, -0.933194717655079, 1.1730632159410679, -1.5634474725013752, 0.06124450115994435, -2.462283503795632, -1.086247491879777, 0.5115129683238252, 1.4778568005223898, 1.5159370360629094, 0.38734606585622705, -0.6482415702654734, 0.4706369698418316, -0.8506092686698958, -0.5657587648336501, 0.6424211253349936, -0.6301938372710957, 0.779597094268482, -0.11736811855957255, -1.1240759278650072, -0.4249470969787539, 1.2564408229880317, 0.7504260227702606, 1.0437309096416023, 0.7993057618778631, -0.9549154584512836, 1.5346625194776453, 1.3141321896443987, -1.7241038422728823, -2.3547881946364266, 0.1938604385221901, 0.20773629690488585, 0.167229442949951, 0.31955325724674877, -0.7544148858212423, 1.1332089519520134, 0.07994626035589668, -0.49874884575035905, 0.18123275411143955, -0.395156698520691, -0.7627582584708325, 1.8655137740278986, 1.9835988187756877, 0.21617851924165346, 1.9078703451033887, -1.2088955789444449, 0.24520916592393158, -0.6695956520006487, -0.5289167647520208, -0.9663802562480689, 1.6507113606508885, 0.6877752606098776, -0.4295743594399312, 0.3336637707572907, -0.034684490378471634, -1.8849000567154173, -0.3888386615121982, -0.438519674648204, -1.5140712445326898, 0.29645004668549324, -0.020518771653509488, 0.24340253185014743, 0.5272517935508056, 0.20093651389213774, -0.681284626436085, 1.991433431106185, -0.23803286285355918, -0.9082058481785367, -0.9479342716163699, 0.09453027478112576, -0.14206289950205084, 1.8876158338669904, 0.14435770629035993, -0.10557615886304807, -0.7722511756395839, 0.5595579954963263, 0.03796416430661692, -2.305640382010492, 0.40141186801845913, 1.9559216264785575, 0.3282349006818968, 1.2497863794369466, -1.4249720497809808, -0.6708144248867455, -0.7315669636364406, -1.162681731855504, 0.8598682003782712, 1.612239177726746, 0.378354468322111], \"yaxis\": \"y15\"}, {\"histfunc\": \"count\", \"histnorm\": \"\", \"marker\": {\"color\": \"rgba(128, 0, 128, 1.0)\", \"line\": {\"color\": \"#4D5663\", \"width\": 1.3}}, \"name\": \"D\", \"nbinsx\": 10, \"opacity\": 0.8, \"orientation\": \"v\", \"type\": \"histogram\", \"x\": [0.7118018274434779, -1.2870065882504182, -0.4916580493491787, -1.9044308590692947, 0.44351772033203785, -0.8273690155867319, -0.26055125217240704, 0.018141216394656854, 0.11008597289630066, -0.1295995451203634, -2.5910847329063196, -1.0429374286137294, -0.933194717655079, 1.1730632159410679, -1.5634474725013752, 0.06124450115994435, -2.462283503795632, -1.086247491879777, 0.5115129683238252, 1.4778568005223898, 1.5159370360629094, 0.38734606585622705, -0.6482415702654734, 0.4706369698418316, -0.8506092686698958, -0.5657587648336501, 0.6424211253349936, -0.6301938372710957, 0.779597094268482, -0.11736811855957255, -1.1240759278650072, -0.4249470969787539, 1.2564408229880317, 0.7504260227702606, 1.0437309096416023, 0.7993057618778631, -0.9549154584512836, 1.5346625194776453, 1.3141321896443987, -1.7241038422728823, -2.3547881946364266, 0.1938604385221901, 0.20773629690488585, 0.167229442949951, 0.31955325724674877, -0.7544148858212423, 1.1332089519520134, 0.07994626035589668, -0.49874884575035905, 0.18123275411143955, -0.395156698520691, -0.7627582584708325, 1.8655137740278986, 1.9835988187756877, 0.21617851924165346, 1.9078703451033887, -1.2088955789444449, 0.24520916592393158, -0.6695956520006487, -0.5289167647520208, -0.9663802562480689, 1.6507113606508885, 0.6877752606098776, -0.4295743594399312, 0.3336637707572907, -0.034684490378471634, -1.8849000567154173, -0.3888386615121982, -0.438519674648204, -1.5140712445326898, 0.29645004668549324, -0.020518771653509488, 0.24340253185014743, 0.5272517935508056, 0.20093651389213774, -0.681284626436085, 1.991433431106185, -0.23803286285355918, -0.9082058481785367, -0.9479342716163699, 0.09453027478112576, -0.14206289950205084, 1.8876158338669904, 0.14435770629035993, -0.10557615886304807, -0.7722511756395839, 0.5595579954963263, 0.03796416430661692, -2.305640382010492, 0.40141186801845913, 1.9559216264785575, 0.3282349006818968, 1.2497863794369466, -1.4249720497809808, -0.6708144248867455, -0.7315669636364406, -1.162681731855504, 0.8598682003782712, 1.612239177726746, 0.378354468322111], \"xaxis\": \"x16\", \"yaxis\": \"y16\"}],                        {\"bargap\": 0.02, \"legend\": {\"bgcolor\": \"#F5F6F9\", \"font\": {\"color\": \"#4D5663\"}}, \"paper_bgcolor\": \"#F5F6F9\", \"plot_bgcolor\": \"#F5F6F9\", \"showlegend\": false, \"template\": {\"data\": {\"bar\": [{\"error_x\": {\"color\": \"#2a3f5f\"}, \"error_y\": {\"color\": \"#2a3f5f\"}, \"marker\": {\"line\": {\"color\": \"#E5ECF6\", \"width\": 0.5}}, \"type\": \"bar\"}], \"barpolar\": [{\"marker\": {\"line\": {\"color\": \"#E5ECF6\", \"width\": 0.5}}, \"type\": \"barpolar\"}], \"carpet\": [{\"aaxis\": {\"endlinecolor\": \"#2a3f5f\", \"gridcolor\": \"white\", \"linecolor\": \"white\", \"minorgridcolor\": \"white\", \"startlinecolor\": \"#2a3f5f\"}, \"baxis\": {\"endlinecolor\": \"#2a3f5f\", \"gridcolor\": \"white\", \"linecolor\": \"white\", \"minorgridcolor\": \"white\", \"startlinecolor\": \"#2a3f5f\"}, \"type\": \"carpet\"}], \"choropleth\": [{\"colorbar\": {\"outlinewidth\": 0, \"ticks\": \"\"}, \"type\": \"choropleth\"}], \"contour\": [{\"colorbar\": {\"outlinewidth\": 0, \"ticks\": \"\"}, \"colorscale\": [[0.0, \"#0d0887\"], [0.1111111111111111, \"#46039f\"], [0.2222222222222222, \"#7201a8\"], [0.3333333333333333, \"#9c179e\"], [0.4444444444444444, \"#bd3786\"], [0.5555555555555556, \"#d8576b\"], [0.6666666666666666, \"#ed7953\"], [0.7777777777777778, \"#fb9f3a\"], [0.8888888888888888, \"#fdca26\"], [1.0, \"#f0f921\"]], \"type\": \"contour\"}], \"contourcarpet\": [{\"colorbar\": {\"outlinewidth\": 0, \"ticks\": \"\"}, \"type\": \"contourcarpet\"}], \"heatmap\": [{\"colorbar\": {\"outlinewidth\": 0, \"ticks\": \"\"}, \"colorscale\": [[0.0, \"#0d0887\"], [0.1111111111111111, \"#46039f\"], [0.2222222222222222, \"#7201a8\"], [0.3333333333333333, \"#9c179e\"], [0.4444444444444444, \"#bd3786\"], [0.5555555555555556, \"#d8576b\"], [0.6666666666666666, \"#ed7953\"], [0.7777777777777778, \"#fb9f3a\"], [0.8888888888888888, \"#fdca26\"], [1.0, \"#f0f921\"]], \"type\": \"heatmap\"}], \"heatmapgl\": [{\"colorbar\": {\"outlinewidth\": 0, \"ticks\": \"\"}, \"colorscale\": [[0.0, \"#0d0887\"], [0.1111111111111111, \"#46039f\"], [0.2222222222222222, \"#7201a8\"], [0.3333333333333333, \"#9c179e\"], [0.4444444444444444, \"#bd3786\"], [0.5555555555555556, \"#d8576b\"], [0.6666666666666666, \"#ed7953\"], [0.7777777777777778, \"#fb9f3a\"], [0.8888888888888888, \"#fdca26\"], [1.0, \"#f0f921\"]], \"type\": \"heatmapgl\"}], \"histogram\": [{\"marker\": {\"colorbar\": {\"outlinewidth\": 0, \"ticks\": \"\"}}, \"type\": \"histogram\"}], \"histogram2d\": [{\"colorbar\": {\"outlinewidth\": 0, \"ticks\": \"\"}, \"colorscale\": [[0.0, \"#0d0887\"], [0.1111111111111111, \"#46039f\"], [0.2222222222222222, \"#7201a8\"], [0.3333333333333333, \"#9c179e\"], [0.4444444444444444, \"#bd3786\"], [0.5555555555555556, \"#d8576b\"], [0.6666666666666666, \"#ed7953\"], [0.7777777777777778, \"#fb9f3a\"], [0.8888888888888888, \"#fdca26\"], [1.0, \"#f0f921\"]], \"type\": \"histogram2d\"}], \"histogram2dcontour\": [{\"colorbar\": {\"outlinewidth\": 0, \"ticks\": \"\"}, \"colorscale\": [[0.0, \"#0d0887\"], [0.1111111111111111, \"#46039f\"], [0.2222222222222222, \"#7201a8\"], [0.3333333333333333, \"#9c179e\"], [0.4444444444444444, \"#bd3786\"], [0.5555555555555556, \"#d8576b\"], [0.6666666666666666, \"#ed7953\"], [0.7777777777777778, \"#fb9f3a\"], [0.8888888888888888, \"#fdca26\"], [1.0, \"#f0f921\"]], \"type\": \"histogram2dcontour\"}], \"mesh3d\": [{\"colorbar\": {\"outlinewidth\": 0, \"ticks\": \"\"}, \"type\": \"mesh3d\"}], \"parcoords\": [{\"line\": {\"colorbar\": {\"outlinewidth\": 0, \"ticks\": \"\"}}, \"type\": \"parcoords\"}], \"pie\": [{\"automargin\": true, \"type\": \"pie\"}], \"scatter\": [{\"marker\": {\"colorbar\": {\"outlinewidth\": 0, \"ticks\": \"\"}}, \"type\": \"scatter\"}], \"scatter3d\": [{\"line\": {\"colorbar\": {\"outlinewidth\": 0, \"ticks\": \"\"}}, \"marker\": {\"colorbar\": {\"outlinewidth\": 0, \"ticks\": \"\"}}, \"type\": \"scatter3d\"}], \"scattercarpet\": [{\"marker\": {\"colorbar\": {\"outlinewidth\": 0, \"ticks\": \"\"}}, \"type\": \"scattercarpet\"}], \"scattergeo\": [{\"marker\": {\"colorbar\": {\"outlinewidth\": 0, \"ticks\": \"\"}}, \"type\": \"scattergeo\"}], \"scattergl\": [{\"marker\": {\"colorbar\": {\"outlinewidth\": 0, \"ticks\": \"\"}}, \"type\": \"scattergl\"}], \"scattermapbox\": [{\"marker\": {\"colorbar\": {\"outlinewidth\": 0, \"ticks\": \"\"}}, \"type\": \"scattermapbox\"}], \"scatterpolar\": [{\"marker\": {\"colorbar\": {\"outlinewidth\": 0, \"ticks\": \"\"}}, \"type\": \"scatterpolar\"}], \"scatterpolargl\": [{\"marker\": {\"colorbar\": {\"outlinewidth\": 0, \"ticks\": \"\"}}, \"type\": \"scatterpolargl\"}], \"scatterternary\": [{\"marker\": {\"colorbar\": {\"outlinewidth\": 0, \"ticks\": \"\"}}, \"type\": \"scatterternary\"}], \"surface\": [{\"colorbar\": {\"outlinewidth\": 0, \"ticks\": \"\"}, \"colorscale\": [[0.0, \"#0d0887\"], [0.1111111111111111, \"#46039f\"], [0.2222222222222222, \"#7201a8\"], [0.3333333333333333, \"#9c179e\"], [0.4444444444444444, \"#bd3786\"], [0.5555555555555556, \"#d8576b\"], [0.6666666666666666, \"#ed7953\"], [0.7777777777777778, \"#fb9f3a\"], [0.8888888888888888, \"#fdca26\"], [1.0, \"#f0f921\"]], \"type\": \"surface\"}], \"table\": [{\"cells\": {\"fill\": {\"color\": \"#EBF0F8\"}, \"line\": {\"color\": \"white\"}}, \"header\": {\"fill\": {\"color\": \"#C8D4E3\"}, \"line\": {\"color\": \"white\"}}, \"type\": \"table\"}]}, \"layout\": {\"annotationdefaults\": {\"arrowcolor\": \"#2a3f5f\", \"arrowhead\": 0, \"arrowwidth\": 1}, \"autotypenumbers\": \"strict\", \"coloraxis\": {\"colorbar\": {\"outlinewidth\": 0, \"ticks\": \"\"}}, \"colorscale\": {\"diverging\": [[0, \"#8e0152\"], [0.1, \"#c51b7d\"], [0.2, \"#de77ae\"], [0.3, \"#f1b6da\"], [0.4, \"#fde0ef\"], [0.5, \"#f7f7f7\"], [0.6, \"#e6f5d0\"], [0.7, \"#b8e186\"], [0.8, \"#7fbc41\"], [0.9, \"#4d9221\"], [1, \"#276419\"]], \"sequential\": [[0.0, \"#0d0887\"], [0.1111111111111111, \"#46039f\"], [0.2222222222222222, \"#7201a8\"], [0.3333333333333333, \"#9c179e\"], [0.4444444444444444, \"#bd3786\"], [0.5555555555555556, \"#d8576b\"], [0.6666666666666666, \"#ed7953\"], [0.7777777777777778, \"#fb9f3a\"], [0.8888888888888888, \"#fdca26\"], [1.0, \"#f0f921\"]], \"sequentialminus\": [[0.0, \"#0d0887\"], [0.1111111111111111, \"#46039f\"], [0.2222222222222222, \"#7201a8\"], [0.3333333333333333, \"#9c179e\"], [0.4444444444444444, \"#bd3786\"], [0.5555555555555556, \"#d8576b\"], [0.6666666666666666, \"#ed7953\"], [0.7777777777777778, \"#fb9f3a\"], [0.8888888888888888, \"#fdca26\"], [1.0, \"#f0f921\"]]}, \"colorway\": [\"#636efa\", \"#EF553B\", \"#00cc96\", \"#ab63fa\", \"#FFA15A\", \"#19d3f3\", \"#FF6692\", \"#B6E880\", \"#FF97FF\", \"#FECB52\"], \"font\": {\"color\": \"#2a3f5f\"}, \"geo\": {\"bgcolor\": \"white\", \"lakecolor\": \"white\", \"landcolor\": \"#E5ECF6\", \"showlakes\": true, \"showland\": true, \"subunitcolor\": \"white\"}, \"hoverlabel\": {\"align\": \"left\"}, \"hovermode\": \"closest\", \"mapbox\": {\"style\": \"light\"}, \"paper_bgcolor\": \"white\", \"plot_bgcolor\": \"#E5ECF6\", \"polar\": {\"angularaxis\": {\"gridcolor\": \"white\", \"linecolor\": \"white\", \"ticks\": \"\"}, \"bgcolor\": \"#E5ECF6\", \"radialaxis\": {\"gridcolor\": \"white\", \"linecolor\": \"white\", \"ticks\": \"\"}}, \"scene\": {\"xaxis\": {\"backgroundcolor\": \"#E5ECF6\", \"gridcolor\": \"white\", \"gridwidth\": 2, \"linecolor\": \"white\", \"showbackground\": true, \"ticks\": \"\", \"zerolinecolor\": \"white\"}, \"yaxis\": {\"backgroundcolor\": \"#E5ECF6\", \"gridcolor\": \"white\", \"gridwidth\": 2, \"linecolor\": \"white\", \"showbackground\": true, \"ticks\": \"\", \"zerolinecolor\": \"white\"}, \"zaxis\": {\"backgroundcolor\": \"#E5ECF6\", \"gridcolor\": \"white\", \"gridwidth\": 2, \"linecolor\": \"white\", \"showbackground\": true, \"ticks\": \"\", \"zerolinecolor\": \"white\"}}, \"shapedefaults\": {\"line\": {\"color\": \"#2a3f5f\"}}, \"ternary\": {\"aaxis\": {\"gridcolor\": \"white\", \"linecolor\": \"white\", \"ticks\": \"\"}, \"baxis\": {\"gridcolor\": \"white\", \"linecolor\": \"white\", \"ticks\": \"\"}, \"bgcolor\": \"#E5ECF6\", \"caxis\": {\"gridcolor\": \"white\", \"linecolor\": \"white\", \"ticks\": \"\"}}, \"title\": {\"x\": 0.05}, \"xaxis\": {\"automargin\": true, \"gridcolor\": \"white\", \"linecolor\": \"white\", \"ticks\": \"\", \"title\": {\"standoff\": 15}, \"zerolinecolor\": \"white\", \"zerolinewidth\": 2}, \"yaxis\": {\"automargin\": true, \"gridcolor\": \"white\", \"linecolor\": \"white\", \"ticks\": \"\", \"title\": {\"standoff\": 15}, \"zerolinecolor\": \"white\", \"zerolinewidth\": 2}}}, \"title\": {\"font\": {\"color\": \"#4D5663\"}}, \"xaxis\": {\"anchor\": \"y\", \"domain\": [0.0, 0.2125], \"gridcolor\": \"#E1E5ED\", \"showgrid\": false, \"tickfont\": {\"color\": \"#4D5663\"}, \"title\": {\"font\": {\"color\": \"#4D5663\"}, \"text\": \"\"}, \"zerolinecolor\": \"#E1E5ED\"}, \"xaxis10\": {\"anchor\": \"y10\", \"domain\": [0.2625, 0.475], \"gridcolor\": \"#E1E5ED\", \"showgrid\": false, \"tickfont\": {\"color\": \"#4D5663\"}, \"title\": {\"font\": {\"color\": \"#4D5663\"}, \"text\": \"\"}, \"zerolinecolor\": \"#E1E5ED\"}, \"xaxis11\": {\"anchor\": \"y11\", \"domain\": [0.525, 0.7375], \"gridcolor\": \"#E1E5ED\", \"showgrid\": false, \"tickfont\": {\"color\": \"#4D5663\"}, \"title\": {\"font\": {\"color\": \"#4D5663\"}, \"text\": \"\"}, \"zerolinecolor\": \"#E1E5ED\"}, \"xaxis12\": {\"anchor\": \"y12\", \"domain\": [0.7875, 1.0], \"gridcolor\": \"#E1E5ED\", \"showgrid\": false, \"tickfont\": {\"color\": \"#4D5663\"}, \"title\": {\"font\": {\"color\": \"#4D5663\"}, \"text\": \"\"}, \"zerolinecolor\": \"#E1E5ED\"}, \"xaxis13\": {\"anchor\": \"y13\", \"domain\": [0.0, 0.2125], \"gridcolor\": \"#E1E5ED\", \"showgrid\": false, \"tickfont\": {\"color\": \"#4D5663\"}, \"title\": {\"font\": {\"color\": \"#4D5663\"}, \"text\": \"\"}, \"zerolinecolor\": \"#E1E5ED\"}, \"xaxis14\": {\"anchor\": \"y14\", \"domain\": [0.2625, 0.475], \"gridcolor\": \"#E1E5ED\", \"showgrid\": false, \"tickfont\": {\"color\": \"#4D5663\"}, \"title\": {\"font\": {\"color\": \"#4D5663\"}, \"text\": \"\"}, \"zerolinecolor\": \"#E1E5ED\"}, \"xaxis15\": {\"anchor\": \"y15\", \"domain\": [0.525, 0.7375], \"gridcolor\": \"#E1E5ED\", \"showgrid\": false, \"tickfont\": {\"color\": \"#4D5663\"}, \"title\": {\"font\": {\"color\": \"#4D5663\"}, \"text\": \"\"}, \"zerolinecolor\": \"#E1E5ED\"}, \"xaxis16\": {\"anchor\": \"y16\", \"domain\": [0.7875, 1.0], \"gridcolor\": \"#E1E5ED\", \"showgrid\": false, \"tickfont\": {\"color\": \"#4D5663\"}, \"title\": {\"font\": {\"color\": \"#4D5663\"}, \"text\": \"\"}, \"zerolinecolor\": \"#E1E5ED\"}, \"xaxis2\": {\"anchor\": \"y2\", \"domain\": [0.2625, 0.475], \"gridcolor\": \"#E1E5ED\", \"showgrid\": false, \"tickfont\": {\"color\": \"#4D5663\"}, \"title\": {\"font\": {\"color\": \"#4D5663\"}, \"text\": \"\"}, \"zerolinecolor\": \"#E1E5ED\"}, \"xaxis3\": {\"anchor\": \"y3\", \"domain\": [0.525, 0.7375], \"gridcolor\": \"#E1E5ED\", \"showgrid\": false, \"tickfont\": {\"color\": \"#4D5663\"}, \"title\": {\"font\": {\"color\": \"#4D5663\"}, \"text\": \"\"}, \"zerolinecolor\": \"#E1E5ED\"}, \"xaxis4\": {\"anchor\": \"y4\", \"domain\": [0.7875, 1.0], \"gridcolor\": \"#E1E5ED\", \"showgrid\": false, \"tickfont\": {\"color\": \"#4D5663\"}, \"title\": {\"font\": {\"color\": \"#4D5663\"}, \"text\": \"\"}, \"zerolinecolor\": \"#E1E5ED\"}, \"xaxis5\": {\"anchor\": \"y5\", \"domain\": [0.0, 0.2125], \"gridcolor\": \"#E1E5ED\", \"showgrid\": false, \"tickfont\": {\"color\": \"#4D5663\"}, \"title\": {\"font\": {\"color\": \"#4D5663\"}, \"text\": \"\"}, \"zerolinecolor\": \"#E1E5ED\"}, \"xaxis6\": {\"anchor\": \"y6\", \"domain\": [0.2625, 0.475], \"gridcolor\": \"#E1E5ED\", \"showgrid\": false, \"tickfont\": {\"color\": \"#4D5663\"}, \"title\": {\"font\": {\"color\": \"#4D5663\"}, \"text\": \"\"}, \"zerolinecolor\": \"#E1E5ED\"}, \"xaxis7\": {\"anchor\": \"y7\", \"domain\": [0.525, 0.7375], \"gridcolor\": \"#E1E5ED\", \"showgrid\": false, \"tickfont\": {\"color\": \"#4D5663\"}, \"title\": {\"font\": {\"color\": \"#4D5663\"}, \"text\": \"\"}, \"zerolinecolor\": \"#E1E5ED\"}, \"xaxis8\": {\"anchor\": \"y8\", \"domain\": [0.7875, 1.0], \"gridcolor\": \"#E1E5ED\", \"showgrid\": false, \"tickfont\": {\"color\": \"#4D5663\"}, \"title\": {\"font\": {\"color\": \"#4D5663\"}, \"text\": \"\"}, \"zerolinecolor\": \"#E1E5ED\"}, \"xaxis9\": {\"anchor\": \"y9\", \"domain\": [0.0, 0.2125], \"gridcolor\": \"#E1E5ED\", \"showgrid\": false, \"tickfont\": {\"color\": \"#4D5663\"}, \"title\": {\"font\": {\"color\": \"#4D5663\"}, \"text\": \"\"}, \"zerolinecolor\": \"#E1E5ED\"}, \"yaxis\": {\"anchor\": \"x\", \"domain\": [0.8025, 1.0], \"gridcolor\": \"#E1E5ED\", \"showgrid\": false, \"tickfont\": {\"color\": \"#4D5663\"}, \"title\": {\"font\": {\"color\": \"#4D5663\"}, \"text\": \"\"}, \"zerolinecolor\": \"#E1E5ED\"}, \"yaxis10\": {\"anchor\": \"x10\", \"domain\": [0.2675, 0.465], \"gridcolor\": \"#E1E5ED\", \"showgrid\": false, \"tickfont\": {\"color\": \"#4D5663\"}, \"title\": {\"font\": {\"color\": \"#4D5663\"}, \"text\": \"\"}, \"zerolinecolor\": \"#E1E5ED\"}, \"yaxis11\": {\"anchor\": \"x11\", \"domain\": [0.2675, 0.465], \"gridcolor\": \"#E1E5ED\", \"showgrid\": false, \"tickfont\": {\"color\": \"#4D5663\"}, \"title\": {\"font\": {\"color\": \"#4D5663\"}, \"text\": \"\"}, \"zerolinecolor\": \"#E1E5ED\"}, \"yaxis12\": {\"anchor\": \"x12\", \"domain\": [0.2675, 0.465], \"gridcolor\": \"#E1E5ED\", \"showgrid\": false, \"tickfont\": {\"color\": \"#4D5663\"}, \"title\": {\"font\": {\"color\": \"#4D5663\"}, \"text\": \"\"}, \"zerolinecolor\": \"#E1E5ED\"}, \"yaxis13\": {\"anchor\": \"x13\", \"domain\": [0.0, 0.1975], \"gridcolor\": \"#E1E5ED\", \"showgrid\": false, \"tickfont\": {\"color\": \"#4D5663\"}, \"title\": {\"font\": {\"color\": \"#4D5663\"}, \"text\": \"\"}, \"zerolinecolor\": \"#E1E5ED\"}, \"yaxis14\": {\"anchor\": \"x14\", \"domain\": [0.0, 0.1975], \"gridcolor\": \"#E1E5ED\", \"showgrid\": false, \"tickfont\": {\"color\": \"#4D5663\"}, \"title\": {\"font\": {\"color\": \"#4D5663\"}, \"text\": \"\"}, \"zerolinecolor\": \"#E1E5ED\"}, \"yaxis15\": {\"anchor\": \"x15\", \"domain\": [0.0, 0.1975], \"gridcolor\": \"#E1E5ED\", \"showgrid\": false, \"tickfont\": {\"color\": \"#4D5663\"}, \"title\": {\"font\": {\"color\": \"#4D5663\"}, \"text\": \"\"}, \"zerolinecolor\": \"#E1E5ED\"}, \"yaxis16\": {\"anchor\": \"x16\", \"domain\": [0.0, 0.1975], \"gridcolor\": \"#E1E5ED\", \"showgrid\": false, \"tickfont\": {\"color\": \"#4D5663\"}, \"title\": {\"font\": {\"color\": \"#4D5663\"}, \"text\": \"\"}, \"zerolinecolor\": \"#E1E5ED\"}, \"yaxis2\": {\"anchor\": \"x2\", \"domain\": [0.8025, 1.0], \"gridcolor\": \"#E1E5ED\", \"showgrid\": false, \"tickfont\": {\"color\": \"#4D5663\"}, \"title\": {\"font\": {\"color\": \"#4D5663\"}, \"text\": \"\"}, \"zerolinecolor\": \"#E1E5ED\"}, \"yaxis3\": {\"anchor\": \"x3\", \"domain\": [0.8025, 1.0], \"gridcolor\": \"#E1E5ED\", \"showgrid\": false, \"tickfont\": {\"color\": \"#4D5663\"}, \"title\": {\"font\": {\"color\": \"#4D5663\"}, \"text\": \"\"}, \"zerolinecolor\": \"#E1E5ED\"}, \"yaxis4\": {\"anchor\": \"x4\", \"domain\": [0.8025, 1.0], \"gridcolor\": \"#E1E5ED\", \"showgrid\": false, \"tickfont\": {\"color\": \"#4D5663\"}, \"title\": {\"font\": {\"color\": \"#4D5663\"}, \"text\": \"\"}, \"zerolinecolor\": \"#E1E5ED\"}, \"yaxis5\": {\"anchor\": \"x5\", \"domain\": [0.535, 0.7325], \"gridcolor\": \"#E1E5ED\", \"showgrid\": false, \"tickfont\": {\"color\": \"#4D5663\"}, \"title\": {\"font\": {\"color\": \"#4D5663\"}, \"text\": \"\"}, \"zerolinecolor\": \"#E1E5ED\"}, \"yaxis6\": {\"anchor\": \"x6\", \"domain\": [0.535, 0.7325], \"gridcolor\": \"#E1E5ED\", \"showgrid\": false, \"tickfont\": {\"color\": \"#4D5663\"}, \"title\": {\"font\": {\"color\": \"#4D5663\"}, \"text\": \"\"}, \"zerolinecolor\": \"#E1E5ED\"}, \"yaxis7\": {\"anchor\": \"x7\", \"domain\": [0.535, 0.7325], \"gridcolor\": \"#E1E5ED\", \"showgrid\": false, \"tickfont\": {\"color\": \"#4D5663\"}, \"title\": {\"font\": {\"color\": \"#4D5663\"}, \"text\": \"\"}, \"zerolinecolor\": \"#E1E5ED\"}, \"yaxis8\": {\"anchor\": \"x8\", \"domain\": [0.535, 0.7325], \"gridcolor\": \"#E1E5ED\", \"showgrid\": false, \"tickfont\": {\"color\": \"#4D5663\"}, \"title\": {\"font\": {\"color\": \"#4D5663\"}, \"text\": \"\"}, \"zerolinecolor\": \"#E1E5ED\"}, \"yaxis9\": {\"anchor\": \"x9\", \"domain\": [0.2675, 0.465], \"gridcolor\": \"#E1E5ED\", \"showgrid\": false, \"tickfont\": {\"color\": \"#4D5663\"}, \"title\": {\"font\": {\"color\": \"#4D5663\"}, \"text\": \"\"}, \"zerolinecolor\": \"#E1E5ED\"}},                        {\"showLink\": true, \"linkText\": \"Export to plot.ly\", \"plotlyServerURL\": \"https://plot.ly\", \"responsive\": true}                    ).then(function(){\n",
       "                            \n",
       "var gd = document.getElementById('eb46d47a-1cd2-4dbb-b871-be2392586b83');\n",
       "var x = new MutationObserver(function (mutations, observer) {{\n",
       "        var display = window.getComputedStyle(gd).display;\n",
       "        if (!display || display === 'none') {{\n",
       "            console.log([gd, 'removed!']);\n",
       "            Plotly.purge(gd);\n",
       "            observer.disconnect();\n",
       "        }}\n",
       "}});\n",
       "\n",
       "// Listen for the removal of the full notebook cells\n",
       "var notebookContainer = gd.closest('#notebook-container');\n",
       "if (notebookContainer) {{\n",
       "    x.observe(notebookContainer, {childList: true});\n",
       "}}\n",
       "\n",
       "// Listen for the clearing of the current output cell\n",
       "var outputEl = gd.closest('.output');\n",
       "if (outputEl) {{\n",
       "    x.observe(outputEl, {childList: true});\n",
       "}}\n",
       "\n",
       "                        })                };                });            </script>        </div>"
      ]
     },
     "metadata": {},
     "output_type": "display_data"
    }
   ],
   "source": [
    "df.scatter_matrix()"
   ]
  },
  {
   "cell_type": "code",
   "execution_count": null,
   "metadata": {},
   "outputs": [],
   "source": []
  }
 ],
 "metadata": {
  "kernelspec": {
   "display_name": "Python 3",
   "language": "python",
   "name": "python3"
  },
  "language_info": {
   "codemirror_mode": {
    "name": "ipython",
    "version": 3
   },
   "file_extension": ".py",
   "mimetype": "text/x-python",
   "name": "python",
   "nbconvert_exporter": "python",
   "pygments_lexer": "ipython3",
   "version": "3.8.5"
  }
 },
 "nbformat": 4,
 "nbformat_minor": 4
}
